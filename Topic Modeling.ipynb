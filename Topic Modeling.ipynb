{
 "cells": [
  {
   "cell_type": "markdown",
   "metadata": {},
   "source": [
    "# Approach"
   ]
  },
  {
   "cell_type": "markdown",
   "metadata": {},
   "source": [
    "Goal: Find the right combination of data-to-vector methods and topic models to get models that best represent the data.\n",
    "\n",
    "Text data to vector methods:\n",
    "* Count Vectorizer: Counts the number of times a word appears in a document.\n",
    "* Tfidf Vectorizer: Considers the overall document weightage.\n",
    "\n",
    "Topic models:\n",
    "* Non-negative Matrix Factorization (NMF)\n",
    "* Latent Dirichlet Allocation (LDA)"
   ]
  },
  {
   "cell_type": "markdown",
   "metadata": {
    "ExecuteTime": {
     "end_time": "2021-02-18T23:11:09.557148Z",
     "start_time": "2021-02-18T23:11:09.553394Z"
    }
   },
   "source": [
    "# Import Data and Packages"
   ]
  },
  {
   "cell_type": "code",
   "execution_count": 3,
   "metadata": {
    "ExecuteTime": {
     "end_time": "2021-02-24T18:31:34.617049Z",
     "start_time": "2021-02-24T18:31:32.552465Z"
    }
   },
   "outputs": [],
   "source": [
    "import pandas as pd \n",
    "import numpy as np\n",
    "\n",
    "from sklearn.feature_extraction.text import CountVectorizer\n",
    "from sklearn.decomposition import NMF\n",
    "\n",
    "from sklearn.feature_extraction.text import TfidfVectorizer\n",
    "\n",
    "from sklearn.decomposition import LatentDirichletAllocation\n",
    "from sklearn.datasets import make_multilabel_classification"
   ]
  },
  {
   "cell_type": "code",
   "execution_count": 4,
   "metadata": {
    "ExecuteTime": {
     "end_time": "2021-02-24T18:31:34.893164Z",
     "start_time": "2021-02-24T18:31:34.662942Z"
    }
   },
   "outputs": [],
   "source": [
    "import matplotlib.pyplot as plt\n",
    "import seaborn as sns"
   ]
  },
  {
   "cell_type": "code",
   "execution_count": 5,
   "metadata": {
    "ExecuteTime": {
     "end_time": "2021-02-24T18:31:34.924445Z",
     "start_time": "2021-02-24T18:31:34.916347Z"
    }
   },
   "outputs": [],
   "source": [
    "from sklearn.decomposition import TruncatedSVD"
   ]
  },
  {
   "cell_type": "code",
   "execution_count": 6,
   "metadata": {
    "ExecuteTime": {
     "end_time": "2021-02-24T18:31:34.953020Z",
     "start_time": "2021-02-24T18:31:34.948769Z"
    }
   },
   "outputs": [],
   "source": [
    "# When printing df, display all of the text\n",
    "pd.set_option(\"display.max_colwidth\", -1)"
   ]
  },
  {
   "cell_type": "code",
   "execution_count": 7,
   "metadata": {
    "ExecuteTime": {
     "end_time": "2021-02-24T18:31:35.626419Z",
     "start_time": "2021-02-24T18:31:34.993652Z"
    }
   },
   "outputs": [],
   "source": [
    "df = pd.read_csv('cleaned_dataset.csv')"
   ]
  },
  {
   "cell_type": "code",
   "execution_count": 8,
   "metadata": {
    "ExecuteTime": {
     "end_time": "2021-02-24T18:31:35.791814Z",
     "start_time": "2021-02-24T18:31:35.757888Z"
    }
   },
   "outputs": [
    {
     "data": {
      "text/html": [
       "<div>\n",
       "<style scoped>\n",
       "    .dataframe tbody tr th:only-of-type {\n",
       "        vertical-align: middle;\n",
       "    }\n",
       "\n",
       "    .dataframe tbody tr th {\n",
       "        vertical-align: top;\n",
       "    }\n",
       "\n",
       "    .dataframe thead th {\n",
       "        text-align: right;\n",
       "    }\n",
       "</style>\n",
       "<table border=\"1\" class=\"dataframe\">\n",
       "  <thead>\n",
       "    <tr style=\"text-align: right;\">\n",
       "      <th></th>\n",
       "      <th>Unnamed: 0</th>\n",
       "      <th>Unnamed: 0.1</th>\n",
       "      <th>Unnamed: 0.1.1</th>\n",
       "      <th>wid</th>\n",
       "      <th>age</th>\n",
       "      <th>country</th>\n",
       "      <th>gender</th>\n",
       "      <th>marital</th>\n",
       "      <th>parenthood</th>\n",
       "      <th>reflection_period</th>\n",
       "      <th>...</th>\n",
       "      <th>text_cleaned</th>\n",
       "      <th>verbs</th>\n",
       "      <th>nouns</th>\n",
       "      <th>proto_agent</th>\n",
       "      <th>passive_agent</th>\n",
       "      <th>root_verb</th>\n",
       "      <th>direct_object</th>\n",
       "      <th>parenthood_cat</th>\n",
       "      <th>gender_cat</th>\n",
       "      <th>marital_cat</th>\n",
       "    </tr>\n",
       "  </thead>\n",
       "  <tbody>\n",
       "    <tr>\n",
       "      <th>0</th>\n",
       "      <td>0</td>\n",
       "      <td>0</td>\n",
       "      <td>0</td>\n",
       "      <td>1</td>\n",
       "      <td>37</td>\n",
       "      <td>USA</td>\n",
       "      <td>m</td>\n",
       "      <td>married</td>\n",
       "      <td>y</td>\n",
       "      <td>24h</td>\n",
       "      <td>...</td>\n",
       "      <td>['wife', 'celebrating', 'year', 'anniversary', 'today']</td>\n",
       "      <td>[celebrating]</td>\n",
       "      <td>[wife, year, anniversary, today]</td>\n",
       "      <td>[wife]</td>\n",
       "      <td>[]</td>\n",
       "      <td>[celebrating]</td>\n",
       "      <td>[anniversary]</td>\n",
       "      <td>1</td>\n",
       "      <td>1</td>\n",
       "      <td>1</td>\n",
       "    </tr>\n",
       "    <tr>\n",
       "      <th>1</th>\n",
       "      <td>1</td>\n",
       "      <td>1</td>\n",
       "      <td>1</td>\n",
       "      <td>1</td>\n",
       "      <td>37</td>\n",
       "      <td>USA</td>\n",
       "      <td>m</td>\n",
       "      <td>married</td>\n",
       "      <td>y</td>\n",
       "      <td>24h</td>\n",
       "      <td>...</td>\n",
       "      <td>['mother', 'called', 'blue', 'tell', 'proud']</td>\n",
       "      <td>[called, tell]</td>\n",
       "      <td>[mother, blue]</td>\n",
       "      <td>[mother, she]</td>\n",
       "      <td>[]</td>\n",
       "      <td>[called]</td>\n",
       "      <td>[me]</td>\n",
       "      <td>1</td>\n",
       "      <td>1</td>\n",
       "      <td>1</td>\n",
       "    </tr>\n",
       "    <tr>\n",
       "      <th>2</th>\n",
       "      <td>2</td>\n",
       "      <td>2</td>\n",
       "      <td>2</td>\n",
       "      <td>1</td>\n",
       "      <td>37</td>\n",
       "      <td>USA</td>\n",
       "      <td>m</td>\n",
       "      <td>married</td>\n",
       "      <td>y</td>\n",
       "      <td>24h</td>\n",
       "      <td>...</td>\n",
       "      <td>['today', 'took', 'day', 'time', 'job', 'brunch', 'date', 'wonderful', 'wife']</td>\n",
       "      <td>[took, go, have]</td>\n",
       "      <td>[Today, day, part, time, job, brunch, date, wife]</td>\n",
       "      <td>[i]</td>\n",
       "      <td>[]</td>\n",
       "      <td>[took]</td>\n",
       "      <td>[day, date]</td>\n",
       "      <td>1</td>\n",
       "      <td>1</td>\n",
       "      <td>1</td>\n",
       "    </tr>\n",
       "    <tr>\n",
       "      <th>3</th>\n",
       "      <td>3</td>\n",
       "      <td>3</td>\n",
       "      <td>3</td>\n",
       "      <td>1</td>\n",
       "      <td>37</td>\n",
       "      <td>USA</td>\n",
       "      <td>m</td>\n",
       "      <td>married</td>\n",
       "      <td>y</td>\n",
       "      <td>24h</td>\n",
       "      <td>...</td>\n",
       "      <td>['just', 'got', 'bonus', 'mturk', 'task']</td>\n",
       "      <td>[got]</td>\n",
       "      <td>[bonus, mturk, task]</td>\n",
       "      <td>[I]</td>\n",
       "      <td>[]</td>\n",
       "      <td>[got]</td>\n",
       "      <td>[bonus]</td>\n",
       "      <td>1</td>\n",
       "      <td>1</td>\n",
       "      <td>1</td>\n",
       "    </tr>\n",
       "    <tr>\n",
       "      <th>4</th>\n",
       "      <td>4</td>\n",
       "      <td>4</td>\n",
       "      <td>4</td>\n",
       "      <td>1</td>\n",
       "      <td>37</td>\n",
       "      <td>USA</td>\n",
       "      <td>m</td>\n",
       "      <td>married</td>\n",
       "      <td>y</td>\n",
       "      <td>24h</td>\n",
       "      <td>...</td>\n",
       "      <td>['wife', 'cooked', 'surprise', 'dinner', 'work']</td>\n",
       "      <td>[cooked, take, work]</td>\n",
       "      <td>[wife, surprise, dinner]</td>\n",
       "      <td>[wife]</td>\n",
       "      <td>[]</td>\n",
       "      <td>[cooked]</td>\n",
       "      <td>[dinner]</td>\n",
       "      <td>1</td>\n",
       "      <td>1</td>\n",
       "      <td>1</td>\n",
       "    </tr>\n",
       "  </tbody>\n",
       "</table>\n",
       "<p>5 rows × 21 columns</p>\n",
       "</div>"
      ],
      "text/plain": [
       "   Unnamed: 0  Unnamed: 0.1  Unnamed: 0.1.1  wid  age country gender  marital  \\\n",
       "0  0           0             0               1    37   USA     m      married   \n",
       "1  1           1             1               1    37   USA     m      married   \n",
       "2  2           2             2               1    37   USA     m      married   \n",
       "3  3           3             3               1    37   USA     m      married   \n",
       "4  4           4             4               1    37   USA     m      married   \n",
       "\n",
       "  parenthood reflection_period  ...  \\\n",
       "0  y          24h               ...   \n",
       "1  y          24h               ...   \n",
       "2  y          24h               ...   \n",
       "3  y          24h               ...   \n",
       "4  y          24h               ...   \n",
       "\n",
       "                                                                     text_cleaned  \\\n",
       "0  ['wife', 'celebrating', 'year', 'anniversary', 'today']                          \n",
       "1  ['mother', 'called', 'blue', 'tell', 'proud']                                    \n",
       "2  ['today', 'took', 'day', 'time', 'job', 'brunch', 'date', 'wonderful', 'wife']   \n",
       "3  ['just', 'got', 'bonus', 'mturk', 'task']                                        \n",
       "4  ['wife', 'cooked', 'surprise', 'dinner', 'work']                                 \n",
       "\n",
       "                  verbs                                              nouns  \\\n",
       "0  [celebrating]         [wife, year, anniversary, today]                    \n",
       "1  [called, tell]        [mother, blue]                                      \n",
       "2  [took, go, have]      [Today, day, part, time, job, brunch, date, wife]   \n",
       "3  [got]                 [bonus, mturk, task]                                \n",
       "4  [cooked, take, work]  [wife, surprise, dinner]                            \n",
       "\n",
       "     proto_agent passive_agent      root_verb  direct_object parenthood_cat  \\\n",
       "0  [wife]         []            [celebrating]  [anniversary]  1               \n",
       "1  [mother, she]  []            [called]       [me]           1               \n",
       "2  [i]            []            [took]         [day, date]    1               \n",
       "3  [I]            []            [got]          [bonus]        1               \n",
       "4  [wife]         []            [cooked]       [dinner]       1               \n",
       "\n",
       "   gender_cat  marital_cat  \n",
       "0  1           1            \n",
       "1  1           1            \n",
       "2  1           1            \n",
       "3  1           1            \n",
       "4  1           1            \n",
       "\n",
       "[5 rows x 21 columns]"
      ]
     },
     "execution_count": 8,
     "metadata": {},
     "output_type": "execute_result"
    }
   ],
   "source": [
    "df.head()"
   ]
  },
  {
   "cell_type": "markdown",
   "metadata": {},
   "source": [
    "# NMF"
   ]
  },
  {
   "cell_type": "code",
   "execution_count": 33,
   "metadata": {
    "ExecuteTime": {
     "end_time": "2021-02-24T22:55:56.023588Z",
     "start_time": "2021-02-24T22:55:56.016888Z"
    }
   },
   "outputs": [],
   "source": [
    "def nmf(column, num_categories, vector_type, model_type):\n",
    "    \"\"\"\n",
    "    Input the pre-processed data (column), the number of categories (num_categories),\n",
    "    the vector type (vector_type, either Tfidf or Count), and the model type.\"\"\"\n",
    "    # Vectorize the data\n",
    "    vectorizer = vector_type\n",
    "    doc_word = vectorizer.fit_transform(column)\n",
    "    \n",
    "    # Instantiate the model\n",
    "    model = model_type(num_categories)\n",
    "    doc_topic = model.fit_transform(doc_word)\n",
    "    \n",
    "    # Make a list of the words for classifications\n",
    "    words = vectorizer.get_feature_names()\n",
    "    t = model.components_.argsort(axis=1)[:,-1:-7:-1]\n",
    "    topic_words = [[words[e] for e in l] for l in t]\n",
    "    \n",
    "    # Print the top words for each topic\n",
    "    count = 0\n",
    "    for topic_list in topic_words:\n",
    "        print('Topic ', count, ': ', *topic_list)\n",
    "        count += 1"
   ]
  },
  {
   "cell_type": "code",
   "execution_count": 31,
   "metadata": {
    "ExecuteTime": {
     "end_time": "2021-02-24T22:55:03.515499Z",
     "start_time": "2021-02-24T22:55:03.508118Z"
    }
   },
   "outputs": [],
   "source": [
    "# A list of additional stopper words\n",
    "extra_stoppers = ['wa', 'able', 'day', 'nice', 'month', 'year', 'today', 'week',\n",
    "                 'yesterday', 'ha', 'moment', 'life', 'like', 'just', 'lot',\n",
    "                 'spend', 'spent', 'spending', 'got', 'time']"
   ]
  },
  {
   "cell_type": "markdown",
   "metadata": {},
   "source": [
    "## Count Vectorizer"
   ]
  },
  {
   "cell_type": "code",
   "execution_count": 6,
   "metadata": {
    "ExecuteTime": {
     "end_time": "2021-02-19T18:07:16.239981Z",
     "start_time": "2021-02-19T18:07:09.111673Z"
    },
    "scrolled": true
   },
   "outputs": [
    {
     "name": "stdout",
     "output_type": "stream",
     "text": [
      "Topic  0 :  time family long home make work\n",
      "Topic  1 :  got work job home finally son\n",
      "Topic  2 :  friend old best birthday party school\n",
      "Topic  3 :  new bought car job game house\n",
      "Topic  4 :  went family movie dinner shopping night\n",
      " \n",
      "Topic  0 :  time family long make home night\n",
      "Topic  1 :  got job finally son night school\n",
      "Topic  2 :  friend old best birthday party school\n",
      "Topic  3 :  new bought car job house game\n",
      "Topic  4 :  went family movie dinner shopping night\n",
      "Topic  5 :  work home make came project getting\n",
      " \n",
      "Topic  0 :  time long family movement exam person\n",
      "Topic  1 :  got job finally promotion free sleep\n",
      "Topic  2 :  friend best old birthday party met\n",
      "Topic  3 :  new bought car job game phone\n",
      "Topic  4 :  went movie shopping temple dinner enjoyed\n",
      "Topic  5 :  work home project job received early\n",
      "Topic  6 :  family home make said came son\n"
     ]
    }
   ],
   "source": [
    "# NMF with the count vectorizer using various numbers of topics\n",
    "nmf(df.text_cleaned, 5, CountVectorizer(stop_words = extra_stoppers), NMF)\n",
    "\n",
    "print(' ')\n",
    "nmf(df.text_cleaned, 6, CountVectorizer(stop_words = extra_stoppers), NMF)\n",
    "\n",
    "print(' ')\n",
    "nmf(df.text_cleaned, 7, CountVectorizer(stop_words = extra_stoppers), NMF)"
   ]
  },
  {
   "cell_type": "markdown",
   "metadata": {},
   "source": [
    "## Tfidf Vectorizer"
   ]
  },
  {
   "cell_type": "code",
   "execution_count": 34,
   "metadata": {
    "ExecuteTime": {
     "end_time": "2021-02-24T22:56:23.308253Z",
     "start_time": "2021-02-24T22:56:00.140120Z"
    },
    "scrolled": false
   },
   "outputs": [
    {
     "name": "stderr",
     "output_type": "stream",
     "text": [
      "/Users/kaitlynzeichick/anaconda3/lib/python3.6/site-packages/sklearn/decomposition/_nmf.py:315: FutureWarning: The 'init' value, when 'init=None' and n_components is less than n_samples and n_features, will be changed from 'nndsvd' to 'nndsvda' in 1.1 (renaming of 0.26).\n",
      "  \"'nndsvda' in 1.1 (renaming of 0.26).\"), FutureWarning)\n"
     ]
    },
    {
     "name": "stdout",
     "output_type": "stream",
     "text": [
      "Topic  0 :  friend old best birthday party met\n",
      "Topic  1 :  work home early project raise promotion\n",
      "Topic  2 :  went movie shopping temple walk park\n",
      "Topic  3 :  new bought job car game phone\n",
      "Topic  4 :  dinner family wife night favorite husband\n",
      " \n"
     ]
    },
    {
     "name": "stderr",
     "output_type": "stream",
     "text": [
      "/Users/kaitlynzeichick/anaconda3/lib/python3.6/site-packages/sklearn/decomposition/_nmf.py:315: FutureWarning: The 'init' value, when 'init=None' and n_components is less than n_samples and n_features, will be changed from 'nndsvd' to 'nndsvda' in 1.1 (renaming of 0.26).\n",
      "  \"'nndsvda' in 1.1 (renaming of 0.26).\"), FutureWarning)\n"
     ]
    },
    {
     "name": "stdout",
     "output_type": "stream",
     "text": [
      "Topic  0 :  friend old best met seen long\n",
      "Topic  1 :  work home early project raise promotion\n",
      "Topic  2 :  went movie shopping temple walk park\n",
      "Topic  3 :  new bought car purchased phone house\n",
      "Topic  4 :  dinner wife night ate husband delicious\n",
      "Topic  5 :  birthday family party daughter celebrated son\n",
      "Topic  6 :  game video played playing won dog\n",
      "Topic  7 :  job interview received getting promotion new\n",
      " \n"
     ]
    },
    {
     "name": "stderr",
     "output_type": "stream",
     "text": [
      "/Users/kaitlynzeichick/anaconda3/lib/python3.6/site-packages/sklearn/decomposition/_nmf.py:315: FutureWarning: The 'init' value, when 'init=None' and n_components is less than n_samples and n_features, will be changed from 'nndsvd' to 'nndsvda' in 1.1 (renaming of 0.26).\n",
      "  \"'nndsvda' in 1.1 (renaming of 0.26).\"), FutureWarning)\n"
     ]
    },
    {
     "name": "stdout",
     "output_type": "stream",
     "text": [
      "Topic  0 :  friend best old met seen party\n",
      "Topic  1 :  work early project raise promotion finished\n",
      "Topic  2 :  went shopping temple walk park trip\n",
      "Topic  3 :  new bought car purchased phone house\n",
      "Topic  4 :  dinner ate night wife favorite delicious\n",
      "Topic  5 :  birthday family party celebrated gift member\n",
      "Topic  6 :  home dog came son daughter long\n",
      "Topic  7 :  job interview received getting promotion new\n",
      "Topic  8 :  movie watched favorite watching watch tv\n",
      "Topic  9 :  game video played won playing play\n",
      " \n"
     ]
    },
    {
     "name": "stderr",
     "output_type": "stream",
     "text": [
      "/Users/kaitlynzeichick/anaconda3/lib/python3.6/site-packages/sklearn/decomposition/_nmf.py:315: FutureWarning: The 'init' value, when 'init=None' and n_components is less than n_samples and n_features, will be changed from 'nndsvd' to 'nndsvda' in 1.1 (renaming of 0.26).\n",
      "  \"'nndsvda' in 1.1 (renaming of 0.26).\"), FutureWarning)\n"
     ]
    },
    {
     "name": "stdout",
     "output_type": "stream",
     "text": [
      "Topic  0 :  friend best old met seen long\n",
      "Topic  1 :  work early project raise promotion finished\n",
      "Topic  2 :  went shopping temple walk trip date\n",
      "Topic  3 :  new bought car purchased phone house\n",
      "Topic  4 :  dinner husband delicious ate cooked pizza\n",
      "Topic  5 :  birthday party celebrated gift surprise celebrate\n",
      "Topic  6 :  favorite restaurant tv food watched eat\n",
      "Topic  7 :  job interview received getting promotion new\n",
      "Topic  8 :  movie watched watch watching saw theater\n",
      "Topic  9 :  game video played playing won play\n",
      "Topic  10 :  family member going vacation easter enjoyed\n",
      "Topic  11 :  dog walk took long park morning\n",
      "Topic  12 :  night sleep girlfriend hour morning date\n",
      "Topic  13 :  home came husband visit sister house\n",
      "Topic  14 :  lunch ate delicious food pizza mother\n",
      "Topic  15 :  wife love sex baby gave kid\n",
      "Topic  16 :  daughter son school old morning gave\n"
     ]
    }
   ],
   "source": [
    "# NMF with the the Tfidf Vectorizer, using various numbers of topics\n",
    "nmf(df.text_cleaned, 5, TfidfVectorizer(stop_words = extra_stoppers), NMF)\n",
    "\n",
    "print(' ')\n",
    "nmf(df.text_cleaned, 8, TfidfVectorizer(stop_words = extra_stoppers), NMF)\n",
    "\n",
    "print(' ')\n",
    "nmf(df.text_cleaned, 10, TfidfVectorizer(stop_words = extra_stoppers), NMF)\n",
    "\n",
    "print(' ')\n",
    "nmf(df.text_cleaned, 17, TfidfVectorizer(stop_words = extra_stoppers), NMF)"
   ]
  },
  {
   "cell_type": "markdown",
   "metadata": {},
   "source": [
    "Topics:\n",
    "\n",
    "0. Friends\n",
    "1. Work\n",
    "2. Going out\n",
    "3. Buying things\n",
    "4. Dinner\n",
    "5. Birthdays\n",
    "6. Food\n",
    "7. Getting a Job\n",
    "8. Movies\n",
    "9. Games\n",
    "10. Family\n",
    "11. Pets/Walks\n",
    "12. Sleeping\n",
    "13. Someone Coming Home\n",
    "14. Lunch\n",
    "15. Sex\n",
    "16. Children"
   ]
  },
  {
   "cell_type": "code",
   "execution_count": 12,
   "metadata": {
    "ExecuteTime": {
     "end_time": "2021-02-24T18:33:54.136206Z",
     "start_time": "2021-02-24T18:33:28.024098Z"
    }
   },
   "outputs": [
    {
     "name": "stdout",
     "output_type": "stream",
     "text": [
      " \n"
     ]
    },
    {
     "name": "stderr",
     "output_type": "stream",
     "text": [
      "/Users/kaitlynzeichick/anaconda3/lib/python3.6/site-packages/sklearn/decomposition/_nmf.py:315: FutureWarning: The 'init' value, when 'init=None' and n_components is less than n_samples and n_features, will be changed from 'nndsvd' to 'nndsvda' in 1.1 (renaming of 0.26).\n",
      "  \"'nndsvda' in 1.1 (renaming of 0.26).\"), FutureWarning)\n"
     ]
    },
    {
     "name": "stdout",
     "output_type": "stream",
     "text": [
      "Topic  0 :  friend best old met seen party\n",
      "Topic  1 :  work early raise promotion bonus received\n",
      "Topic  2 :  went shopping temple walk park trip\n",
      "Topic  3 :  new purchased phone puppy laptop computer\n",
      "Topic  4 :  dinner delicious cooked ate pizza tonight\n",
      "Topic  5 :  daughter old school took told play\n",
      "Topic  6 :  game video played won playing play\n",
      "Topic  7 :  job interview received promotion raise offer\n",
      "Topic  8 :  movie watched watching watch tv saw\n",
      "Topic  9 :  birthday party celebrated surprise gift celebrate\n",
      "Topic  10 :  family member easter enjoyed vacation trip\n",
      "Topic  11 :  dog walk took park walked played\n",
      "Topic  12 :  night sleep hour slept date bed\n",
      "Topic  13 :  home came visit brought come coming\n",
      "Topic  14 :  favorite lunch ate restaurant food delicious\n",
      "Topic  15 :  wife love sex kid baby gave\n",
      "Topic  16 :  son school old gave hug told\n",
      "Topic  17 :  girlfriend date met sex love romantic\n",
      "Topic  18 :  husband took date kid surprised brought\n",
      "Topic  19 :  long seen havent walk met hadnt\n",
      "Topic  20 :  going temple event vacation im gym\n",
      "Topic  21 :  bought car fixed ticket store drive\n",
      "Topic  22 :  sister mother house mom phone talked\n",
      "Topic  23 :  morning woke coffee breakfast early sleep\n",
      "Topic  24 :  finally getting finished money working project\n"
     ]
    }
   ],
   "source": [
    "# NMF with the the Tfidf Vectorizer, using 25 topics\n",
    "print(' ')\n",
    "nmf(df.text_cleaned, 25, TfidfVectorizer(stop_words = extra_stoppers), NMF)"
   ]
  },
  {
   "cell_type": "markdown",
   "metadata": {},
   "source": [
    "# LDA"
   ]
  },
  {
   "cell_type": "markdown",
   "metadata": {},
   "source": [
    "## Count Vectorizer"
   ]
  },
  {
   "cell_type": "code",
   "execution_count": 8,
   "metadata": {
    "ExecuteTime": {
     "end_time": "2021-02-22T17:58:25.542948Z",
     "start_time": "2021-02-22T17:58:25.536891Z"
    }
   },
   "outputs": [],
   "source": [
    "def lda(column, num_categories):\n",
    "    \"\"\"\n",
    "    Input the text data and number of categories.\n",
    "    Output topics found using LDA topic modeling and\n",
    "    the top six words for each topic.\n",
    "    \"\"\"\n",
    "    # Vectorize the data. LDA can only use raw term counts for LDA because it is a probabilistic graphical model.\n",
    "    tf_vectorizer = CountVectorizer(max_df=0.95, min_df=2, max_features=1000, stop_words=extra_stoppers)\n",
    "    tf = tf_vectorizer.fit_transform(column)\n",
    "    tf_feature_names = tf_vectorizer.get_feature_names()\n",
    "    \n",
    "    # Instantiate the model\n",
    "    lda = LatentDirichletAllocation(n_components=num_categories, max_iter=5, \n",
    "                                    learning_method='online', learning_offset=50.,\n",
    "                                    random_state=0).fit(tf)\n",
    "    \n",
    "    # Print top 6 words for each topic\n",
    "    for topic_idx, topic in enumerate(lda.components_):\n",
    "        print(\"Topic %d:\" % (topic_idx), \" \".join([tf_feature_names[i] for i in topic.argsort()[:-6 - 1:-1]]))\n"
   ]
  },
  {
   "cell_type": "code",
   "execution_count": 60,
   "metadata": {
    "ExecuteTime": {
     "end_time": "2021-02-19T00:53:49.439563Z",
     "start_time": "2021-02-19T00:52:57.959044Z"
    },
    "scrolled": false
   },
   "outputs": [
    {
     "name": "stdout",
     "output_type": "stream",
     "text": [
      "Topic 0: work got job finally new car\n",
      "Topic 1: wife having took lunch boyfriend got\n",
      "Topic 2: friend birthday went past movie enjoyed\n",
      "Topic 3: went old event started time child\n",
      "Topic 4: time dinner family night long food\n",
      "Topic 5: best won watched said son free\n",
      "Topic 6: came dog going favorite finished trip\n",
      "Topic 7: home received ago did sister got\n",
      "Topic 8: daughter morning school got time make\n",
      "Topic 9: new game getting love bought watching\n"
     ]
    }
   ],
   "source": [
    "lda(df.text_cleaned, 10)"
   ]
  },
  {
   "cell_type": "markdown",
   "metadata": {},
   "source": [
    "# SVD"
   ]
  },
  {
   "cell_type": "markdown",
   "metadata": {},
   "source": [
    "Trying out using SVD to visualize the NMF topic modeling results. It was unsuccessful. In the future I should try PCA or T-SNE."
   ]
  },
  {
   "cell_type": "code",
   "execution_count": 9,
   "metadata": {
    "ExecuteTime": {
     "end_time": "2021-02-22T17:58:39.531980Z",
     "start_time": "2021-02-22T17:58:39.527843Z"
    }
   },
   "outputs": [],
   "source": [
    "X = df.text_cleaned"
   ]
  },
  {
   "cell_type": "code",
   "execution_count": 10,
   "metadata": {
    "ExecuteTime": {
     "end_time": "2021-02-22T17:58:55.095613Z",
     "start_time": "2021-02-22T17:58:48.005444Z"
    }
   },
   "outputs": [
    {
     "data": {
      "text/plain": [
       "8"
      ]
     },
     "execution_count": 10,
     "metadata": {},
     "output_type": "execute_result"
    }
   ],
   "source": [
    "# SVD represent documents and terms in vectors \n",
    "svd_model = TruncatedSVD(n_components=8, algorithm='randomized', n_iter=100, random_state=122)\n",
    "\n",
    "# Vectorize the data\n",
    "vectorizer = TfidfVectorizer(stop_words = extra_stoppers)\n",
    "X = vectorizer.fit_transform(df.text_cleaned)\n",
    "\n",
    "# Fit the data\n",
    "svd_model.fit(X)"
   ]
  },
  {
   "cell_type": "code",
   "execution_count": 11,
   "metadata": {
    "ExecuteTime": {
     "end_time": "2021-02-22T17:59:02.247221Z",
     "start_time": "2021-02-22T17:59:02.171683Z"
    }
   },
   "outputs": [
    {
     "name": "stdout",
     "output_type": "stream",
     "text": [
      "Topic  0 :  friend got went new time work dinner family job\n",
      "Topic  1 :  got work new job car bought promotion raise home\n",
      "Topic  2 :  went work movie shopping temple wife walk family home\n",
      "Topic  3 :  new bought went car job movie shopping purchased temple\n",
      "Topic  4 :  dinner time family wife home husband night bought long\n",
      "Topic  5 :  got dinner family job night ate wife favorite sleep\n",
      "Topic  6 :  time long got daughter dog son game finally walk\n",
      "Topic  7 :  birthday family party celebrated daughter gift son sister mother\n"
     ]
    }
   ],
   "source": [
    "# Print the topics and their top 9 words\n",
    "words = vectorizer.get_feature_names()\n",
    "t = svd_model.components_.argsort(axis=1)[:,-1:-10:-1]\n",
    "topic_words = [[words[e] for e in l] for l in t]\n",
    "    \n",
    "count = 0\n",
    "for topic_list in topic_words:\n",
    "    print('Topic ', count, ': ', *topic_list)\n",
    "    count += 1"
   ]
  },
  {
   "cell_type": "markdown",
   "metadata": {},
   "source": [
    "## Umap Visualization"
   ]
  },
  {
   "cell_type": "code",
   "execution_count": 26,
   "metadata": {
    "ExecuteTime": {
     "end_time": "2021-02-22T18:23:08.051449Z",
     "start_time": "2021-02-22T18:18:28.246825Z"
    }
   },
   "outputs": [],
   "source": [
    "# Use umap to visualize the svd categories\n",
    "import umap.umap_ as umap\n",
    "\n",
    "X_topics = svd_model.fit_transform(X)\n",
    "embedding = umap.UMAP(n_neighbors=150, min_dist=0.5, random_state=12).fit_transform(X_topics)"
   ]
  },
  {
   "cell_type": "code",
   "execution_count": 30,
   "metadata": {
    "ExecuteTime": {
     "end_time": "2021-02-22T18:29:39.318466Z",
     "start_time": "2021-02-22T18:29:37.522645Z"
    }
   },
   "outputs": [
    {
     "data": {
      "image/png": "[encoded data removed]",
      "text/plain": [
       "<Figure size 1008x720 with 1 Axes>"
      ]
     },
     "metadata": {},
     "output_type": "display_data"
    }
   ],
   "source": [
    "# Plot the SVD categories, for now I'm using colors that correspond to the \n",
    "# NMF Tfidf topic modeling since it was my best model.\n",
    "plt.figure(figsize=(14,10))\n",
    "plt.scatter(embedding[:, 0], embedding[:, 1], c = df.topic,\n",
    "s = 10, # size\n",
    "edgecolor='none'\n",
    ")\n",
    "plt.show()"
   ]
  },
  {
   "cell_type": "markdown",
   "metadata": {},
   "source": [
    "# Nouns"
   ]
  },
  {
   "cell_type": "code",
   "execution_count": 27,
   "metadata": {
    "ExecuteTime": {
     "end_time": "2021-02-22T18:23:17.128905Z",
     "start_time": "2021-02-22T18:23:08.247998Z"
    }
   },
   "outputs": [
    {
     "name": "stderr",
     "output_type": "stream",
     "text": [
      "/Users/kaitlynzeichick/anaconda3/lib/python3.6/site-packages/sklearn/decomposition/_nmf.py:315: FutureWarning: The 'init' value, when 'init=None' and n_components is less than n_samples and n_features, will be changed from 'nndsvd' to 'nndsvda' in 1.1 (renaming of 0.26).\n",
      "  \"'nndsvda' in 1.1 (renaming of 0.26).\"), FutureWarning)\n"
     ]
    },
    {
     "name": "stdout",
     "output_type": "stream",
     "text": [
      "Topic  0 :  friend years lunch birthday phone while\n",
      "Topic  1 :  work project raise promotion bonus husband\n",
      "Topic  2 :  time months girlfriend brother movie quality\n",
      "Topic  3 :  dinner wife night husband girlfriend restaurant\n",
      "Topic  4 :  friends birthday party movie game night\n",
      "Topic  5 :  job interview months promotion offer raise\n",
      "Topic  6 :  family birthday members vacation trip weekend\n",
      "Topic  7 :  daughter school birthday morning wife college\n",
      "Topic  8 :  son morning game dog school months\n",
      "Topic  9 :  car months money event husband years\n"
     ]
    },
    {
     "name": "stderr",
     "output_type": "stream",
     "text": [
      "/Users/kaitlynzeichick/anaconda3/lib/python3.6/site-packages/sklearn/decomposition/_nmf.py:315: FutureWarning: The 'init' value, when 'init=None' and n_components is less than n_samples and n_features, will be changed from 'nndsvd' to 'nndsvda' in 1.1 (renaming of 0.26).\n",
      "  \"'nndsvda' in 1.1 (renaming of 0.26).\"), FutureWarning)\n"
     ]
    },
    {
     "name": "stdout",
     "output_type": "stream",
     "text": [
      "Topic  0 :  friend years lunch while phone mine\n",
      "Topic  1 :  work project raise promotion bonus husband\n",
      "Topic  2 :  time months quality brother years sister\n",
      "Topic  3 :  dinner husband restaurant pizza food mom\n",
      "Topic  4 :  friends party school trip lunch weekend\n",
      "Topic  5 :  job interview months promotion offer raise\n",
      "Topic  6 :  family members vacation trip weekend home\n",
      "Topic  7 :  daughter school morning college baby class\n",
      "Topic  8 :  son school morning months hug birth\n",
      "Topic  9 :  car months money event husband years\n",
      "Topic  10 :  dog walk morning park house weather\n",
      "Topic  11 :  game video team baseball games basketball\n",
      "Topic  12 :  wife lunch morning sex vacation trip\n",
      "Topic  13 :  girlfriend date lunch trip months event\n",
      "Topic  14 :  movie husband theater tv show home\n",
      "Topic  15 :  birthday party sister gift mom brother\n",
      "Topic  16 :  night sleep husband bed hours date\n"
     ]
    }
   ],
   "source": [
    "# NMF and Tfidf using just the nouns\n",
    "nmf(df.nouns, 10, TfidfVectorizer(stop_words = extra_stoppers), NMF)\n",
    "\n",
    "nmf(df.nouns, 17, TfidfVectorizer(stop_words = extra_stoppers), NMF)"
   ]
  },
  {
   "cell_type": "markdown",
   "metadata": {},
   "source": [
    "# Proto-Agent"
   ]
  },
  {
   "cell_type": "code",
   "execution_count": 30,
   "metadata": {
    "ExecuteTime": {
     "end_time": "2021-02-19T18:28:22.638892Z",
     "start_time": "2021-02-19T18:28:18.989090Z"
    },
    "scrolled": false
   },
   "outputs": [
    {
     "name": "stdout",
     "output_type": "stream",
     "text": [
      "Topic  0 :  it you they one this members\n",
      "Topic  1 :  we friend wife husband this who\n",
      "Topic  2 :  me event this what husband thing\n",
      "Topic  3 :  that event thing dad you something\n",
      "Topic  4 :  she friend wife sister who girlfriend\n",
      "Topic  5 :  he husband friend who boyfriend brother\n",
      "Topic  6 :  son who him he this you\n",
      "Topic  7 :  which they who wife husband you\n",
      "Topic  8 :  daughter who her she daughters kids\n"
     ]
    }
   ],
   "source": [
    "# NMF and Tfidf using just the proto-agents\n",
    "nmf(df.proto_agent, 9, TfidfVectorizer(stop_words = extra_stoppers), NMF)"
   ]
  },
  {
   "cell_type": "markdown",
   "metadata": {},
   "source": [
    "For the future, maybe this shouldn't be explored using topic modeling. It might be interesting just to see if the terms 'I' or 'Wife' etc. come up more often in relation to different demographics."
   ]
  },
  {
   "cell_type": "markdown",
   "metadata": {},
   "source": [
    "# Further Analysis of Best Model (TFIDF, NMF, 19 Topics)"
   ]
  },
  {
   "cell_type": "code",
   "execution_count": 13,
   "metadata": {
    "ExecuteTime": {
     "end_time": "2021-02-24T19:18:07.595207Z",
     "start_time": "2021-02-24T19:17:59.585641Z"
    },
    "scrolled": false
   },
   "outputs": [
    {
     "name": "stderr",
     "output_type": "stream",
     "text": [
      "/Users/kaitlynzeichick/anaconda3/lib/python3.6/site-packages/sklearn/decomposition/_nmf.py:315: FutureWarning: The 'init' value, when 'init=None' and n_components is less than n_samples and n_features, will be changed from 'nndsvd' to 'nndsvda' in 1.1 (renaming of 0.26).\n",
      "  \"'nndsvda' in 1.1 (renaming of 0.26).\"), FutureWarning)\n"
     ]
    },
    {
     "name": "stdout",
     "output_type": "stream",
     "text": [
      "Topic  0 :  friend best old met seen long talked havent party\n",
      "Topic  1 :  work early project raise promotion finished bonus received getting\n",
      "Topic  2 :  went shopping temple walk park trip mall gym date\n",
      "Topic  3 :  new bought car purchased phone house shoe laptop bike\n",
      "Topic  4 :  dinner delicious cooked ate pizza tonight having steak restaurant\n",
      "Topic  5 :  home came visit sister house long brother parent brought\n",
      "Topic  6 :  game video played won playing play team baseball basketball\n",
      "Topic  7 :  job interview received getting promotion new offer raise finally\n",
      "Topic  8 :  movie watched watching watch tv saw theater enjoyed funny\n",
      "Topic  9 :  birthday party celebrated gift surprise celebrate brother sister mom\n",
      "Topic  10 :  family member going vacation easter enjoyed trip weekend mother\n",
      "Topic  11 :  dog walk took long park morning weather outside walked\n",
      "Topic  12 :  night sleep hour morning slept bed getting woke date\n",
      "Topic  13 :  wife love sex baby gave kid pregnant told boy\n",
      "Topic  14 :  favorite lunch ate restaurant food delicious eat meal pizza\n",
      "Topic  15 :  daughter school old told baby college took class watching\n",
      "Topic  16 :  son school morning gave hug old big woke told\n",
      "Topic  17 :  girlfriend going date long met sex event love hour\n",
      "Topic  18 :  husband going took date kid gift surprised make brought\n"
     ]
    }
   ],
   "source": [
    "# I'm not using the function I created so that the variables are global.\n",
    "\n",
    "# Vectorize the data\n",
    "vectorizer = TfidfVectorizer(stop_words = extra_stoppers)\n",
    "doc_word = vectorizer.fit_transform(df.text_cleaned)\n",
    "    \n",
    "# Instantiate the model\n",
    "model = NMF(19)\n",
    "doc_topic = model.fit_transform(doc_word)\n",
    "    \n",
    "# Make a list of the words for classifications\n",
    "words = vectorizer.get_feature_names()\n",
    "t = model.components_.argsort(axis=1)[:,-1:-10:-1]\n",
    "topic_words = [[words[e] for e in l] for l in t]\n",
    "\n",
    "# Print the topics and their top 9 words.\n",
    "count = 0\n",
    "for topic_list in topic_words:\n",
    "    print('Topic ', count, ': ', *topic_list)\n",
    "    count += 1"
   ]
  },
  {
   "cell_type": "markdown",
   "metadata": {},
   "source": [
    "## Add Topic Labels to DataFrame"
   ]
  },
  {
   "cell_type": "code",
   "execution_count": 14,
   "metadata": {
    "ExecuteTime": {
     "end_time": "2021-02-24T19:18:26.217411Z",
     "start_time": "2021-02-24T19:18:26.207233Z"
    }
   },
   "outputs": [],
   "source": [
    "# Label each row of the df and save the topic labels in a new row called 'topic'.\n",
    "df['topic'] = doc_topic.argmax(axis=1)"
   ]
  },
  {
   "cell_type": "code",
   "execution_count": 15,
   "metadata": {
    "ExecuteTime": {
     "end_time": "2021-02-24T19:18:27.179543Z",
     "start_time": "2021-02-24T19:18:27.155620Z"
    }
   },
   "outputs": [
    {
     "data": {
      "text/plain": [
       "<bound method Series.argsort of 16    10107\n",
       "3     8996 \n",
       "14    7131 \n",
       "7     7107 \n",
       "1     7060 \n",
       "11    6421 \n",
       "2     5841 \n",
       "0     5327 \n",
       "10    5148 \n",
       "6     5121 \n",
       "15    4433 \n",
       "12    4422 \n",
       "9     4333 \n",
       "5     3826 \n",
       "18    3739 \n",
       "17    3083 \n",
       "13    3045 \n",
       "8     2877 \n",
       "4     1855 \n",
       "Name: topic, dtype: int64>"
      ]
     },
     "execution_count": 15,
     "metadata": {},
     "output_type": "execute_result"
    }
   ],
   "source": [
    "# Print the the number of rows that each topic was labeled. For example, 15,234\n",
    "# rows were labeled as topic 15.\n",
    "df.topic.value_counts().argsort"
   ]
  },
  {
   "cell_type": "code",
   "execution_count": 28,
   "metadata": {
    "ExecuteTime": {
     "end_time": "2021-02-24T21:55:22.012374Z",
     "start_time": "2021-02-24T21:55:21.936712Z"
    },
    "scrolled": true
   },
   "outputs": [
    {
     "data": {
      "text/plain": [
       "<bound method Series.argsort of 16    4946\n",
       "3     3257\n",
       "18    2957\n",
       "7     2940\n",
       "11    2896\n",
       "14    2774\n",
       "2     2509\n",
       "1     2506\n",
       "15    2470\n",
       "10    2245\n",
       "0     2105\n",
       "9     2049\n",
       "5     1895\n",
       "12    1872\n",
       "6     1393\n",
       "8     1046\n",
       "4     818 \n",
       "17    587 \n",
       "13    507 \n",
       "Name: topic, dtype: int64>"
      ]
     },
     "execution_count": 28,
     "metadata": {},
     "output_type": "execute_result"
    }
   ],
   "source": [
    "# Quick exploration into topics written by women.\n",
    "df[df['gender'] == 'f'].topic.value_counts().argsort"
   ]
  },
  {
   "cell_type": "markdown",
   "metadata": {},
   "source": [
    "## Use Randomized SVD to find 'Elbow'"
   ]
  },
  {
   "cell_type": "markdown",
   "metadata": {},
   "source": [
    "This was created for the SVD Umap visualization, but wasn't particularly useful."
   ]
  },
  {
   "cell_type": "code",
   "execution_count": 158,
   "metadata": {
    "ExecuteTime": {
     "end_time": "2021-02-20T00:14:52.310682Z",
     "start_time": "2021-02-20T00:14:51.470561Z"
    },
    "scrolled": true
   },
   "outputs": [],
   "source": [
    "from sklearn.utils.extmath import randomized_svd\n",
    "U, Sigma, VT = randomized_svd(test_feature_matrix, n_components=15,\n",
    "                                      n_iter=5,\n",
    "                                      random_state=None)"
   ]
  },
  {
   "cell_type": "code",
   "execution_count": 159,
   "metadata": {
    "ExecuteTime": {
     "end_time": "2021-02-20T00:15:06.019789Z",
     "start_time": "2021-02-20T00:15:06.011809Z"
    }
   },
   "outputs": [
    {
     "data": {
      "text/plain": [
       "array([35.50445481, 29.62386121, 26.3151845 , 25.99991012, 24.07654457,\n",
       "       23.47311347, 23.06206921, 21.30331019, 21.10471776, 20.46450619,\n",
       "       19.97969227, 19.62768231, 19.46319887, 18.7866036 , 18.46839741])"
      ]
     },
     "execution_count": 159,
     "metadata": {},
     "output_type": "execute_result"
    }
   ],
   "source": [
    "Sigma"
   ]
  },
  {
   "cell_type": "code",
   "execution_count": 160,
   "metadata": {
    "ExecuteTime": {
     "end_time": "2021-02-20T00:15:14.426050Z",
     "start_time": "2021-02-20T00:15:14.244593Z"
    }
   },
   "outputs": [
    {
     "data": {
      "image/png": "[encoded data removed]",
      "text/plain": [
       "<Figure size 432x288 with 1 Axes>"
      ]
     },
     "metadata": {},
     "output_type": "display_data"
    }
   ],
   "source": [
    "plt.plot(range(1,16),Sigma)\n",
    "plt.show()"
   ]
  },
  {
   "cell_type": "markdown",
   "metadata": {},
   "source": [
    "# Print Weight of Each Topic Per Row"
   ]
  },
  {
   "cell_type": "code",
   "execution_count": 16,
   "metadata": {
    "ExecuteTime": {
     "end_time": "2021-02-24T19:19:16.752174Z",
     "start_time": "2021-02-24T19:19:15.064102Z"
    },
    "scrolled": true
   },
   "outputs": [
    {
     "data": {
      "text/html": [
       "<div>\n",
       "<style scoped>\n",
       "    .dataframe tbody tr th:only-of-type {\n",
       "        vertical-align: middle;\n",
       "    }\n",
       "\n",
       "    .dataframe tbody tr th {\n",
       "        vertical-align: top;\n",
       "    }\n",
       "\n",
       "    .dataframe thead th {\n",
       "        text-align: right;\n",
       "    }\n",
       "</style>\n",
       "<table border=\"1\" class=\"dataframe\">\n",
       "  <thead>\n",
       "    <tr style=\"text-align: right;\">\n",
       "      <th></th>\n",
       "      <th>Topic_0</th>\n",
       "      <th>Topic_1</th>\n",
       "      <th>Topic_2</th>\n",
       "      <th>Topic_3</th>\n",
       "      <th>Topic_4</th>\n",
       "      <th>Topic_5</th>\n",
       "      <th>Topic_6</th>\n",
       "      <th>Topic_7</th>\n",
       "      <th>Topic_8</th>\n",
       "      <th>Topic_9</th>\n",
       "      <th>Topic_10</th>\n",
       "      <th>Topic_11</th>\n",
       "      <th>Topic_12</th>\n",
       "      <th>Topic_13</th>\n",
       "      <th>Topic_14</th>\n",
       "      <th>Topic_15</th>\n",
       "      <th>Topic_16</th>\n",
       "      <th>Topic_17</th>\n",
       "      <th>Topic_18</th>\n",
       "      <th>dominant_topic</th>\n",
       "    </tr>\n",
       "  </thead>\n",
       "  <tbody>\n",
       "    <tr>\n",
       "      <th>Doc_0</th>\n",
       "      <td>0.0</td>\n",
       "      <td>0.00</td>\n",
       "      <td>0.0</td>\n",
       "      <td>0.0</td>\n",
       "      <td>0.00</td>\n",
       "      <td>0.0</td>\n",
       "      <td>0.0</td>\n",
       "      <td>0.00</td>\n",
       "      <td>0.0</td>\n",
       "      <td>0.01</td>\n",
       "      <td>0.0</td>\n",
       "      <td>0.00</td>\n",
       "      <td>0.0</td>\n",
       "      <td>0.09</td>\n",
       "      <td>0.0</td>\n",
       "      <td>0.00</td>\n",
       "      <td>0.00</td>\n",
       "      <td>0.00</td>\n",
       "      <td>0.00</td>\n",
       "      <td>13</td>\n",
       "    </tr>\n",
       "    <tr>\n",
       "      <th>Doc_1</th>\n",
       "      <td>0.0</td>\n",
       "      <td>0.00</td>\n",
       "      <td>0.0</td>\n",
       "      <td>0.0</td>\n",
       "      <td>0.00</td>\n",
       "      <td>0.0</td>\n",
       "      <td>0.0</td>\n",
       "      <td>0.00</td>\n",
       "      <td>0.0</td>\n",
       "      <td>0.00</td>\n",
       "      <td>0.0</td>\n",
       "      <td>0.00</td>\n",
       "      <td>0.0</td>\n",
       "      <td>0.00</td>\n",
       "      <td>0.0</td>\n",
       "      <td>0.01</td>\n",
       "      <td>0.01</td>\n",
       "      <td>0.00</td>\n",
       "      <td>0.00</td>\n",
       "      <td>15</td>\n",
       "    </tr>\n",
       "    <tr>\n",
       "      <th>Doc_2</th>\n",
       "      <td>0.0</td>\n",
       "      <td>0.00</td>\n",
       "      <td>0.0</td>\n",
       "      <td>0.0</td>\n",
       "      <td>0.00</td>\n",
       "      <td>0.0</td>\n",
       "      <td>0.0</td>\n",
       "      <td>0.06</td>\n",
       "      <td>0.0</td>\n",
       "      <td>0.00</td>\n",
       "      <td>0.0</td>\n",
       "      <td>0.02</td>\n",
       "      <td>0.0</td>\n",
       "      <td>0.07</td>\n",
       "      <td>0.0</td>\n",
       "      <td>0.00</td>\n",
       "      <td>0.00</td>\n",
       "      <td>0.01</td>\n",
       "      <td>0.01</td>\n",
       "      <td>13</td>\n",
       "    </tr>\n",
       "    <tr>\n",
       "      <th>Doc_3</th>\n",
       "      <td>0.0</td>\n",
       "      <td>0.01</td>\n",
       "      <td>0.0</td>\n",
       "      <td>0.0</td>\n",
       "      <td>0.00</td>\n",
       "      <td>0.0</td>\n",
       "      <td>0.0</td>\n",
       "      <td>0.00</td>\n",
       "      <td>0.0</td>\n",
       "      <td>0.00</td>\n",
       "      <td>0.0</td>\n",
       "      <td>0.00</td>\n",
       "      <td>0.0</td>\n",
       "      <td>0.00</td>\n",
       "      <td>0.0</td>\n",
       "      <td>0.00</td>\n",
       "      <td>0.00</td>\n",
       "      <td>0.00</td>\n",
       "      <td>0.00</td>\n",
       "      <td>1</td>\n",
       "    </tr>\n",
       "    <tr>\n",
       "      <th>Doc_4</th>\n",
       "      <td>0.0</td>\n",
       "      <td>0.05</td>\n",
       "      <td>0.0</td>\n",
       "      <td>0.0</td>\n",
       "      <td>0.08</td>\n",
       "      <td>0.0</td>\n",
       "      <td>0.0</td>\n",
       "      <td>0.00</td>\n",
       "      <td>0.0</td>\n",
       "      <td>0.01</td>\n",
       "      <td>0.0</td>\n",
       "      <td>0.00</td>\n",
       "      <td>0.0</td>\n",
       "      <td>0.09</td>\n",
       "      <td>0.0</td>\n",
       "      <td>0.00</td>\n",
       "      <td>0.00</td>\n",
       "      <td>0.00</td>\n",
       "      <td>0.00</td>\n",
       "      <td>13</td>\n",
       "    </tr>\n",
       "  </tbody>\n",
       "</table>\n",
       "</div>"
      ],
      "text/plain": [
       "       Topic_0  Topic_1  Topic_2  Topic_3  Topic_4  Topic_5  Topic_6  Topic_7  \\\n",
       "Doc_0  0.0      0.00     0.0      0.0      0.00     0.0      0.0      0.00      \n",
       "Doc_1  0.0      0.00     0.0      0.0      0.00     0.0      0.0      0.00      \n",
       "Doc_2  0.0      0.00     0.0      0.0      0.00     0.0      0.0      0.06      \n",
       "Doc_3  0.0      0.01     0.0      0.0      0.00     0.0      0.0      0.00      \n",
       "Doc_4  0.0      0.05     0.0      0.0      0.08     0.0      0.0      0.00      \n",
       "\n",
       "       Topic_8  Topic_9  Topic_10  Topic_11  Topic_12  Topic_13  Topic_14  \\\n",
       "Doc_0  0.0      0.01     0.0       0.00      0.0       0.09      0.0        \n",
       "Doc_1  0.0      0.00     0.0       0.00      0.0       0.00      0.0        \n",
       "Doc_2  0.0      0.00     0.0       0.02      0.0       0.07      0.0        \n",
       "Doc_3  0.0      0.00     0.0       0.00      0.0       0.00      0.0        \n",
       "Doc_4  0.0      0.01     0.0       0.00      0.0       0.09      0.0        \n",
       "\n",
       "       Topic_15  Topic_16  Topic_17  Topic_18  dominant_topic  \n",
       "Doc_0  0.00      0.00      0.00      0.00      13              \n",
       "Doc_1  0.01      0.01      0.00      0.00      15              \n",
       "Doc_2  0.00      0.00      0.01      0.01      13              \n",
       "Doc_3  0.00      0.00      0.00      0.00      1               \n",
       "Doc_4  0.00      0.00      0.00      0.00      13              "
      ]
     },
     "execution_count": 16,
     "metadata": {},
     "output_type": "execute_result"
    }
   ],
   "source": [
    "test_doc = df.text_cleaned\n",
    "\n",
    "test_feature_matrix = vectorizer.transform(test_doc)\n",
    "\n",
    "test_output = model.transform(test_feature_matrix)\n",
    "\n",
    "# column names\n",
    "test_topicnames = ['Topic_' + str(i) for i in range(model.n_components)]\n",
    "\n",
    "# index names\n",
    "test_docnames = ['Doc_' + str(i) for i in range(len(test_doc))]\n",
    "\n",
    "# create a dataframe\n",
    "test_df_document_topic = pd.DataFrame(np.round(test_output,2), columns=test_topicnames, index=test_docnames)\n",
    "\n",
    "# dominant topic\n",
    "test_df_document_topic['dominant_topic'] = np.argmax(test_df_document_topic.values, axis=1)\n",
    "test_df_document_topic.head()"
   ]
  },
  {
   "cell_type": "code",
   "execution_count": 17,
   "metadata": {
    "ExecuteTime": {
     "end_time": "2021-02-24T19:19:21.876205Z",
     "start_time": "2021-02-24T19:19:21.783402Z"
    }
   },
   "outputs": [
    {
     "data": {
      "text/html": [
       "<div>\n",
       "<style scoped>\n",
       "    .dataframe tbody tr th:only-of-type {\n",
       "        vertical-align: middle;\n",
       "    }\n",
       "\n",
       "    .dataframe tbody tr th {\n",
       "        vertical-align: top;\n",
       "    }\n",
       "\n",
       "    .dataframe thead th {\n",
       "        text-align: right;\n",
       "    }\n",
       "</style>\n",
       "<table border=\"1\" class=\"dataframe\">\n",
       "  <thead>\n",
       "    <tr style=\"text-align: right;\">\n",
       "      <th></th>\n",
       "      <th>text</th>\n",
       "      <th>topic</th>\n",
       "    </tr>\n",
       "  </thead>\n",
       "  <tbody>\n",
       "    <tr>\n",
       "      <th>55</th>\n",
       "      <td>I got a random phone call from a close friend of mine and we scheduled a day to hangout.</td>\n",
       "      <td>0</td>\n",
       "    </tr>\n",
       "    <tr>\n",
       "      <th>67</th>\n",
       "      <td>I got to spend the day with my niece that i havent seen in a few months.</td>\n",
       "      <td>0</td>\n",
       "    </tr>\n",
       "    <tr>\n",
       "      <th>81</th>\n",
       "      <td>Got to talk with a friend of mine on the phone for at least 20 minutes to catch up.</td>\n",
       "      <td>0</td>\n",
       "    </tr>\n",
       "    <tr>\n",
       "      <th>88</th>\n",
       "      <td>I got to play for a few hours online with some of my friends.</td>\n",
       "      <td>0</td>\n",
       "    </tr>\n",
       "    <tr>\n",
       "      <th>104</th>\n",
       "      <td>When my friend meet me today with expensive gift for me</td>\n",
       "      <td>0</td>\n",
       "    </tr>\n",
       "    <tr>\n",
       "      <th>105</th>\n",
       "      <td>When my friend meet to me after many days and we have enjoyed with them</td>\n",
       "      <td>0</td>\n",
       "    </tr>\n",
       "    <tr>\n",
       "      <th>113</th>\n",
       "      <td>when my friends planing a travel in abroad</td>\n",
       "      <td>0</td>\n",
       "    </tr>\n",
       "    <tr>\n",
       "      <th>123</th>\n",
       "      <td>When my friends come meet me</td>\n",
       "      <td>0</td>\n",
       "    </tr>\n",
       "    <tr>\n",
       "      <th>143</th>\n",
       "      <td>when my college friends going to abroad</td>\n",
       "      <td>0</td>\n",
       "    </tr>\n",
       "    <tr>\n",
       "      <th>163</th>\n",
       "      <td>when my friend meet with me from many days</td>\n",
       "      <td>0</td>\n",
       "    </tr>\n",
       "    <tr>\n",
       "      <th>180</th>\n",
       "      <td>i was happy because that i had a bike ride with my friend in a road,i felt that a happy moment</td>\n",
       "      <td>0</td>\n",
       "    </tr>\n",
       "    <tr>\n",
       "      <th>190</th>\n",
       "      <td>I HAD A RIDE IN HILL STATION WITH MY GIRL FRIEND</td>\n",
       "      <td>0</td>\n",
       "    </tr>\n",
       "    <tr>\n",
       "      <th>195</th>\n",
       "      <td>i was attended my best friend birthday,which was so excited,surprised and happiest moment.</td>\n",
       "      <td>0</td>\n",
       "    </tr>\n",
       "    <tr>\n",
       "      <th>196</th>\n",
       "      <td>i met my school friend in shopping mall,where they sharing our feeling and feeling very happy.</td>\n",
       "      <td>0</td>\n",
       "    </tr>\n",
       "    <tr>\n",
       "      <th>217</th>\n",
       "      <td>LAST MONTH WE ARE GOING TO PARTY WITH MY FRIENDS WE FELT VERY HAPPY ON THAT TIME.</td>\n",
       "      <td>0</td>\n",
       "    </tr>\n",
       "    <tr>\n",
       "      <th>218</th>\n",
       "      <td>LAST WEEK WE ARE GOING TO BAGUBALI FILM WITH OUR FRIENDS FOR MIDNIGHT SHOW WE MADE A LOT OF FUN AT THEATRE</td>\n",
       "      <td>0</td>\n",
       "    </tr>\n",
       "    <tr>\n",
       "      <th>220</th>\n",
       "      <td>GO TO HOTEL,PARK,CINEMA I REALLY ENJOYED PREVIOUS WEEK WITH MY FRIENDS</td>\n",
       "      <td>0</td>\n",
       "    </tr>\n",
       "    <tr>\n",
       "      <th>241</th>\n",
       "      <td>go to hotel,park,cinema with my friends so i really enjoyed</td>\n",
       "      <td>0</td>\n",
       "    </tr>\n",
       "    <tr>\n",
       "      <th>244</th>\n",
       "      <td>GO TO HOTEL,PARK,CINEMA I ENJOYED WITH MY FRIENDS</td>\n",
       "      <td>0</td>\n",
       "    </tr>\n",
       "    <tr>\n",
       "      <th>247</th>\n",
       "      <td>GO TO HOTEL,PARK,CINEMA WITH MY FRIENDS SO I REALLY ENJOYED</td>\n",
       "      <td>0</td>\n",
       "    </tr>\n",
       "    <tr>\n",
       "      <th>250</th>\n",
       "      <td>go to hotel,park,cinema with my friends</td>\n",
       "      <td>0</td>\n",
       "    </tr>\n",
       "    <tr>\n",
       "      <th>298</th>\n",
       "      <td>My checking account received a $100 bonus for referring a friend</td>\n",
       "      <td>0</td>\n",
       "    </tr>\n",
       "    <tr>\n",
       "      <th>362</th>\n",
       "      <td>My child wrote his first thank you card for a friend of mine for a gift he received, which made me very happy.</td>\n",
       "      <td>0</td>\n",
       "    </tr>\n",
       "    <tr>\n",
       "      <th>373</th>\n",
       "      <td>I was able to catch up on chores and it made me very happy.</td>\n",
       "      <td>0</td>\n",
       "    </tr>\n",
       "    <tr>\n",
       "      <th>441</th>\n",
       "      <td>yesterday i spoken to my friend and i felt very happy because she was selected in dance competition.</td>\n",
       "      <td>0</td>\n",
       "    </tr>\n",
       "    <tr>\n",
       "      <th>452</th>\n",
       "      <td>Yesterday i went to my friends house warming ceremony and i was very happy to see all of my old friends and we shared our memories.</td>\n",
       "      <td>0</td>\n",
       "    </tr>\n",
       "    <tr>\n",
       "      <th>454</th>\n",
       "      <td>Yesterday i went to my friends house warming party and i was very happy to see all of my old friends.</td>\n",
       "      <td>0</td>\n",
       "    </tr>\n",
       "    <tr>\n",
       "      <th>457</th>\n",
       "      <td>Yesterday i attended commodity traders meeting and i was very happy to know how to do commodity trading .</td>\n",
       "      <td>0</td>\n",
       "    </tr>\n",
       "    <tr>\n",
       "      <th>463</th>\n",
       "      <td>Yesterday i attended my friends marriage function and i was very happy to see all of my old friends.</td>\n",
       "      <td>0</td>\n",
       "    </tr>\n",
       "    <tr>\n",
       "      <th>472</th>\n",
       "      <td>Last month i went to my friends marriage function and i was very happy to see all of my college friends.</td>\n",
       "      <td>0</td>\n",
       "    </tr>\n",
       "    <tr>\n",
       "      <th>...</th>\n",
       "      <td>...</td>\n",
       "      <td>...</td>\n",
       "    </tr>\n",
       "    <tr>\n",
       "      <th>99295</th>\n",
       "      <td>A good friend of mine sent me the rough draft of a novel they're working on so I can beta it and possible help them edit it before it gets submitted to publishers this year.</td>\n",
       "      <td>0</td>\n",
       "    </tr>\n",
       "    <tr>\n",
       "      <th>99318</th>\n",
       "      <td>hanging out with friends</td>\n",
       "      <td>0</td>\n",
       "    </tr>\n",
       "    <tr>\n",
       "      <th>99319</th>\n",
       "      <td>going on a trip with friends</td>\n",
       "      <td>0</td>\n",
       "    </tr>\n",
       "    <tr>\n",
       "      <th>99392</th>\n",
       "      <td>I was very happy to learn that my friend had received my crafting project I sent her and really liked what I had made for her.</td>\n",
       "      <td>0</td>\n",
       "    </tr>\n",
       "    <tr>\n",
       "      <th>99394</th>\n",
       "      <td>I was happy to see a photo on Instagram of one of my grad school friend's engagement.</td>\n",
       "      <td>0</td>\n",
       "    </tr>\n",
       "    <tr>\n",
       "      <th>99395</th>\n",
       "      <td>My friend and I hung out at the house all day playing boardgames and cuddling.</td>\n",
       "      <td>0</td>\n",
       "    </tr>\n",
       "    <tr>\n",
       "      <th>99411</th>\n",
       "      <td>My friend sent me a joke that made me laugh.</td>\n",
       "      <td>0</td>\n",
       "    </tr>\n",
       "    <tr>\n",
       "      <th>99412</th>\n",
       "      <td>I received a gift in the mail from a friend.</td>\n",
       "      <td>0</td>\n",
       "    </tr>\n",
       "    <tr>\n",
       "      <th>99426</th>\n",
       "      <td>We went to Las Vegas with some friends. It made me happy because it was a lot of fun and we'll probably never get the opportunity to do that again with friends.</td>\n",
       "      <td>0</td>\n",
       "    </tr>\n",
       "    <tr>\n",
       "      <th>99444</th>\n",
       "      <td>One month ago, I entered into a serious romantic relationship with one of my best friends.</td>\n",
       "      <td>0</td>\n",
       "    </tr>\n",
       "    <tr>\n",
       "      <th>99473</th>\n",
       "      <td>When I got to see all of my best friends at the same time.</td>\n",
       "      <td>0</td>\n",
       "    </tr>\n",
       "    <tr>\n",
       "      <th>99511</th>\n",
       "      <td>I attended the sweetest wedding of a former co-worker and good friend.</td>\n",
       "      <td>0</td>\n",
       "    </tr>\n",
       "    <tr>\n",
       "      <th>99547</th>\n",
       "      <td>I rented out my own house with 4 different friends.</td>\n",
       "      <td>0</td>\n",
       "    </tr>\n",
       "    <tr>\n",
       "      <th>99549</th>\n",
       "      <td>2. I was happy when I visited the planetarium with my friend Mariah after a long week of post-breakup depression.\\r\\n</td>\n",
       "      <td>0</td>\n",
       "    </tr>\n",
       "    <tr>\n",
       "      <th>99589</th>\n",
       "      <td>I looked after a friend's kitten for a week while they were on vacation. It's the most adorable animal I've ever seen.</td>\n",
       "      <td>0</td>\n",
       "    </tr>\n",
       "    <tr>\n",
       "      <th>99629</th>\n",
       "      <td>A few weeks ago, a good friend from out of town that I had not seen for nearly a year showed up at my door unannounced, surprising me with his visit.</td>\n",
       "      <td>0</td>\n",
       "    </tr>\n",
       "    <tr>\n",
       "      <th>99675</th>\n",
       "      <td>Seeing my friend</td>\n",
       "      <td>0</td>\n",
       "    </tr>\n",
       "    <tr>\n",
       "      <th>99677</th>\n",
       "      <td>I worked out with one of my best friends at an extremely nice athletic club and was able to meet my lifting and bodyweight goals for the week.</td>\n",
       "      <td>0</td>\n",
       "    </tr>\n",
       "    <tr>\n",
       "      <th>99678</th>\n",
       "      <td>I watched the NBA playoffs with some friends from high school at a bar and was able to catch up with some that I haven't seen in several years.</td>\n",
       "      <td>0</td>\n",
       "    </tr>\n",
       "    <tr>\n",
       "      <th>99682</th>\n",
       "      <td>Seeing my friend start her own youtube channel and gain the independence and self confidence she wanted made me happy.</td>\n",
       "      <td>0</td>\n",
       "    </tr>\n",
       "    <tr>\n",
       "      <th>99691</th>\n",
       "      <td>My friend told me that the things we've been talking about in my own life have helped her, too.</td>\n",
       "      <td>0</td>\n",
       "    </tr>\n",
       "    <tr>\n",
       "      <th>99723</th>\n",
       "      <td>I visited my friends in Dallas.</td>\n",
       "      <td>0</td>\n",
       "    </tr>\n",
       "    <tr>\n",
       "      <th>99729</th>\n",
       "      <td>I traveled to see a friend that I had not seen in 6 years.</td>\n",
       "      <td>0</td>\n",
       "    </tr>\n",
       "    <tr>\n",
       "      <th>99737</th>\n",
       "      <td>In the last 24 hours I had the opportunity to talk with a long time friend that I had talked to for 47 years. This made me happy.</td>\n",
       "      <td>0</td>\n",
       "    </tr>\n",
       "    <tr>\n",
       "      <th>99762</th>\n",
       "      <td>I was discouraged, feeling alone and troubled and I heard my friend's voice on the phone; I was filled with joy just hearing his voice.</td>\n",
       "      <td>0</td>\n",
       "    </tr>\n",
       "    <tr>\n",
       "      <th>99797</th>\n",
       "      <td>One of the event which made me happy in the past 3 months was that, I have proposed my best friend, and she accepted my proposal, I can't express my happiness which I had felt that day. I never thought she would accept my proposal. Thanking God for giving her.</td>\n",
       "      <td>0</td>\n",
       "    </tr>\n",
       "    <tr>\n",
       "      <th>99812</th>\n",
       "      <td>Recently, I ran my first ever Half Marathon with my best friend.</td>\n",
       "      <td>0</td>\n",
       "    </tr>\n",
       "    <tr>\n",
       "      <th>99838</th>\n",
       "      <td>A last event that made me happy very recently was getting to see friends in April that I hadn't seen very much throughout the semester.</td>\n",
       "      <td>0</td>\n",
       "    </tr>\n",
       "    <tr>\n",
       "      <th>99856</th>\n",
       "      <td>Spending time with my friends over the weekend made me happy the past month.</td>\n",
       "      <td>0</td>\n",
       "    </tr>\n",
       "    <tr>\n",
       "      <th>99865</th>\n",
       "      <td>An event that made me happy was when a friend showed up unexpectedly and treated me to a meal.</td>\n",
       "      <td>0</td>\n",
       "    </tr>\n",
       "  </tbody>\n",
       "</table>\n",
       "<p>5327 rows × 2 columns</p>\n",
       "</div>"
      ],
      "text/plain": [
       "                                                                                                                                                                                                                                                                       text  \\\n",
       "55     I got a random phone call from a close friend of mine and we scheduled a day to hangout.                                                                                                                                                                               \n",
       "67     I got to spend the day with my niece that i havent seen in a few months.                                                                                                                                                                                               \n",
       "81     Got to talk with a friend of mine on the phone for at least 20 minutes to catch up.                                                                                                                                                                                    \n",
       "88     I got to play for a few hours online with some of my friends.                                                                                                                                                                                                          \n",
       "104    When my friend meet me today with expensive gift for me                                                                                                                                                                                                                \n",
       "...                                                        ...                                                                                                                                                                                                                \n",
       "99797  One of the event which made me happy in the past 3 months was that, I have proposed my best friend, and she accepted my proposal, I can't express my happiness which I had felt that day. I never thought she would accept my proposal. Thanking God for giving her.   \n",
       "99812  Recently, I ran my first ever Half Marathon with my best friend.                                                                                                                                                                                                       \n",
       "99838  A last event that made me happy very recently was getting to see friends in April that I hadn't seen very much throughout the semester.                                                                                                                                \n",
       "99856  Spending time with my friends over the weekend made me happy the past month.                                                                                                                                                                                           \n",
       "99865  An event that made me happy was when a friend showed up unexpectedly and treated me to a meal.                                                                                                                                                                         \n",
       "\n",
       "       topic  \n",
       "55     0      \n",
       "67     0      \n",
       "81     0      \n",
       "88     0      \n",
       "104    0      \n",
       "...   ..      \n",
       "99797  0      \n",
       "99812  0      \n",
       "99838  0      \n",
       "99856  0      \n",
       "99865  0      \n",
       "\n",
       "[5327 rows x 2 columns]"
      ]
     },
     "execution_count": 17,
     "metadata": {},
     "output_type": "execute_result"
    }
   ],
   "source": [
    "# Exploring accuracy of labeling for topic 0.\n",
    "df[df['topic'] == 0][['text', 'topic']]"
   ]
  },
  {
   "cell_type": "code",
   "execution_count": 21,
   "metadata": {
    "ExecuteTime": {
     "end_time": "2021-02-24T19:38:53.627910Z",
     "start_time": "2021-02-24T19:38:53.613677Z"
    }
   },
   "outputs": [],
   "source": [
    "def analyze_topics(topic_number, topic_name):\n",
    "    \"\"\" \n",
    "    Topic number: integer such as 0,1,2...\n",
    "    Topic name: string such as Topic_0, Topic_1, ...\n",
    "    Output the 10 strongest-related and 10 weakest-related\n",
    "    texts associated with the topic.\n",
    "    \"\"\"\n",
    "    print(topic_name)\n",
    "    \n",
    "    # Find the top 10 of those topics\n",
    "    top_10 = list(test_df_document_topic[test_df_document_topic['dominant_topic'] == topic_number].sort_values(by = topic_name, ascending=False).head(10).index)\n",
    "    \n",
    "    # Remove the 'Doc_' part of each string\n",
    "    top_10 = [i[4:] for i in top_10]\n",
    "\n",
    "    # Print the top 10 topic sentences\n",
    "    print(\"Top 10: \")\n",
    "    for item in top_10:\n",
    "        print(df.iloc[int(item)]['text'])\n",
    "    print(' ')\n",
    "    \n",
    "    # Find the last 10 of those topics\n",
    "    last_10 = list(test_df_document_topic[test_df_document_topic['dominant_topic'] == topic_number].sort_values(by = topic_name, ascending=False).tail(10).index)\n",
    "\n",
    "    # Remove the 'Doc_' part of each string\n",
    "    last_10 = [i[4:] for i in last_10]\n",
    "    \n",
    "    # Print the top 10 topic sentences\n",
    "    print(\"Last 10: \")\n",
    "    for item in last_10:\n",
    "        print(df.iloc[int(item)]['text'])\n",
    "    print(' ')\n"
   ]
  },
  {
   "cell_type": "code",
   "execution_count": 27,
   "metadata": {
    "ExecuteTime": {
     "end_time": "2021-02-24T21:42:32.747075Z",
     "start_time": "2021-02-24T21:42:32.390447Z"
    }
   },
   "outputs": [
    {
     "name": "stdout",
     "output_type": "stream",
     "text": [
      "Topic_0\n",
      "Top 10: \n",
      "I had friends over.\n",
      "I got to see one of my friends.\n",
      "I spent time with a good friend.\n",
      "I got a call from a friend. It made my day.\n",
      "I SPEND MOST OF TIMES WITH MY FRIEND\n",
      "I was able to spend some time with friends\n",
      "I spent time with a friend\n",
      "I got to spend the day with my friend \n",
      "Had a good friend over.\n",
      "SPENDING DAY WITH FRIENDS\n",
      " \n",
      "Last 10: \n",
      "Life is full of good and bad moments. Each day in itself brings various moments in life. Every day we go through mixed feelings. Sometimes, only we have experienced a pure jovial moment or a pure sad moment. Everyone also has the special moment in life. It is just a day when someones dreams are bad. One day while I was walking on the road, I saw a poor woman who is feeding other poor boy. I was very much happy with that woman.\n",
      "I got a phone call today scheduling surgery that I greatly need.\n",
      "Recently I published a Research article In Scopus. As that was my first achievement, I felt very happy and it made me realize how the research has to be done. I as a student gained much knowledge by publishing the research journal.\n",
      "A happy campus is an interesting place for study. Students can both study and practice. A happy campus has a lot of good facilities and people. There are also many places for recreation. There are a lot of good facilities in a happy campus. It has an excellent library with many kinds of books and modern technology. ATM machines are on every corner of a happy campus. In addition, ppppppublic transportation is convenient and cheap. Students in a happy campus study together friendly and studiously. Although they may come from different places, they help each other in studying as well as in their life, and share ideas. They can play sports and take part in activities together after class. They practice much more than studying in theory. A happy city also has many places for recreation. There are green park, large stadium,A and fitness center for studying and relaxing. Many clubs are opened on weekend, such as English club, cooking club, dancing club etc. Moreover, there are many places for students to visit, such as galleries, museum, cultural activities.\n",
      "I was able to drive without any pain for the first time since my shoulder surgery.\n",
      "I was able to drive for the first time since my surgery today.\n",
      "I was able to put on a shirt that wasn't modified to fit around or over my shoulder brace for the first time since my surgery.\n",
      "Several coworkers surprised me with well-wishes for my upcoming surgery.\n",
      "My mom had much-needed surgery and is doing very well in physical therapy.\n",
      "My cap and gown for graduation arrived in the mail.\n",
      " \n",
      "Topic_1\n",
      "Top 10: \n",
      "I was happy that it was a nice day after work\n",
      "HAPPY TO IN WORK \n",
      "I had a great day at work.\n",
      "What made me happy is that I have off today from work.\n",
      "I had 2 weeks off from work.\n",
      "I got a lot of work done today.\n",
      "I got some very good alone time at work.\n",
      "I got off work.\n",
      "Today is my week off from my work that feels happy to me yesterday.\n",
      "I had a good day at work.\n",
      " \n",
      "Last 10: \n",
      "The book I ordered last week arrived early.\n",
      "I got a 3.50 bonus today from a HIT I did\n",
      "I reached my weekly money goal 3 days early\n",
      "I'm able to make good money today while working.\n",
      "I completed a major website that I was working on and got some very good reviews on the same. \n",
      "yesterday I received my incentive payment for a study I did 5 weeks ago. \n",
      "I got a large bonus on top of my group project.\n",
      "I received a bonus on one of my credit card sign-ups, which will allow me to travel more places for free.\n",
      "When I reached my monthly Mturk goal about a week early.\n",
      "An event that made me happy when I finally finished the paper that I had been working on for 3 weeks.\n",
      " \n",
      "Topic_2\n",
      "Top 10: \n",
      "I went to a con.\n",
      "I went on a date that went really well.\n",
      "I went out on a date and it went very well.\n",
      "I went on a date and it went very well.\n",
      "I WENT TO SHOPPING\n",
      "I WENT TO SHOPPING\n",
      "I WENT THE SHOPPING\n",
      "I WENT TO SHOPPING\n",
      "I WENT TO SHOPPING.\n",
      "I WENT TO SHOPPING\n",
      " \n",
      "Last 10: \n",
      "Yesterday afternoon i went to swimming pool. Because here climate is very hot. I was spent more than two hours. I enjoyed with my swimming and enjoyed lot in water. Its makes me very relaxed and happy. My mental pressures has been gone away. Finally i finished swimming and ready to go to home. Swimming pool management is offered me 50% they collected me half charges for swimming. I was excited. I asked them why 50% offer. What happened? They said sir you're very decent. You didn't waste water and your swimming is perfect. We like you so much. That's why 50% offer. Please come again and again to our swimming pool. Thank you sir. Really i was very happy and i love to go again and again. Thank you. \n",
      "The surprise started with a card from the post office put through my letter box.  The card said that they had tried to deliver a parcel to me, but because I was out when they called they hadnat been able to leave it, so Iad have to go and pick it up from the parcel depot.  I was intrigued.  I hadnat ordered anything online, it wasnat my birthday, and I wasnat expecting anything exciting in the post at all.  I had no idea what it could possibly be.  The next morning I went to the post office with some ID to prove who I was, and collected the parcel.  It was a box, about the size of a shoe box, wrapped in a dark grey plastic packaging, with the name of the company ablurta on it.  I was none the wiser, I didnt recognise the company and couldnat tell who it was from by the wrapping. \r\n",
      "\r\n",
      "I waited until I got home, and then I opened it.  The parcel contained a brown cardboard box which said 'Buddy Boxa on the outside.  Inside, was a collection of rather random, but very charming gift items.  They included a pair of socks made from bamboo; some rather strongly scented soap (I wasnat too sure about that!); a little blank pad of writing paper with a cover decorated with cactus plants, a asew your owna cactus kit (that was very bizarre) and an ultra-thin pen for sliding inside a diary or notebook!  There was still no card to say who it was from, but just an anonymous typed note saying aI saw this and thought of you!a  It was a completely unexpected gift, sent by someone, somewhere to cheer me up.  Iad had a rather bad time recently following a bereavement and losing my job as well, so Iad been quite down, knowing that someone was thinking about me was really touching, and as well as being a surprise, made me very happy.  The parcel came just a month ago, so it is a very recent surprise, but a lovely one. \n",
      "i go to shopping  at the time i say blind person and i helped the cross the road.\n",
      "Shopping at Walmart last month for a few things in order to relieve stress.\n",
      "Yesterday morning i went to market to purchase the vegetables and milk. I forget my wallet at home. I have completed the shopping and ready to give the money shop owner, insert the pant pocket to take the wallet. Nothing in my pocket. I was shocked and thinking about when came out from home with wallet. How can i miss my wallet. Yes my wallet was in another pant. I was wear some another pant. Okay leave it. I told to shop owner sorry sir please cancel my orders i don't have money. i was forget to comes with my wallet, sorry sir. That shop owner told, no problem sir please take it don't cancel the order. Bring the money tomorrow. I hope you so much you never cheat me. Because i know about you. Every weekend i saw you at church, you helping lot of peoples and caring lot. So i know about you very well. I was really excited and very happy!!!. I thanked to that shop owner and afternoon i gave money to that shop owner for my purchase. Very good peoples. God is great. Thank you god!!!!!. Thank you.\n",
      "i go to temple and i say the poor man ,he is very hungary  and i help for him i am very happy \n",
      "I did grocery shopping and was in awe with the fresh vegetables that are now in season.\n",
      "I had a good workout at the gym.\n",
      "I went to San Francisco and saw Alcatraz. I was so excited to see everything and it was just beautiful to see the island as the ferry pulled up. Walking around the different areas and reading about the history really excited me and made me feel happy. There was a lot of wildlife on the island as well and lots of vegetation to look at on the island. The fresh air and beautiful views of San Francisco made me happy.\n",
      "I get a new plot of land. I was given a plot of land by a village head started building a private nursery School on the land , then after two months someone appears saying that the land is belong to the former head of state and they went and knock down my building then after three I regain the land back again which make me very happy because the head of state was kick out of the country and the land is now mine \n",
      " \n",
      "Topic_3\n",
      "Top 10: \n",
      "I bought myself a new PS4.\n",
      "I was so happy when I bought new which.\n",
      "I got a New 3DS.\n",
      "I bought a new car.\n",
      "When I bought a new car.\n",
      "I bought a new car.\n",
      "I bought my first new car.\n",
      "I BOUGHT A NEW CAR FOR ME.\n",
      "I bought a new car today.\n",
      "I bought a new car\n",
      " \n",
      "Last 10: \n",
      "The store also had expensive cough drops on sale of which I purchased two bags.\n",
      "It made me feel happy, to be able to fix the radiator of my car, had several bad days and I was able to solve it, after taking it to the mechanic.\n",
      "It made me feel happy, able to repair my car, I had a problem with the radiator, after a few hours removing it and having it repaired, I finally got it and it was very good.\n",
      "My check engine light in my car wet off suddenly, thus enabling to get my annual inspection sticker without a large auto repair expense.\n",
      "We made breakfast cookies that were healthy and pretty tasty, then bought ingredients to make them again with less-healthy butterscotch chips.\n",
      "I was happy the day I sold my house.\n",
      "I was able to find some cheap shoes online that would look good on me\n",
      "I bought a ready-made shirt in an offer in online and it was slightly bigger for me. The next day when I returned, they stitched that exactly to my correct size and sent without extra charge and I was happy.\n",
      "I was in town and my meter ran out of time.  Someone fed my meter and I didn't get a parking ticket.  I know this because a shop keeper who witnessed the event told me about it when I returned to my car a short time later. I now am going to pay it forward in some way.\n",
      "repaired a broken remote controlled toy car by myself\n",
      " \n",
      "Topic_4\n",
      "Top 10: \n",
      "I made a great dinner\n",
      "I had a nice dinner out.\n",
      "I had a really good dinner.\n",
      "I made a nice dinner.\n",
      "I made dinner. \n",
      "Made a nice dinner.\n",
      "I made a nice dinner.\n",
      "I made a really good dinner.\n",
      "I had a very good dinner\n",
      "I made myself a good dinner.\n",
      " \n",
      "Last 10: \n",
      "My chili that I cooked turned out tasting delicious; not too spicy and not too bland.\n",
      "Having brunch with my parents\n",
      "I cooked with my little brother\n",
      "I had delicious egg rolls.\n",
      "At evening, I cooked some hamburgers on the grill. \n",
      "One of my homemade wines turned out pretty good and delicious! I've been fermenting and making it for the last two months.\n",
      "I had a delicious iced coffee in the hot weather.\n",
      "I tried authentic barbacoa tacos and they were delicious.\n",
      "Having homemade pizza.\n",
      "My roommate cooked curry with rice for me!\n",
      " \n",
      "Topic_5\n",
      "Top 10: \n",
      "My sister came home after a year..\n",
      "My friend came to my home.\n",
      "I got to go home yesterday after 6 weeks.\n",
      "I made it home on time today.\n",
      "My friends came over at home\n",
      "My sister came my home.\n",
      "My sister came to my home.\n",
      "When I came back home from college after almost a year.\n",
      "My Mother came to my home . \n",
      "I felt very happy when I got home to an empty house with no one home.\n",
      " \n",
      "Last 10: \n",
      "This is the season of lent and we got an opportunity to help the needy people. By Jesus mercy we were enable to give some needy and useful things to a near by home run for the handicapped and mentally retarded girl children and we thank our lord for giving us this wonder chance and this is also one my happiest moment.\n",
      "Our neighbor due to some misunderstanding because of our house keeping maid was not in good relationship with us for the past days and one day my neighbor through the maid itself came to know the total mistake was due to the maid and my neighbor immediately gave me a hug and said sorry for her behavior and till this moment we were in good relationship and this incident made me very very happy.\n",
      "Yesterday I had a visit with my doctor and she confirmed I no longer need to go to therapy, as I am currently in good health.\n",
      "MY BROTHER BIRTH DAY\n",
      "MY SISTER'S MARRIAGE FUNCTION\n",
      "MY SISTER MARRIAGE FUNCTION \n",
      "Seeing my brother for the first time in a few months\n",
      "I spoke to my sister whom I haven't spoken to in a few days.\n",
      "I am happy that it's the weekend because I can finally relax.\n",
      "My mom call me and told me she is fine and moving in my sister house because she was sick and living alone.\n",
      " \n",
      "Topic_6\n",
      "Top 10: \n",
      "I played video games.\n",
      "I played video games.\n",
      "I played a really good video game. \n",
      "I played some video games.\n",
      "I played video games.\n",
      "I played video games today.\n",
      "I played a video game for the first time in at least a month.\n",
      "I played video games.\n",
      "I played video games.\n",
      "I played a video game.\n",
      " \n",
      "Last 10: \n",
      "I have win a fridge that's why I very happy , I'm very happy it's my first prize that I have won in my life.\n",
      "One event that made me happy last month was that I won a local tennis tournament. I had been practicing for several weeks, but didn't know how I would do. So, it was very fun and also received a small trophy.\n",
      "I was happy Saturday when I won first place for a professional competition.\n",
      "My child won in a coloring contest and it made me happy\n",
      "I found some a composer whose music I like and was able to download his sheet music for free and begin to learn to play. \n",
      "I finally won mario kart.\n",
      "My hometown baseball team beat a rival team with a good pitcher that beat us in the World Series.\n",
      "My little girl won in a drawing competition and it made me happy\n",
      "I won a match of Call of Duty with a high kill to death ratio.\n",
      "I saw several baby bunnies playing the grass, chasing one another and jumping in the air. they were really cute! \n",
      " \n",
      "Topic_7\n",
      "Top 10: \n",
      "I Got a job, I like it very much\n",
      "I GOT A JOB I LIKE IT VERY MUCH\n",
      "I was able to find a job.\n",
      "I got a job!\n",
      "when i got a job\n",
      " Before   one month   when i got my job ,i have lot of happy , because   this is first job in my life  so i feel very happy.....\n",
      "I got a great job\n",
      "when i got a job\n",
      "when i got a job\n",
      "I got a job.\n",
      " \n",
      "Last 10: \n",
      "I received a hand-written letter from my 10 year old grandson that was so sweet.\n",
      "I got a phone call from one of my grandsons telling me that he was chosen to interview for a prestigious internship at Harvard University. I am still smiling\n",
      "Made plans to meet with a business owner for an interview and tour tomorrow.\n",
      "When I received my test score back and got an A grade. \n",
      "i heard that that i will be getting foreign opportunity in my office.\n",
      "Getting an unconditional offer from my primary university choice.\n",
      "Getting to talk to the love of my life.\n",
      "Getting away from people I dislike.\n",
      "I got accepted the money I asked for.\n",
      "I got accepted for the credit card I've wanted for a long time\n",
      " \n",
      "Topic_8\n",
      "Top 10: \n",
      "Watched a nice movie\n",
      "Watched a great movie \n",
      "I watched a movie.\n",
      "I watched a good movie.\n",
      "I watched a good movie.\n",
      "I watched a really good movie\n",
      "I watched a good movie. \n",
      "We watched this movie on first day and first show.\n",
      "I watched a good movie. \n",
      "I watched a good movie.\n",
      " \n",
      "Last 10: \n",
      "I am watching the Blacklist\n",
      "I am watching Survivor on Tv\n",
      "I watched some really good episodes of The believers voice of victory with George Pearsons and Gloria Copeland, they talked about promotion.\n",
      "We watched VR drones and old-fashioned remote control airplanes at the Mini Maker Faire. \n",
      "i saw my favourite dress . it is my memorable one.\n",
      "On Mother's Day I watched Derek Jeter gets his number retired by the Yankees. I'm a lifelong Yankees fan and a huge fan of Jeter.\n",
      "I brought a $15 big tv for my room.\n",
      "I saw the film \"Zootopia.\"\n",
      "Watches a comedy skit\n",
      "I caught up on some shows that I have been not motivated to watch.\n",
      " \n",
      "Topic_9\n",
      "Top 10: \n",
      "MY BIRTHDAY MAY 23\n",
      "It was my 21st birthday.\n",
      "today my birthday\n",
      "Today is my Birthday\n",
      "Today is my Birthday\n",
      "I had a birthday.\n",
      "It was my 25th birthday!\n",
      "It was my birthday!\n",
      "Its my birthday today!!!\n",
      "I had my birthday\n",
      " \n",
      "Last 10: \n",
      "WE CELEBRATE OUR WEDDING DAY FUNCTION ON LAST MONTH.\n",
      "Someone sending me a present.\n",
      "Last week, I found the perfect gift for my mom for Mother's Day: a collection of Claude Monet's paintings.\n",
      "A few days ago, I found the perfect gift for mom for Mother's Day -- a complete biography and compendium of Claude Monet's paintings. She is a big fan of Impressionism.\n",
      "A surprise episode of Rick and Morty appeared and surprised me.\n",
      "I was happy when I found the dress that I want to wear to be in my brother's wedding. \n",
      "I hung out with my mother on Mother's Day.\n",
      "Taking my Dad's boat out fishing in the Puget Sound with my Dad and my Brother-in-law.\n",
      "Help my mom clean up the yard. \n",
      "I got three roses on mother's day. \n",
      " \n",
      "Topic_10\n",
      "Top 10: \n",
      "Spent time with my family and was happy\n",
      "I spent time with my family  \n",
      "I was able to spend time with my family. \n",
      "I got together with family.\n",
      "I got to spend time with my family \n",
      "I spent the day with my family. \n",
      "I got to see some family and spend time with them\n",
      "I spent time with family\n",
      "I was happy to spend time with my family today.\n",
      "it made me happy when i get to spend time with my family\n",
      " \n",
      "Last 10: \n",
      "ONE LONG TRIP PLANNED WITH MY LOVER\n",
      "I traveled to Mexico for vacation.\n",
      "At an event over the weekend, two different people expressed how much better and more fun gatherings are when I attend.\n",
      "I was able to take a few minutes to make the garden look nice for this upcoming weekend\n",
      "I enjoyed a three day weekend this weekend that wasn't too busy. Friday I got a lot of time to myself so I was pretty productive.\n",
      "These \"happy\" hits make me happy!  I enjoy reflecting on the things in my life that make me happy.\n",
      "Manager approved the vacation I wanted after a week worth of saying to delay the plan. \n",
      "going for a swim in the pool \n",
      "i am going to be father in next 9 months is the happiest news that i have heard in past 24 hours \n",
      "Happiness in its broad sense is the label for a family of pleasant emotional states, such as joy, amusement, satisfaction, gratification, euphoria, and triumph.[11] For example, happiness comes from \"encountering unexpected positive events\",[12] \"seeing a significant other\",[13] and \"basking in the acceptance and praise of others\".[14] More narrowly, it refers to experiential and evaluative well-being. Experiential well-being, or \"objective happiness\", is happiness measured in the moment via questions such as \"How good or bad is your experience now?\". In contrast, evaluative well-being asks questions such as \"How good was your vacation?\" and measures one's subjective thoughts and feelings about happiness in the past. Experiential well-being is less prone to errors in reconstructive memory, but the majority of literature on happiness refers to evaluative well-being. The two measures of happiness can be related by heuristics such as the peak-end rule.\n",
      " \n",
      "Topic_11\n",
      "Top 10: \n",
      "I took the dog to the dog park!\n",
      "Spending time with my dog\n",
      "being happy with my dog\n",
      "Being able to see my dog for the first time in months.\n",
      "I took my dogs to the dog park.\n",
      "I took my dogs to the dog park.\n",
      "I took my dogs to the dog park.\n",
      "Spending time with my dogs.\n",
      "My dogs made me happy\n",
      "being with my dog\n",
      " \n",
      "Last 10: \n",
      "The weather was a nice 80 degrees today, down from 98 degrees yesterday.\n",
      "About an hour ago I submitted a HIT worth $2.25 and I love high paying HITS so that made me extremely happy because the HIT only took me 3 minutes.  That's a great payout!\n",
      "This morning I fed my rabbits and I could see the joy in their little faces when they saw I had cilantro.  They absolutely love cilantro and it made me happy to see my rabbits get so excited.\n",
      "Two days ago I ran 5.26 miles. This made me really happy. This may not sound like a big achievement, but in December, I tore my hip flexor muscle. I did not pull it, I tore it. I could barely walk. I had no idea it would take 5 months to heal. I FINALLY feel like I can get back in my groove of running and that makes me truly happy.\n",
      "My cat sat on my lap for a little while and let me pet and hug him.\n",
      "It got warmer outside and melted some of the snow. \n",
      "I finally got a chance to get some sun.\n",
      "I was happy to wake up and see my sweet poodle's nose beside my bed. She wanted to go outside.  She's very sweet, and comical, so she made me laugh. It was a great way to start the morning.\n",
      "the weather was raining, i like the rain \n",
      "Walked around my neighborhood for a hour.\n",
      " \n",
      "Topic_12\n",
      "Top 10: \n",
      "I had a really good night's sleep last night. \n",
      "I had a good night's sleep last night.\n",
      "I was very happy to get a good night's sleep last night.\n",
      "I got a great night's sleep last night.\n",
      "I had a great night's sleep last night.\n",
      "I got a good night's sleep last night.\n",
      "I got a good nights sleep last night\n",
      "I got a full night of sleep last night.\n",
      "I was able to get a good night's sleep last night!\n",
      "For the first time all week, I got a great night sleep last night --- almost six hours!\n",
      " \n",
      "Last 10: \n",
      "After so many times today I go to Parlor and have a facial for about one hour. After that my face is glowing, cheeks become soft and that *sparkling* feeling I get after taking off a facial mask makes me happy.\n",
      "I danced for and hour and made me feel alive. \n",
      "I was approved for Amazon Mechanical Turk after a grueling 48 hour (felt like more though) waiting period.\n",
      "I read a book at morning which was inspiring it boost my self confidence and happiness...I made me happy.\n",
      "I exercised in the morning and I had very nice sleep...this thing kept me happy whole day.\n",
      "It was not unbearably hot today and I was allowed to enjoy the duration of the past 24 hours without sweating and feeling fatigued as a result of heat. \n",
      "I drove about 2 miles in rush hour traffic and didn't hit one light or stop at all.\n",
      "When I was hungry for a snack this morning, I opened the fridge and realized that my sister had made me a green smoothie\n",
      "Got to relax in bed to my heart's content, without being interrupted or needed to do something.\n",
      "I was lying in bed listening to the sounds of the city around me on a warmer day.\n",
      " \n",
      "Topic_13\n",
      "Top 10: \n",
      "The day when i see my wife after one month.\n",
      "The day with my wife\n",
      "I made out with my wife.\n",
      "The day with my wife\n"
     ]
    },
    {
     "name": "stdout",
     "output_type": "stream",
     "text": [
      "The day with my wife\n",
      "The day with my wife\n",
      "My wife was happy with me.\n",
      "The day with my wife\n",
      "The day with my wife\n",
      "The day with my wife\n",
      " \n",
      "Last 10: \n",
      "I never knew how much I would love soa\n",
      "Seeing a 3D ultrasound of my baby at 37 weeks made me happy. \n",
      "Well , finding out that we were excepting another baby  boy , brought happy tears in our eye \n",
      "The day I found out that I was pregnant with twins.\n",
      "I got pregnant! \n",
      "I could have a little for my baby girl\n",
      "My niece gave birth to a beautiful baby boy. She had been trying for years and also had a few miscarriages. I'm so happy for her.\n",
      "I had sex last week with a girl I have been dating \n",
      "I found out about this cinnamon coffee that I really love.\n",
      "I was reminded of a song that I love by Snow Patrol. I forgot about that song and I'm happy I remember it now.\n",
      " \n",
      "Topic_14\n",
      "Top 10: \n",
      "I ate lunch at my favorite restaurant\n",
      "I got to have my favorite lunch\n",
      "I ate my favorite food from my favorite restaurant.\n",
      "I was able to go to my favorite restaurant for lunch.\n",
      "I ate my favorite pizza for lunch. \n",
      "I ate my favorite lunch with my favorite drink.\n",
      "I had lunch at my favorite restaurant.\n",
      "I just had lunch at one of my favorite restaurants.\n",
      "I ate one of my favorite meals for lunch.\n",
      "I went to my favorite restaurant for lunch.\n",
      " \n",
      "Last 10: \n",
      "I received a discount on a bacon, egg and cheese bagel for breakfast.\n",
      "I had a good sweet tea for breakfast. \n",
      "I delivered meals on wheels to shut - ins. \n",
      "I made the perfect, fluffiest eggs for breakfast.\n",
      "I am cancer free! I found out yesterday\n",
      "I eat the last of the fancy caramel popcorn. That stuff is awesome!\n",
      "I was able to eat fresh mochi for the 1st time ever.\n",
      "I found a great sushi place that I can you back to that is reasonable .\n",
      "I was able to relax and eat some icecream. \n",
      "my breakfast at ihop, I got extra bacon for free\n",
      " \n",
      "Topic_15\n",
      "Top 10: \n",
      "The day with my daughter\n",
      "Spending time with my daughter.\n",
      "The day with my daughter\n",
      "The day with my daughter\n",
      "The day with my daughter\n",
      "I got to spend time with my daughter for the first time in over a year.\n",
      "I spent the day with my daughter\n",
      "The day with my daughter\n",
      "Spending the day with my daughter.\n",
      "I spent time with my daughter.\n",
      " \n",
      "Last 10: \n",
      "My 6 month old learned to roll and crawl around on the floor. \n",
      "I have a granddaughter which is 3.5 year old. She usually amuse me with her innocent talks. I feel very happy when she speaks.\n",
      "I was finally able to sell some old golf clubs I've been toting around from North Carolina to Arizona and trying to unload them the whole way!\n",
      "I connected with my coworker - a former teacher of mine who grew up with my older brother - over the school I used to attend that he taught at.\n",
      "I was able to shred and get rid of 3 bags of old documents and bills which allowed me to make headway cleaning my office. \n",
      "My newborn got pink eye and her five year old brother, when told he could not touch her and she was not feeling well, danced for her in front of her bouncy chair, which made her coo with glee when she had been miserable and keeping me up for days.\n",
      "I found an old photo album with pics of my grandmother. My grandmother passed away years ago, so it was nice to see pictures of her smiling face again.\n",
      "Someone posted my brother's middle school yearbook online and I was able to see pictures of him there.\n",
      "I joined school and will be pursuing a degree in early childhood education. \n",
      "My mother called out of the blue to tell me how proud she is of me.\n",
      " \n",
      "Topic_16\n",
      "Top 10: \n",
      "Spending time with my son\n",
      "Spending time with my son.\n",
      "I had a great time spending time with my son.\n",
      "when i had son\n",
      "Spending the day with my son\n",
      "I spent the week with my son.\n",
      "I got to spend time with my son!\n",
      "I was happy to spend time with my son. \n",
      "My friend had his first son.\n",
      "My sons 3rd birthday party made me happy because it made my son happy.\n",
      " \n",
      "Last 10: \n",
      "I was happy when I got a call from my favourite institution to give a guest lecture. I was given warm welcome by the students. i felt as if i was in the heaven. I gave a lecture on importance of communication skills as the students are from rural areas and lack basic etiquette. Many speak vernacular language. I started my speech \"Talking in English is  easier than proposing a girl\" which the students enjoyed and  room was filled with the sound of applause. Gave them confidence about talking in English language and advised them to talk in English whenever they get an opportunity.\n",
      "I was able to finish my PowerPoint for a big presentation I have in a couple days.\n",
      "Laughing so hard when telling a story I can barely make it to the end.When Iave finished a really good book and I just put it down on my lap and stare into space for a couple minutes because I need to collect myself and return to reality.\n",
      "I gave money to a homeless person.\n",
      "These HITs make me happy.\n",
      "I got a $3.70 HIT yesterday.\n",
      "I earned the highest score in a large class at my university on a recent calculus test \n",
      "I hug and kissed my kids goodbye at day care before I left.\n",
      "Laughing so hard when telling a story I can barely make it to the end. When I`ve finished a really good book and I just put it down on my lap and stare in to space for a couple minutes because I need to collect my self and return to reality.\n",
      "i was attending my children school function.he was the first rank holder in his class.he got a prize for that in a stage by the chief guest.i also invited to the stage to get it.that was a happiest moment in my life\n",
      " \n",
      "Topic_17\n",
      "Top 10: \n",
      "When i got back with my girlfriend\n",
      "Spending time with my girlfriend.\n",
      "i was happy to be able to spend time with my girlfriend.\n",
      "I got to see my girlfriend today.\n",
      "I was able to spend the whole day with my girlfriend\n",
      "i got a girlfriend\n",
      "I made up with my girlfriend.\n",
      "My girlfriend and I spent the day out and about.\n",
      "I found a new girlfriend.\n",
      "I got a new girlfriend. \n",
      " \n",
      "Last 10: \n",
      "An event that has made me happy in the past 3 months would be my recent engagement to my partner.\n",
      "When I met an amazing person, whom I thought I would spend the rest of my life with.\n",
      "I met my newborn nephew\n",
      "I have plans to go out with a cute guy I'm seeing.\n",
      "I got engaged to the person I've been in relationship with, for the past 9 years, with full support of my parents.\n",
      "I made smoked salmon sushi for my date.\n",
      "The third event that made me happy in the past three months, was finding out instead of having 12 weeks off for maternity leave that I actually will get 16 weeks off.\n",
      "An event that made me happy in the past 3 months was when I finally broke up with a person I had been dating in a situation where I had felt trapped. \n",
      "The day I met my niece. Because that is one of the most awaited moment in my life\n",
      "My professor just pushed the due date of one of our assignment back by a week.\n",
      " \n",
      "Topic_18\n",
      "Top 10: \n",
      "Another happy moment yesterday was when I spend the day with my husband.\n",
      "I got to spend time with my husband.\n",
      "being with my husband\n",
      "My husband made me happy\n",
      "Spending time with my husband \n",
      "I spent some time with my husband.\n",
      "more than time spent to my husband\n",
      "I was able to spend the whole day with my husband.\n",
      "THE TIME SPEND WITH MY HUSBAND\n",
      "I spent the day with my husband \n",
      " \n",
      "Last 10: \n",
      "I was happy my child cleaned his room, on his own, without being asked.\n",
      "I was teaching my kids how to pop the seeds on a flower while we were spending time together out in the yard. It was a beautiful day and lots of fun. \n",
      "My kids made me homemade cards.\n",
      "I had some good coffee.\n",
      "I had a tickle fight with my kids.\n",
      "I got a good coffee from Starbucks.\n",
      "Managed to make over $10 today on mturk and while thats not much money its more than I normally make tinkering around in the afternoon. \n",
      "In April, I got my parents flowers for their anniversary and it made them really happy.\n",
      "MY THREE MONTH ANNIVERSARY MAY 24\n",
      "I planted many veggies today and a few flowers this afternoon. \n",
      " \n"
     ]
    }
   ],
   "source": [
    "# Topic 0\n",
    "analyze_topics(0, 'Topic_0')\n",
    "\n",
    "# Topic 1\n",
    "analyze_topics(1, 'Topic_1')\n",
    "\n",
    "# Topic 2\n",
    "analyze_topics(2, 'Topic_2')\n",
    "\n",
    "# Topic 3\n",
    "analyze_topics(3, 'Topic_3')\n",
    "\n",
    "# Topic 4\n",
    "analyze_topics(4, 'Topic_4')\n",
    "\n",
    "# Topic 5\n",
    "analyze_topics(5, 'Topic_5')\n",
    "\n",
    "# Topic 6\n",
    "analyze_topics(6, 'Topic_6')\n",
    "\n",
    "# Topic 7\n",
    "analyze_topics(7, 'Topic_7')\n",
    "\n",
    "# Topic 8\n",
    "analyze_topics(8, 'Topic_8')\n",
    "\n",
    "# Topic 9\n",
    "analyze_topics(9, 'Topic_9')\n",
    "\n",
    "# Topic 10\n",
    "analyze_topics(10, 'Topic_10')\n",
    "\n",
    "# Topic 11\n",
    "analyze_topics(11, 'Topic_11')\n",
    "\n",
    "# Topic 12\n",
    "analyze_topics(12, 'Topic_12')\n",
    "\n",
    "# Topic 13\n",
    "analyze_topics(13, 'Topic_13')\n",
    "\n",
    "# Topic 14\n",
    "analyze_topics(14, 'Topic_14')\n",
    "\n",
    "# Topic 15\n",
    "analyze_topics(15, 'Topic_15')\n",
    "\n",
    "# Topic 16\n",
    "analyze_topics(16, 'Topic_16')\n",
    "\n",
    "# Topic 17\n",
    "analyze_topics(17, 'Topic_17')\n",
    "\n",
    "# Topic 18\n",
    "analyze_topics(18, 'Topic_18')"
   ]
  },
  {
   "cell_type": "markdown",
   "metadata": {},
   "source": [
    "# Exploring why some are categorized incorrectly"
   ]
  },
  {
   "cell_type": "code",
   "execution_count": 23,
   "metadata": {
    "ExecuteTime": {
     "end_time": "2021-02-24T19:48:49.205045Z",
     "start_time": "2021-02-24T19:48:49.158645Z"
    },
    "scrolled": true
   },
   "outputs": [
    {
     "data": {
      "text/html": [
       "<div>\n",
       "<style scoped>\n",
       "    .dataframe tbody tr th:only-of-type {\n",
       "        vertical-align: middle;\n",
       "    }\n",
       "\n",
       "    .dataframe tbody tr th {\n",
       "        vertical-align: top;\n",
       "    }\n",
       "\n",
       "    .dataframe thead th {\n",
       "        text-align: right;\n",
       "    }\n",
       "</style>\n",
       "<table border=\"1\" class=\"dataframe\">\n",
       "  <thead>\n",
       "    <tr style=\"text-align: right;\">\n",
       "      <th></th>\n",
       "      <th>Unnamed: 0</th>\n",
       "      <th>Unnamed: 0.1</th>\n",
       "      <th>Unnamed: 0.1.1</th>\n",
       "      <th>wid</th>\n",
       "      <th>age</th>\n",
       "      <th>country</th>\n",
       "      <th>gender</th>\n",
       "      <th>marital</th>\n",
       "      <th>parenthood</th>\n",
       "      <th>reflection_period</th>\n",
       "      <th>...</th>\n",
       "      <th>verbs</th>\n",
       "      <th>nouns</th>\n",
       "      <th>proto_agent</th>\n",
       "      <th>passive_agent</th>\n",
       "      <th>root_verb</th>\n",
       "      <th>direct_object</th>\n",
       "      <th>parenthood_cat</th>\n",
       "      <th>gender_cat</th>\n",
       "      <th>marital_cat</th>\n",
       "      <th>topic</th>\n",
       "    </tr>\n",
       "  </thead>\n",
       "  <tbody>\n",
       "    <tr>\n",
       "      <th>38346</th>\n",
       "      <td>38346</td>\n",
       "      <td>38514</td>\n",
       "      <td>38515</td>\n",
       "      <td>726</td>\n",
       "      <td>25</td>\n",
       "      <td>USA</td>\n",
       "      <td>o</td>\n",
       "      <td>single</td>\n",
       "      <td>n</td>\n",
       "      <td>24h</td>\n",
       "      <td>...</td>\n",
       "      <td>[had]</td>\n",
       "      <td>[coffee]</td>\n",
       "      <td>[I]</td>\n",
       "      <td>[]</td>\n",
       "      <td>[had]</td>\n",
       "      <td>[coffee]</td>\n",
       "      <td>0</td>\n",
       "      <td>2</td>\n",
       "      <td>3</td>\n",
       "      <td>18</td>\n",
       "    </tr>\n",
       "  </tbody>\n",
       "</table>\n",
       "<p>1 rows × 22 columns</p>\n",
       "</div>"
      ],
      "text/plain": [
       "       Unnamed: 0  Unnamed: 0.1  Unnamed: 0.1.1  wid  age country gender  \\\n",
       "38346  38346       38514         38515           726  25   USA     o       \n",
       "\n",
       "      marital parenthood reflection_period  ...  verbs     nouns proto_agent  \\\n",
       "38346  single  n          24h               ...  [had]  [coffee]  [I]          \n",
       "\n",
       "      passive_agent root_verb direct_object parenthood_cat gender_cat  \\\n",
       "38346  []            [had]     [coffee]      0              2           \n",
       "\n",
       "       marital_cat  topic  \n",
       "38346  3            18     \n",
       "\n",
       "[1 rows x 22 columns]"
      ]
     },
     "execution_count": 23,
     "metadata": {},
     "output_type": "execute_result"
    }
   ],
   "source": [
    "# Picking a strange text classified as the husband topic.\n",
    "df[df['text'] == 'I had some good coffee.']"
   ]
  },
  {
   "cell_type": "code",
   "execution_count": 24,
   "metadata": {
    "ExecuteTime": {
     "end_time": "2021-02-24T19:49:55.878688Z",
     "start_time": "2021-02-24T19:49:55.864668Z"
    },
    "scrolled": true
   },
   "outputs": [
    {
     "data": {
      "text/plain": [
       "Topic_0           0.00 \n",
       "Topic_1           0.00 \n",
       "Topic_2           0.00 \n",
       "Topic_3           0.00 \n",
       "Topic_4           0.00 \n",
       "Topic_5           0.00 \n",
       "Topic_6           0.00 \n",
       "Topic_7           0.00 \n",
       "Topic_8           0.00 \n",
       "Topic_9           0.00 \n",
       "Topic_10          0.00 \n",
       "Topic_11          0.00 \n",
       "Topic_12          0.00 \n",
       "Topic_13          0.00 \n",
       "Topic_14          0.00 \n",
       "Topic_15          0.00 \n",
       "Topic_16          0.00 \n",
       "Topic_17          0.00 \n",
       "Topic_18          0.01 \n",
       "dominant_topic    18.00\n",
       "Name: Doc_38346, dtype: float64"
      ]
     },
     "execution_count": 24,
     "metadata": {},
     "output_type": "execute_result"
    }
   ],
   "source": [
    "# Finding the distribution of probabilities for that text.\n",
    "test_df_document_topic.iloc[38346]"
   ]
  },
  {
   "cell_type": "code",
   "execution_count": 35,
   "metadata": {
    "ExecuteTime": {
     "end_time": "2021-02-25T20:04:57.819006Z",
     "start_time": "2021-02-25T20:04:57.716218Z"
    }
   },
   "outputs": [
    {
     "name": "stdout",
     "output_type": "stream",
     "text": [
      "Topic  0 :  friend best old met seen long talked havent party hadnt meet school marriage going close saw fun phone talking\n",
      "Topic  1 :  work early project raise promotion finished bonus received getting bos hour completed hard leave did working promoted big money\n",
      "Topic  2 :  went shopping temple walk park trip mall gym date beach vacation run college restaurant eat class movie fun concert\n",
      "Topic  3 :  new bought car purchased phone house shoe laptop bike computer buy puppy brand apartment tv pair started moved dress\n",
      "Topic  4 :  dinner delicious cooked ate pizza tonight having steak restaurant mom boyfriend parent chicken enjoyed cook cooking meal eating night\n",
      "Topic  5 :  home came visit sister house long brother parent brought coming come mother finally town mom cat boyfriend weekend away\n",
      "Topic  6 :  game video played won playing play team baseball basketball online fun watched soccer watching beat ticket board hour win\n",
      "Topic  7 :  job interview received getting promotion new offer raise finally wanted pay working company money doing applied did started offered\n",
      "Topic  8 :  movie watched watching watch tv saw theater enjoyed funny going went episode favorite netflix galaxy guardian wanted television logan\n",
      "Topic  9 :  birthday party celebrated gift surprise celebrate brother sister mom celebration present dad mother celebrating cake received card surprised father\n",
      "Topic  10 :  family member going vacation easter enjoyed trip weekend mother beach celebrated enjoy visit long visited event make fun meal\n",
      "Topic  11 :  dog walk took long park morning weather outside walked played playing puppy pet walking saw beautiful play taking finally\n",
      "Topic  12 :  night sleep hour morning slept bed getting woke date early cat boyfriend finally late rest kid event past sleeping\n",
      "Topic  13 :  wife love sex baby gave kid pregnant told boy birth breakfast child trip anniversary date vacation house morning having\n",
      "Topic  14 :  favorite lunch ate restaurant food delicious eat meal pizza tv cream ice team breakfast watched free mom eating watching\n",
      "Topic  15 :  daughter school old told baby college took class watching started play said did phone called dance seeing book test\n",
      "Topic  16 :  son school morning gave hug old big woke told said meet class mother started birth make event love grade\n",
      "Topic  17 :  girlfriend going date long met sex event love hour talked romantic past told loved seeing saw phone weekend ago\n",
      "Topic  18 :  husband going took date kid gift surprised make brought anniversary breakfast told flower weekend love coffee morning gave surprise\n"
     ]
    }
   ],
   "source": [
    "# Make a list of the words for classifications\n",
    "words = vectorizer.get_feature_names()\n",
    "t = model.components_.argsort(axis=1)[:,-1:-20:-1]\n",
    "topic_words = [[words[e] for e in l] for l in t]\n",
    "    \n",
    "# Print the top words for each topic\n",
    "count = 0\n",
    "for topic_list in topic_words:\n",
    "    print('Topic ', count, ': ', *topic_list)\n",
    "    count += 1"
   ]
  },
  {
   "cell_type": "markdown",
   "metadata": {},
   "source": [
    "The text was classified as the husband topic because of the term 'coffee'."
   ]
  }
 ],
 "metadata": {
  "kernelspec": {
   "display_name": "Python 3",
   "language": "python",
   "name": "python3"
  },
  "language_info": {
   "codemirror_mode": {
    "name": "ipython",
    "version": 3
   },
   "file_extension": ".py",
   "mimetype": "text/x-python",
   "name": "python",
   "nbconvert_exporter": "python",
   "pygments_lexer": "ipython3",
   "version": "3.6.8"
  },
  "toc": {
   "base_numbering": 1,
   "nav_menu": {},
   "number_sections": true,
   "sideBar": true,
   "skip_h1_title": false,
   "title_cell": "Table of Contents",
   "title_sidebar": "Contents",
   "toc_cell": false,
   "toc_position": {
    "height": "calc(100% - 180px)",
    "left": "10px",
    "top": "150px",
    "width": "365px"
   },
   "toc_section_display": true,
   "toc_window_display": true
  },
  "varInspector": {
   "cols": {
    "lenName": 16,
    "lenType": 16,
    "lenVar": 40
   },
   "kernels_config": {
    "python": {
     "delete_cmd_postfix": "",
     "delete_cmd_prefix": "del ",
     "library": "var_list.py",
     "varRefreshCmd": "print(var_dic_list())"
    },
    "r": {
     "delete_cmd_postfix": ") ",
     "delete_cmd_prefix": "rm(",
     "library": "var_list.r",
     "varRefreshCmd": "cat(var_dic_list()) "
    }
   },
   "types_to_exclude": [
    "module",
    "function",
    "builtin_function_or_method",
    "instance",
    "_Feature"
   ],
   "window_display": false
  }
 },
 "nbformat": 4,
 "nbformat_minor": 2
}
