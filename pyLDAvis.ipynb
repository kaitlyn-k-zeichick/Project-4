{
 "cells": [
  {
   "cell_type": "code",
   "execution_count": 7,
   "metadata": {
    "ExecuteTime": {
     "end_time": "2021-02-23T00:28:12.385435Z",
     "start_time": "2021-02-23T00:28:11.037035Z"
    }
   },
   "outputs": [
    {
     "name": "stderr",
     "output_type": "stream",
     "text": [
      "/Users/kaitlynzeichick/anaconda3/lib/python3.6/site-packages/scipy/sparse/sparsetools.py:21: DeprecationWarning: `scipy.sparse.sparsetools` is deprecated!\n",
      "scipy.sparse.sparsetools is a private module for scipy.sparse, and should not be used.\n",
      "  _deprecated()\n"
     ]
    }
   ],
   "source": [
    "import gensim\n"
   ]
  },
  {
   "cell_type": "code",
   "execution_count": 25,
   "metadata": {
    "ExecuteTime": {
     "end_time": "2021-02-23T00:37:05.725091Z",
     "start_time": "2021-02-23T00:37:05.719257Z"
    }
   },
   "outputs": [],
   "source": [
    "from gensim.models.ldamodel import LdaModel\n",
    "from gensim.corpora import Dictionary\n"
   ]
  },
  {
   "cell_type": "code",
   "execution_count": 1,
   "metadata": {
    "ExecuteTime": {
     "end_time": "2021-02-23T00:22:08.305630Z",
     "start_time": "2021-02-23T00:22:06.360259Z"
    }
   },
   "outputs": [],
   "source": [
    "import pyLDAvis\n",
    "import pyLDAvis.gensim"
   ]
  },
  {
   "cell_type": "code",
   "execution_count": 3,
   "metadata": {
    "ExecuteTime": {
     "end_time": "2021-02-23T00:25:44.748085Z",
     "start_time": "2021-02-23T00:25:44.735219Z"
    }
   },
   "outputs": [],
   "source": [
    "import pandas as pd \n",
    "import numpy as np"
   ]
  },
  {
   "cell_type": "code",
   "execution_count": 21,
   "metadata": {
    "ExecuteTime": {
     "end_time": "2021-02-23T00:34:43.142534Z",
     "start_time": "2021-02-23T00:34:43.136167Z"
    }
   },
   "outputs": [],
   "source": [
    "\n",
    "import pandas as pd\n",
    "import gensim\n",
    "from gensim.utils import simple_preprocess\n",
    "from gensim.parsing.preprocessing import STOPWORDS\n",
    "from nltk.stem import WordNetLemmatizer, SnowballStemmer\n",
    "from nltk.stem.porter import *\n",
    "import numpy as np\n",
    "import nltk\n",
    "\n",
    "import pickle\n",
    "\n",
    "#lda model evaluation with coherence\n",
    "from gensim.models.coherencemodel import CoherenceModel\n",
    "from gensim.models.ldamodel import LdaModel\n",
    "from gensim.corpora.dictionary import Dictionary\n",
    "\n",
    "#unsupervised learning model\n",
    "from sklearn.neighbors import NearestNeighbors"
   ]
  },
  {
   "cell_type": "code",
   "execution_count": 4,
   "metadata": {
    "ExecuteTime": {
     "end_time": "2021-02-23T00:25:45.864132Z",
     "start_time": "2021-02-23T00:25:45.295812Z"
    }
   },
   "outputs": [],
   "source": [
    "df = pd.read_csv('cleaned_dataset.csv')"
   ]
  },
  {
   "cell_type": "code",
   "execution_count": 5,
   "metadata": {
    "ExecuteTime": {
     "end_time": "2021-02-23T00:26:05.465802Z",
     "start_time": "2021-02-23T00:26:05.428982Z"
    },
    "scrolled": true
   },
   "outputs": [
    {
     "data": {
      "text/html": [
       "<div>\n",
       "<style scoped>\n",
       "    .dataframe tbody tr th:only-of-type {\n",
       "        vertical-align: middle;\n",
       "    }\n",
       "\n",
       "    .dataframe tbody tr th {\n",
       "        vertical-align: top;\n",
       "    }\n",
       "\n",
       "    .dataframe thead th {\n",
       "        text-align: right;\n",
       "    }\n",
       "</style>\n",
       "<table border=\"1\" class=\"dataframe\">\n",
       "  <thead>\n",
       "    <tr style=\"text-align: right;\">\n",
       "      <th></th>\n",
       "      <th>Unnamed: 0</th>\n",
       "      <th>Unnamed: 0.1</th>\n",
       "      <th>Unnamed: 0.1.1</th>\n",
       "      <th>wid</th>\n",
       "      <th>age</th>\n",
       "      <th>country</th>\n",
       "      <th>gender</th>\n",
       "      <th>marital</th>\n",
       "      <th>parenthood</th>\n",
       "      <th>reflection_period</th>\n",
       "      <th>...</th>\n",
       "      <th>text_cleaned</th>\n",
       "      <th>verbs</th>\n",
       "      <th>nouns</th>\n",
       "      <th>proto_agent</th>\n",
       "      <th>passive_agent</th>\n",
       "      <th>root_verb</th>\n",
       "      <th>direct_object</th>\n",
       "      <th>parenthood_cat</th>\n",
       "      <th>gender_cat</th>\n",
       "      <th>marital_cat</th>\n",
       "    </tr>\n",
       "  </thead>\n",
       "  <tbody>\n",
       "    <tr>\n",
       "      <th>0</th>\n",
       "      <td>0</td>\n",
       "      <td>0</td>\n",
       "      <td>0</td>\n",
       "      <td>1</td>\n",
       "      <td>37</td>\n",
       "      <td>USA</td>\n",
       "      <td>m</td>\n",
       "      <td>married</td>\n",
       "      <td>y</td>\n",
       "      <td>24h</td>\n",
       "      <td>...</td>\n",
       "      <td>['wife', 'celebrating', 'year', 'anniversary',...</td>\n",
       "      <td>[celebrating]</td>\n",
       "      <td>[wife, year, anniversary, today]</td>\n",
       "      <td>[wife]</td>\n",
       "      <td>[]</td>\n",
       "      <td>[celebrating]</td>\n",
       "      <td>[anniversary]</td>\n",
       "      <td>1</td>\n",
       "      <td>1</td>\n",
       "      <td>1</td>\n",
       "    </tr>\n",
       "    <tr>\n",
       "      <th>1</th>\n",
       "      <td>1</td>\n",
       "      <td>1</td>\n",
       "      <td>1</td>\n",
       "      <td>1</td>\n",
       "      <td>37</td>\n",
       "      <td>USA</td>\n",
       "      <td>m</td>\n",
       "      <td>married</td>\n",
       "      <td>y</td>\n",
       "      <td>24h</td>\n",
       "      <td>...</td>\n",
       "      <td>['mother', 'called', 'blue', 'tell', 'proud']</td>\n",
       "      <td>[called, tell]</td>\n",
       "      <td>[mother, blue]</td>\n",
       "      <td>[mother, she]</td>\n",
       "      <td>[]</td>\n",
       "      <td>[called]</td>\n",
       "      <td>[me]</td>\n",
       "      <td>1</td>\n",
       "      <td>1</td>\n",
       "      <td>1</td>\n",
       "    </tr>\n",
       "    <tr>\n",
       "      <th>2</th>\n",
       "      <td>2</td>\n",
       "      <td>2</td>\n",
       "      <td>2</td>\n",
       "      <td>1</td>\n",
       "      <td>37</td>\n",
       "      <td>USA</td>\n",
       "      <td>m</td>\n",
       "      <td>married</td>\n",
       "      <td>y</td>\n",
       "      <td>24h</td>\n",
       "      <td>...</td>\n",
       "      <td>['today', 'took', 'day', 'time', 'job', 'brunc...</td>\n",
       "      <td>[took, go, have]</td>\n",
       "      <td>[Today, day, part, time, job, brunch, date, wife]</td>\n",
       "      <td>[i]</td>\n",
       "      <td>[]</td>\n",
       "      <td>[took]</td>\n",
       "      <td>[day, date]</td>\n",
       "      <td>1</td>\n",
       "      <td>1</td>\n",
       "      <td>1</td>\n",
       "    </tr>\n",
       "    <tr>\n",
       "      <th>3</th>\n",
       "      <td>3</td>\n",
       "      <td>3</td>\n",
       "      <td>3</td>\n",
       "      <td>1</td>\n",
       "      <td>37</td>\n",
       "      <td>USA</td>\n",
       "      <td>m</td>\n",
       "      <td>married</td>\n",
       "      <td>y</td>\n",
       "      <td>24h</td>\n",
       "      <td>...</td>\n",
       "      <td>['just', 'got', 'bonus', 'mturk', 'task']</td>\n",
       "      <td>[got]</td>\n",
       "      <td>[bonus, mturk, task]</td>\n",
       "      <td>[I]</td>\n",
       "      <td>[]</td>\n",
       "      <td>[got]</td>\n",
       "      <td>[bonus]</td>\n",
       "      <td>1</td>\n",
       "      <td>1</td>\n",
       "      <td>1</td>\n",
       "    </tr>\n",
       "    <tr>\n",
       "      <th>4</th>\n",
       "      <td>4</td>\n",
       "      <td>4</td>\n",
       "      <td>4</td>\n",
       "      <td>1</td>\n",
       "      <td>37</td>\n",
       "      <td>USA</td>\n",
       "      <td>m</td>\n",
       "      <td>married</td>\n",
       "      <td>y</td>\n",
       "      <td>24h</td>\n",
       "      <td>...</td>\n",
       "      <td>['wife', 'cooked', 'surprise', 'dinner', 'work']</td>\n",
       "      <td>[cooked, take, work]</td>\n",
       "      <td>[wife, surprise, dinner]</td>\n",
       "      <td>[wife]</td>\n",
       "      <td>[]</td>\n",
       "      <td>[cooked]</td>\n",
       "      <td>[dinner]</td>\n",
       "      <td>1</td>\n",
       "      <td>1</td>\n",
       "      <td>1</td>\n",
       "    </tr>\n",
       "  </tbody>\n",
       "</table>\n",
       "<p>5 rows × 21 columns</p>\n",
       "</div>"
      ],
      "text/plain": [
       "   Unnamed: 0  Unnamed: 0.1  Unnamed: 0.1.1  wid  age country gender  marital  \\\n",
       "0           0             0               0    1   37     USA      m  married   \n",
       "1           1             1               1    1   37     USA      m  married   \n",
       "2           2             2               2    1   37     USA      m  married   \n",
       "3           3             3               3    1   37     USA      m  married   \n",
       "4           4             4               4    1   37     USA      m  married   \n",
       "\n",
       "  parenthood reflection_period  ...  \\\n",
       "0          y               24h  ...   \n",
       "1          y               24h  ...   \n",
       "2          y               24h  ...   \n",
       "3          y               24h  ...   \n",
       "4          y               24h  ...   \n",
       "\n",
       "                                        text_cleaned                 verbs  \\\n",
       "0  ['wife', 'celebrating', 'year', 'anniversary',...         [celebrating]   \n",
       "1      ['mother', 'called', 'blue', 'tell', 'proud']        [called, tell]   \n",
       "2  ['today', 'took', 'day', 'time', 'job', 'brunc...      [took, go, have]   \n",
       "3          ['just', 'got', 'bonus', 'mturk', 'task']                 [got]   \n",
       "4   ['wife', 'cooked', 'surprise', 'dinner', 'work']  [cooked, take, work]   \n",
       "\n",
       "                                               nouns    proto_agent  \\\n",
       "0                   [wife, year, anniversary, today]         [wife]   \n",
       "1                                     [mother, blue]  [mother, she]   \n",
       "2  [Today, day, part, time, job, brunch, date, wife]            [i]   \n",
       "3                               [bonus, mturk, task]            [I]   \n",
       "4                           [wife, surprise, dinner]         [wife]   \n",
       "\n",
       "  passive_agent      root_verb  direct_object parenthood_cat  gender_cat  \\\n",
       "0            []  [celebrating]  [anniversary]              1           1   \n",
       "1            []       [called]           [me]              1           1   \n",
       "2            []         [took]    [day, date]              1           1   \n",
       "3            []          [got]        [bonus]              1           1   \n",
       "4            []       [cooked]       [dinner]              1           1   \n",
       "\n",
       "   marital_cat  \n",
       "0            1  \n",
       "1            1  \n",
       "2            1  \n",
       "3            1  \n",
       "4            1  \n",
       "\n",
       "[5 rows x 21 columns]"
      ]
     },
     "execution_count": 5,
     "metadata": {},
     "output_type": "execute_result"
    }
   ],
   "source": [
    "df.head()"
   ]
  },
  {
   "cell_type": "markdown",
   "metadata": {},
   "source": [
    "# Bag of Words"
   ]
  },
  {
   "cell_type": "code",
   "execution_count": 24,
   "metadata": {
    "ExecuteTime": {
     "end_time": "2021-02-23T00:36:01.260663Z",
     "start_time": "2021-02-23T00:36:01.226974Z"
    }
   },
   "outputs": [
    {
     "data": {
      "text/plain": [
       "pandas.core.series.Series"
      ]
     },
     "execution_count": 24,
     "metadata": {},
     "output_type": "execute_result"
    }
   ],
   "source": [
    "processed_text = df.text_cleaned\n",
    "#processed_text[:5]\n",
    "type(processed_text)"
   ]
  },
  {
   "cell_type": "code",
   "execution_count": 27,
   "metadata": {
    "ExecuteTime": {
     "end_time": "2021-02-23T00:37:26.269676Z",
     "start_time": "2021-02-23T00:37:26.242182Z"
    }
   },
   "outputs": [
    {
     "ename": "TypeError",
     "evalue": "doc2bow expects an array of unicode tokens on input, not a single string",
     "output_type": "error",
     "traceback": [
      "\u001b[0;31m---------------------------------------------------------------------------\u001b[0m",
      "\u001b[0;31mTypeError\u001b[0m                                 Traceback (most recent call last)",
      "\u001b[0;32m<ipython-input-27-0e43688f5f86>\u001b[0m in \u001b[0;36m<module>\u001b[0;34m()\u001b[0m\n\u001b[0;32m----> 1\u001b[0;31m \u001b[0mdictionary\u001b[0m \u001b[0;34m=\u001b[0m \u001b[0mDictionary\u001b[0m\u001b[0;34m(\u001b[0m\u001b[0mprocessed_text\u001b[0m\u001b[0;34m)\u001b[0m\u001b[0;34m\u001b[0m\u001b[0;34m\u001b[0m\u001b[0m\n\u001b[0m",
      "\u001b[0;32m~/anaconda3/lib/python3.6/site-packages/gensim/corpora/dictionary.py\u001b[0m in \u001b[0;36m__init__\u001b[0;34m(self, documents, prune_at)\u001b[0m\n\u001b[1;32m     89\u001b[0m \u001b[0;34m\u001b[0m\u001b[0m\n\u001b[1;32m     90\u001b[0m         \u001b[0;32mif\u001b[0m \u001b[0mdocuments\u001b[0m \u001b[0;32mis\u001b[0m \u001b[0;32mnot\u001b[0m \u001b[0;32mNone\u001b[0m\u001b[0;34m:\u001b[0m\u001b[0;34m\u001b[0m\u001b[0;34m\u001b[0m\u001b[0m\n\u001b[0;32m---> 91\u001b[0;31m             \u001b[0mself\u001b[0m\u001b[0;34m.\u001b[0m\u001b[0madd_documents\u001b[0m\u001b[0;34m(\u001b[0m\u001b[0mdocuments\u001b[0m\u001b[0;34m,\u001b[0m \u001b[0mprune_at\u001b[0m\u001b[0;34m=\u001b[0m\u001b[0mprune_at\u001b[0m\u001b[0;34m)\u001b[0m\u001b[0;34m\u001b[0m\u001b[0;34m\u001b[0m\u001b[0m\n\u001b[0m\u001b[1;32m     92\u001b[0m \u001b[0;34m\u001b[0m\u001b[0m\n\u001b[1;32m     93\u001b[0m     \u001b[0;32mdef\u001b[0m \u001b[0m__getitem__\u001b[0m\u001b[0;34m(\u001b[0m\u001b[0mself\u001b[0m\u001b[0;34m,\u001b[0m \u001b[0mtokenid\u001b[0m\u001b[0;34m)\u001b[0m\u001b[0;34m:\u001b[0m\u001b[0;34m\u001b[0m\u001b[0;34m\u001b[0m\u001b[0m\n",
      "\u001b[0;32m~/anaconda3/lib/python3.6/site-packages/gensim/corpora/dictionary.py\u001b[0m in \u001b[0;36madd_documents\u001b[0;34m(self, documents, prune_at)\u001b[0m\n\u001b[1;32m    210\u001b[0m \u001b[0;34m\u001b[0m\u001b[0m\n\u001b[1;32m    211\u001b[0m             \u001b[0;31m# update Dictionary with the document\u001b[0m\u001b[0;34m\u001b[0m\u001b[0;34m\u001b[0m\u001b[0;34m\u001b[0m\u001b[0m\n\u001b[0;32m--> 212\u001b[0;31m             \u001b[0mself\u001b[0m\u001b[0;34m.\u001b[0m\u001b[0mdoc2bow\u001b[0m\u001b[0;34m(\u001b[0m\u001b[0mdocument\u001b[0m\u001b[0;34m,\u001b[0m \u001b[0mallow_update\u001b[0m\u001b[0;34m=\u001b[0m\u001b[0;32mTrue\u001b[0m\u001b[0;34m)\u001b[0m  \u001b[0;31m# ignore the result, here we only care about updating token ids\u001b[0m\u001b[0;34m\u001b[0m\u001b[0;34m\u001b[0m\u001b[0m\n\u001b[0m\u001b[1;32m    213\u001b[0m \u001b[0;34m\u001b[0m\u001b[0m\n\u001b[1;32m    214\u001b[0m         logger.info(\n",
      "\u001b[0;32m~/anaconda3/lib/python3.6/site-packages/gensim/corpora/dictionary.py\u001b[0m in \u001b[0;36mdoc2bow\u001b[0;34m(self, document, allow_update, return_missing)\u001b[0m\n\u001b[1;32m    250\u001b[0m         \"\"\"\n\u001b[1;32m    251\u001b[0m         \u001b[0;32mif\u001b[0m \u001b[0misinstance\u001b[0m\u001b[0;34m(\u001b[0m\u001b[0mdocument\u001b[0m\u001b[0;34m,\u001b[0m \u001b[0mstring_types\u001b[0m\u001b[0;34m)\u001b[0m\u001b[0;34m:\u001b[0m\u001b[0;34m\u001b[0m\u001b[0;34m\u001b[0m\u001b[0m\n\u001b[0;32m--> 252\u001b[0;31m             \u001b[0;32mraise\u001b[0m \u001b[0mTypeError\u001b[0m\u001b[0;34m(\u001b[0m\u001b[0;34m\"doc2bow expects an array of unicode tokens on input, not a single string\"\u001b[0m\u001b[0;34m)\u001b[0m\u001b[0;34m\u001b[0m\u001b[0;34m\u001b[0m\u001b[0m\n\u001b[0m\u001b[1;32m    253\u001b[0m \u001b[0;34m\u001b[0m\u001b[0m\n\u001b[1;32m    254\u001b[0m         \u001b[0;31m# Construct (word, frequency) mapping.\u001b[0m\u001b[0;34m\u001b[0m\u001b[0;34m\u001b[0m\u001b[0;34m\u001b[0m\u001b[0m\n",
      "\u001b[0;31mTypeError\u001b[0m: doc2bow expects an array of unicode tokens on input, not a single string"
     ]
    }
   ],
   "source": [
    "dictionary = Dictionary(processed_text)"
   ]
  },
  {
   "cell_type": "markdown",
   "metadata": {},
   "source": [
    "# Model"
   ]
  },
  {
   "cell_type": "code",
   "execution_count": null,
   "metadata": {},
   "outputs": [],
   "source": [
    "lda_model = gensim.models.LdaMulticore(bow2doc_corpus, \n",
    "                                       num_topics=9, \n",
    "                                       id2word=dictionary, \n",
    "                                       passes=50, \n",
    "                                       workers=4,\n",
    "                                      chunksize=500)"
   ]
  },
  {
   "cell_type": "code",
   "execution_count": null,
   "metadata": {},
   "outputs": [],
   "source": [
    "vis = pyLDAvis.gensim.prepare(topic_model=pickled_lda, \n",
    "                              corpus=bow2doc_corpus, \n",
    "                              dictionary=dictionary)\n",
    "pyLDAvis.enable_notebook()\n",
    "pyLDAvis.display(vis)"
   ]
  },
  {
   "cell_type": "code",
   "execution_count": null,
   "metadata": {},
   "outputs": [],
   "source": []
  },
  {
   "cell_type": "code",
   "execution_count": null,
   "metadata": {},
   "outputs": [],
   "source": []
  },
  {
   "cell_type": "code",
   "execution_count": null,
   "metadata": {},
   "outputs": [],
   "source": []
  },
  {
   "cell_type": "code",
   "execution_count": null,
   "metadata": {},
   "outputs": [],
   "source": []
  },
  {
   "cell_type": "code",
   "execution_count": null,
   "metadata": {},
   "outputs": [],
   "source": []
  },
  {
   "cell_type": "code",
   "execution_count": 28,
   "metadata": {
    "ExecuteTime": {
     "end_time": "2021-02-23T00:41:45.290027Z",
     "start_time": "2021-02-23T00:41:45.268389Z"
    }
   },
   "outputs": [
    {
     "ename": "ModuleNotFoundError",
     "evalue": "No module named 'graphlab'",
     "output_type": "error",
     "traceback": [
      "\u001b[0;31m---------------------------------------------------------------------------\u001b[0m",
      "\u001b[0;31mModuleNotFoundError\u001b[0m                       Traceback (most recent call last)",
      "\u001b[0;32m<ipython-input-28-0f297b11739c>\u001b[0m in \u001b[0;36m<module>\u001b[0;34m()\u001b[0m\n\u001b[1;32m      1\u001b[0m \u001b[0;32mfrom\u001b[0m \u001b[0m__future__\u001b[0m \u001b[0;32mimport\u001b[0m \u001b[0mdivision\u001b[0m\u001b[0;34m\u001b[0m\u001b[0;34m\u001b[0m\u001b[0m\n\u001b[1;32m      2\u001b[0m \u001b[0;34m\u001b[0m\u001b[0m\n\u001b[0;32m----> 3\u001b[0;31m \u001b[0;32mimport\u001b[0m \u001b[0mgraphlab\u001b[0m \u001b[0;32mas\u001b[0m \u001b[0mgl\u001b[0m\u001b[0;34m\u001b[0m\u001b[0;34m\u001b[0m\u001b[0m\n\u001b[0m\u001b[1;32m      4\u001b[0m \u001b[0;32mimport\u001b[0m \u001b[0mpandas\u001b[0m \u001b[0;32mas\u001b[0m \u001b[0mpd\u001b[0m\u001b[0;34m\u001b[0m\u001b[0;34m\u001b[0m\u001b[0m\n\u001b[1;32m      5\u001b[0m \u001b[0;32mimport\u001b[0m \u001b[0mpyLDAvis\u001b[0m\u001b[0;34m\u001b[0m\u001b[0;34m\u001b[0m\u001b[0m\n",
      "\u001b[0;31mModuleNotFoundError\u001b[0m: No module named 'graphlab'"
     ]
    }
   ],
   "source": [
    "from __future__ import division\n",
    "\n",
    "import graphlab as gl\n",
    "import pandas as pd\n",
    "import pyLDAvis\n",
    "import pyLDAvis.graphlab\n",
    "\n",
    "pyLDAvis.enable_notebook()"
   ]
  },
  {
   "cell_type": "code",
   "execution_count": null,
   "metadata": {},
   "outputs": [],
   "source": []
  },
  {
   "cell_type": "code",
   "execution_count": null,
   "metadata": {},
   "outputs": [],
   "source": []
  },
  {
   "cell_type": "code",
   "execution_count": null,
   "metadata": {},
   "outputs": [],
   "source": []
  },
  {
   "cell_type": "code",
   "execution_count": null,
   "metadata": {},
   "outputs": [],
   "source": []
  },
  {
   "cell_type": "code",
   "execution_count": null,
   "metadata": {},
   "outputs": [],
   "source": []
  },
  {
   "cell_type": "code",
   "execution_count": null,
   "metadata": {},
   "outputs": [],
   "source": []
  },
  {
   "cell_type": "code",
   "execution_count": 29,
   "metadata": {
    "ExecuteTime": {
     "end_time": "2021-02-23T00:45:13.835062Z",
     "start_time": "2021-02-23T00:45:13.587055Z"
    }
   },
   "outputs": [],
   "source": [
    "\n",
    "# Basics\n",
    "import pandas as pd\n",
    "import numpy as np\n",
    "import matplotlib.pyplot as plt\n",
    "%matplotlib inline\n",
    "import seaborn as sns\n",
    "import pickle \n",
    "\n",
    "#sklearn\n",
    "from sklearn.manifold import TSNE\n",
    "from sklearn.feature_extraction.text import CountVectorizer\n",
    "from sklearn.decomposition import LatentDirichletAllocation"
   ]
  },
  {
   "cell_type": "code",
   "execution_count": 30,
   "metadata": {
    "ExecuteTime": {
     "end_time": "2021-02-23T00:45:20.669416Z",
     "start_time": "2021-02-23T00:45:20.660240Z"
    }
   },
   "outputs": [],
   "source": [
    "\n",
    "import warnings\n",
    "warnings.filterwarnings('ignore')"
   ]
  },
  {
   "cell_type": "code",
   "execution_count": 31,
   "metadata": {
    "ExecuteTime": {
     "end_time": "2021-02-23T00:45:29.149457Z",
     "start_time": "2021-02-23T00:45:29.136926Z"
    }
   },
   "outputs": [],
   "source": [
    "import pyLDAvis\n",
    "import pyLDAvis.sklearn\n",
    "pyLDAvis.enable_notebook()"
   ]
  },
  {
   "cell_type": "code",
   "execution_count": 32,
   "metadata": {
    "ExecuteTime": {
     "end_time": "2021-02-23T00:45:55.190571Z",
     "start_time": "2021-02-23T00:45:55.183084Z"
    }
   },
   "outputs": [],
   "source": [
    "processed = df.text_cleaned"
   ]
  },
  {
   "cell_type": "code",
   "execution_count": 34,
   "metadata": {
    "ExecuteTime": {
     "end_time": "2021-02-23T00:47:04.349586Z",
     "start_time": "2021-02-23T00:47:04.343799Z"
    }
   },
   "outputs": [],
   "source": [
    "# A list of additional stopper words\n",
    "extra_stoppers = ['wa', 'able', 'day', 'nice', 'month', 'year', 'today', 'week',\n",
    "                 'yesterday', 'ha', 'moment', 'life', 'like', 'just', 'lot',\n",
    "                 'spend', 'spent', 'spending']"
   ]
  },
  {
   "cell_type": "code",
   "execution_count": 35,
   "metadata": {
    "ExecuteTime": {
     "end_time": "2021-02-23T00:47:07.532816Z",
     "start_time": "2021-02-23T00:47:07.527176Z"
    }
   },
   "outputs": [],
   "source": [
    "vectorizer = CountVectorizer(token_pattern=\"\\\\b[a-z][a-z]+\\\\b\",\n",
    "                             binary=True,\n",
    "                             stop_words=extra_stoppers)"
   ]
  },
  {
   "cell_type": "code",
   "execution_count": 37,
   "metadata": {
    "ExecuteTime": {
     "end_time": "2021-02-23T00:49:04.941939Z",
     "start_time": "2021-02-23T00:49:03.950283Z"
    }
   },
   "outputs": [
    {
     "name": "stdout",
     "output_type": "stream",
     "text": [
      "(99872, 24519)\n"
     ]
    }
   ],
   "source": [
    "tf = vectorizer.fit_transform(processed)\n",
    "print(dtm_tf.shape)"
   ]
  },
  {
   "cell_type": "markdown",
   "metadata": {},
   "source": [
    "# 8 Topics"
   ]
  },
  {
   "cell_type": "code",
   "execution_count": 38,
   "metadata": {
    "ExecuteTime": {
     "end_time": "2021-02-23T00:50:54.971679Z",
     "start_time": "2021-02-23T00:49:26.910250Z"
    }
   },
   "outputs": [
    {
     "data": {
      "text/plain": [
       "LatentDirichletAllocation(learning_method='online', learning_offset=50.0,\n",
       "                          max_iter=5, n_components=8, random_state=0)"
      ]
     },
     "execution_count": 38,
     "metadata": {},
     "output_type": "execute_result"
    }
   ],
   "source": [
    "lda_8 = LatentDirichletAllocation(n_components=8, max_iter=5, \n",
    "                                learning_method='online', learning_offset=50.,\n",
    "                                random_state=0)\n",
    "\n",
    "lda_8.fit(tf)"
   ]
  },
  {
   "cell_type": "code",
   "execution_count": 40,
   "metadata": {
    "ExecuteTime": {
     "end_time": "2021-02-23T01:04:38.376483Z",
     "start_time": "2021-02-23T00:52:19.932430Z"
    }
   },
   "outputs": [
    {
     "data": {
      "text/html": [
       "\n",
       "<link rel=\"stylesheet\" type=\"text/css\" href=\"https://cdn.jsdelivr.net/gh/bmabey/pyLDAvis@3.2.2/pyLDAvis/js/ldavis.v1.0.0.css\">\n",
       "\n",
       "\n",
       "<div id=\"ldavis_el434701404054772180081463411792\"></div>\n",
       "<script type=\"text/javascript\">\n",
       "\n",
       "var ldavis_el434701404054772180081463411792_data = {\"mdsDat\": {\"x\": [-0.11305495344298704, -0.17110017224929003, -0.23643155896437495, -0.023442008052191116, 0.25185423752354347, 0.2587209332726588, -0.05159309483489973, 0.08504661674754058], \"y\": [0.09589237120783518, 0.16855899764047522, 0.017393561293232628, -0.003925732891013845, 0.11000587321479463, 0.13183790961234446, -0.1909499893564167, -0.32881299072125164], \"topics\": [1, 2, 3, 4, 5, 6, 7, 8], \"cluster\": [1, 1, 1, 1, 1, 1, 1, 1], \"Freq\": [21.98929652694362, 14.448479060259078, 13.099264454369566, 10.755026535019619, 10.59239576123996, 10.444239492305229, 9.462673667470042, 9.208624502392878]}, \"tinfo\": {\"Term\": [\"friend\", \"new\", \"went\", \"work\", \"daughter\", \"got\", \"favorite\", \"job\", \"bought\", \"received\", \"family\", \"getting\", \"dinner\", \"morning\", \"make\", \"finally\", \"dog\", \"took\", \"old\", \"car\", \"won\", \"started\", \"game\", \"did\", \"time\", \"going\", \"finished\", \"best\", \"long\", \"ago\", \"friend\", \"finally\", \"old\", \"game\", \"having\", \"sister\", \"visit\", \"fun\", \"kid\", \"play\", \"baby\", \"video\", \"met\", \"excited\", \"seen\", \"gift\", \"party\", \"store\", \"know\", \"girl\", \"come\", \"enjoy\", \"havent\", \"loved\", \"bed\", \"shopping\", \"online\", \"visited\", \"hadnt\", \"high\", \"family\", \"birthday\", \"went\", \"long\", \"came\", \"time\", \"home\", \"school\", \"son\", \"brother\", \"weekend\", \"going\", \"seeing\", \"got\", \"night\", \"dinner\", \"event\", \"daughter\", \"job\", \"best\", \"money\", \"boyfriend\", \"enjoyed\", \"watching\", \"college\", \"place\", \"class\", \"phone\", \"vacation\", \"beautiful\", \"away\", \"watch\", \"park\", \"looking\", \"pay\", \"paid\", \"talk\", \"ticket\", \"tv\", \"exam\", \"summer\", \"accepted\", \"raise\", \"father\", \"worked\", \"wedding\", \"close\", \"dad\", \"got\", \"event\", \"work\", \"new\", \"doing\", \"told\", \"thought\", \"past\", \"time\", \"son\", \"morning\", \"dog\", \"watched\", \"working\", \"big\", \"wanted\", \"walk\", \"outside\", \"woke\", \"completed\", \"small\", \"sleep\", \"team\", \"asked\", \"taking\", \"hit\", \"weather\", \"dollar\", \"pretty\", \"think\", \"mail\", \"niece\", \"mturk\", \"walking\", \"extremely\", \"puppy\", \"interview\", \"gym\", \"huge\", \"complete\", \"project\", \"work\", \"night\", \"got\", \"hour\", \"hard\", \"took\", \"time\", \"ive\", \"son\", \"came\", \"received\", \"did\", \"didnt\", \"early\", \"coffee\", \"needed\", \"amazing\", \"turned\", \"town\", \"want\", \"actually\", \"promotion\", \"song\", \"music\", \"sale\", \"test\", \"celebrated\", \"wasnt\", \"item\", \"result\", \"use\", \"living\", \"doctor\", \"check\", \"change\", \"band\", \"anniversary\", \"tax\", \"price\", \"clean\", \"im\", \"mom\", \"ago\", \"passed\", \"make\", \"right\", \"got\", \"went\", \"home\", \"thing\", \"bought\", \"car\", \"food\", \"cat\", \"help\", \"making\", \"surprise\", \"buy\", \"dont\", \"surprised\", \"helped\", \"breakfast\", \"office\", \"goal\", \"trying\", \"eating\", \"purchased\", \"room\", \"moved\", \"sent\", \"picture\", \"set\", \"tell\", \"cleaned\", \"purchase\", \"sweet\", \"buying\", \"saying\", \"healthy\", \"giving\", \"new\", \"house\", \"gave\", \"im\", \"decided\", \"people\", \"favorite\", \"getting\", \"started\", \"ate\", \"said\", \"child\", \"recently\", \"restaurant\", \"brought\", \"delicious\", \"couple\", \"eat\", \"meal\", \"lost\", \"cooked\", \"learned\", \"pizza\", \"conversation\", \"hug\", \"ordered\", \"season\", \"large\", \"neighbor\", \"awesome\", \"chicken\", \"picked\", \"cake\", \"managed\", \"tried\", \"pound\", \"dinner\", \"lunch\", \"wife\", \"girlfriend\", \"new\", \"love\", \"husband\", \"mom\", \"won\", \"movie\", \"free\", \"book\", \"local\", \"bos\", \"minute\", \"smile\", \"funny\", \"cousin\", \"meeting\", \"nephew\", \"read\", \"used\", \"looked\", \"coworker\", \"laugh\", \"running\", \"reading\", \"marriage\", \"perfect\", \"important\", \"earlier\", \"warm\", \"laughing\", \"opportunity\", \"born\", \"significant\", \"share\", \"coworkers\", \"guy\", \"make\", \"saw\", \"state\", \"work\", \"got\", \"thing\", \"hard\", \"finished\", \"played\", \"company\", \"face\", \"date\", \"run\", \"experience\", \"final\", \"problem\", \"partner\", \"bad\", \"yard\", \"issue\", \"mile\", \"fixed\", \"starting\", \"road\", \"heart\", \"sick\", \"church\", \"hot\", \"water\", \"temple\", \"driving\", \"discovered\", \"exciting\", \"text\", \"pleasant\", \"opened\", \"god\", \"look\", \"took\", \"way\", \"going\", \"little\", \"people\", \"time\", \"long\"], \"Freq\": [8677.0, 7457.0, 7706.0, 7078.0, 3460.0, 11597.0, 2639.0, 3080.0, 2562.0, 2444.0, 3626.0, 2391.0, 3078.0, 2359.0, 2750.0, 3094.0, 2233.0, 2468.0, 2723.0, 1817.0, 1702.0, 1759.0, 2566.0, 1717.0, 8047.0, 2662.0, 1559.0, 1712.0, 3024.0, 2288.0, 8677.105632179439, 3093.883284670539, 2722.9187394411492, 2565.8434856009962, 1824.294091400601, 1533.997097342719, 1399.4078593615868, 1257.7143767276584, 1247.6027227802786, 1176.8728492541425, 1153.965149395444, 1108.888872242359, 1085.0622108110942, 1047.1374878537792, 1014.1220659551201, 945.6438193547228, 942.8033399966442, 906.768229425905, 897.9841297890877, 887.286026200275, 884.5214479739475, 841.7979846805371, 747.9059243220722, 740.1878557721737, 701.3149410337386, 694.7927313160271, 683.5347548895115, 557.511554265261, 550.2766965311293, 539.256398975641, 3618.7199831422495, 2216.820684976481, 6805.015274096228, 2586.4271602129425, 2370.9873102897695, 5229.184361460203, 2759.2743211166367, 1561.5088021051567, 2130.8768943671557, 1046.6184356528208, 1079.3615531640773, 1484.1102202028337, 1043.6932596464057, 2190.762977662112, 1270.7774305867144, 1134.0236645970206, 1057.4652090075313, 3459.596646842687, 3079.9926227264586, 1711.531132273689, 1583.0021199047105, 1468.1931872394591, 1340.3802563800743, 1328.2686604656014, 1159.9637884385886, 1059.9296564140238, 1012.2563984220028, 996.5646810701938, 969.0252844128038, 904.0729901862362, 828.3020240668687, 825.1303541716775, 765.8655828971415, 761.9284985668671, 761.0258956671211, 685.6788261637512, 676.9923329502595, 634.4006941278723, 618.4699556673611, 587.5282553687109, 577.3048607047659, 572.3113492413421, 565.0995860505839, 555.6209458431605, 552.2597672471245, 539.1038687753457, 538.2167210235275, 654.0196901803067, 4794.268749007483, 1514.95349855377, 1792.0407698847455, 1764.6233706775886, 731.384650752661, 843.2696344648142, 661.6218856862226, 786.3457500875278, 906.6739558418598, 752.3433468659953, 2358.920232014674, 2233.114511886986, 1481.263772009373, 1415.2153350303354, 1257.9029621631744, 1153.8338688670958, 956.7119397918368, 827.1981547179048, 798.7335512778895, 792.6786314847126, 791.5985412430466, 758.9122746510675, 758.631464936135, 728.7972715476693, 679.0945017150189, 667.2099843946725, 647.1069737484794, 594.0343760095993, 547.742007208374, 544.2302354059426, 530.749621205207, 507.76870672975093, 505.2948447086788, 505.08332959474654, 499.180195293477, 493.6166723563175, 452.4732661895982, 433.63227951995026, 414.4985913359591, 410.29705331881513, 916.4704578506489, 4186.22178928134, 1545.4361614668067, 2616.684579346753, 958.232195380222, 691.6749348320163, 885.7600380548009, 1125.128242535436, 604.3327836601536, 696.4821730476566, 599.3712989776759, 2443.400285092502, 1716.5240778058271, 1172.0576986632998, 838.3472874778147, 730.120568958474, 700.261103209441, 692.359763905612, 632.0598759053007, 625.0783197123832, 607.9575869489471, 595.0826187155723, 586.72130248411, 522.6935346759645, 512.2538985116475, 499.5814426648321, 497.5991044123541, 479.2704164815578, 445.00244178744623, 411.07198664473333, 405.74127021497054, 401.70108695936926, 384.5896642184983, 382.156376743662, 345.5213692092152, 340.2952395127472, 322.0091427381215, 319.91546197744634, 315.3521760934897, 314.48432116651713, 307.7652227099891, 1028.4810038409878, 890.5968830769409, 1277.1891450873327, 437.4761637889857, 873.2810842026937, 407.84583973073603, 1175.2759285175073, 900.8215358770035, 533.3673637812096, 412.10832731622156, 2561.4231800885336, 1816.7984394647149, 1346.2363049728056, 1180.994454687965, 1043.548913056744, 909.171287826482, 845.0260178157362, 772.747106338077, 737.4375204572609, 721.0653906643003, 717.6458533035682, 668.0587285948648, 625.3300043070993, 623.7545493952756, 612.1153523820032, 587.851038047848, 576.8000101884562, 574.3807910339378, 539.9565528287343, 488.7933748359717, 402.29105328468665, 399.1208419247213, 375.54856232040447, 369.14897920837166, 367.1730256754245, 349.0531617591505, 312.8805150272721, 300.9732262299111, 288.41918872029964, 285.8393224609998, 4377.480527147526, 1142.2131177193478, 832.2870448338042, 528.1859427862346, 424.82430324239186, 374.4626544006968, 2638.8901483241116, 2390.8883947125028, 1758.853994859022, 1320.9845370513103, 1193.2865805159536, 1188.1708174250568, 1160.74269549739, 972.4981090856124, 944.1207414029017, 934.66699022324, 900.8311552289824, 875.8970463327328, 704.1882077263992, 704.0778075645486, 557.4484091075201, 552.9772326009187, 525.1825714238624, 509.6717721143989, 480.5595106210391, 475.7557506493645, 449.4861289874834, 409.9442686481827, 382.6239657101546, 377.91454167267085, 365.53333678379914, 360.22763239530707, 354.9191619801253, 354.3871402623914, 340.1405432124905, 339.5420709214644, 1943.967445321372, 916.8269390166389, 1172.7974539066627, 906.5401250529518, 1314.591690942237, 701.1265701445824, 783.5836028792758, 423.44447915062995, 1701.4468472529734, 1352.3880301428806, 1038.2361697924719, 917.2086783392382, 778.6030270399926, 706.36242652566, 675.0609431470349, 609.4655014106158, 548.0654405552102, 521.7620744015576, 520.0475392334707, 503.9738413532473, 482.06556322671895, 475.3294479095108, 454.8483668997492, 436.29254775016096, 430.3881762484979, 420.8591126072278, 408.54992482334694, 388.14659033199064, 387.8324266826934, 372.61793912079236, 362.17884233296974, 360.3353502924125, 323.0653195476532, 309.107572484606, 289.91975313641814, 288.45067434137, 285.49891907406703, 280.67491578308534, 283.55796674605836, 1876.1214367253153, 800.9455659319407, 417.0439376761895, 1083.6992677402893, 819.5493575302702, 461.5635882912538, 369.8326396251537, 1558.4312330571202, 1332.4144609665414, 884.5376751431439, 647.4793857208507, 637.7064409505986, 594.9436142606855, 536.4890953473569, 532.829495591776, 472.0462614829864, 403.3271574794702, 379.94732159132354, 363.7100136578733, 352.8948790580915, 349.9721460140879, 336.9158255722685, 333.93179106208214, 333.47972965663723, 332.8187256016659, 329.0669677502895, 327.3733677730884, 326.1992750837282, 315.6647437588283, 311.6053269488951, 307.6009875433727, 299.51687283211464, 292.7481640842642, 289.5165583086566, 278.40528276750894, 264.5123007976613, 261.33137788380577, 715.7452381303112, 1582.3843870509654, 757.3491838319079, 1164.768963684439, 639.4736961782893, 445.5719522636765, 481.5958390345891, 402.4517518005575], \"Total\": [8677.0, 7457.0, 7706.0, 7078.0, 3460.0, 11597.0, 2639.0, 3080.0, 2562.0, 2444.0, 3626.0, 2391.0, 3078.0, 2359.0, 2750.0, 3094.0, 2233.0, 2468.0, 2723.0, 1817.0, 1702.0, 1759.0, 2566.0, 1717.0, 8047.0, 2662.0, 1559.0, 1712.0, 3024.0, 2288.0, 8677.929074956623, 3094.70746295338, 2723.742349522776, 2566.6669329054093, 1825.118174999134, 1534.820347894482, 1400.2309486028303, 1258.537638154258, 1248.4306018995715, 1177.6963182079971, 1154.7885414758252, 1109.7122530163306, 1085.8853673072938, 1047.9613740238042, 1014.9451784249263, 946.4672350149187, 943.6262331951181, 907.5920162307386, 898.8086927857647, 888.1094317452187, 885.3454885822174, 842.6217335687104, 748.7296443724975, 741.0116531406231, 702.1388865477974, 695.6158477715521, 684.3587408163392, 558.3347119077525, 551.0999833822071, 540.0803549692171, 3626.1023124785743, 2295.417329343533, 7706.543221675714, 3024.7348456636987, 2971.0713587055498, 8047.7912680057925, 3803.1507551884943, 2005.2450844875268, 3580.315001537855, 1200.5292686263083, 1281.3586717932885, 2662.554870126806, 1240.4152862241813, 11597.46367378658, 2911.611378277269, 3078.701099533974, 2575.5989289382337, 3460.4208407428814, 3080.816470019624, 1712.355494852876, 1583.8263460994765, 1469.0174798033352, 1341.204424647058, 1329.0928917217109, 1160.7876406014464, 1060.7541673219046, 1013.0802919045062, 997.3885648964206, 969.8491603475342, 904.897440992277, 829.1266418595749, 825.9545056875029, 766.6897243165674, 762.752833640618, 761.8497858337157, 686.5027094025786, 677.8165467110324, 635.2247547254962, 619.2939309057631, 588.3521482959168, 578.1286998733581, 573.1351650854157, 565.9232198634201, 556.4454198152451, 553.0840616657227, 539.9278547047372, 539.0411004682366, 705.5886878737285, 11597.46367378658, 2575.5989289382337, 7078.647752469101, 7457.286062302088, 1056.6553407082083, 1728.6435632677496, 919.1695977215987, 1993.1725535659589, 8047.7912680057925, 3580.315001537855, 2359.7434714818473, 2233.937554087206, 1482.0868852246956, 1416.0386861837576, 1258.7264046490277, 1154.6575204684543, 957.5348860931676, 828.021360703086, 799.5565266253309, 793.5017790099441, 792.4223354140989, 759.7352080851939, 759.4546083761154, 729.6214070875471, 679.9180117890478, 668.0330483840767, 647.9299429290708, 594.8576970288229, 548.5656286775239, 545.0543939359702, 531.5729718553148, 508.5921575068566, 506.11769611368635, 505.90655597711515, 500.0040009320092, 494.43972429832854, 453.29667659036676, 434.4552265193861, 415.3221415361628, 411.1219471095675, 939.6029230436799, 7078.647752469101, 2911.611378277269, 11597.46367378658, 2111.718277928884, 1062.209083580467, 2468.8409463477774, 8047.7912680057925, 1165.2588332883586, 3580.315001537855, 2971.0713587055498, 2444.218863115331, 1717.3413141161911, 1172.8749172015025, 839.164332374974, 730.9374497333891, 701.0783909641166, 693.1770097805985, 632.8770630321125, 625.8955943663307, 608.7748610242791, 595.8999305954198, 587.5382759382414, 523.5104373330895, 513.0708542158325, 500.3984380346729, 498.41600434710574, 480.0874897089108, 445.8197798053012, 411.88908047641957, 406.5583921207302, 402.5185319043423, 385.4077638217751, 382.9733142348933, 346.3382641009403, 341.1124363381084, 322.82624972243104, 320.7324253229155, 316.1689296316167, 315.301305283583, 308.58228198197367, 1557.3645085766514, 1314.7424919815294, 2288.641248359526, 542.4567993548219, 2750.0977653484583, 541.2099572944062, 11597.46367378658, 7706.543221675714, 3803.1507551884943, 1709.2622875759735, 2562.237232168545, 1817.6126240816614, 1347.0508325263036, 1181.808809853535, 1044.3633571713694, 909.9858364331168, 845.840401773188, 773.5613548570112, 738.2523474494566, 721.8798165630263, 718.4601340428492, 668.8730150011704, 626.1443341723514, 624.5687808305621, 612.9301278974153, 588.6654788719246, 577.6141417583135, 575.1952535171305, 540.7710031364076, 489.60780400499897, 403.10541807123167, 399.93532055042226, 376.36344433952337, 369.96295539691687, 367.98722926990484, 349.86789491537587, 313.6945754606726, 301.78804677772507, 289.2335334042887, 286.65398373772894, 7457.286062302088, 2084.411351536492, 1740.2781251482097, 1557.3645085766514, 833.7143887036428, 1196.4720187912744, 2639.7081009220124, 2391.7066978838307, 1759.6723657934688, 1321.802260561244, 1194.105158318339, 1188.9890607080754, 1161.561424343679, 973.3158293286936, 944.9389087062227, 935.4847708536893, 901.6496192067063, 876.7150128530857, 705.0058971455448, 704.8958171361995, 558.2660551275533, 553.7953260341135, 526.000170502845, 510.4899641385492, 481.37784333958723, 476.57372894236016, 450.30420589710974, 410.76271690073196, 383.4420767990728, 378.7327873070056, 366.3524309663494, 361.04589982892844, 355.737062413731, 355.2054860052677, 340.9585927838005, 340.35978765805027, 3078.701099533974, 1443.1717751405565, 2505.9841560319924, 1816.9995812382272, 7457.286062302088, 1816.5613480782838, 2995.0768404402916, 1314.7424919815294, 1702.258505855166, 1353.1996586937782, 1039.0481608401521, 918.0203149777063, 779.4150956276904, 707.174255269961, 675.8731017690615, 610.2777166262046, 548.877081430057, 522.5738916970128, 520.8594044693475, 504.7856839310366, 482.87718727182136, 476.1417363673865, 455.66065284044697, 437.1043342108447, 431.1999297132445, 421.6713715986828, 409.36159723762836, 388.95829060277265, 388.6446255611649, 373.43012983645986, 362.9908831035561, 361.14758168023087, 323.8772379851137, 309.91989739687955, 290.7316634453374, 289.2629959781256, 286.31096729200306, 281.4867093396957, 284.3843279493106, 2750.0977653484583, 1790.0439719381345, 671.6924681277037, 7078.647752469101, 11597.46367378658, 1709.2622875759735, 1062.209083580467, 1559.238343367802, 1333.2214938544453, 885.3452177274294, 648.2870496186595, 638.5135586789582, 595.7506728870594, 537.2964698584799, 533.6368186468628, 472.8534260020787, 404.1343571241869, 380.7547713601822, 364.5171083252157, 353.702110877662, 350.77917985817487, 337.7228036070739, 334.7392348657731, 334.2868439737788, 333.6262229944265, 329.87428203655827, 328.1804601566147, 327.0064822041072, 316.4718111389629, 312.41205695226415, 308.4083153554176, 300.3241632291133, 293.5556258016521, 290.32401872005835, 279.21343499788543, 265.31972837357296, 262.1386500332725, 718.9405820301586, 2468.8409463477774, 1053.362430694544, 2662.554870126806, 1272.9752341733738, 1196.4720187912744, 8047.7912680057925, 3024.7348456636987], \"Category\": [\"Default\", \"Default\", \"Default\", \"Default\", \"Default\", \"Default\", \"Default\", \"Default\", \"Default\", \"Default\", \"Default\", \"Default\", \"Default\", \"Default\", \"Default\", \"Default\", \"Default\", \"Default\", \"Default\", \"Default\", \"Default\", \"Default\", \"Default\", \"Default\", \"Default\", \"Default\", \"Default\", \"Default\", \"Default\", \"Default\", \"Topic1\", \"Topic1\", \"Topic1\", \"Topic1\", \"Topic1\", \"Topic1\", \"Topic1\", \"Topic1\", \"Topic1\", \"Topic1\", \"Topic1\", \"Topic1\", \"Topic1\", \"Topic1\", \"Topic1\", \"Topic1\", \"Topic1\", \"Topic1\", \"Topic1\", \"Topic1\", \"Topic1\", \"Topic1\", \"Topic1\", \"Topic1\", \"Topic1\", \"Topic1\", \"Topic1\", \"Topic1\", \"Topic1\", \"Topic1\", \"Topic1\", \"Topic1\", \"Topic1\", \"Topic1\", \"Topic1\", \"Topic1\", \"Topic1\", \"Topic1\", \"Topic1\", \"Topic1\", \"Topic1\", \"Topic1\", \"Topic1\", \"Topic1\", \"Topic1\", \"Topic1\", \"Topic1\", \"Topic2\", \"Topic2\", \"Topic2\", \"Topic2\", \"Topic2\", \"Topic2\", \"Topic2\", \"Topic2\", \"Topic2\", \"Topic2\", \"Topic2\", \"Topic2\", \"Topic2\", \"Topic2\", \"Topic2\", \"Topic2\", \"Topic2\", \"Topic2\", \"Topic2\", \"Topic2\", \"Topic2\", \"Topic2\", \"Topic2\", \"Topic2\", \"Topic2\", \"Topic2\", \"Topic2\", \"Topic2\", \"Topic2\", \"Topic2\", \"Topic2\", \"Topic2\", \"Topic2\", \"Topic2\", \"Topic2\", \"Topic2\", \"Topic2\", \"Topic2\", \"Topic2\", \"Topic2\", \"Topic2\", \"Topic3\", \"Topic3\", \"Topic3\", \"Topic3\", \"Topic3\", \"Topic3\", \"Topic3\", \"Topic3\", \"Topic3\", \"Topic3\", \"Topic3\", \"Topic3\", \"Topic3\", \"Topic3\", \"Topic3\", \"Topic3\", \"Topic3\", \"Topic3\", \"Topic3\", \"Topic3\", \"Topic3\", \"Topic3\", \"Topic3\", \"Topic3\", \"Topic3\", \"Topic3\", \"Topic3\", \"Topic3\", \"Topic3\", \"Topic3\", \"Topic3\", \"Topic3\", \"Topic3\", \"Topic3\", \"Topic3\", \"Topic3\", \"Topic3\", \"Topic3\", \"Topic3\", \"Topic3\", \"Topic3\", \"Topic4\", \"Topic4\", \"Topic4\", \"Topic4\", \"Topic4\", \"Topic4\", \"Topic4\", \"Topic4\", \"Topic4\", \"Topic4\", \"Topic4\", \"Topic4\", \"Topic4\", \"Topic4\", \"Topic4\", \"Topic4\", \"Topic4\", \"Topic4\", \"Topic4\", \"Topic4\", \"Topic4\", \"Topic4\", \"Topic4\", \"Topic4\", \"Topic4\", \"Topic4\", \"Topic4\", \"Topic4\", \"Topic4\", \"Topic4\", \"Topic4\", \"Topic4\", \"Topic4\", \"Topic4\", \"Topic4\", \"Topic4\", \"Topic4\", \"Topic4\", \"Topic4\", \"Topic4\", \"Topic5\", \"Topic5\", \"Topic5\", \"Topic5\", \"Topic5\", \"Topic5\", \"Topic5\", \"Topic5\", \"Topic5\", \"Topic5\", \"Topic5\", \"Topic5\", \"Topic5\", \"Topic5\", \"Topic5\", \"Topic5\", \"Topic5\", \"Topic5\", \"Topic5\", \"Topic5\", \"Topic5\", \"Topic5\", \"Topic5\", \"Topic5\", \"Topic5\", \"Topic5\", \"Topic5\", \"Topic5\", \"Topic5\", \"Topic5\", \"Topic5\", \"Topic5\", \"Topic5\", \"Topic5\", \"Topic5\", \"Topic5\", \"Topic6\", \"Topic6\", \"Topic6\", \"Topic6\", \"Topic6\", \"Topic6\", \"Topic6\", \"Topic6\", \"Topic6\", \"Topic6\", \"Topic6\", \"Topic6\", \"Topic6\", \"Topic6\", \"Topic6\", \"Topic6\", \"Topic6\", \"Topic6\", \"Topic6\", \"Topic6\", \"Topic6\", \"Topic6\", \"Topic6\", \"Topic6\", \"Topic6\", \"Topic6\", \"Topic6\", \"Topic6\", \"Topic6\", \"Topic6\", \"Topic6\", \"Topic6\", \"Topic6\", \"Topic6\", \"Topic6\", \"Topic6\", \"Topic6\", \"Topic6\", \"Topic7\", \"Topic7\", \"Topic7\", \"Topic7\", \"Topic7\", \"Topic7\", \"Topic7\", \"Topic7\", \"Topic7\", \"Topic7\", \"Topic7\", \"Topic7\", \"Topic7\", \"Topic7\", \"Topic7\", \"Topic7\", \"Topic7\", \"Topic7\", \"Topic7\", \"Topic7\", \"Topic7\", \"Topic7\", \"Topic7\", \"Topic7\", \"Topic7\", \"Topic7\", \"Topic7\", \"Topic7\", \"Topic7\", \"Topic7\", \"Topic7\", \"Topic7\", \"Topic7\", \"Topic7\", \"Topic7\", \"Topic7\", \"Topic7\", \"Topic7\", \"Topic8\", \"Topic8\", \"Topic8\", \"Topic8\", \"Topic8\", \"Topic8\", \"Topic8\", \"Topic8\", \"Topic8\", \"Topic8\", \"Topic8\", \"Topic8\", \"Topic8\", \"Topic8\", \"Topic8\", \"Topic8\", \"Topic8\", \"Topic8\", \"Topic8\", \"Topic8\", \"Topic8\", \"Topic8\", \"Topic8\", \"Topic8\", \"Topic8\", \"Topic8\", \"Topic8\", \"Topic8\", \"Topic8\", \"Topic8\", \"Topic8\", \"Topic8\", \"Topic8\", \"Topic8\", \"Topic8\", \"Topic8\", \"Topic8\", \"Topic8\"], \"logprob\": [30.0, 29.0, 28.0, 27.0, 26.0, 25.0, 24.0, 23.0, 22.0, 21.0, 20.0, 19.0, 18.0, 17.0, 16.0, 15.0, 14.0, 13.0, 12.0, 11.0, 10.0, 9.0, 8.0, 7.0, 6.0, 5.0, 4.0, 3.0, 2.0, 1.0, -2.8366, -3.8678, -3.9956, -4.055, -4.3961, -4.5694, -4.6612, -4.768, -4.776, -4.8344, -4.8541, -4.8939, -4.9156, -4.9512, -4.9832, -5.0531, -5.0562, -5.0951, -5.1049, -5.1168, -5.12, -5.1695, -5.2877, -5.2981, -5.3521, -5.3614, -5.3777, -5.5815, -5.5946, -5.6148, -3.7111, -4.2012, -3.0796, -4.047, -4.134, -3.343, -3.9823, -4.5516, -4.2407, -4.9517, -4.9209, -4.6024, -4.9545, -4.213, -4.7576, -4.8715, -4.9414, -3.3361, -3.4524, -4.0399, -4.118, -4.1933, -4.2843, -4.2934, -4.4289, -4.5191, -4.5651, -4.5807, -4.6088, -4.6781, -4.7657, -4.7695, -4.844, -4.8492, -4.8504, -4.9546, -4.9674, -5.0324, -5.0578, -5.1091, -5.1267, -5.1354, -5.148, -5.165, -5.171, -5.1951, -5.1968, -5.0019, -3.0099, -4.1619, -3.9939, -4.0094, -4.8901, -4.7478, -4.9904, -4.8177, -4.6753, -4.8619, -3.6211, -3.6759, -4.0864, -4.132, -4.2498, -4.3362, -4.5235, -4.669, -4.704, -4.7116, -4.713, -4.7551, -4.7555, -4.7956, -4.8663, -4.8839, -4.9145, -5.0001, -5.0812, -5.0876, -5.1127, -5.157, -5.1619, -5.1623, -5.174, -5.1853, -5.2723, -5.3148, -5.3599, -5.3701, -4.5665, -3.0475, -4.044, -3.5174, -4.5219, -4.8479, -4.6006, -4.3614, -4.9829, -4.841, -4.9911, -3.3887, -3.7418, -4.1233, -4.4584, -4.5966, -4.6384, -4.6497, -4.7408, -4.752, -4.7797, -4.8011, -4.8153, -4.9308, -4.951, -4.9761, -4.98, -5.0176, -5.0918, -5.1711, -5.1841, -5.1941, -5.2377, -5.244, -5.3448, -5.36, -5.4153, -5.4218, -5.4361, -5.4389, -5.4605, -4.254, -4.3979, -4.0374, -5.1088, -4.4176, -5.1789, -4.1206, -4.3865, -4.9106, -5.1685, -3.3263, -3.6698, -3.9695, -4.1005, -4.2242, -4.3621, -4.4352, -4.5246, -4.5714, -4.5939, -4.5986, -4.6702, -4.7363, -4.7388, -4.7577, -4.7981, -4.8171, -4.8213, -4.8831, -4.9827, -5.1774, -5.1853, -5.2462, -5.2634, -5.2688, -5.3194, -5.4288, -5.4676, -5.5102, -5.5192, -2.7904, -4.1339, -4.4504, -4.9051, -5.1229, -5.2491, -3.2824, -3.3811, -3.6881, -3.9744, -4.076, -4.0803, -4.1037, -4.2806, -4.3103, -4.3203, -4.3572, -4.3853, -4.6035, -4.6036, -4.8371, -4.8452, -4.8968, -4.9267, -4.9856, -4.9956, -5.0524, -5.1445, -5.2135, -5.2258, -5.2592, -5.2738, -5.2886, -5.2901, -5.3311, -5.3329, -3.588, -4.3396, -4.0934, -4.3509, -3.9792, -4.6078, -4.4966, -5.1121, -3.6226, -3.8522, -4.1165, -4.2405, -4.4043, -4.5017, -4.547, -4.6492, -4.7554, -4.8046, -4.8079, -4.8393, -4.8837, -4.8978, -4.9418, -4.9835, -4.9971, -5.0195, -5.0492, -5.1004, -5.1012, -5.1413, -5.1697, -5.1748, -5.284, -5.3281, -5.3922, -5.3973, -5.4076, -5.4246, -5.4144, -3.5249, -4.376, -5.0286, -4.0737, -4.3531, -4.9272, -5.1488, -3.6832, -3.8399, -4.2495, -4.5615, -4.5767, -4.6461, -4.7496, -4.7564, -4.8775, -5.0349, -5.0946, -5.1382, -5.1684, -5.1767, -5.2148, -5.2237, -5.225, -5.227, -5.2383, -5.2435, -5.2471, -5.2799, -5.2929, -5.3058, -5.3324, -5.3553, -5.3664, -5.4055, -5.4567, -5.4688, -4.4613, -3.6679, -4.4048, -3.9743, -4.574, -4.9352, -4.8575, -5.037], \"loglift\": [30.0, 29.0, 28.0, 27.0, 26.0, 25.0, 24.0, 23.0, 22.0, 21.0, 20.0, 19.0, 18.0, 17.0, 16.0, 15.0, 14.0, 13.0, 12.0, 11.0, 10.0, 9.0, 8.0, 7.0, 6.0, 5.0, 4.0, 3.0, 2.0, 1.0, 1.5145, 1.5143, 1.5143, 1.5143, 1.5142, 1.5141, 1.514, 1.514, 1.514, 1.5139, 1.5139, 1.5139, 1.5139, 1.5138, 1.5138, 1.5137, 1.5137, 1.5137, 1.5137, 1.5137, 1.5137, 1.5136, 1.5135, 1.5135, 1.5134, 1.5134, 1.5134, 1.5131, 1.5131, 1.5131, 1.5126, 1.4798, 1.3902, 1.3581, 1.289, 1.0835, 1.1938, 1.2645, 0.9957, 1.3774, 1.3431, 0.9301, 1.3419, -0.1519, 0.6855, 0.5159, 0.6244, 1.9343, 1.9343, 1.9341, 1.9341, 1.934, 1.934, 1.934, 1.9339, 1.9338, 1.9338, 1.9338, 1.9337, 1.9337, 1.9336, 1.9336, 1.9335, 1.9335, 1.9335, 1.9334, 1.9334, 1.9333, 1.9332, 1.9332, 1.9332, 1.9331, 1.9331, 1.9331, 1.9331, 1.9331, 1.9331, 1.8587, 1.0512, 1.4039, 0.5609, 0.4933, 1.5667, 1.2168, 1.6058, 1.0045, -0.2488, 0.3746, 2.0323, 2.0322, 2.0321, 2.032, 2.032, 2.0319, 2.0318, 2.0316, 2.0316, 2.0316, 2.0316, 2.0315, 2.0315, 2.0315, 2.0314, 2.0314, 2.0313, 2.0312, 2.0311, 2.0311, 2.0311, 2.031, 2.031, 2.031, 2.031, 2.0309, 2.0308, 2.0307, 2.0306, 2.0306, 2.0077, 1.5073, 1.3992, 0.5437, 1.2424, 1.6036, 1.0076, 0.0651, 1.376, 0.3955, 0.4318, 2.2295, 2.2293, 2.2291, 2.2288, 2.2287, 2.2286, 2.2286, 2.2285, 2.2285, 2.2285, 2.2284, 2.2284, 2.2282, 2.2282, 2.2282, 2.2282, 2.2281, 2.228, 2.2278, 2.2278, 2.2278, 2.2277, 2.2277, 2.2274, 2.2274, 2.2273, 2.2272, 2.2272, 2.2272, 2.2271, 1.8149, 1.8403, 1.6465, 2.0147, 1.0827, 1.9469, -0.0595, 0.0833, 0.2654, 0.8073, 2.2447, 2.2446, 2.2444, 2.2443, 2.2443, 2.2441, 2.2441, 2.244, 2.2439, 2.2439, 2.2439, 2.2438, 2.2437, 2.2437, 2.2437, 2.2436, 2.2436, 2.2436, 2.2435, 2.2434, 2.243, 2.243, 2.2429, 2.2428, 2.2428, 2.2427, 2.2424, 2.2423, 2.2422, 2.2422, 1.7123, 1.6435, 1.5074, 1.1637, 1.5708, 1.0834, 2.2588, 2.2588, 2.2587, 2.2585, 2.2584, 2.2584, 2.2584, 2.2583, 2.2583, 2.2582, 2.2582, 2.2582, 2.258, 2.258, 2.2577, 2.2576, 2.2576, 2.2575, 2.2574, 2.2574, 2.2573, 2.2571, 2.257, 2.257, 2.2569, 2.2569, 2.2568, 2.2568, 2.2567, 2.2567, 1.7993, 1.8054, 1.4998, 1.5638, 0.5235, 1.3071, 0.9183, 1.1261, 2.3573, 2.3572, 2.357, 2.3569, 2.3568, 2.3567, 2.3566, 2.3565, 2.3563, 2.3563, 2.3563, 2.3562, 2.3561, 2.3561, 2.356, 2.356, 2.3559, 2.3559, 2.3558, 2.3557, 2.3557, 2.3556, 2.3556, 2.3556, 2.3553, 2.3552, 2.355, 2.355, 2.355, 2.3549, 2.3549, 1.9754, 1.5536, 1.8812, 0.4811, -0.292, 1.0486, 1.3028, 2.3845, 2.3844, 2.3841, 2.3838, 2.3838, 2.3837, 2.3835, 2.3835, 2.3833, 2.383, 2.3829, 2.3828, 2.3827, 2.3827, 2.3826, 2.3826, 2.3826, 2.3826, 2.3826, 2.3826, 2.3826, 2.3825, 2.3824, 2.3824, 2.3823, 2.3823, 2.3822, 2.3821, 2.382, 2.3819, 2.3806, 1.9402, 2.0551, 1.5583, 1.6966, 1.3973, -0.431, 0.368]}, \"token.table\": {\"Topic\": [2, 4, 1, 4, 4, 4, 3, 6, 2, 6, 1, 8, 4, 2, 1, 2, 3, 1, 2, 7, 7, 7, 5, 2, 5, 1, 2, 5, 6, 5, 5, 6, 1, 3, 5, 5, 4, 4, 4, 6, 6, 8, 2, 4, 5, 2, 4, 2, 1, 8, 3, 3, 6, 6, 6, 7, 7, 7, 2, 3, 8, 2, 1, 3, 4, 5, 6, 4, 4, 1, 6, 8, 4, 3, 2, 4, 3, 5, 8, 7, 4, 6, 5, 1, 2, 1, 2, 4, 2, 1, 8, 8, 3, 8, 1, 2, 2, 6, 8, 1, 8, 8, 5, 7, 1, 1, 7, 1, 1, 5, 6, 1, 1, 1, 6, 5, 5, 8, 1, 5, 8, 1, 2, 3, 4, 6, 7, 7, 3, 1, 3, 7, 1, 1, 5, 8, 5, 5, 1, 3, 1, 2, 4, 8, 1, 2, 3, 1, 5, 6, 3, 1, 2, 3, 4, 5, 6, 4, 5, 7, 3, 8, 4, 1, 3, 7, 2, 1, 1, 6, 7, 7, 6, 1, 8, 4, 7, 1, 6, 8, 2, 8, 7, 2, 6, 1, 6, 7, 1, 1, 6, 3, 4, 7, 5, 6, 7, 6, 7, 1, 8, 7, 4, 6, 2, 3, 5, 7, 3, 4, 4, 6, 7, 2, 5, 6, 3, 1, 3, 4, 5, 1, 1, 8, 7, 6, 3, 2, 2, 8, 1, 4, 5, 1, 2, 3, 4, 2, 1, 5, 8, 7, 2, 6, 5, 6, 2, 1, 8, 8, 6, 3, 4, 8, 3, 7, 4, 3, 5, 5, 2, 7, 7, 4, 6, 6, 4, 4, 7, 8, 5, 8, 7, 6, 4, 1, 7, 5, 1, 3, 6, 1, 3, 1, 5, 5, 7, 1, 8, 7, 1, 3, 3, 7, 1, 2, 3, 4, 6, 8, 7, 8, 1, 2, 5, 5, 5, 3, 2, 4, 3, 5, 8, 4, 8, 1, 2, 4, 6, 7, 8, 3, 2, 7, 2, 1, 2, 3, 4, 8, 1, 2, 5, 6, 3, 8, 4, 6, 5, 4, 2, 4, 7, 2, 1, 1, 1, 3, 3, 4, 3, 7, 4, 2, 3, 2, 8, 1, 8, 3, 2, 1, 3, 1, 4, 1, 4, 5, 6, 3, 7, 2, 3, 5, 7, 2, 3, 8], \"Freq\": [0.9980193763102173, 0.9984897957707083, 0.4417468228035627, 0.5579729898319976, 0.9983020068986838, 0.9977163976414979, 0.9991483157134498, 0.9993930555385013, 0.998641170356017, 0.99806516010347, 0.9993171550916001, 0.998017696908995, 0.9974405745408205, 0.9990082401036599, 0.9983779753982907, 0.9997923942464374, 0.9994229050520075, 0.965837441261298, 0.03398074894830007, 0.9988885703714181, 0.9974833719978526, 0.9983395107200096, 0.9995171281749358, 0.9993073739303148, 0.9986947970966225, 0.8721153472568125, 0.12661082405256494, 0.0008329659477142431, 0.9990063815791983, 0.999274324068173, 0.9977858225324663, 0.9979280696570385, 0.7980286279737853, 0.20161077526625787, 0.9996629512396951, 0.9993156170043823, 0.997734809316589, 0.9967387986493528, 0.9990233129399709, 0.9990380001971878, 0.9991681498671767, 0.9964030151092745, 0.9989336561838792, 0.9981130414285818, 0.9973971572481257, 0.9980686065175138, 0.9987174692804001, 0.9993214602103807, 0.9996097697603106, 0.9996100755721983, 0.9972710113934431, 0.9993676397164853, 0.9990402080883685, 0.997732165307339, 0.9992795214539347, 0.9989017979923392, 0.9974735226251223, 0.9982709331433891, 0.9268856080598605, 0.07228007035329187, 0.9991956965173602, 0.999878384519615, 0.007196709186379169, 0.22069908171562785, 0.2626798853028397, 0.5097669007018578, 0.9994817971721262, 0.9998012543497408, 0.999254040487463, 0.3683371536690115, 0.6314351205754483, 0.9989206222182462, 0.9974585324911273, 0.9995803132072825, 0.6918055224232885, 0.30757427467519666, 0.9985581475483852, 0.9983036322826697, 0.9986760559456802, 0.9972702259211469, 0.9986125096955935, 0.9991844409613121, 0.9988695126590404, 0.9992621439206449, 0.9991019827962654, 0.4103899827430578, 0.5882126999581198, 0.0011647776236794452, 0.9994014667968211, 0.999082624562666, 0.9981072554813596, 0.9975870493643456, 0.9979920142036108, 0.9980146917643711, 0.9980413369876153, 0.0019304474603242076, 0.9991995264955311, 0.9997317502939946, 0.9988066440983634, 0.999771395855069, 0.9992058023886667, 0.9978597725727907, 0.9992199013571501, 0.9989912297815872, 0.999892938171239, 0.9995728072502889, 0.9984020439917588, 0.999740156037833, 0.5211810611724812, 0.47808450153859355, 0.9997045215099093, 0.9995063378872155, 0.9987507938711578, 0.5008256520234661, 0.4991745784453668, 0.9977185604427975, 0.9990893223484438, 0.9956563061832814, 0.5573594056783978, 0.004882528486401059, 0.43754966820440255, 0.18892061761333692, 0.41336624410695444, 0.22565278698954938, 0.10131525590856726, 8.622574970941894e-05, 0.07070511476172353, 0.9986485614306457, 0.9989521900265003, 0.9980040221096428, 0.6514724932189662, 0.3483306683396206, 0.9990254902046666, 0.9993873410421029, 0.9957351646271095, 0.9981229802957157, 0.9996520778243756, 0.9993595552194943, 0.9979996403141184, 0.9984535968892924, 0.7254511266049606, 0.13409933837206595, 0.14014695559276696, 0.9969221337836386, 0.29454686569746447, 0.2514539962787036, 0.4536589989359662, 0.451446399630455, 0.5478765019957276, 0.9992150794956288, 0.9968165878870012, 0.3091740377064494, 0.12153277508115289, 0.10216766256822193, 0.09114958131086467, 0.11418738757624805, 0.26176290017479087, 0.6600895258230441, 0.33903430898304215, 0.9988481651530148, 0.9971394526866595, 0.9980149655428411, 0.9978414565508967, 0.2325663554381634, 0.5183397737440986, 0.24887174567183537, 0.9997349825841398, 0.9996550854337307, 0.9991002614991871, 0.9981431691111433, 0.997217231194721, 0.9972914490979017, 0.9985638628628215, 0.4972602632061796, 0.5019736306299348, 0.9989419937529757, 0.9994674267537041, 0.8549509732092136, 0.011571262205074432, 0.13290421161256918, 0.0027818710613780637, 0.9959098399733468, 0.9985501209368668, 0.9990130044656476, 0.998729149592859, 0.43929152232826796, 0.3858939312683156, 0.1745055295464423, 0.998634767568991, 0.36447497731084066, 0.6354059965666177, 0.9989221200368503, 0.3174432600178431, 0.6821575667737385, 0.9989166463986067, 0.9966062292032004, 0.9975362638464716, 0.9985732074729906, 0.9983500260109096, 0.9991846585892493, 0.9977787169167511, 0.9987081868374756, 0.6776992494226904, 0.3217360073016813, 0.9994782596580039, 0.9996849354640314, 0.9985742520735471, 0.9991134651224075, 0.9977916280693824, 0.997912853152672, 0.9984618111497723, 0.998847083234153, 0.9984435296878508, 0.23668127858503243, 0.5869427514825422, 0.176337609823976, 0.9988356928078495, 0.43652803718332095, 0.5306340027130062, 0.03262798074934342, 0.9981724115193601, 0.9997274523697494, 0.9994758000520148, 0.9987949317770943, 0.9970318220785239, 0.9987961381261333, 0.9987665044024725, 0.9992677240807745, 0.9991003866431336, 0.9971931188126172, 0.9993363546146893, 0.8055941054103325, 0.19172033629902652, 0.3522023212411093, 0.39434618874004546, 0.2247672933276595, 0.028095911665957436, 0.9988845756085817, 0.3142572447117073, 0.31258566362281526, 0.3727625828229294, 0.9983413496063811, 0.9996104177347763, 0.9971031388822751, 0.9972577444467979, 0.9980985357820534, 0.9992890272363402, 0.9994087455337751, 0.9990838027588995, 0.9956540952340112, 0.9989429196071431, 0.9989688951550109, 0.99587281986539, 0.9981951574099942, 0.9748798961084302, 0.023414145976403344, 0.9990838453250014, 0.9991106614684883, 0.997317218665812, 0.9989367612149453, 0.9983686481999398, 0.9981834153798457, 0.9991166801183393, 0.9995013281610234, 0.9995166640937683, 0.9986480962406611, 0.9986265389386811, 0.7538663960279967, 0.24574566341108717, 0.9961504797542086, 0.9979220038589993, 0.9987399546131915, 0.9984078321557913, 0.9990744882805, 0.9992037584365016, 0.5519417486321649, 0.44747504114814185, 0.9973887409188692, 0.7789571519628957, 0.22092062632494416, 0.9971037225945704, 0.8416536071382443, 0.158011596742429, 0.9990687394304457, 0.9987585900387471, 0.9976613204626813, 0.9954211768260137, 0.9991146725976341, 0.9973496508089061, 0.9956337450842792, 0.9994655088488973, 0.9990322837781246, 0.999467032420435, 0.9979063357691181, 0.5951990255283879, 0.2100373848884785, 0.19439630303508118, 0.9990249720030611, 0.9996179028513836, 0.9977916097404312, 0.6208198242305123, 0.37814924545455664, 0.9993477066565688, 0.9980476667676154, 0.9990064298519836, 0.998781214624873, 0.9975193639428225, 0.9986498198707338, 0.9987953278582612, 0.9963028320557029, 0.9994014015174818, 0.9990343261414212, 0.9986810465758461, 0.9991653471327617, 0.9988839410480509, 0.2843331907177518, 0.16264326547229424, 0.24103965962081017, 0.018721526960839625, 0.2702920454971221, 0.022816860983523292, 0.9980655252985741, 0.7202152917600184, 0.27960019634792255, 0.9980719348287593, 0.6497434918308614, 0.11270173017605496, 0.1397899078809943, 0.03789859724773623, 0.059892209421012664, 0.3719679485483415, 0.4876655997297852, 0.018511624189030993, 0.12090404548460866, 0.35887285542257535, 0.6407865206303772, 0.998569099424262, 0.9971885360742079, 0.9984824895121308, 0.9986141652410179, 0.9979106352554261, 0.9987117812889531, 0.9976021081955615, 0.9991244408076511, 0.9993581642318586, 0.9991208960178616, 0.9994005174662903, 0.9994413925790735, 0.9982080564752434, 0.9987271796621573, 0.9994305493561523, 0.9968224024237079, 0.9981611856574438, 0.9988443604569862, 0.9992666521541139, 0.9991777160734829, 0.9985091527195902, 0.28005555486300104, 0.718651034004379, 0.9985647477181455, 0.9982815209538604, 0.8420749191870819, 0.1568647439820236, 0.883015874206739, 0.11691363742252342, 0.3910639249817703, 0.015562748034988817, 0.1253000739227305, 0.46807957551389445, 0.9993039558720385, 0.9992606846428805, 0.2531556962097645, 0.5913558841149967, 0.0022603187161586115, 0.15313659301974594, 0.9980399694352828, 0.999266484599685, 0.998581388051739], \"Term\": [\"accepted\", \"actually\", \"ago\", \"ago\", \"amazing\", \"anniversary\", \"asked\", \"ate\", \"away\", \"awesome\", \"baby\", \"bad\", \"band\", \"beautiful\", \"bed\", \"best\", \"big\", \"birthday\", \"birthday\", \"book\", \"born\", \"bos\", \"bought\", \"boyfriend\", \"breakfast\", \"brother\", \"brother\", \"brother\", \"brought\", \"buy\", \"buying\", \"cake\", \"came\", \"came\", \"car\", \"cat\", \"celebrated\", \"change\", \"check\", \"chicken\", \"child\", \"church\", \"class\", \"clean\", \"cleaned\", \"close\", \"coffee\", \"college\", \"come\", \"company\", \"complete\", \"completed\", \"conversation\", \"cooked\", \"couple\", \"cousin\", \"coworker\", \"coworkers\", \"dad\", \"dad\", \"date\", \"daughter\", \"decided\", \"decided\", \"decided\", \"decided\", \"delicious\", \"did\", \"didnt\", \"dinner\", \"dinner\", \"discovered\", \"doctor\", \"dog\", \"doing\", \"doing\", \"dollar\", \"dont\", \"driving\", \"earlier\", \"early\", \"eat\", \"eating\", \"enjoy\", \"enjoyed\", \"event\", \"event\", \"event\", \"exam\", \"excited\", \"exciting\", \"experience\", \"extremely\", \"face\", \"family\", \"family\", \"father\", \"favorite\", \"final\", \"finally\", \"finished\", \"fixed\", \"food\", \"free\", \"friend\", \"fun\", \"funny\", \"game\", \"gave\", \"gave\", \"getting\", \"gift\", \"girl\", \"girlfriend\", \"girlfriend\", \"giving\", \"goal\", \"god\", \"going\", \"going\", \"going\", \"got\", \"got\", \"got\", \"got\", \"got\", \"got\", \"guy\", \"gym\", \"hadnt\", \"hard\", \"hard\", \"havent\", \"having\", \"healthy\", \"heart\", \"help\", \"helped\", \"high\", \"hit\", \"home\", \"home\", \"home\", \"hot\", \"hour\", \"hour\", \"hour\", \"house\", \"house\", \"hug\", \"huge\", \"husband\", \"husband\", \"husband\", \"husband\", \"husband\", \"husband\", \"im\", \"im\", \"important\", \"interview\", \"issue\", \"item\", \"ive\", \"ive\", \"ive\", \"job\", \"kid\", \"know\", \"large\", \"laugh\", \"laughing\", \"learned\", \"little\", \"little\", \"living\", \"local\", \"long\", \"long\", \"long\", \"look\", \"look\", \"looked\", \"looking\", \"lost\", \"love\", \"love\", \"love\", \"loved\", \"lunch\", \"lunch\", \"mail\", \"make\", \"make\", \"making\", \"managed\", \"marriage\", \"meal\", \"meeting\", \"met\", \"mile\", \"minute\", \"mom\", \"mom\", \"money\", \"morning\", \"moved\", \"movie\", \"mturk\", \"music\", \"needed\", \"neighbor\", \"nephew\", \"new\", \"new\", \"new\", \"niece\", \"night\", \"night\", \"night\", \"office\", \"old\", \"online\", \"opened\", \"opportunity\", \"ordered\", \"outside\", \"paid\", \"park\", \"partner\", \"party\", \"passed\", \"passed\", \"past\", \"past\", \"past\", \"past\", \"pay\", \"people\", \"people\", \"people\", \"perfect\", \"phone\", \"picked\", \"picture\", \"pizza\", \"place\", \"play\", \"played\", \"pleasant\", \"pound\", \"pretty\", \"price\", \"problem\", \"project\", \"project\", \"promotion\", \"puppy\", \"purchase\", \"purchased\", \"raise\", \"read\", \"reading\", \"received\", \"recently\", \"restaurant\", \"result\", \"right\", \"right\", \"road\", \"room\", \"run\", \"running\", \"said\", \"sale\", \"saw\", \"saw\", \"saying\", \"school\", \"school\", \"season\", \"seeing\", \"seeing\", \"seen\", \"sent\", \"set\", \"share\", \"shopping\", \"sick\", \"significant\", \"sister\", \"sleep\", \"small\", \"smile\", \"son\", \"son\", \"son\", \"song\", \"started\", \"starting\", \"state\", \"state\", \"store\", \"summer\", \"surprise\", \"surprised\", \"sweet\", \"taking\", \"talk\", \"tax\", \"team\", \"tell\", \"temple\", \"test\", \"text\", \"thing\", \"thing\", \"thing\", \"thing\", \"thing\", \"thing\", \"think\", \"thought\", \"thought\", \"ticket\", \"time\", \"time\", \"time\", \"time\", \"time\", \"told\", \"told\", \"told\", \"told\", \"took\", \"took\", \"town\", \"tried\", \"trying\", \"turned\", \"tv\", \"use\", \"used\", \"vacation\", \"video\", \"visit\", \"visited\", \"walk\", \"walking\", \"want\", \"wanted\", \"warm\", \"wasnt\", \"watch\", \"watched\", \"watching\", \"water\", \"way\", \"way\", \"weather\", \"wedding\", \"weekend\", \"weekend\", \"went\", \"went\", \"wife\", \"wife\", \"wife\", \"wife\", \"woke\", \"won\", \"work\", \"work\", \"work\", \"work\", \"worked\", \"working\", \"yard\"]}, \"R\": 30, \"lambda.step\": 0.01, \"plot.opts\": {\"xlab\": \"PC1\", \"ylab\": \"PC2\"}, \"topic.order\": [2, 6, 5, 4, 1, 8, 3, 7]};\n",
       "\n",
       "function LDAvis_load_lib(url, callback){\n",
       "  var s = document.createElement('script');\n",
       "  s.src = url;\n",
       "  s.async = true;\n",
       "  s.onreadystatechange = s.onload = callback;\n",
       "  s.onerror = function(){console.warn(\"failed to load library \" + url);};\n",
       "  document.getElementsByTagName(\"head\")[0].appendChild(s);\n",
       "}\n",
       "\n",
       "if(typeof(LDAvis) !== \"undefined\"){\n",
       "   // already loaded: just create the visualization\n",
       "   !function(LDAvis){\n",
       "       new LDAvis(\"#\" + \"ldavis_el434701404054772180081463411792\", ldavis_el434701404054772180081463411792_data);\n",
       "   }(LDAvis);\n",
       "}else if(typeof define === \"function\" && define.amd){\n",
       "   // require.js is available: use it to load d3/LDAvis\n",
       "   require.config({paths: {d3: \"https://d3js.org/d3.v5\"}});\n",
       "   require([\"d3\"], function(d3){\n",
       "      window.d3 = d3;\n",
       "      LDAvis_load_lib(\"https://cdn.jsdelivr.net/gh/bmabey/pyLDAvis@3.2.2/pyLDAvis/js/ldavis.v3.0.0.js\", function(){\n",
       "        new LDAvis(\"#\" + \"ldavis_el434701404054772180081463411792\", ldavis_el434701404054772180081463411792_data);\n",
       "      });\n",
       "    });\n",
       "}else{\n",
       "    // require.js not available: dynamically load d3 & LDAvis\n",
       "    LDAvis_load_lib(\"https://d3js.org/d3.v5.js\", function(){\n",
       "         LDAvis_load_lib(\"https://cdn.jsdelivr.net/gh/bmabey/pyLDAvis@3.2.2/pyLDAvis/js/ldavis.v3.0.0.js\", function(){\n",
       "                 new LDAvis(\"#\" + \"ldavis_el434701404054772180081463411792\", ldavis_el434701404054772180081463411792_data);\n",
       "            })\n",
       "         });\n",
       "}\n",
       "</script>"
      ],
      "text/plain": [
       "PreparedData(topic_coordinates=              x         y  topics  cluster       Freq\n",
       "topic                                                \n",
       "1     -0.113055  0.095892       1        1  21.989297\n",
       "5     -0.171100  0.168559       2        1  14.448479\n",
       "4     -0.236432  0.017394       3        1  13.099264\n",
       "3     -0.023442 -0.003926       4        1  10.755027\n",
       "0      0.251854  0.110006       5        1  10.592396\n",
       "7      0.258721  0.131838       6        1  10.444239\n",
       "2     -0.051593 -0.190950       7        1   9.462674\n",
       "6      0.085047 -0.328813       8        1   9.208625, topic_info=           Term         Freq        Total Category  logprob  loglift\n",
       "8392     friend  8677.000000  8677.000000  Default  30.0000  30.0000\n",
       "14419       new  7457.000000  7457.000000  Default  29.0000  29.0000\n",
       "23809      went  7706.000000  7706.000000  Default  28.0000  28.0000\n",
       "24129      work  7078.000000  7078.000000  Default  27.0000  27.0000\n",
       "5299   daughter  3460.000000  3460.000000  Default  26.0000  26.0000\n",
       "...         ...          ...          ...      ...      ...      ...\n",
       "9002      going  1164.768964  2662.554870   Topic8  -3.9743   1.5583\n",
       "12440    little   639.473696  1272.975234   Topic8  -4.5740   1.6966\n",
       "15704    people   445.571952  1196.472019   Topic8  -4.9352   1.3973\n",
       "21921      time   481.595839  8047.791268   Topic8  -4.8575  -0.4310\n",
       "12530      long   402.451752  3024.734846   Topic8  -5.0370   0.3680\n",
       "\n",
       "[349 rows x 6 columns], token_table=       Topic      Freq      Term\n",
       "term                            \n",
       "91         2  0.998019  accepted\n",
       "204        4  0.998490  actually\n",
       "422        1  0.441747       ago\n",
       "422        4  0.557973       ago\n",
       "672        4  0.998302   amazing\n",
       "...      ...       ...       ...\n",
       "24129      5  0.002260      work\n",
       "24129      7  0.153137      work\n",
       "24139      2  0.998040    worked\n",
       "24154      3  0.999266   working\n",
       "24321      8  0.998581      yard\n",
       "\n",
       "[378 rows x 3 columns], R=30, lambda_step=0.01, plot_opts={'xlab': 'PC1', 'ylab': 'PC2'}, topic_order=[2, 6, 5, 4, 1, 8, 3, 7])"
      ]
     },
     "execution_count": 40,
     "metadata": {},
     "output_type": "execute_result"
    }
   ],
   "source": [
    "pyLDAvis.sklearn.prepare(lda_8, tf, vectorizer)"
   ]
  },
  {
   "cell_type": "code",
   "execution_count": 43,
   "metadata": {
    "ExecuteTime": {
     "end_time": "2021-02-23T01:07:58.423268Z",
     "start_time": "2021-02-23T01:06:20.238417Z"
    }
   },
   "outputs": [
    {
     "data": {
      "text/plain": [
       "LatentDirichletAllocation(learning_method='online', learning_offset=50.0,\n",
       "                          max_iter=5, n_components=16, random_state=0)"
      ]
     },
     "execution_count": 43,
     "metadata": {},
     "output_type": "execute_result"
    }
   ],
   "source": [
    "lda_16 = LatentDirichletAllocation(n_components=16, max_iter=5, \n",
    "                                learning_method='online', learning_offset=50.,\n",
    "                                random_state=0)\n",
    "\n",
    "lda_16.fit(tf)"
   ]
  },
  {
   "cell_type": "code",
   "execution_count": 44,
   "metadata": {
    "ExecuteTime": {
     "end_time": "2021-02-23T01:58:33.831727Z",
     "start_time": "2021-02-23T01:47:44.253033Z"
    }
   },
   "outputs": [
    {
     "data": {
      "text/html": [
       "\n",
       "<link rel=\"stylesheet\" type=\"text/css\" href=\"https://cdn.jsdelivr.net/gh/bmabey/pyLDAvis@3.2.2/pyLDAvis/js/ldavis.v1.0.0.css\">\n",
       "\n",
       "\n",
       "<div id=\"ldavis_el434701404058573772803509999527\"></div>\n",
       "<script type=\"text/javascript\">\n",
       "\n",
       "var ldavis_el434701404058573772803509999527_data = {\"mdsDat\": {\"x\": [-0.2618831235086197, -0.2587507496936287, -0.20360149438846875, -0.05241443134866827, -0.1445127815176685, 0.09387459954898908, 0.06238369314303209, 0.06263087480417562, 0.09601887061459986, -0.002023159441045271, 0.05880996606050069, -0.015873644359294416, 0.12383304264674141, 0.15312446769316815, 0.1415624995891313, 0.14682137015705507], \"y\": [0.048683524090154445, 0.00637994698682651, 0.030635941757310107, 0.17886641816127155, -0.037659583295810706, -0.18677985572941352, 0.1765620649644929, 0.13278284577649577, 0.09411874661741036, -0.11793099591195232, -0.2259058697911615, -0.2629230652067052, 0.060651323383007466, 0.05523225141444622, 0.057213602095338954, -0.009927295311710455], \"topics\": [1, 2, 3, 4, 5, 6, 7, 8, 9, 10, 11, 12, 13, 14, 15, 16], \"cluster\": [1, 1, 1, 1, 1, 1, 1, 1, 1, 1, 1, 1, 1, 1, 1, 1], \"Freq\": [12.275038823090268, 8.599244893131953, 7.446788567408648, 6.929612263872108, 6.471350387791805, 6.134093552294917, 6.123112217123847, 5.928210803021247, 5.527920819931102, 5.399581780168552, 5.388377335376116, 5.382450165781978, 4.891134388442954, 4.792651026083987, 4.772544728772934, 3.9378882477075785]}, \"tinfo\": {\"Term\": [\"work\", \"went\", \"new\", \"friend\", \"family\", \"got\", \"dinner\", \"job\", \"time\", \"finally\", \"wife\", \"long\", \"home\", \"bought\", \"make\", \"daughter\", \"took\", \"dog\", \"love\", \"getting\", \"started\", \"old\", \"morning\", \"girlfriend\", \"received\", \"car\", \"favorite\", \"past\", \"going\", \"came\", \"daughter\", \"old\", \"favorite\", \"ago\", \"school\", \"best\", \"told\", \"gave\", \"did\", \"sister\", \"play\", \"little\", \"baby\", \"cat\", \"met\", \"hard\", \"phone\", \"help\", \"enjoy\", \"bed\", \"talk\", \"bos\", \"proud\", \"minute\", \"town\", \"office\", \"close\", \"purchased\", \"student\", \"moved\", \"game\", \"playing\", \"son\", \"friend\", \"video\", \"time\", \"got\", \"home\", \"hour\", \"night\", \"long\", \"getting\", \"past\", \"watched\", \"boyfriend\", \"enjoyed\", \"class\", \"vacation\", \"party\", \"away\", \"talked\", \"sleep\", \"ticket\", \"summer\", \"father\", \"meet\", \"extremely\", \"funny\", \"conversation\", \"beach\", \"drink\", \"concert\", \"baseball\", \"enjoying\", \"episode\", \"stay\", \"late\", \"invited\", \"le\", \"planned\", \"birthday\", \"home\", \"friend\", \"came\", \"night\", \"time\", \"going\", \"got\", \"husband\", \"son\", \"finally\", \"having\", \"im\", \"lunch\", \"visit\", \"kid\", \"seeing\", \"played\", \"excited\", \"parent\", \"girl\", \"making\", \"card\", \"coffee\", \"paid\", \"dont\", \"goal\", \"smile\", \"apartment\", \"interview\", \"ride\", \"celebrate\", \"rain\", \"approved\", \"visiting\", \"giving\", \"credit\", \"beat\", \"level\", \"law\", \"passed\", \"thought\", \"going\", \"afternoon\", \"money\", \"came\", \"got\", \"time\", \"friend\", \"mother\", \"make\", \"saw\", \"weekend\", \"movie\", \"come\", \"small\", \"team\", \"pretty\", \"walking\", \"end\", \"gym\", \"looked\", \"weight\", \"running\", \"business\", \"partner\", \"purchase\", \"deal\", \"important\", \"dream\", \"try\", \"moving\", \"offer\", \"order\", \"pregnant\", \"surgery\", \"booked\", \"workout\", \"finishing\", \"friday\", \"morning\", \"brother\", \"thing\", \"wanted\", \"second\", \"went\", \"time\", \"asked\", \"special\", \"house\", \"event\", \"working\", \"watching\", \"fun\", \"feeling\", \"watch\", \"looking\", \"dad\", \"shopping\", \"online\", \"helped\", \"tv\", \"trying\", \"promotion\", \"wedding\", \"plan\", \"heard\", \"grocery\", \"joy\", \"man\", \"tonight\", \"relax\", \"tax\", \"forward\", \"caught\", \"laughing\", \"return\", \"award\", \"thinking\", \"april\", \"service\", \"received\", \"college\", \"ive\", \"waiting\", \"event\", \"got\", \"game\", \"thing\", \"came\", \"bought\", \"car\", \"book\", \"buy\", \"dollar\", \"bike\", \"need\", \"given\", \"read\", \"season\", \"program\", \"different\", \"reading\", \"instead\", \"attended\", \"tell\", \"far\", \"fixed\", \"soon\", \"learning\", \"childhood\", \"hospital\", \"uncle\", \"telling\", \"pair\", \"spouse\", \"plant\", \"mind\", \"attend\", \"relationship\", \"new\", \"recently\", \"loved\", \"event\", \"husband\", \"food\", \"said\", \"restaurant\", \"eat\", \"park\", \"meal\", \"live\", \"accepted\", \"want\", \"actually\", \"visited\", \"eating\", \"high\", \"learned\", \"sale\", \"store\", \"finding\", \"item\", \"walked\", \"change\", \"shop\", \"door\", \"price\", \"starting\", \"bar\", \"driving\", \"hear\", \"discovered\", \"near\", \"cooking\", \"went\", \"mother\", \"son\", \"way\", \"dog\", \"ate\", \"place\", \"walk\", \"weather\", \"worked\", \"think\", \"room\", \"extra\", \"puppy\", \"start\", \"experience\", \"flower\", \"spring\", \"entire\", \"garden\", \"coworker\", \"break\", \"cleaned\", \"warm\", \"chocolate\", \"ready\", \"ended\", \"pick\", \"water\", \"later\", \"sit\", \"sunny\", \"receiving\", \"fresh\", \"didnt\", \"money\", \"house\", \"hour\", \"coming\", \"won\", \"finished\", \"better\", \"called\", \"free\", \"know\", \"couple\", \"outside\", \"woke\", \"early\", \"local\", \"lost\", \"needed\", \"problem\", \"realized\", \"let\", \"use\", \"living\", \"pound\", \"leave\", \"id\", \"beer\", \"win\", \"course\", \"match\", \"rest\", \"slept\", \"air\", \"scratch\", \"lottery\", \"area\", \"decided\", \"hour\", \"night\", \"work\", \"seen\", \"project\", \"completed\", \"surprise\", \"havent\", \"hit\", \"breakfast\", \"hadnt\", \"niece\", \"used\", \"complete\", \"positive\", \"happened\", \"successfully\", \"future\", \"opportunity\", \"study\", \"client\", \"fell\", \"awhile\", \"major\", \"street\", \"returned\", \"tree\", \"travel\", \"recent\", \"research\", \"turn\", \"asleep\", \"way\", \"got\", \"morning\", \"ran\", \"recently\", \"husband\", \"dinner\", \"wife\", \"brought\", \"delicious\", \"look\", \"turned\", \"cooked\", \"mail\", \"hug\", \"nephew\", \"ordered\", \"doctor\", \"awesome\", \"liked\", \"perfect\", \"super\", \"chicken\", \"check\", \"tried\", \"arrived\", \"clean\", \"healthy\", \"born\", \"health\", \"story\", \"head\", \"hair\", \"recipe\", \"prepared\", \"hired\", \"sandwich\", \"dish\", \"new\", \"husband\", \"got\", \"job\", \"took\", \"girlfriend\", \"doing\", \"pay\", \"taking\", \"date\", \"wonderful\", \"mturk\", \"bonus\", \"city\", \"computer\", \"wasnt\", \"half\", \"offered\", \"email\", \"mile\", \"amazon\", \"task\", \"account\", \"unexpected\", \"nap\", \"finish\", \"stress\", \"dress\", \"completely\", \"shoe\", \"drove\", \"applied\", \"letter\", \"got\", \"husband\", \"new\", \"received\", \"love\", \"started\", \"big\", \"mom\", \"gift\", \"beautiful\", \"amazing\", \"state\", \"large\", \"cake\", \"bad\", \"chance\", \"buying\", \"saying\", \"knew\", \"share\", \"text\", \"reason\", \"reached\", \"grandmother\", \"planning\", \"message\", \"noticed\", \"holiday\", \"stayed\", \"couch\", \"previous\", \"customer\", \"easy\", \"cooky\", \"sent\", \"thats\", \"kind\", \"birthday\", \"sweet\", \"people\", \"company\", \"talking\", \"raise\", \"face\", \"run\", \"right\", \"meeting\", \"final\", \"managed\", \"fiance\", \"difficult\", \"sitting\", \"woman\", \"church\", \"hot\", \"exciting\", \"coworkers\", \"march\", \"successful\", \"god\", \"drinking\", \"mood\", \"payment\", \"hold\", \"especially\", \"putting\", \"league\", \"note\", \"building\", \"family\", \"child\", \"person\", \"member\", \"pizza\", \"cousin\", \"test\", \"cute\", \"celebrated\", \"care\", \"result\", \"marriage\", \"picked\", \"pet\", \"anniversary\", \"degree\", \"position\", \"word\", \"temple\", \"university\", \"teacher\", \"hearing\", \"graduation\", \"eye\", \"function\", \"sex\", \"laughed\", \"kitten\", \"manager\", \"wrote\", \"group\", \"trip\", \"surprised\", \"song\", \"music\", \"drive\", \"yard\", \"issue\", \"heart\", \"sun\", \"listening\", \"significant\", \"pleasant\", \"sold\", \"light\", \"listened\", \"kept\", \"mountain\", \"happier\", \"currently\", \"quit\", \"appointment\", \"perform\", \"rent\", \"lake\", \"perfectly\", \"toddler\", \"cash\", \"spot\", \"activity\", \"post\", \"hand\", \"husband\"], \"Freq\": [7311.0, 8019.0, 7514.0, 8609.0, 4001.0, 11601.0, 3143.0, 3119.0, 8002.0, 3128.0, 2551.0, 3015.0, 3779.0, 2563.0, 2635.0, 3340.0, 2282.0, 2310.0, 1920.0, 2318.0, 1838.0, 2613.0, 2459.0, 1787.0, 2389.0, 1818.0, 2419.0, 2023.0, 2545.0, 3021.0, 3340.065368166157, 2612.68575158772, 2418.8149572249085, 2130.34820444899, 1922.9986463909854, 1652.3704012011171, 1651.564718748999, 1609.520826454443, 1559.8585852370827, 1471.8725989272077, 1129.1993078860291, 1143.042639236905, 1107.2184809331113, 1048.7187202785758, 1041.1034334328112, 985.0910463059752, 962.0952658207873, 926.661563169759, 807.68324225303, 672.8849270415996, 653.559824873415, 614.9081988150206, 613.1027855399013, 587.6573552588671, 567.9948095350385, 555.2660424572482, 519.5770552451226, 512.1692486152918, 504.8854832316204, 479.45105117233027, 2101.890502683417, 1036.0163648186465, 2241.133281854921, 3342.836123618181, 806.4180114865129, 2113.8596790914326, 2229.509956474933, 942.5132451081537, 669.2952703212217, 666.4254148852892, 3014.851302532733, 2317.293409863649, 2023.0721346062398, 1501.929913817162, 1498.8039013196396, 1368.3212521384019, 1033.3436668482154, 989.2095843402627, 956.5291866895843, 845.5477721411146, 797.0680092301635, 769.4731291223114, 647.5959290538085, 589.3073386944916, 567.1711227274999, 522.2347345755234, 506.1084423027616, 504.48182748356726, 493.9397647906522, 486.40721820107257, 428.36456823548855, 424.8651663613747, 335.6745124098144, 324.90408236238204, 324.3812705027477, 319.7363205129386, 315.5120434983769, 308.51625801963866, 299.627183113931, 294.5155278994705, 1986.30289876018, 2835.8571235517124, 4470.367718970867, 1928.8474132305457, 1869.9117256123423, 3692.33562805753, 908.1897393530215, 1458.8079443787954, 793.6294571384806, 507.4334090902606, 3127.6757920953128, 1844.1972772545084, 1478.7260551899556, 1416.626483705013, 1414.6618672504198, 1261.2004773007034, 1252.9750951023389, 1176.6264305411087, 1058.5384433770985, 908.2153403548615, 896.937746036052, 850.5790243330937, 765.9696304238227, 698.9952363698818, 697.4077471179664, 689.902644620284, 583.5386035631698, 558.9724459235731, 517.0244906625239, 457.0848745534037, 400.93429667015795, 365.13218202782906, 321.3900593380357, 304.96566934948197, 272.45000418726414, 267.3805366159778, 263.3412684324807, 249.6986569518101, 249.000955972933, 246.52540962220277, 477.27011293867315, 716.9873223950044, 1636.1116924692499, 375.85650212785197, 594.3955216818186, 755.0941258024565, 1236.9216389634926, 905.8197185538905, 796.0078687578497, 410.72045693020686, 2634.9423698645023, 1786.6836433870367, 1333.9170985639971, 1278.3170333701703, 921.46733683022, 824.1461099866831, 789.820558164298, 570.2455706467209, 525.8295032567156, 509.1884683667538, 451.435292548158, 429.89872842687225, 410.0144539630083, 397.76961667520226, 397.38270868435376, 367.0138788986594, 353.9733084055283, 352.63681731301875, 352.1685327806126, 346.7199845591303, 331.84485829542217, 329.3529349495688, 324.9574178592193, 320.9664244995964, 317.40336402775876, 259.61238749626665, 258.0162892101741, 254.04277018390792, 253.79503067956534, 252.17571934126664, 1933.5354124565633, 917.9726524988874, 1062.5147157065257, 797.9938124787272, 383.966040710969, 1830.7308486179945, 1047.2312245120647, 423.74077151278607, 347.57406957923155, 392.98989640484314, 390.64195881085726, 1478.8690998759562, 1397.4505756784604, 1315.0922780957492, 1162.0303102842947, 868.085052711747, 801.5888399342059, 741.0841866745702, 726.4639805474312, 714.6927381290949, 694.4471369006167, 650.651870273852, 592.320108111772, 580.9929600268878, 567.1486719303331, 501.99945953292854, 442.3151879136003, 426.49090027114227, 393.27747288087124, 361.9869698820439, 344.6690372047335, 317.1340876211965, 312.24659170272434, 310.7019515503198, 308.28148247974434, 306.450993191068, 261.7327084963132, 260.34981000733507, 252.24482426261847, 250.36398608096928, 247.82856431109403, 1597.7769164643237, 765.9829182183217, 686.8646472641535, 420.10362574823677, 763.2017813869579, 915.2885282862418, 392.4550547102326, 354.6572758387213, 336.65422631460086, 2562.2370077154933, 1817.3585479454662, 899.4446333533523, 772.9513547898334, 641.6214136878347, 505.82289060711605, 503.1521528042466, 479.36456161895705, 472.7009600613414, 464.0523047439922, 440.63379250496814, 426.25155827193043, 400.60442282795185, 396.1996976523666, 389.49174055501163, 375.61806183194955, 354.6669576566015, 318.06147780837495, 311.40684965464544, 284.3176527270199, 279.251406222857, 277.73934702172664, 277.7042955340252, 259.68842020023294, 243.8107681301954, 240.6212281550225, 239.6569977499536, 236.5774617971476, 232.98929072994088, 231.12888636270975, 5018.432296924385, 964.3745801216463, 390.24019195896705, 442.295054497322, 263.3361613363232, 1306.404305648281, 1195.2460235935275, 974.0836418682858, 877.3195976449574, 807.9798987819934, 705.3203524326618, 624.3217283656021, 603.7675138688004, 603.7046194987157, 590.9185453985239, 584.5407421975106, 570.4256188470189, 565.3994619861011, 553.8542814594858, 496.0761618561698, 949.735539330572, 436.1890346107523, 408.1776531605832, 338.2737129204614, 337.889471586922, 325.3953372419988, 319.4522868539949, 312.2564818411223, 305.82617234762836, 294.7723522909676, 281.70689638671485, 278.3599410308805, 274.3017637661872, 272.40037944632724, 252.43554495882765, 6187.529610923426, 1029.9346915579965, 533.1487761416824, 282.0639625700632, 2309.170447927711, 1305.6693764851404, 1103.455741910612, 989.2633477579883, 669.1059405718994, 574.9113123599451, 562.7239468374684, 549.98626795957, 527.9685262303129, 510.3842128598714, 502.31535908274986, 484.87471913502156, 442.7563217427966, 424.8041989580055, 423.4004016991452, 410.50019404384904, 409.54449984916755, 364.05863713792195, 353.4502059350584, 338.23462506044154, 331.54936858984723, 324.13500738052267, 310.40588718073985, 286.0035811611595, 285.26460268207603, 268.59891206174217, 251.0801050315536, 243.7367848043171, 236.19447522738287, 220.51973942321362, 778.6750928457288, 1039.7128335432942, 1047.0462317525119, 1072.2591367296745, 362.9397651303915, 1599.253335326306, 1410.3283090262912, 1071.333927369405, 979.1825052866624, 975.8550297051535, 930.2474624737811, 891.458842417546, 856.3817287638216, 826.9107203882033, 822.5048385527305, 731.8075505727086, 696.7397932952495, 687.0189958016647, 427.1466259002357, 414.9461425579081, 402.76072607305207, 394.0809165057516, 377.29229332670474, 335.97366550989875, 319.6871425638889, 314.275672159929, 303.32434598472656, 293.6496493697332, 285.3287331965851, 274.7715295588074, 265.8735609654999, 254.97810798822044, 230.07302029258216, 224.18916979379858, 224.04508398154638, 232.58851786738396, 640.7299763454878, 393.4970498912761, 380.59767482937525, 7310.640892961358, 1061.4009982250066, 979.783598502128, 829.1073229172512, 818.5103860990313, 782.7592708072088, 697.8634323488931, 647.0839891148933, 575.9048293680918, 531.0836738542426, 451.3478339027388, 429.12703009259303, 385.0551910815719, 366.3235008726107, 365.49731693316136, 321.92286937993583, 293.49245092950355, 226.45396983096023, 226.38043006022963, 223.35644455004288, 221.45604717121608, 203.2564000711036, 200.6988586576553, 199.83940900403485, 198.94295663878114, 195.27840435313783, 183.870869486034, 180.99490557210746, 179.63191567930897, 177.92660266504802, 719.908989529582, 1653.4901567545473, 524.9732426204124, 222.59384000152207, 226.72917160751112, 219.33083940580292, 3142.823574622314, 2550.5191235281686, 947.6555684496789, 937.9430617717726, 659.4782494822339, 628.9657692999016, 559.5115088809721, 557.3083696488335, 482.33076658712, 480.4346062895439, 477.5083589027288, 380.2626965242033, 379.29515550100376, 373.0279744842169, 369.704931464959, 368.10020240498284, 366.86775475606237, 343.8036688413674, 341.37723182162983, 339.95245963238096, 306.2290766069949, 280.43135353854893, 276.35402491429085, 267.2299167393148, 254.54392599680855, 232.51620954957463, 218.9442663717918, 215.48572240381503, 199.18306562012143, 184.3186414734618, 195.0304906188582, 254.71824065270837, 954.7931426029685, 578.7262254093544, 806.4873931020647, 3118.4159432471943, 2281.587787132429, 1786.7263939292973, 1049.6735384941014, 770.4783444765161, 682.8781269718968, 560.5177811100301, 514.2972790419285, 508.0955046494107, 498.5193308978827, 470.7463217455124, 453.6300920587918, 424.04501070848073, 398.89989794902436, 329.49810755881646, 318.4447305440212, 307.5862026368441, 297.04521157297063, 294.1529315728043, 278.8636709640462, 248.76204278319898, 242.53749680334428, 224.0401077553245, 203.68225528258327, 203.17513361938174, 194.25927874954598, 193.14704013049445, 192.22359144337025, 185.21019467207137, 184.60365734814184, 3294.6209996192465, 960.7486477536706, 1540.002444017857, 791.0429410847837, 1919.1879583224538, 1837.3205366165773, 1374.6710448172764, 1364.5478942057748, 1034.0514013734867, 994.700486638334, 717.0080484085241, 656.2171368964325, 428.1872985267116, 370.7049668516972, 362.89926696432127, 351.98062459791777, 316.5974555013672, 304.5472121926226, 287.5371935295867, 283.2117108323648, 276.51192238738673, 270.92051752672285, 268.8381727004036, 268.1489848976723, 264.35859551614243, 241.17512597970375, 219.57819094627732, 213.98547826772787, 212.42723214280582, 199.71927554964958, 194.62961394919986, 193.55708654658093, 179.31418830333166, 173.2864839425057, 488.2043567723936, 223.01233246108046, 216.7204229658122, 368.95280340073094, 221.3792195412068, 1239.1075995356061, 861.4422141131663, 716.5126271774791, 633.875733327965, 630.557444616075, 579.389153179859, 564.678616489733, 526.0140026960999, 518.8928782532315, 377.38423456410084, 360.6263047449176, 347.3297583813178, 339.3313313057636, 329.9948744424132, 318.7869252443145, 317.64352820881885, 285.0638183041058, 283.8669077678759, 262.8896805448472, 254.60767838289377, 254.46496591854049, 236.07511807519526, 225.39340863404456, 198.73918117037425, 192.95252854999384, 189.80295143554196, 189.49788600251085, 188.5900126024073, 185.84226826267977, 168.79028529213565, 4000.8948915569545, 1252.578776185619, 713.492505111931, 558.3080721444433, 553.617246055279, 522.3941517791973, 520.0381338109378, 505.68029078787043, 500.8808866086587, 477.5721963002392, 424.0270623636997, 388.60119605043366, 379.7128384873539, 344.4245983455758, 334.32038277115083, 329.23263564089444, 312.85422345949905, 307.4962428613889, 300.350714740015, 298.45153070221204, 297.3155263619508, 276.05230761121413, 269.04675222726576, 267.739365750331, 257.56756774360525, 242.53563084251323, 239.71144592176094, 235.33690589579416, 225.00560558309448, 221.01883529154938, 274.045601842422, 1377.1878659846275, 766.3088164946421, 568.426712293814, 557.080471516467, 432.45325059585105, 364.81082246940304, 353.9612306749365, 333.8211354481046, 333.80525705871884, 321.5875831898601, 300.49208202685713, 279.2342984917282, 276.7121507441024, 254.98624538168048, 213.33631515725156, 201.63137309883058, 191.96810582496312, 188.99446725724596, 186.29228821446378, 164.78174158338973, 155.27866945312962, 154.1915165275594, 153.96987427251986, 153.0058872752229, 149.19190274536552, 148.10018411188653, 144.80048599603455, 141.38156478354034, 140.73778161263428, 140.05415729077203, 273.7726900307868, 200.68864566824183], \"Total\": [7311.0, 8019.0, 7514.0, 8609.0, 4001.0, 11601.0, 3143.0, 3119.0, 8002.0, 3128.0, 2551.0, 3015.0, 3779.0, 2563.0, 2635.0, 3340.0, 2282.0, 2310.0, 1920.0, 2318.0, 1838.0, 2613.0, 2459.0, 1787.0, 2389.0, 1818.0, 2419.0, 2023.0, 2545.0, 3021.0, 3340.9448304954212, 2613.5652139220997, 2419.694475171112, 2131.2276671490913, 1923.8781087981745, 1653.2498635970728, 1652.4608274443203, 1610.4002889355966, 1560.738047864506, 1472.7520612648143, 1130.0787725168475, 1143.9377032080092, 1108.0979432852805, 1049.5981827057421, 1041.98289572867, 985.974204890548, 962.9747281834626, 927.5410258420168, 808.5627047945535, 673.7643895553642, 654.4392872663835, 615.7876612943847, 613.9822479926872, 588.5368178901668, 568.8742720426815, 556.1455049205794, 520.4565176559098, 513.0487110788316, 505.7649457495553, 480.33051365529167, 2495.1670996325965, 1191.0551523367963, 3532.97010574827, 8609.978977002464, 1087.963834231545, 8002.176517910161, 11601.146267059552, 3779.193804549594, 2135.816221459843, 2917.7007325148966, 3015.7277138112895, 2318.169821274021, 2023.9485483724723, 1502.8063249974766, 1499.680312660027, 1369.1976633637476, 1034.2200781938882, 990.085995539997, 957.4055977269459, 846.4241836962174, 797.9444206758949, 770.3495403074312, 648.4723402795568, 590.1837499296422, 568.047534192393, 523.1111470054386, 506.9848539644253, 505.3582399403251, 494.81617607579784, 487.2836294125303, 429.2409795114956, 425.7415775377432, 336.55092361562816, 325.7804937330033, 325.2576816508568, 320.61273205666623, 316.3884549319427, 309.3926691985465, 300.5035948487511, 295.3919402491845, 2356.0717214233323, 3779.193804549594, 8609.978977002464, 3021.3582603090917, 2917.7007325148966, 8002.176517910161, 2545.121847598293, 11601.146267059552, 3023.1121484039913, 3532.97010574827, 3128.5524119437855, 1845.0738923382519, 1479.6026702471354, 1417.5030985918897, 1415.5384822033402, 1262.0770923498978, 1253.851710158005, 1177.5030454539635, 1059.4150585557588, 909.0919575289438, 897.8143610603389, 851.4556394857381, 766.8462453304921, 699.8718513059441, 698.2843620107018, 690.7792598267259, 584.4152184480382, 559.8490611706537, 517.9011056449949, 457.96148961226174, 401.8109163075905, 366.0087970245168, 322.2666743104083, 305.84228426629153, 273.3266191938587, 268.2571517211673, 264.2178831983461, 250.5752719075109, 249.87757105835, 247.40202453028866, 519.8353624599008, 915.8675614259699, 2545.121847598293, 504.39296921638805, 1634.9276563512499, 3021.3582603090917, 11601.146267059552, 8002.176517910161, 8609.978977002464, 1441.4736818287665, 2635.817273836484, 1787.5585471552401, 1334.7920023178176, 1279.1919369667573, 922.3422408297625, 825.0210139528107, 790.6954619761483, 571.1204745481209, 526.7044071309053, 510.06337333398267, 452.3101960965805, 430.7736323316281, 410.8893577103741, 398.64452052436144, 398.2576125240724, 367.88878266405294, 354.84821216006975, 353.5117211289678, 353.04343667409, 347.5948889872385, 332.71976224052673, 330.2278388182162, 325.83232169056475, 321.84132835125337, 318.2782678241217, 260.4872913708853, 258.89119292699866, 254.91767372101552, 254.6699344042553, 253.05062306033565, 2459.3255829112077, 1242.9302198972011, 1700.9138235450953, 1170.3174753526102, 485.225958237196, 8019.077286669272, 8002.176517910161, 761.4829961486944, 505.91225125595145, 2025.569097597842, 2643.5113733717485, 1479.743791499848, 1398.3252670528568, 1315.9669695253428, 1162.9050019190067, 868.9597440756871, 802.463531454954, 741.9588780781615, 727.3386718742931, 715.5674445094766, 695.3218283455701, 651.5265615256485, 593.194799773092, 581.8676513709704, 568.0233633480883, 502.87415101215765, 443.18987939794204, 427.3655916941168, 394.1521646328864, 362.86166151947685, 345.5437285726037, 318.0087795511505, 313.1212829233079, 311.5766429144314, 309.15617391872684, 307.32568475703073, 262.6073998842535, 261.224501352926, 253.11951604635328, 251.23867877999666, 248.70325732484446, 2389.6388108330602, 1207.7548149158551, 1162.1370956665335, 619.7085525227417, 2643.5113733717485, 11601.146267059552, 2495.1670996325965, 1700.9138235450953, 3021.3582603090917, 2563.1097486524072, 1818.2312889360842, 900.3173742780276, 773.8241024215832, 642.4941547612357, 506.6956316818206, 504.0248940956538, 480.23730279519407, 473.5737010259507, 464.92504581534854, 441.50653372265475, 427.12429970013176, 401.4771638103842, 397.0724389383575, 390.36448162219756, 376.49080332127096, 355.53969890372457, 318.93421872503086, 312.279591031084, 285.19039390949405, 280.1241476829204, 278.6120882219935, 278.57703658911555, 260.5611614675134, 244.68350919352972, 241.49396923775492, 240.52973881477564, 237.45020323990474, 233.86203190910257, 232.00162781578433, 7514.483646281203, 1191.9185171234476, 754.8665941536952, 2643.5113733717485, 3023.1121484039913, 1307.2788353193607, 1196.1205535824747, 974.9581714950385, 878.1941273462903, 808.8544285170328, 706.1948821411488, 625.1962587660435, 604.642043785029, 604.5791494425523, 591.7930754646283, 585.4152719098511, 571.300148570398, 566.2739918542858, 554.7288112369724, 496.9506915495634, 951.5535898179764, 437.06356449512197, 409.0521829406037, 339.1482426938289, 338.76400165890925, 326.2698670063122, 320.32681684172564, 313.13101155870714, 306.7007022963529, 295.64688224749415, 282.58142634202926, 279.2344710403898, 275.1762936036509, 273.2749092446081, 253.31007468762735, 8019.077286669272, 1441.4736818287665, 3532.97010574827, 1002.7895062097705, 2310.045745301754, 1306.5446738654607, 1104.3310395389065, 990.1386451105479, 669.9812379416574, 575.7866099794002, 563.5992445883098, 550.8615655201769, 528.8438238375627, 511.2595102535588, 503.1906567130608, 485.7500169210208, 443.6316191452621, 425.6794964594237, 424.27569934939004, 411.37549134276014, 410.41979732288644, 364.93393628820206, 354.3255032218709, 339.10992250470036, 332.4246660118959, 325.0103058009858, 311.28118484279076, 286.8788789395708, 286.14699969324937, 269.4742098128462, 251.95540259897456, 244.6120821179556, 237.0697729047684, 221.39503693698614, 1122.526713697869, 1634.9276563512499, 2025.569097597842, 2135.816221459843, 692.3864724172893, 1600.1285624859222, 1411.2035363063962, 1072.209154835033, 980.0577327857086, 976.7302570669036, 931.1226901482819, 892.3340698938282, 857.2569561890749, 827.7859476952441, 823.3800658584702, 732.6827780175485, 697.6150205849186, 687.894223340966, 428.02185336509314, 415.8213701565776, 403.6359535775935, 394.9561440477656, 378.16752133489797, 336.8488926632097, 320.56237002728636, 315.1508996801667, 304.199573284775, 294.5248769342276, 286.20396073743206, 275.6467567948728, 266.7487886746871, 255.85333520093147, 230.94824772681238, 225.06439702214092, 224.9203110670026, 235.27787710011594, 820.4272862474363, 2135.816221459843, 2917.7007325148966, 7311.515529299865, 1062.2756335516603, 980.6582337682711, 829.9819582242393, 819.3850216198924, 783.6339061882279, 698.7380677617753, 647.9586244051591, 576.779464718237, 531.9583092687626, 452.22246943696405, 430.0016655529628, 385.9298267833345, 367.1981366161447, 366.3719523306974, 322.7975049285464, 294.3670864708631, 227.32860536389362, 227.25506538829202, 224.23108005545552, 222.3306825669686, 204.13103689305407, 201.57349423519125, 200.71404451483343, 199.8175923121566, 196.15303987740143, 184.7455051227892, 181.86954114958735, 180.506698932113, 178.80123798335842, 1002.7895062097705, 11601.146267059552, 2459.3255829112077, 426.46251035571896, 1191.9185171234476, 3023.1121484039913, 3143.6979815762907, 2551.393530950279, 948.5299756362728, 939.0393974017765, 660.3526567342246, 629.8401764461757, 560.3859158889994, 558.1827766678485, 483.2051738153675, 481.30901335708154, 478.3827659355864, 381.13710364252654, 380.1695626590615, 373.902381574685, 370.5793386273413, 368.97460963894645, 367.742161631865, 344.6780760392734, 342.2516390488723, 340.826866783221, 307.10348370710045, 281.3057606043464, 277.22843198816304, 268.1043239454387, 255.41833426860984, 233.3906169192869, 219.8186734024439, 216.36012924718014, 200.05747269546006, 185.19304870590787, 196.005898945584, 281.659861909411, 7514.483646281203, 3023.1121484039913, 11601.146267059552, 3119.2928164315526, 2282.464660485705, 1787.6032671288644, 1050.5504119230632, 771.355217754276, 683.7550004017439, 561.3946543014533, 515.1741525611153, 508.9723777190862, 499.39620393508153, 471.62319510472884, 454.50696526486263, 424.9218842231948, 399.7767713533212, 330.3749808841415, 319.3216037527206, 308.4630759493034, 297.92208471310784, 295.02980494357615, 279.7405441885259, 249.6389160802112, 243.41436989809546, 224.91698108865205, 204.55912883103568, 204.05200686018875, 195.1361522601137, 194.02391329085597, 193.10046491422057, 186.0870678086365, 185.48053071653146, 11601.146267059552, 3023.1121484039913, 7514.483646281203, 2389.6388108330602, 1920.0599973564308, 1838.1925756130731, 1375.5430837966437, 1365.419933108307, 1034.923440424765, 995.5725256659091, 717.8800874136591, 657.0891761273568, 429.05933753195234, 371.5770056723387, 363.7713060435759, 352.8526637698521, 317.4694944218595, 305.4192512580188, 288.40923277756514, 284.08374979260515, 277.38396122588426, 271.7925566044655, 269.7102126438014, 269.021023821628, 265.23063449499136, 242.0471648643633, 220.45023009920118, 214.85751720122911, 213.29927122652154, 200.59131453243046, 195.501653021258, 194.42912546657627, 180.18622734046878, 174.15852276710254, 494.71831108342377, 224.9112137842904, 269.0523508673469, 2356.0717214233323, 337.9237461445412, 1239.9784558842082, 862.3130692663943, 717.3834822585454, 634.7465883434791, 631.4282998643785, 580.2600081983202, 565.5494724779508, 526.884857704446, 519.7637333347485, 378.25508960342216, 361.49715985670395, 348.2006140947452, 340.20218653775345, 330.8657295696281, 319.6577802139744, 318.51438328699237, 285.93467342857394, 284.7377627677015, 263.76053573191496, 255.47853341493385, 255.3358209921939, 236.94597306601008, 226.26426382872322, 199.61003621893272, 193.82338371076202, 190.67380657995727, 190.3687411384059, 189.46086763904637, 186.7131233572888, 169.66114032620803, 4001.766380160735, 1253.4502578001557, 714.3639868575893, 559.1795536102069, 554.4887275498342, 523.2656332772488, 520.9096153661196, 506.55177445842594, 501.75236805459514, 478.4436780460304, 424.89854400119566, 389.47267748799885, 380.5843201844614, 345.296079897021, 335.19186431034814, 330.1041172563508, 313.7257052261791, 308.3677246510148, 301.2221961055229, 299.32301634104766, 298.18700810143224, 276.9237893256139, 269.91823386399847, 268.6108476189763, 258.4415263090102, 243.40711230470185, 240.5829275929414, 236.20838748621782, 225.87708724194667, 221.890316904228, 443.7613423608421, 1378.0568668356862, 767.1778173955139, 569.3025436844266, 557.9494723632309, 433.32225150123134, 365.6798233285995, 354.83023164149523, 334.6901365873264, 334.6742579556255, 322.45658399381495, 301.3610829488179, 280.1032996586644, 277.5811516012411, 255.85524635350575, 214.20531585737973, 202.50037429066865, 192.83710670219716, 189.8634683243039, 187.1612893151558, 165.65074253767776, 156.14767027440524, 155.06051743082057, 154.83887517716775, 153.87488818079305, 150.06090369987513, 148.96918499837918, 145.66948696586377, 142.2505657086438, 141.6067826776982, 140.92315824823498, 404.3790730962717, 3023.1121484039913], \"Category\": [\"Default\", \"Default\", \"Default\", \"Default\", \"Default\", \"Default\", \"Default\", \"Default\", \"Default\", \"Default\", \"Default\", \"Default\", \"Default\", \"Default\", \"Default\", \"Default\", \"Default\", \"Default\", \"Default\", \"Default\", \"Default\", \"Default\", \"Default\", \"Default\", \"Default\", \"Default\", \"Default\", \"Default\", \"Default\", \"Default\", \"Topic1\", \"Topic1\", \"Topic1\", \"Topic1\", \"Topic1\", \"Topic1\", \"Topic1\", \"Topic1\", \"Topic1\", \"Topic1\", \"Topic1\", \"Topic1\", \"Topic1\", \"Topic1\", \"Topic1\", \"Topic1\", \"Topic1\", \"Topic1\", \"Topic1\", \"Topic1\", \"Topic1\", \"Topic1\", \"Topic1\", \"Topic1\", \"Topic1\", \"Topic1\", \"Topic1\", \"Topic1\", \"Topic1\", \"Topic1\", \"Topic1\", \"Topic1\", \"Topic1\", \"Topic1\", \"Topic1\", \"Topic1\", \"Topic1\", \"Topic1\", \"Topic1\", \"Topic1\", \"Topic2\", \"Topic2\", \"Topic2\", \"Topic2\", \"Topic2\", \"Topic2\", \"Topic2\", \"Topic2\", \"Topic2\", \"Topic2\", \"Topic2\", \"Topic2\", \"Topic2\", \"Topic2\", \"Topic2\", \"Topic2\", \"Topic2\", \"Topic2\", \"Topic2\", \"Topic2\", \"Topic2\", \"Topic2\", \"Topic2\", \"Topic2\", \"Topic2\", \"Topic2\", \"Topic2\", \"Topic2\", \"Topic2\", \"Topic2\", \"Topic2\", \"Topic2\", \"Topic2\", \"Topic2\", \"Topic2\", \"Topic2\", \"Topic2\", \"Topic2\", \"Topic2\", \"Topic2\", \"Topic3\", \"Topic3\", \"Topic3\", \"Topic3\", \"Topic3\", \"Topic3\", \"Topic3\", \"Topic3\", \"Topic3\", \"Topic3\", \"Topic3\", \"Topic3\", \"Topic3\", \"Topic3\", \"Topic3\", \"Topic3\", \"Topic3\", \"Topic3\", \"Topic3\", \"Topic3\", \"Topic3\", \"Topic3\", \"Topic3\", \"Topic3\", \"Topic3\", \"Topic3\", \"Topic3\", \"Topic3\", \"Topic3\", \"Topic3\", \"Topic3\", \"Topic3\", \"Topic3\", \"Topic3\", \"Topic3\", \"Topic3\", \"Topic3\", \"Topic3\", \"Topic3\", \"Topic3\", \"Topic4\", \"Topic4\", \"Topic4\", \"Topic4\", \"Topic4\", \"Topic4\", \"Topic4\", \"Topic4\", \"Topic4\", \"Topic4\", \"Topic4\", \"Topic4\", \"Topic4\", \"Topic4\", \"Topic4\", \"Topic4\", \"Topic4\", \"Topic4\", \"Topic4\", \"Topic4\", \"Topic4\", \"Topic4\", \"Topic4\", \"Topic4\", \"Topic4\", \"Topic4\", \"Topic4\", \"Topic4\", \"Topic4\", \"Topic4\", \"Topic4\", \"Topic4\", \"Topic4\", \"Topic4\", \"Topic4\", \"Topic4\", \"Topic4\", \"Topic4\", \"Topic4\", \"Topic4\", \"Topic4\", \"Topic5\", \"Topic5\", \"Topic5\", \"Topic5\", \"Topic5\", \"Topic5\", \"Topic5\", \"Topic5\", \"Topic5\", \"Topic5\", \"Topic5\", \"Topic5\", \"Topic5\", \"Topic5\", \"Topic5\", \"Topic5\", \"Topic5\", \"Topic5\", \"Topic5\", \"Topic5\", \"Topic5\", \"Topic5\", \"Topic5\", \"Topic5\", \"Topic5\", \"Topic5\", \"Topic5\", \"Topic5\", \"Topic5\", \"Topic5\", \"Topic5\", \"Topic5\", \"Topic5\", \"Topic5\", \"Topic5\", \"Topic5\", \"Topic5\", \"Topic5\", \"Topic5\", \"Topic6\", \"Topic6\", \"Topic6\", \"Topic6\", \"Topic6\", \"Topic6\", \"Topic6\", \"Topic6\", \"Topic6\", \"Topic6\", \"Topic6\", \"Topic6\", \"Topic6\", \"Topic6\", \"Topic6\", \"Topic6\", \"Topic6\", \"Topic6\", \"Topic6\", \"Topic6\", \"Topic6\", \"Topic6\", \"Topic6\", \"Topic6\", \"Topic6\", \"Topic6\", \"Topic6\", \"Topic6\", \"Topic6\", \"Topic6\", \"Topic6\", \"Topic6\", \"Topic6\", \"Topic6\", \"Topic6\", \"Topic7\", \"Topic7\", \"Topic7\", \"Topic7\", \"Topic7\", \"Topic7\", \"Topic7\", \"Topic7\", \"Topic7\", \"Topic7\", \"Topic7\", \"Topic7\", \"Topic7\", \"Topic7\", \"Topic7\", \"Topic7\", \"Topic7\", \"Topic7\", \"Topic7\", \"Topic7\", \"Topic7\", \"Topic7\", \"Topic7\", \"Topic7\", \"Topic7\", \"Topic7\", \"Topic7\", \"Topic7\", \"Topic7\", \"Topic7\", \"Topic7\", \"Topic7\", \"Topic7\", \"Topic7\", \"Topic8\", \"Topic8\", \"Topic8\", \"Topic8\", \"Topic8\", \"Topic8\", \"Topic8\", \"Topic8\", \"Topic8\", \"Topic8\", \"Topic8\", \"Topic8\", \"Topic8\", \"Topic8\", \"Topic8\", \"Topic8\", \"Topic8\", \"Topic8\", \"Topic8\", \"Topic8\", \"Topic8\", \"Topic8\", \"Topic8\", \"Topic8\", \"Topic8\", \"Topic8\", \"Topic8\", \"Topic8\", \"Topic8\", \"Topic8\", \"Topic8\", \"Topic8\", \"Topic8\", \"Topic8\", \"Topic8\", \"Topic9\", \"Topic9\", \"Topic9\", \"Topic9\", \"Topic9\", \"Topic9\", \"Topic9\", \"Topic9\", \"Topic9\", \"Topic9\", \"Topic9\", \"Topic9\", \"Topic9\", \"Topic9\", \"Topic9\", \"Topic9\", \"Topic9\", \"Topic9\", \"Topic9\", \"Topic9\", \"Topic9\", \"Topic9\", \"Topic9\", \"Topic9\", \"Topic9\", \"Topic9\", \"Topic9\", \"Topic9\", \"Topic9\", \"Topic9\", \"Topic9\", \"Topic9\", \"Topic9\", \"Topic9\", \"Topic10\", \"Topic10\", \"Topic10\", \"Topic10\", \"Topic10\", \"Topic10\", \"Topic10\", \"Topic10\", \"Topic10\", \"Topic10\", \"Topic10\", \"Topic10\", \"Topic10\", \"Topic10\", \"Topic10\", \"Topic10\", \"Topic10\", \"Topic10\", \"Topic10\", \"Topic10\", \"Topic10\", \"Topic10\", \"Topic10\", \"Topic10\", \"Topic10\", \"Topic10\", \"Topic10\", \"Topic10\", \"Topic10\", \"Topic10\", \"Topic10\", \"Topic10\", \"Topic10\", \"Topic10\", \"Topic10\", \"Topic10\", \"Topic11\", \"Topic11\", \"Topic11\", \"Topic11\", \"Topic11\", \"Topic11\", \"Topic11\", \"Topic11\", \"Topic11\", \"Topic11\", \"Topic11\", \"Topic11\", \"Topic11\", \"Topic11\", \"Topic11\", \"Topic11\", \"Topic11\", \"Topic11\", \"Topic11\", \"Topic11\", \"Topic11\", \"Topic11\", \"Topic11\", \"Topic11\", \"Topic11\", \"Topic11\", \"Topic11\", \"Topic11\", \"Topic11\", \"Topic11\", \"Topic11\", \"Topic11\", \"Topic11\", \"Topic11\", \"Topic11\", \"Topic12\", \"Topic12\", \"Topic12\", \"Topic12\", \"Topic12\", \"Topic12\", \"Topic12\", \"Topic12\", \"Topic12\", \"Topic12\", \"Topic12\", \"Topic12\", \"Topic12\", \"Topic12\", \"Topic12\", \"Topic12\", \"Topic12\", \"Topic12\", \"Topic12\", \"Topic12\", \"Topic12\", \"Topic12\", \"Topic12\", \"Topic12\", \"Topic12\", \"Topic12\", \"Topic12\", \"Topic12\", \"Topic12\", \"Topic12\", \"Topic12\", \"Topic12\", \"Topic12\", \"Topic12\", \"Topic13\", \"Topic13\", \"Topic13\", \"Topic13\", \"Topic13\", \"Topic13\", \"Topic13\", \"Topic13\", \"Topic13\", \"Topic13\", \"Topic13\", \"Topic13\", \"Topic13\", \"Topic13\", \"Topic13\", \"Topic13\", \"Topic13\", \"Topic13\", \"Topic13\", \"Topic13\", \"Topic13\", \"Topic13\", \"Topic13\", \"Topic13\", \"Topic13\", \"Topic13\", \"Topic13\", \"Topic13\", \"Topic13\", \"Topic13\", \"Topic13\", \"Topic13\", \"Topic13\", \"Topic13\", \"Topic13\", \"Topic14\", \"Topic14\", \"Topic14\", \"Topic14\", \"Topic14\", \"Topic14\", \"Topic14\", \"Topic14\", \"Topic14\", \"Topic14\", \"Topic14\", \"Topic14\", \"Topic14\", \"Topic14\", \"Topic14\", \"Topic14\", \"Topic14\", \"Topic14\", \"Topic14\", \"Topic14\", \"Topic14\", \"Topic14\", \"Topic14\", \"Topic14\", \"Topic14\", \"Topic14\", \"Topic14\", \"Topic14\", \"Topic14\", \"Topic14\", \"Topic15\", \"Topic15\", \"Topic15\", \"Topic15\", \"Topic15\", \"Topic15\", \"Topic15\", \"Topic15\", \"Topic15\", \"Topic15\", \"Topic15\", \"Topic15\", \"Topic15\", \"Topic15\", \"Topic15\", \"Topic15\", \"Topic15\", \"Topic15\", \"Topic15\", \"Topic15\", \"Topic15\", \"Topic15\", \"Topic15\", \"Topic15\", \"Topic15\", \"Topic15\", \"Topic15\", \"Topic15\", \"Topic15\", \"Topic15\", \"Topic15\", \"Topic16\", \"Topic16\", \"Topic16\", \"Topic16\", \"Topic16\", \"Topic16\", \"Topic16\", \"Topic16\", \"Topic16\", \"Topic16\", \"Topic16\", \"Topic16\", \"Topic16\", \"Topic16\", \"Topic16\", \"Topic16\", \"Topic16\", \"Topic16\", \"Topic16\", \"Topic16\", \"Topic16\", \"Topic16\", \"Topic16\", \"Topic16\", \"Topic16\", \"Topic16\", \"Topic16\", \"Topic16\", \"Topic16\", \"Topic16\", \"Topic16\", \"Topic16\"], \"logprob\": [30.0, 29.0, 28.0, 27.0, 26.0, 25.0, 24.0, 23.0, 22.0, 21.0, 20.0, 19.0, 18.0, 17.0, 16.0, 15.0, 14.0, 13.0, 12.0, 11.0, 10.0, 9.0, 8.0, 7.0, 6.0, 5.0, 4.0, 3.0, 2.0, 1.0, -3.2083, -3.4539, -3.531, -3.658, -3.7604, -3.9121, -3.9125, -3.9383, -3.9697, -4.0277, -4.2928, -4.2806, -4.3124, -4.3667, -4.374, -4.4293, -4.4529, -4.4904, -4.6279, -4.8105, -4.8396, -4.9006, -4.9035, -4.9459, -4.9799, -5.0026, -5.069, -5.0834, -5.0977, -5.1494, -3.6714, -4.3789, -3.6073, -3.2075, -4.6294, -3.6658, -3.6125, -4.4735, -4.8158, -4.8201, -2.9548, -3.218, -3.3538, -3.6516, -3.6537, -3.7448, -4.0256, -4.0692, -4.1028, -4.2261, -4.2852, -4.3204, -4.4929, -4.5872, -4.6255, -4.708, -4.7394, -4.7426, -4.7637, -4.7791, -4.9062, -4.9144, -5.15, -5.1826, -5.1842, -5.1986, -5.2119, -5.2344, -5.2636, -5.2808, -3.3721, -3.016, -2.5609, -3.4015, -3.4325, -2.7521, -4.1547, -3.6808, -4.2895, -4.7368, -2.7742, -3.3024, -3.5233, -3.5662, -3.5676, -3.6824, -3.689, -3.7518, -3.8576, -4.0108, -4.0233, -4.0763, -4.1811, -4.2726, -4.2749, -4.2857, -4.4531, -4.4961, -4.5742, -4.6974, -4.8284, -4.922, -5.0496, -5.102, -5.2148, -5.2336, -5.2488, -5.302, -5.3048, -5.3148, -4.6542, -4.2472, -3.4222, -4.893, -4.4347, -4.1954, -3.7019, -4.0134, -4.1426, -4.8043, -2.8736, -3.2621, -3.5544, -3.597, -3.9243, -4.0359, -4.0785, -4.4042, -4.4853, -4.5174, -4.6378, -4.6867, -4.7341, -4.7644, -4.7654, -4.8449, -4.881, -4.8848, -4.8862, -4.9017, -4.9456, -4.9531, -4.9666, -4.9789, -4.9901, -5.1911, -5.1972, -5.2128, -5.2137, -5.2201, -3.1832, -3.9281, -3.7819, -4.0682, -4.7997, -3.2378, -3.7964, -4.7011, -4.8993, -4.7765, -4.7825, -3.3828, -3.4394, -3.5002, -3.6239, -3.9156, -3.9952, -4.0737, -4.0937, -4.11, -4.1387, -4.2039, -4.2978, -4.3171, -4.3412, -4.4632, -4.5898, -4.6263, -4.7073, -4.7902, -4.8393, -4.9225, -4.938, -4.943, -4.9508, -4.9568, -5.1145, -5.1198, -5.1514, -5.1589, -5.1691, -3.3055, -4.0407, -4.1497, -4.6413, -4.0443, -3.8626, -4.7094, -4.8107, -4.8628, -2.7797, -3.1232, -3.8265, -3.9781, -4.1643, -4.4021, -4.4074, -4.4559, -4.4699, -4.4883, -4.5401, -4.5733, -4.6353, -4.6464, -4.6635, -4.6997, -4.7571, -4.8661, -4.8872, -4.9782, -4.9962, -5.0016, -5.0018, -5.0688, -5.1319, -5.1451, -5.1491, -5.162, -5.1773, -5.1853, -2.1074, -3.7568, -4.6616, -4.5363, -5.0549, -3.4515, -3.5404, -3.745, -3.8497, -3.932, -4.0679, -4.1899, -4.2233, -4.2234, -4.2449, -4.2557, -4.2801, -4.289, -4.3096, -4.4198, -3.7703, -4.5485, -4.6148, -4.8027, -4.8038, -4.8415, -4.8599, -4.8827, -4.9035, -4.9403, -4.9857, -4.9976, -5.0123, -5.0193, -5.0954, -1.8962, -3.6893, -4.3477, -4.9844, -2.8495, -3.4197, -3.588, -3.6972, -4.0882, -4.24, -4.2614, -4.2843, -4.3251, -4.359, -4.375, -4.4103, -4.5012, -4.5426, -4.5459, -4.5768, -4.5791, -4.6969, -4.7264, -4.7704, -4.7904, -4.813, -4.8563, -4.9382, -4.9408, -5.001, -5.0684, -5.0981, -5.1295, -5.1982, -3.9366, -3.6475, -3.6405, -3.6167, -4.6999, -3.147, -3.2727, -3.5476, -3.6376, -3.641, -3.6888, -3.7314, -3.7716, -3.8066, -3.8119, -3.9288, -3.9779, -3.9919, -4.4671, -4.4961, -4.5259, -4.5477, -4.5912, -4.7072, -4.7569, -4.774, -4.8095, -4.8419, -4.8706, -4.9083, -4.9412, -4.9831, -5.0859, -5.1118, -5.1124, -5.075, -4.0617, -4.5492, -4.5825, -1.6037, -3.5334, -3.6134, -3.7804, -3.7933, -3.838, -3.9528, -4.0283, -4.1448, -4.2259, -4.3885, -4.439, -4.5474, -4.5973, -4.5995, -4.7265, -4.8189, -5.0782, -5.0786, -5.092, -5.1006, -5.1863, -5.199, -5.2033, -5.2078, -5.2264, -5.2865, -5.3023, -5.3099, -5.3194, -3.9217, -3.0901, -4.2374, -5.0954, -5.077, -5.1102, -2.4458, -2.6547, -3.6447, -3.655, -4.0073, -4.0546, -4.1716, -4.1756, -4.3201, -4.324, -4.3301, -4.5578, -4.5604, -4.577, -4.586, -4.5903, -4.5937, -4.6586, -4.6657, -4.6699, -4.7744, -4.8624, -4.877, -4.9106, -4.9592, -5.0497, -5.1099, -5.1258, -5.2045, -5.282, -5.2255, -4.9585, -3.6372, -4.1379, -3.806, -2.4525, -2.765, -3.0095, -3.5414, -3.8506, -3.9713, -4.1687, -4.2548, -4.2669, -4.286, -4.3433, -4.3803, -4.4478, -4.5089, -4.7, -4.7342, -4.7688, -4.8037, -4.8135, -4.8669, -4.9811, -5.0064, -5.0858, -5.181, -5.1835, -5.2284, -5.2342, -5.2389, -5.2761, -5.2794, -2.3976, -3.6299, -3.1581, -3.8242, -2.8422, -2.8858, -3.1759, -3.1833, -3.4606, -3.4994, -3.8268, -3.9154, -4.3423, -4.4865, -4.5078, -4.5383, -4.6443, -4.6831, -4.7405, -4.7557, -4.7796, -4.8001, -4.8078, -4.8103, -4.8246, -4.9164, -5.0102, -5.036, -5.0433, -5.105, -5.1308, -5.1363, -5.2127, -5.2469, -4.2111, -4.9947, -5.0233, -4.4912, -5.002, -3.2594, -3.6229, -3.8071, -3.9297, -3.9349, -4.0196, -4.0453, -4.1162, -4.1298, -4.4483, -4.4937, -4.5313, -4.5546, -4.5825, -4.617, -4.6206, -4.7288, -4.733, -4.8098, -4.8418, -4.8424, -4.9174, -4.9637, -5.0895, -5.1191, -5.1356, -5.1372, -5.142, -5.1566, -5.2529, -2.0831, -3.2444, -3.8072, -4.0524, -4.0609, -4.1189, -4.1234, -4.1514, -4.161, -4.2086, -4.3275, -4.4148, -4.4379, -4.5355, -4.5652, -4.5806, -4.6316, -4.6489, -4.6724, -4.6787, -4.6825, -4.7567, -4.7825, -4.7873, -4.8261, -4.8862, -4.8979, -4.9163, -4.9612, -4.9791, -4.764, -2.9573, -3.5435, -3.8422, -3.8624, -4.1156, -4.2857, -4.3159, -4.3745, -4.3745, -4.4118, -4.4797, -4.5531, -4.5621, -4.6439, -4.8222, -4.8787, -4.9278, -4.9434, -4.9578, -5.0805, -5.1399, -5.1469, -5.1483, -5.1546, -5.1799, -5.1872, -5.2097, -5.2336, -5.2382, -5.2431, -4.5728, -4.8833], \"loglift\": [30.0, 29.0, 28.0, 27.0, 26.0, 25.0, 24.0, 23.0, 22.0, 21.0, 20.0, 19.0, 18.0, 17.0, 16.0, 15.0, 14.0, 13.0, 12.0, 11.0, 10.0, 9.0, 8.0, 7.0, 6.0, 5.0, 4.0, 3.0, 2.0, 1.0, 2.0973, 2.0973, 2.0972, 2.0972, 2.0971, 2.0971, 2.0971, 2.0971, 2.097, 2.097, 2.0968, 2.0968, 2.0968, 2.0968, 2.0968, 2.0967, 2.0967, 2.0967, 2.0965, 2.0963, 2.0963, 2.0962, 2.0962, 2.0961, 2.0961, 2.096, 2.0959, 2.0959, 2.0959, 2.0958, 1.9261, 1.9581, 1.6424, 1.1515, 1.7981, 0.7664, 0.4483, 0.7089, 0.9372, 0.621, 2.4532, 2.4531, 2.4531, 2.4529, 2.4529, 2.4529, 2.4526, 2.4526, 2.4526, 2.4525, 2.4524, 2.4524, 2.4521, 2.452, 2.452, 2.4518, 2.4518, 2.4518, 2.4517, 2.4517, 2.4515, 2.4514, 2.4509, 2.4508, 2.4508, 2.4508, 2.4507, 2.4507, 2.4506, 2.4505, 2.2828, 2.1663, 1.798, 2.0047, 2.0086, 1.68, 1.423, 0.38, 1.1161, 0.513, 2.5971, 2.5969, 2.5968, 2.5968, 2.5968, 2.5967, 2.5967, 2.5966, 2.5966, 2.5964, 2.5964, 2.5964, 2.5962, 2.5961, 2.5961, 2.5961, 2.5959, 2.5958, 2.5957, 2.5955, 2.5952, 2.595, 2.5947, 2.5945, 2.5942, 2.5941, 2.5941, 2.5939, 2.5939, 2.5938, 2.512, 2.3526, 2.1555, 2.3032, 1.5856, 1.2108, 0.3589, 0.4188, 0.2163, 1.3419, 2.669, 2.6689, 2.6687, 2.6687, 2.6684, 2.6683, 2.6683, 2.6678, 2.6677, 2.6676, 2.6674, 2.6673, 2.6672, 2.6672, 2.6672, 2.667, 2.6669, 2.6669, 2.6669, 2.6668, 2.6667, 2.6667, 2.6667, 2.6666, 2.6666, 2.666, 2.666, 2.6659, 2.6659, 2.6659, 2.4288, 2.3663, 2.1988, 2.2864, 2.4353, 1.1923, 0.6358, 2.0832, 2.294, 1.0295, 0.7573, 2.7372, 2.7372, 2.7371, 2.737, 2.7368, 2.7367, 2.7366, 2.7366, 2.7366, 2.7365, 2.7364, 2.7363, 2.7363, 2.7362, 2.736, 2.7358, 2.7357, 2.7356, 2.7354, 2.7353, 2.735, 2.735, 2.735, 2.735, 2.7349, 2.7344, 2.7344, 2.7343, 2.7343, 2.7343, 2.3353, 2.2824, 2.2119, 2.349, 1.4954, 0.1982, 0.8881, 1.17, 0.5434, 2.791, 2.7908, 2.7903, 2.7902, 2.7899, 2.7896, 2.7896, 2.7895, 2.7895, 2.7894, 2.7893, 2.7893, 2.7891, 2.7891, 2.7891, 2.789, 2.7889, 2.7886, 2.7885, 2.7882, 2.7882, 2.7882, 2.7882, 2.788, 2.7877, 2.7877, 2.7877, 2.7876, 2.7876, 2.7875, 2.3876, 2.5795, 2.1315, 1.0034, 0.3507, 2.7924, 2.7924, 2.7922, 2.7921, 2.792, 2.7919, 2.7917, 2.7917, 2.7917, 2.7916, 2.7916, 2.7916, 2.7916, 2.7915, 2.7913, 2.7912, 2.7911, 2.791, 2.7905, 2.7905, 2.7904, 2.7904, 2.7903, 2.7902, 2.7901, 2.79, 2.79, 2.7899, 2.7899, 2.7896, 2.5338, 2.4569, 0.902, 1.5247, 2.8251, 2.8248, 2.8247, 2.8246, 2.8241, 2.8239, 2.8239, 2.8239, 2.8238, 2.8237, 2.8237, 2.8236, 2.8235, 2.8234, 2.8234, 2.8233, 2.8233, 2.823, 2.823, 2.8229, 2.8228, 2.8228, 2.8226, 2.8224, 2.8224, 2.8222, 2.822, 2.8219, 2.8217, 2.8215, 2.4597, 2.3728, 2.1656, 2.1364, 2.1795, 2.8948, 2.8947, 2.8945, 2.8945, 2.8945, 2.8944, 2.8944, 2.8943, 2.8943, 2.8943, 2.8942, 2.8941, 2.8941, 2.8933, 2.8933, 2.8932, 2.8931, 2.893, 2.8928, 2.8926, 2.8926, 2.8925, 2.8924, 2.8923, 2.8922, 2.8921, 2.8919, 2.8916, 2.8915, 2.8915, 2.8839, 2.6481, 1.2038, 0.8586, 2.9187, 2.918, 2.918, 2.9178, 2.9178, 2.9177, 2.9176, 2.9175, 2.9173, 2.9172, 2.9169, 2.9168, 2.9166, 2.9165, 2.9165, 2.9161, 2.9159, 2.915, 2.915, 2.9149, 2.9149, 2.9146, 2.9145, 2.9145, 2.9145, 2.9144, 2.9141, 2.914, 2.914, 2.9139, 2.5874, 0.9706, 1.3746, 2.2687, 1.2593, 0.2954, 2.9206, 2.9206, 2.92, 2.9198, 2.9196, 2.9195, 2.9194, 2.9194, 2.9191, 2.9191, 2.9191, 2.9186, 2.9186, 2.9186, 2.9186, 2.9186, 2.9185, 2.9184, 2.9184, 2.9184, 2.9181, 2.9178, 2.9178, 2.9177, 2.9175, 2.9172, 2.9169, 2.9169, 2.9165, 2.9162, 2.9159, 2.8204, 0.8578, 1.2677, 0.2548, 2.9217, 2.9216, 2.9215, 2.9212, 2.9209, 2.9207, 2.9205, 2.9203, 2.9203, 2.9203, 2.9202, 2.9201, 2.92, 2.9198, 2.9194, 2.9193, 2.9192, 2.9191, 2.919, 2.9189, 2.9185, 2.9184, 2.9181, 2.9177, 2.9177, 2.9175, 2.9175, 2.9175, 2.9173, 2.9173, 1.6632, 1.7757, 1.337, 1.8165, 3.0173, 3.0173, 3.0171, 3.0171, 3.0169, 3.0169, 3.0165, 3.0164, 3.0157, 3.0154, 3.0153, 3.0153, 3.015, 3.0149, 3.0147, 3.0147, 3.0146, 3.0145, 3.0145, 3.0145, 3.0145, 3.0141, 3.0138, 3.0137, 3.0136, 3.0134, 3.0133, 3.0133, 3.0129, 3.0127, 3.0045, 3.0093, 2.8014, 1.1637, 2.5948, 3.0374, 3.0371, 3.0369, 3.0367, 3.0367, 3.0366, 3.0365, 3.0364, 3.0364, 3.0358, 3.0357, 3.0356, 3.0355, 3.0355, 3.0354, 3.0353, 3.035, 3.035, 3.0348, 3.0347, 3.0347, 3.0344, 3.0342, 3.0337, 3.0336, 3.0335, 3.0335, 3.0335, 3.0334, 3.0329, 3.0421, 3.0416, 3.0411, 3.0407, 3.0407, 3.0406, 3.0406, 3.0406, 3.0406, 3.0405, 3.0402, 3.0401, 3.04, 3.0398, 3.0397, 3.0396, 3.0395, 3.0395, 3.0394, 3.0394, 3.0394, 3.0391, 3.0391, 3.039, 3.0389, 3.0387, 3.0387, 3.0386, 3.0384, 3.0384, 2.5603, 3.2339, 3.2334, 3.233, 3.233, 3.2325, 3.2321, 3.2321, 3.2319, 3.2319, 3.2318, 3.2316, 3.2314, 3.2314, 3.2311, 3.2305, 3.2302, 3.23, 3.2299, 3.2299, 3.2293, 3.2289, 3.2289, 3.2289, 3.2289, 3.2287, 3.2287, 3.2285, 3.2284, 3.2284, 3.2283, 2.8445, 0.5222]}, \"token.table\": {\"Topic\": [7, 12, 16, 7, 2, 3, 1, 9, 13, 12, 15, 3, 12, 16, 3, 5, 6, 9, 11, 4, 5, 7, 10, 8, 6, 6, 5, 2, 11, 10, 1, 13, 7, 2, 2, 3, 13, 1, 9, 1, 9, 13, 6, 2, 13, 12, 6, 4, 11, 1, 6, 2, 8, 10, 2, 4, 11, 14, 4, 6, 13, 13, 9, 2, 3, 5, 6, 3, 15, 16, 1, 5, 3, 15, 13, 7, 11, 11, 15, 6, 8, 14, 12, 2, 11, 8, 10, 1, 3, 2, 5, 4, 2, 8, 14, 10, 10, 12, 12, 2, 2, 11, 7, 13, 13, 9, 9, 15, 8, 14, 3, 16, 13, 15, 5, 12, 1, 4, 5, 9, 15, 11, 1, 1, 8, 6, 14, 11, 7, 7, 11, 11, 8, 12, 6, 3, 7, 4, 12, 2, 14, 16, 7, 12, 9, 13, 7, 7, 12, 4, 8, 1, 2, 2, 8, 2, 14, 1, 3, 4, 5, 6, 3, 14, 8, 8, 2, 15, 14, 15, 6, 2, 1, 5, 10, 14, 14, 3, 7, 12, 9, 4, 6, 8, 7, 5, 9, 8, 4, 1, 2, 3, 5, 15, 2, 10, 1, 5, 8, 1, 2, 13, 3, 12, 6, 3, 3, 14, 2, 3, 1, 2, 3, 4, 5, 10, 11, 12, 15, 13, 5, 1, 15, 4, 10, 11, 12, 11, 16, 10, 16, 1, 10, 3, 11, 11, 11, 7, 5, 15, 16, 1, 5, 7, 11, 10, 14, 13, 1, 2, 6, 14, 1, 8, 9, 1, 4, 8, 11, 1, 2, 5, 6, 10, 11, 12, 16, 9, 3, 4, 6, 3, 2, 16, 7, 1, 3, 5, 10, 12, 5, 16, 3, 10, 13, 15, 13, 9, 16, 13, 2, 8, 15, 5, 3, 2, 14, 7, 6, 9, 9, 12, 3, 16, 11, 16, 16, 1, 7, 9, 9, 2, 11, 4, 5, 9, 9, 13, 1, 6, 3, 11, 10, 4, 3, 5, 14, 15, 14, 15, 9, 7, 2, 14, 15, 13, 1, 12, 6, 1, 13, 3, 8, 14, 4, 10, 3, 7, 16, 1, 4, 4, 12, 16, 12, 7, 6, 9, 11, 1, 6, 11, 12, 10, 1, 2, 9, 14, 13, 4, 12, 1, 1, 5, 10, 4, 11, 9, 3, 6, 3, 7, 4, 2, 3, 6, 2, 12, 14, 14, 11, 16, 16, 15, 15, 1, 8, 15, 15, 8, 5, 2, 13, 6, 1, 3, 1, 3, 16, 15, 10, 16, 9, 4, 11, 4, 13, 7, 9, 6, 10, 5, 1, 8, 4, 1, 14, 16, 3, 14, 1, 10, 13, 6, 6, 8, 9, 13, 5, 12, 8, 10, 6, 10, 11, 6, 5, 16, 10, 9, 7, 15, 5, 10, 3, 14, 8, 14, 4, 7, 7, 11, 4, 13, 1, 9, 6, 3, 4, 3, 10, 1, 13, 5, 15, 13, 12, 7, 5, 16, 1, 8, 14, 2, 9, 4, 3, 16, 1, 2, 4, 5, 7, 16, 6, 1, 4, 16, 6, 8, 8, 13, 7, 13, 2, 13, 1, 7, 11, 10, 12, 1, 10, 14, 10, 2, 16, 8, 11, 4, 10, 16, 1, 13, 12, 1, 2, 14, 12, 5, 15, 4, 6, 6, 15, 15, 13, 4, 13, 1, 3, 4, 5, 8, 5, 3, 5, 2, 1, 2, 3, 4, 5, 16, 1, 5, 12, 1, 10, 10, 11, 16, 4, 5, 10, 11, 5, 6, 12, 15, 9, 10, 2, 1, 5, 3, 7, 3, 2, 5, 8, 7, 4, 7, 1, 4, 8, 12, 5, 2, 5, 8, 7, 10, 8, 5, 4, 4, 4, 7, 11, 9, 9, 14, 9, 12, 15, 10, 8, 5, 4, 15, 16], \"Freq\": [0.9989381423411944, 0.9973527463075683, 0.9957150168500103, 0.9986598770794917, 0.25377038898630466, 0.74545051764727, 0.9994239624569375, 0.9958941116196125, 0.9987740467675739, 0.9969049467615139, 0.9964442325806434, 0.9982600816349433, 0.9941582839611702, 0.9926500967168553, 0.9972460176057338, 0.9950697130473236, 0.008500586730255798, 0.9903183540748004, 0.997573938959023, 0.5568082309709326, 0.1510211003812671, 0.29153638508383733, 0.9955188342519586, 0.9995831188352333, 0.9963139296188206, 0.9965045958676175, 0.995312455965715, 0.999498852107031, 0.9969235762829588, 0.9940148496302674, 0.9990091640437259, 0.9978796952075062, 0.9978119767657396, 0.9983630304451122, 0.9973657448454039, 0.9977041952179414, 0.9994249282185382, 0.9988654942778014, 0.9960566240385484, 0.9992439959472591, 0.9988722770836451, 0.9996051859058135, 0.9986271212176989, 0.8429284991376377, 0.15661662446212907, 0.9992066340673806, 0.9985367667939498, 0.9965576545230337, 0.9955688816642895, 0.9987208881504234, 0.9995670303805794, 0.9995463615450013, 0.9974408072384244, 0.9985205468851671, 0.26067432814273117, 0.7385772630710716, 0.9994412663280174, 0.9961031717402297, 0.9968422134705677, 0.9989350261655016, 0.998521135321318, 0.9984471437588162, 0.9989207444109419, 0.6384545736733184, 0.24988761177986282, 0.11153923863551492, 0.999322809510772, 0.9988964602283116, 0.9990726640012417, 0.9954040686226852, 0.9994300840877981, 0.996260226978256, 0.9972437902238475, 0.9985005191754007, 0.9975835132977535, 0.9977447377667994, 0.9980327265166813, 0.9979818424176015, 0.999640785266624, 0.9959869661640421, 0.9987225195500965, 0.9979422361829139, 0.9986786165074208, 0.9988202915224592, 0.9964068017276128, 0.9962590803941062, 0.9944772831085301, 0.9991228514959023, 0.9987542700791334, 0.36514033689091496, 0.6342346894749226, 0.998544747523918, 0.4751681511791834, 0.5242736744013482, 0.9984772708275065, 0.9976705542484942, 0.9988168920848108, 0.9941776434199685, 0.9988845819676995, 0.9982581510078671, 0.9983505468995161, 0.9993113390646386, 0.994828177721542, 0.9933478835907916, 0.9970521428915864, 0.9985049658655453, 0.9957933470440803, 0.9975812795705271, 0.9989771513810378, 0.9974089746279864, 0.9953906102660286, 0.9937952483689063, 0.9977928951459999, 0.9989107244584903, 0.9987076398618677, 0.9992970109379749, 0.9997171966185143, 0.9985524634732519, 0.218178994044348, 0.7813001965498719, 0.9966552454252082, 0.998893126950102, 0.9995271161195078, 0.3055606568774446, 0.6939701215962955, 0.997367745874161, 0.9965519472219583, 0.9997779743536493, 0.9957253090800577, 0.09230992241401532, 0.9053473159836118, 0.997016549604698, 0.9995473053709517, 0.9994760728121027, 0.9992308805339726, 0.9988719119521315, 0.9958579276789641, 0.9982885565752367, 0.9948444179678685, 0.9971088978668627, 0.9960076423592709, 0.9969485723462148, 0.9979424467150735, 0.9943010757912498, 0.9995384077484631, 0.9934166592087676, 0.9986402467186855, 0.9977242285449225, 0.9958612140951665, 0.9979152133056878, 0.995884155852729, 0.999304067833927, 0.9991252808883669, 0.9976042342988068, 0.9969932302242475, 0.9961332761013564, 0.9964661817370561, 0.24815478632243768, 0.14790933148181878, 0.14790933148181878, 0.28863125299393283, 0.16720185297944734, 0.9996082191277094, 0.9967311644391829, 0.9984559611016076, 0.9984043988044722, 0.9980574292176104, 0.9977259011525744, 0.9993216967556404, 0.99980848952989, 0.9984820291365811, 0.9981559039880663, 0.9997129905538744, 0.9992217748504707, 0.9945097706564537, 0.9986247198818906, 0.9985306144200395, 0.9998234288990407, 0.9975665679285105, 0.9959230242011358, 0.9991471561150234, 0.997369401276902, 0.9970708106243178, 0.998576253093774, 0.9990217578034541, 0.9981492742554847, 0.9992523451980524, 0.9982156919935898, 0.9958481704268116, 0.388270402161174, 0.519165030709078, 0.09245086452895439, 0.999265202282629, 0.9982915814059916, 0.9973123225605552, 0.9975293956230457, 0.8424285492981657, 0.15710370662458656, 0.9990872296705511, 0.9997514351317826, 0.9994953686035917, 0.9991077210267979, 0.9990929516215611, 0.9996625273963426, 0.9974235595860788, 0.9953136320388803, 0.9992895146551096, 0.9947683760664559, 0.3567609153396075, 0.6427983012066056, 0.19222238463899827, 0.12576343461358674, 0.10662739452844881, 0.00043099189380941313, 0.0788715165671226, 0.14248592009339198, 0.0694758932820774, 0.28402365802040325, 0.9965981036151076, 0.996204669036183, 0.9968046288221205, 0.38083533617621557, 0.6174490065815567, 0.997103323984541, 0.998648591418528, 0.9962756876393979, 0.9980569872764452, 0.32148053311614005, 0.6775820467217105, 0.9967370841606498, 0.9954521618512255, 0.9990119367365639, 0.9991910684527276, 0.9994179678425286, 0.9983263383745115, 0.9958809916632921, 0.9953582159087636, 0.9955790879407176, 0.997315192757654, 0.9966641026837616, 0.997937983490152, 0.9994167095288042, 0.9980989690073225, 0.9977502200831897, 0.9935578105428651, 0.9989437132513197, 0.9957518866145133, 0.9960089029585779, 0.24952411778003197, 0.7504246002377207, 0.9978030808860462, 0.998385054760529, 0.3132291970058803, 0.5019158433337872, 0.18400459555053955, 0.2888077235645833, 0.194019547625438, 0.5168917719181516, 0.9975058755976235, 0.00033078494971744123, 0.2626432500756483, 0.001653924748587206, 0.08699644177568704, 0.07244190398811963, 0.19152448588639848, 0.317884336678461, 0.06648777489320569, 0.9963480996521518, 0.9995926810222404, 0.9970444524222858, 0.9972991352881987, 0.9979005011686118, 0.9987308387119718, 0.9976602003790532, 0.9974277537573819, 0.2684709068864678, 0.0008604836759181659, 0.59115228535578, 0.13939835549874288, 0.9995855418174457, 0.997076853214901, 0.9975290204157825, 0.9991465716663216, 0.19327093717028324, 0.8065344878067588, 0.9948842312541153, 0.9985810690815132, 0.998794261851676, 0.9943142887631858, 0.9975310232425056, 0.9987722215337274, 0.9982402404550123, 0.997577020120365, 0.9956863847612385, 0.9983750151962097, 0.9983241636460137, 0.9975674784730513, 0.9986861846325463, 0.9958259677222094, 0.9982456767235702, 0.9984244377341592, 0.9974092660039567, 0.9964879958828115, 0.9966573038243504, 0.9975865851111066, 0.9943730814870054, 0.9985840450576016, 0.9991802847258382, 0.9980865868129081, 0.996912687449264, 0.9990681123700001, 0.9997586937945502, 0.9979516146101173, 0.9982040861520686, 0.999422364460459, 0.9991183954376399, 0.9959082794139991, 0.9994479352947876, 0.4822044091222395, 0.5166475812023995, 0.9996450811342921, 0.997881022637586, 0.9944592605305452, 0.9996899353211633, 0.9994648699654943, 0.997625371840418, 0.996681896323621, 0.996116971169337, 0.9971165673825899, 0.9987863654748582, 0.9976536752966259, 0.9983079994327827, 0.9978758873486077, 0.9983205861935355, 0.9978905637686654, 0.9956737156374044, 0.9990567064654333, 0.9984987637568021, 0.9981040098776, 0.9990878771321542, 0.999692451312505, 0.36331882801815196, 0.6361137729610742, 0.994412445839524, 0.7863944544140603, 0.2134731585146751, 0.28512487267792025, 0.7145465179033038, 0.9956589957373198, 0.9972300038880176, 0.9990682110070334, 0.9962818434005738, 0.9980895275231952, 0.9982982825322706, 0.9982976769273362, 0.995334700693407, 0.9979665804057304, 0.9987000569119144, 0.9972803057479616, 0.00013307634257676292, 0.6677770870501964, 0.12708790716080862, 0.2049375675682149, 0.9981985256136333, 0.22826192987446825, 0.6409156289268103, 0.13058227519845708, 0.9961806468422459, 0.9979576791596063, 0.9974455520979432, 0.9958381204276976, 0.9979402783795889, 0.9997837383513184, 0.9992070006624385, 0.9953558446793322, 0.9973858908811887, 0.9991998751567945, 0.9985337462939202, 0.9981606891395886, 0.9972065579908407, 0.9987988481034284, 0.9989436560066818, 0.9975840995813549, 0.9995763574728319, 0.9175982136782681, 0.08079481126726888, 0.9995313377045899, 0.99824306918125, 0.9969438599857593, 0.9992109089641316, 0.9984366677605739, 0.9929301791891314, 0.9931606223918754, 0.9980906276314553, 0.9962464679662523, 0.9989877946378704, 0.9969364111334388, 0.9984646761480395, 0.9991185978622258, 0.9987947096556643, 0.9982616903048244, 0.9986731518508805, 0.9953601344077975, 0.9977976161393349, 0.9990454006011944, 0.9995727862820349, 0.8698169836782242, 0.1292971191954117, 0.9960610972451631, 0.9976868161770298, 0.9975906843192597, 0.9934492083507748, 0.997479900686334, 0.9959838042576377, 0.994714155481361, 0.9980381117504018, 0.9974340215875134, 0.9963880563822881, 0.9976126140358036, 0.9988527152285068, 0.9993287837234163, 0.9985088509922727, 0.9984002013154313, 0.9975364560887402, 0.9976096479254991, 0.9979559229831678, 0.9928100531094505, 0.9960715990299305, 0.9960694840286581, 0.998823800935382, 0.4760090161985741, 0.522906456218138, 0.9973667565761057, 0.9987885707658432, 0.9988114795724482, 0.9968914653383193, 0.9980247043189043, 0.9970839650122615, 0.6687203073350302, 0.33101236739800305, 0.9954875187517132, 0.9959646914153948, 0.8087801189014987, 0.19044926036373466, 0.9937135864546177, 0.9956826690173931, 0.9968278248400112, 0.9945822702715458, 0.995218874232095, 0.9971929069353703, 0.9990172178427211, 0.9978852739933297, 0.9976870420082556, 0.9964424785691534, 0.9979818460009938, 0.9990284272116049, 0.9984359672663615, 0.9978285455131873, 0.9983832199085199, 0.9990631767181672, 0.998086949941454, 0.9948680169780847, 0.9996875363013261, 0.9986272926271285, 0.9995435735797612, 0.9952707001363872, 0.998010333442617, 0.20608955127482356, 0.7913838768953225, 0.9993207249700223, 0.9987991501345133, 0.012128113848990374, 0.9864199263845504, 0.9971723035218397, 0.9983274428555226, 0.9961851045918806, 0.9947227469362446, 0.9961079243450709, 0.9981594930586553, 0.9954835477245445, 0.9994893497116083, 0.9962080487692688, 0.9964662586387579, 0.9982481455017256, 0.996664748574564, 0.9987624388524132, 0.9984834105662724, 0.9979063722522631, 0.6343104903021433, 0.14350531842177003, 0.000283047965328935, 0.07076199133223374, 0.15086456552032235, 0.9977120360713712, 0.9959024186407474, 0.31230712363212676, 0.687866322936583, 0.9912087118781293, 0.9979545276459115, 0.9984037369310117, 0.9976337861262401, 0.9993512237896645, 0.9977153547706068, 0.9983424226620562, 0.998088871727783, 0.9939086935503791, 0.0010509129603423501, 0.9983673123252327, 0.9983621603758096, 0.9971549124681933, 0.9972666639996423, 0.9984875469207902, 0.9941555733306555, 0.9981269134101508, 0.9962553019630197, 0.9979942688530762, 0.9979853306921656, 0.9974977437228123, 0.9973585997153025, 0.9981293084652199, 0.9995301090333196, 0.998464740026618, 0.34327270966741397, 0.6539936968663663, 0.9988958027344585, 0.9993287578008673, 0.9988164330103406, 0.9994654431443861, 0.9965094884438096, 0.9964190140228107, 0.9960192494334681, 0.9991204426867328, 0.9986963736778129, 0.9978463349474156, 0.9959425430087006, 0.9982537942489691, 0.9986157771192417, 0.0044461989385691, 0.9915023633009095, 0.0035275155724789286, 0.16285363559611055, 0.6249581755908502, 0.2087113380383366, 0.9989367540959933, 0.9955771247360149, 0.7828642810360693, 0.21618846254552543, 0.9992716107531231, 0.2641781264470394, 0.46137447627363737, 0.11321919704873117, 0.1308394032119443, 0.03024177228012466, 0.9934940571878021, 0.9997211265546107, 0.998426455097739, 0.999796421607857, 0.9984631541877572, 0.99412173332556, 0.9959083066576073, 0.9963429275244653, 0.9992330745841331, 0.9978367313210377, 0.9979858222399303, 0.9971929078803686, 0.9986660481855629, 0.9991918034401921, 0.9979286283026744, 0.9974406391028957, 0.9955799712390302, 0.9975791133720154, 0.9972967521085672, 0.9989031300867913, 0.7408334492748072, 0.25828064422608044, 0.9996195919714581, 0.9992906370404443, 0.9951463959208533, 0.3211186923109266, 0.6777379435708, 0.9988500144740631, 0.9966143339422653, 0.9986626139417697, 0.999042061832456, 0.31786246709502347, 0.6818662600586793, 0.9967269536187489, 0.9978304618862356, 0.9988955252734889, 0.9994634538169928, 0.9990522469384752, 0.9959915718337814, 0.28121554748400934, 0.7179971425123644, 0.9985354247461139, 0.9981983780701267, 0.9994066473904232, 0.9978355299457501, 0.22833050917763467, 0.7716598529717112, 0.9998457584275005, 0.9982178859059677, 0.9990505423564723, 0.9973834414015794, 0.9992947051178382, 0.9977208628280783, 0.9955646309854164, 0.9999294907741357, 0.9986338515592985, 0.9994973511603018, 0.9964001173099523, 0.995987581086685, 0.9981409329002311], \"Term\": [\"accepted\", \"account\", \"activity\", \"actually\", \"afternoon\", \"afternoon\", \"ago\", \"air\", \"amazing\", \"amazon\", \"anniversary\", \"apartment\", \"applied\", \"appointment\", \"approved\", \"april\", \"area\", \"area\", \"arrived\", \"asked\", \"asked\", \"asked\", \"asleep\", \"ate\", \"attend\", \"attended\", \"award\", \"away\", \"awesome\", \"awhile\", \"baby\", \"bad\", \"bar\", \"baseball\", \"beach\", \"beat\", \"beautiful\", \"bed\", \"beer\", \"best\", \"better\", \"big\", \"bike\", \"birthday\", \"birthday\", \"bonus\", \"book\", \"booked\", \"born\", \"bos\", \"bought\", \"boyfriend\", \"break\", \"breakfast\", \"brother\", \"brother\", \"brought\", \"building\", \"business\", \"buy\", \"buying\", \"cake\", \"called\", \"came\", \"came\", \"came\", \"car\", \"card\", \"care\", \"cash\", \"cat\", \"caught\", \"celebrate\", \"celebrated\", \"chance\", \"change\", \"check\", \"chicken\", \"child\", \"childhood\", \"chocolate\", \"church\", \"city\", \"class\", \"clean\", \"cleaned\", \"client\", \"close\", \"coffee\", \"college\", \"college\", \"come\", \"coming\", \"coming\", \"company\", \"complete\", \"completed\", \"completely\", \"computer\", \"concert\", \"conversation\", \"cooked\", \"cooking\", \"cooky\", \"couch\", \"couple\", \"course\", \"cousin\", \"coworker\", \"coworkers\", \"credit\", \"currently\", \"customer\", \"cute\", \"dad\", \"date\", \"daughter\", \"deal\", \"decided\", \"decided\", \"degree\", \"delicious\", \"did\", \"didnt\", \"didnt\", \"different\", \"difficult\", \"dinner\", \"discovered\", \"dish\", \"dish\", \"doctor\", \"dog\", \"doing\", \"dollar\", \"dont\", \"door\", \"dream\", \"dress\", \"drink\", \"drinking\", \"drive\", \"driving\", \"drove\", \"early\", \"easy\", \"eat\", \"eating\", \"email\", \"end\", \"ended\", \"enjoy\", \"enjoyed\", \"enjoying\", \"entire\", \"episode\", \"especially\", \"event\", \"event\", \"event\", \"event\", \"event\", \"excited\", \"exciting\", \"experience\", \"extra\", \"extremely\", \"eye\", \"face\", \"family\", \"far\", \"father\", \"favorite\", \"feeling\", \"fell\", \"fiance\", \"final\", \"finally\", \"finding\", \"finish\", \"finished\", \"finishing\", \"fixed\", \"flower\", \"food\", \"forward\", \"free\", \"fresh\", \"friday\", \"friend\", \"friend\", \"friend\", \"fun\", \"function\", \"funny\", \"future\", \"game\", \"game\", \"garden\", \"gave\", \"getting\", \"gift\", \"girl\", \"girlfriend\", \"given\", \"giving\", \"goal\", \"god\", \"going\", \"going\", \"got\", \"got\", \"got\", \"got\", \"got\", \"got\", \"got\", \"got\", \"graduation\", \"grandmother\", \"grocery\", \"group\", \"group\", \"gym\", \"hadnt\", \"hair\", \"half\", \"hand\", \"hand\", \"happened\", \"happier\", \"hard\", \"havent\", \"having\", \"head\", \"health\", \"healthy\", \"hear\", \"heard\", \"hearing\", \"heart\", \"help\", \"helped\", \"high\", \"hired\", \"hit\", \"hold\", \"holiday\", \"home\", \"home\", \"hospital\", \"hot\", \"hour\", \"hour\", \"hour\", \"house\", \"house\", \"house\", \"hug\", \"husband\", \"husband\", \"husband\", \"husband\", \"husband\", \"husband\", \"husband\", \"husband\", \"id\", \"im\", \"important\", \"instead\", \"interview\", \"invited\", \"issue\", \"item\", \"ive\", \"ive\", \"ive\", \"ive\", \"job\", \"joy\", \"kept\", \"kid\", \"kind\", \"kind\", \"kitten\", \"knew\", \"know\", \"lake\", \"large\", \"late\", \"later\", \"laughed\", \"laughing\", \"law\", \"le\", \"league\", \"learned\", \"learning\", \"leave\", \"let\", \"letter\", \"level\", \"light\", \"liked\", \"listened\", \"listening\", \"little\", \"live\", \"living\", \"local\", \"long\", \"look\", \"looked\", \"looking\", \"lost\", \"lottery\", \"love\", \"loved\", \"loved\", \"lunch\", \"mail\", \"major\", \"make\", \"making\", \"man\", \"managed\", \"manager\", \"march\", \"marriage\", \"match\", \"meal\", \"meet\", \"meeting\", \"member\", \"message\", \"met\", \"mile\", \"mind\", \"minute\", \"mom\", \"money\", \"money\", \"mood\", \"morning\", \"morning\", \"mother\", \"mother\", \"mountain\", \"moved\", \"movie\", \"moving\", \"mturk\", \"music\", \"nap\", \"near\", \"need\", \"needed\", \"nephew\", \"new\", \"new\", \"new\", \"new\", \"niece\", \"night\", \"night\", \"night\", \"note\", \"noticed\", \"offer\", \"offered\", \"office\", \"old\", \"online\", \"opportunity\", \"order\", \"ordered\", \"outside\", \"paid\", \"pair\", \"parent\", \"park\", \"partner\", \"party\", \"passed\", \"passed\", \"past\", \"pay\", \"payment\", \"people\", \"perfect\", \"perfectly\", \"perform\", \"person\", \"pet\", \"phone\", \"pick\", \"picked\", \"pizza\", \"place\", \"plan\", \"planned\", \"planning\", \"plant\", \"play\", \"played\", \"playing\", \"playing\", \"pleasant\", \"position\", \"positive\", \"post\", \"pound\", \"pregnant\", \"prepared\", \"pretty\", \"previous\", \"price\", \"problem\", \"program\", \"project\", \"promotion\", \"proud\", \"puppy\", \"purchase\", \"purchased\", \"putting\", \"quit\", \"rain\", \"raise\", \"ran\", \"ran\", \"reached\", \"read\", \"reading\", \"ready\", \"realized\", \"reason\", \"received\", \"received\", \"receiving\", \"recent\", \"recently\", \"recently\", \"recipe\", \"relationship\", \"relax\", \"rent\", \"research\", \"rest\", \"restaurant\", \"result\", \"return\", \"returned\", \"ride\", \"right\", \"room\", \"run\", \"running\", \"said\", \"sale\", \"sandwich\", \"saw\", \"saying\", \"school\", \"scratch\", \"season\", \"second\", \"second\", \"seeing\", \"seen\", \"sent\", \"sent\", \"service\", \"sex\", \"share\", \"shoe\", \"shop\", \"shopping\", \"significant\", \"sister\", \"sit\", \"sitting\", \"sleep\", \"slept\", \"small\", \"smile\", \"sold\", \"son\", \"son\", \"son\", \"son\", \"son\", \"song\", \"soon\", \"special\", \"special\", \"spot\", \"spouse\", \"spring\", \"start\", \"started\", \"starting\", \"state\", \"stay\", \"stayed\", \"store\", \"store\", \"story\", \"street\", \"stress\", \"student\", \"study\", \"successful\", \"successfully\", \"summer\", \"sun\", \"sunny\", \"super\", \"surgery\", \"surprise\", \"surprised\", \"sweet\", \"sweet\", \"taking\", \"talk\", \"talked\", \"talking\", \"task\", \"tax\", \"teacher\", \"team\", \"tell\", \"telling\", \"temple\", \"test\", \"text\", \"thats\", \"thats\", \"thing\", \"thing\", \"thing\", \"thing\", \"think\", \"thinking\", \"thought\", \"thought\", \"ticket\", \"time\", \"time\", \"time\", \"time\", \"time\", \"toddler\", \"told\", \"tonight\", \"took\", \"town\", \"travel\", \"tree\", \"tried\", \"trip\", \"try\", \"trying\", \"turn\", \"turned\", \"tv\", \"uncle\", \"unexpected\", \"university\", \"use\", \"used\", \"vacation\", \"video\", \"video\", \"visit\", \"visited\", \"visiting\", \"waiting\", \"waiting\", \"walk\", \"walked\", \"walking\", \"want\", \"wanted\", \"wanted\", \"warm\", \"wasnt\", \"watch\", \"watched\", \"watching\", \"water\", \"way\", \"way\", \"weather\", \"wedding\", \"weekend\", \"weight\", \"went\", \"went\", \"wife\", \"win\", \"woke\", \"woman\", \"won\", \"wonderful\", \"word\", \"work\", \"worked\", \"working\", \"workout\", \"wrote\", \"yard\"]}, \"R\": 30, \"lambda.step\": 0.01, \"plot.opts\": {\"xlab\": \"PC1\", \"ylab\": \"PC2\"}, \"topic.order\": [12, 16, 2, 5, 4, 15, 14, 6, 11, 10, 3, 13, 8, 9, 7, 1]};\n",
       "\n",
       "function LDAvis_load_lib(url, callback){\n",
       "  var s = document.createElement('script');\n",
       "  s.src = url;\n",
       "  s.async = true;\n",
       "  s.onreadystatechange = s.onload = callback;\n",
       "  s.onerror = function(){console.warn(\"failed to load library \" + url);};\n",
       "  document.getElementsByTagName(\"head\")[0].appendChild(s);\n",
       "}\n",
       "\n",
       "if(typeof(LDAvis) !== \"undefined\"){\n",
       "   // already loaded: just create the visualization\n",
       "   !function(LDAvis){\n",
       "       new LDAvis(\"#\" + \"ldavis_el434701404058573772803509999527\", ldavis_el434701404058573772803509999527_data);\n",
       "   }(LDAvis);\n",
       "}else if(typeof define === \"function\" && define.amd){\n",
       "   // require.js is available: use it to load d3/LDAvis\n",
       "   require.config({paths: {d3: \"https://d3js.org/d3.v5\"}});\n",
       "   require([\"d3\"], function(d3){\n",
       "      window.d3 = d3;\n",
       "      LDAvis_load_lib(\"https://cdn.jsdelivr.net/gh/bmabey/pyLDAvis@3.2.2/pyLDAvis/js/ldavis.v3.0.0.js\", function(){\n",
       "        new LDAvis(\"#\" + \"ldavis_el434701404058573772803509999527\", ldavis_el434701404058573772803509999527_data);\n",
       "      });\n",
       "    });\n",
       "}else{\n",
       "    // require.js not available: dynamically load d3 & LDAvis\n",
       "    LDAvis_load_lib(\"https://d3js.org/d3.v5.js\", function(){\n",
       "         LDAvis_load_lib(\"https://cdn.jsdelivr.net/gh/bmabey/pyLDAvis@3.2.2/pyLDAvis/js/ldavis.v3.0.0.js\", function(){\n",
       "                 new LDAvis(\"#\" + \"ldavis_el434701404058573772803509999527\", ldavis_el434701404058573772803509999527_data);\n",
       "            })\n",
       "         });\n",
       "}\n",
       "</script>"
      ],
      "text/plain": [
       "PreparedData(topic_coordinates=              x         y  topics  cluster       Freq\n",
       "topic                                                \n",
       "11    -0.261883  0.048684       1        1  12.275039\n",
       "15    -0.258751  0.006380       2        1   8.599245\n",
       "1     -0.203601  0.030636       3        1   7.446789\n",
       "4     -0.052414  0.178866       4        1   6.929612\n",
       "3     -0.144513 -0.037660       5        1   6.471350\n",
       "14     0.093875 -0.186780       6        1   6.134094\n",
       "13     0.062384  0.176562       7        1   6.123112\n",
       "5      0.062631  0.132783       8        1   5.928211\n",
       "10     0.096019  0.094119       9        1   5.527921\n",
       "9     -0.002023 -0.117931      10        1   5.399582\n",
       "2      0.058810 -0.225906      11        1   5.388377\n",
       "12    -0.015874 -0.262923      12        1   5.382450\n",
       "7      0.123833  0.060651      13        1   4.891134\n",
       "8      0.153124  0.055232      14        1   4.792651\n",
       "6      0.141562  0.057214      15        1   4.772545\n",
       "0      0.146821 -0.009927      16        1   3.937888, topic_info=           Term         Freq        Total Category  logprob  loglift\n",
       "24129      work  7311.000000  7311.000000  Default  30.0000  30.0000\n",
       "23809      went  8019.000000  8019.000000  Default  29.0000  29.0000\n",
       "14419       new  7514.000000  7514.000000  Default  28.0000  28.0000\n",
       "8392     friend  8609.000000  8609.000000  Default  27.0000  27.0000\n",
       "7549     family  4001.000000  4001.000000  Default  26.0000  26.0000\n",
       "...         ...          ...          ...      ...      ...      ...\n",
       "20370      spot   141.381565   142.250566  Topic16  -5.2336   3.2284\n",
       "198    activity   140.737782   141.606783  Topic16  -5.2382   3.2284\n",
       "16382      post   140.054157   140.923158  Topic16  -5.2431   3.2283\n",
       "9513       hand   273.772690   404.379073  Topic16  -4.5728   2.8445\n",
       "10413   husband   200.688646  3023.112148  Topic16  -4.8833   0.5222\n",
       "\n",
       "[601 rows x 6 columns], token_table=       Topic      Freq       Term\n",
       "term                             \n",
       "91         7  0.998938   accepted\n",
       "126       12  0.997353    account\n",
       "198       16  0.995715   activity\n",
       "204        7  0.998660   actually\n",
       "389        2  0.253770  afternoon\n",
       "...      ...       ...        ...\n",
       "24139      8  0.998634     worked\n",
       "24154      5  0.999497    working\n",
       "24162      4  0.996400    workout\n",
       "24259     15  0.995988      wrote\n",
       "24321     16  0.998141       yard\n",
       "\n",
       "[613 rows x 3 columns], R=30, lambda_step=0.01, plot_opts={'xlab': 'PC1', 'ylab': 'PC2'}, topic_order=[12, 16, 2, 5, 4, 15, 14, 6, 11, 10, 3, 13, 8, 9, 7, 1])"
      ]
     },
     "execution_count": 44,
     "metadata": {},
     "output_type": "execute_result"
    }
   ],
   "source": [
    "pyLDAvis.sklearn.prepare(lda_16, tf, vectorizer)"
   ]
  },
  {
   "cell_type": "code",
   "execution_count": 45,
   "metadata": {
    "ExecuteTime": {
     "end_time": "2021-02-23T01:59:59.767631Z",
     "start_time": "2021-02-23T01:58:34.140779Z"
    }
   },
   "outputs": [
    {
     "data": {
      "text/plain": [
       "LatentDirichletAllocation(learning_method='online', learning_offset=50.0,\n",
       "                          max_iter=5, n_components=12, random_state=0)"
      ]
     },
     "execution_count": 45,
     "metadata": {},
     "output_type": "execute_result"
    }
   ],
   "source": [
    "lda_12 = LatentDirichletAllocation(n_components=12, max_iter=5, \n",
    "                                learning_method='online', learning_offset=50.,\n",
    "                                random_state=0)\n",
    "\n",
    "lda_12.fit(tf)"
   ]
  },
  {
   "cell_type": "code",
   "execution_count": 46,
   "metadata": {
    "ExecuteTime": {
     "end_time": "2021-02-23T03:15:15.295398Z",
     "start_time": "2021-02-23T01:59:59.940283Z"
    }
   },
   "outputs": [
    {
     "data": {
      "text/html": [
       "\n",
       "<link rel=\"stylesheet\" type=\"text/css\" href=\"https://cdn.jsdelivr.net/gh/bmabey/pyLDAvis@3.2.2/pyLDAvis/js/ldavis.v1.0.0.css\">\n",
       "\n",
       "\n",
       "<div id=\"ldavis_el434701404056323060566650586412\"></div>\n",
       "<script type=\"text/javascript\">\n",
       "\n",
       "var ldavis_el434701404056323060566650586412_data = {\"mdsDat\": {\"x\": [0.24546953406032287, 0.24311988360267622, 0.16096795988732782, 0.08290422365572035, -0.010230842946049208, 0.1053071484000189, -0.13959136393881846, -0.13604307580690642, -0.08277030964006611, -0.1389916583565544, -0.1553749809300663, -0.1747665179876052], \"y\": [0.07405752334124266, 0.0643264382133663, -0.15046684294979645, -0.08515799246308585, 0.29650592977556167, -0.08107974155699187, -0.0019632735048401425, 0.1612287062034343, -0.22253056628316242, 0.06767639295634723, 0.013197769138922007, -0.13579434287099756], \"topics\": [1, 2, 3, 4, 5, 6, 7, 8, 9, 10, 11, 12], \"cluster\": [1, 1, 1, 1, 1, 1, 1, 1, 1, 1, 1, 1], \"Freq\": [15.960075365679938, 13.449667029522445, 8.481433937791984, 8.14368750313861, 8.1354972033351, 7.436322545518936, 7.302893184770866, 6.812812044477612, 6.630002429005116, 6.458613574702053, 5.965974859912686, 5.223020322144663]}, \"tinfo\": {\"Term\": [\"went\", \"new\", \"friend\", \"work\", \"daughter\", \"got\", \"took\", \"dinner\", \"time\", \"getting\", \"bought\", \"dog\", \"make\", \"received\", \"husband\", \"finally\", \"night\", \"having\", \"long\", \"came\", \"family\", \"son\", \"morning\", \"favorite\", \"game\", \"job\", \"started\", \"won\", \"told\", \"lunch\", \"went\", \"finally\", \"came\", \"long\", \"game\", \"school\", \"money\", \"visit\", \"weekend\", \"fun\", \"movie\", \"trip\", \"play\", \"video\", \"met\", \"party\", \"store\", \"enjoy\", \"loved\", \"shopping\", \"paid\", \"online\", \"town\", \"goal\", \"left\", \"visited\", \"apartment\", \"member\", \"start\", \"ice\", \"friend\", \"family\", \"old\", \"time\", \"seen\", \"going\", \"home\", \"birthday\", \"girlfriend\", \"night\", \"got\", \"son\", \"saw\", \"ago\", \"best\", \"gave\", \"watching\", \"brother\", \"college\", \"baby\", \"hard\", \"help\", \"gift\", \"thought\", \"girl\", \"watch\", \"completed\", \"looking\", \"buy\", \"talk\", \"minute\", \"office\", \"raise\", \"trying\", \"date\", \"moved\", \"special\", \"say\", \"interview\", \"computer\", \"used\", \"heard\", \"huge\", \"problem\", \"feeling\", \"work\", \"job\", \"excited\", \"got\", \"project\", \"love\", \"ive\", \"new\", \"im\", \"time\", \"sister\", \"friend\", \"husband\", \"home\", \"event\", \"received\", \"car\", \"did\", \"didnt\", \"taking\", \"meal\", \"surprised\", \"helped\", \"needed\", \"bos\", \"want\", \"actually\", \"promotion\", \"learned\", \"bonus\", \"sale\", \"city\", \"need\", \"item\", \"instead\", \"doctor\", \"cleaned\", \"purchase\", \"check\", \"change\", \"tax\", \"price\", \"clean\", \"soon\", \"expected\", \"ago\", \"past\", \"event\", \"work\", \"got\", \"make\", \"job\", \"working\", \"hour\", \"wedding\", \"thing\", \"daughter\", \"told\", \"boyfriend\", \"big\", \"mom\", \"said\", \"class\", \"phone\", \"called\", \"beautiful\", \"brought\", \"company\", \"havent\", \"dad\", \"look\", \"exam\", \"face\", \"close\", \"student\", \"niece\", \"extremely\", \"test\", \"grade\", \"easter\", \"news\", \"boy\", \"cake\", \"semester\", \"sick\", \"church\", \"mother\", \"son\", \"birthday\", \"got\", \"talked\", \"bought\", \"finished\", \"wanted\", \"restaurant\", \"early\", \"surprise\", \"asked\", \"bed\", \"tv\", \"breakfast\", \"pretty\", \"eating\", \"purchased\", \"cooked\", \"room\", \"mail\", \"plan\", \"sent\", \"use\", \"picture\", \"neighbor\", \"living\", \"liked\", \"super\", \"chicken\", \"arrived\", \"sweet\", \"id\", \"buying\", \"temple\", \"new\", \"morning\", \"husband\", \"working\", \"house\", \"dinner\", \"favorite\", \"home\", \"family\", \"wife\", \"played\", \"child\", \"couple\", \"making\", \"outside\", \"woke\", \"pay\", \"sleep\", \"team\", \"lost\", \"worked\", \"extra\", \"pizza\", \"conversation\", \"hug\", \"nephew\", \"spring\", \"entire\", \"half\", \"awesome\", \"baseball\", \"tried\", \"pound\", \"pet\", \"late\", \"mile\", \"fixed\", \"basketball\", \"win\", \"course\", \"night\", \"hour\", \"playing\", \"final\", \"weather\", \"got\", \"son\", \"time\", \"getting\", \"dog\", \"started\", \"watched\", \"place\", \"know\", \"small\", \"turned\", \"think\", \"run\", \"walking\", \"end\", \"gym\", \"flower\", \"garden\", \"weight\", \"large\", \"let\", \"perfect\", \"bad\", \"walked\", \"episode\", \"stopped\", \"ended\", \"starting\", \"healthy\", \"workout\", \"sunny\", \"short\", \"area\", \"better\", \"morning\", \"going\", \"won\", \"enjoyed\", \"vacation\", \"free\", \"away\", \"decided\", \"local\", \"amazing\", \"ticket\", \"summer\", \"father\", \"meet\", \"afternoon\", \"beach\", \"bike\", \"celebrated\", \"concert\", \"ride\", \"running\", \"partner\", \"picked\", \"tonight\", \"rain\", \"sitting\", \"anniversary\", \"approved\", \"le\", \"road\", \"relaxing\", \"head\", \"dinner\", \"delicious\", \"kid\", \"wife\", \"evening\", \"cat\", \"hit\", \"talking\", \"proud\", \"passed\", \"experience\", \"wasnt\", \"complete\", \"coworker\", \"happened\", \"tell\", \"woman\", \"childhood\", \"guy\", \"uncle\", \"rest\", \"exciting\", \"kind\", \"fell\", \"mood\", \"shes\", \"major\", \"street\", \"tree\", \"board\", \"older\", \"blue\", \"stop\", \"turn\", \"asleep\", \"make\", \"people\", \"way\", \"world\", \"sure\", \"doing\", \"thing\", \"im\", \"time\", \"took\", \"ate\", \"food\", \"little\", \"walk\", \"come\", \"eat\", \"live\", \"ordered\", \"finding\", \"looked\", \"drive\", \"dream\", \"chocolate\", \"try\", \"shop\", \"order\", \"beer\", \"saying\", \"pick\", \"driving\", \"discovered\", \"near\", \"text\", \"reason\", \"mean\", \"cooking\", \"expecting\", \"knowing\", \"treat\", \"saw\", \"drink\", \"favorite\", \"home\", \"delicious\", \"love\", \"having\", \"lunch\", \"recently\", \"book\", \"coffee\", \"dollar\", \"accepted\", \"high\", \"mturk\", \"song\", \"music\", \"second\", \"read\", \"season\", \"business\", \"reading\", \"break\", \"warm\", \"moving\", \"band\", \"door\", \"caught\", \"sun\", \"listening\", \"knew\", \"credit\", \"booked\", \"reached\", \"open\", \"light\", \"card\", \"favorite\", \"seeing\", \"state\", \"right\", \"cousin\", \"hand\", \"marriage\", \"managed\", \"issue\", \"heart\", \"significant\", \"coworkers\", \"pleasant\", \"successful\", \"laughed\", \"drinking\", \"noticed\", \"joke\", \"drove\", \"held\", \"payment\", \"hold\", \"research\", \"especially\", \"putting\", \"medical\", \"income\", \"question\", \"appointment\", \"perform\", \"rent\", \"including\", \"positive\", \"different\", \"person\", \"share\"], \"Freq\": [7685.0, 7325.0, 8679.0, 6914.0, 3485.0, 11456.0, 2457.0, 3206.0, 8016.0, 2414.0, 2511.0, 2359.0, 2699.0, 2329.0, 3024.0, 3105.0, 2958.0, 1954.0, 2982.0, 2980.0, 3662.0, 3609.0, 2496.0, 2699.0, 2575.0, 3065.0, 1776.0, 1664.0, 1723.0, 1501.0, 7684.319569038627, 3104.476100551375, 2980.0427785014326, 2981.6225505807893, 2574.621659617891, 2010.9958201356417, 1598.2185675438757, 1404.1786863139794, 1284.7729769488565, 1261.9986041755117, 1231.2221039175806, 1203.3614362468575, 1180.879560719627, 1112.6619567714038, 1088.7532367929211, 946.0054273647067, 909.8473503870812, 844.653879889712, 742.6947358474335, 697.1430418717061, 692.249063697898, 685.8472022996036, 593.9995177716442, 579.2252219410528, 569.7727339121406, 559.3903054752311, 513.204873565569, 507.64685308011303, 487.1441603532735, 464.35800363923124, 7246.111077459207, 3199.7706190190074, 2210.543646747294, 4902.458348200904, 842.5129931025643, 1433.22982825806, 1753.5243950776094, 1269.0005758060634, 1024.9376453446973, 1106.6142594817554, 1691.4969559985755, 1149.3738661764828, 930.6929165405584, 873.1740782457014, 1695.0984725857581, 1651.141336069376, 1315.5077308177772, 1181.7416264752978, 1148.8149669023114, 1135.8556508987626, 1010.5749912525617, 950.6317524072939, 930.797087427754, 884.5288161603429, 873.3533913215699, 817.1896962428227, 779.7442348093875, 754.5935083627082, 703.9326144355994, 670.470974120696, 602.8650675208416, 569.6365304775646, 559.6496882983021, 557.5984612484806, 548.315975091446, 491.8618919100968, 489.9440722729357, 467.0206103637644, 445.07505800006095, 443.7585674400629, 424.4839084591395, 416.3913922718799, 407.71840500552906, 405.8679450873394, 1068.8037289709646, 5164.071152495604, 2418.6239127126746, 854.6181123458816, 5084.350036245034, 773.8221908508001, 1226.5096175019482, 819.6410231540187, 2324.0430802609926, 872.7683686015263, 1866.727823819277, 836.5424166970691, 1433.0373386787198, 924.2675560035947, 854.3838792370544, 751.5999174175424, 2328.837274241829, 1692.1209413669299, 1636.030222315294, 1117.0842588858745, 682.9681027769715, 676.9507475580725, 671.5605546797614, 668.3754734893149, 667.4019457744238, 644.9468946268385, 579.4249022214973, 567.153452086274, 559.183752546149, 531.5809808241656, 498.5900423015033, 476.12835141702806, 470.8141137931706, 468.4924106785603, 391.7676358725244, 368.91133956323176, 364.2072152133657, 343.7868297771224, 341.94666204250956, 329.28934753390087, 324.3084492884214, 300.5341281718314, 299.707160766862, 293.3030684648708, 289.96258906235147, 287.60011744389567, 1358.7085298611407, 1232.76983908373, 1052.5948933625498, 1749.5638036390994, 2005.1160248473263, 696.7790927861869, 646.0483883702459, 498.378646314934, 539.3634853011193, 379.6344787708034, 380.8985623004128, 3484.2630781403395, 1722.8920839331251, 1478.6405525189077, 1258.2890264336481, 1249.0041672026493, 1140.973500362254, 1019.4478767373347, 1003.644109536566, 946.0874246740365, 910.4925279320121, 902.7231672738843, 773.4021157441721, 748.5848513451318, 709.4145444231783, 628.21517729684, 591.6869161254353, 566.1188952866053, 542.0238831534676, 526.6981343903964, 507.9030779641291, 499.31200475880536, 471.68235099056784, 434.23529811335567, 410.51923976038967, 397.7461696948481, 391.25045099488796, 339.3339374328322, 309.3019185911069, 287.6993680085903, 286.21827537621374, 1086.2623145337548, 1708.7051680963898, 1031.440859506096, 1544.3849481819705, 395.5271048470509, 2510.8995644920337, 1441.9606215214917, 1221.359869643603, 983.9754618863955, 840.9609762482993, 828.332466646058, 771.4352904866071, 742.8036593086333, 659.1002160770975, 654.8530624750209, 579.7776384546617, 576.2263855219181, 565.3928650032708, 564.0107803290341, 563.0216361074843, 561.7899971994732, 508.5220965796566, 479.1211031953392, 402.9338401137133, 394.32366047833597, 387.1165719424531, 385.76886329120066, 376.0341600483356, 371.06692732657234, 369.82462426622783, 342.69382634176014, 342.1354388175317, 321.33974236633446, 306.675083646793, 288.2860921967487, 4996.722396120714, 1852.7903206086662, 2099.756072736106, 973.5829526349532, 1236.6788876187243, 1015.2618280887756, 717.4753451223211, 721.3830111024557, 462.38948282287504, 446.22801856479197, 1195.4465092433238, 1165.7481061701158, 883.8222674869456, 864.1892319320435, 849.0463881569068, 819.8284700264409, 786.4371121374663, 778.9535951854932, 778.6655502455171, 690.7754003742048, 570.6903023948628, 524.0937216163726, 515.2502347456372, 500.0322347164525, 471.4686185946219, 469.6152383043293, 421.69022782398133, 420.2967754729234, 407.171372224282, 370.75742701278995, 339.8209527235135, 333.69490441519207, 333.10740468151414, 320.56229909531663, 319.41055506279076, 313.96856108993194, 302.2539638248504, 299.444229249116, 291.14684855269695, 282.8973756500043, 1850.8556478389858, 997.1636031010682, 674.2849293195503, 388.5772139566271, 457.5612097954446, 1130.2469237603539, 746.6475670258674, 835.9862671243986, 2414.0337265653284, 2358.8267510527744, 1775.8708293775617, 1564.63802165066, 1127.1945793054297, 949.1022094879572, 836.1371743777992, 632.6769377815763, 574.8394721448225, 549.2891776365873, 533.487217822508, 516.604445411637, 458.01236455065566, 452.29309576912885, 419.3436121454711, 415.9898409954254, 413.8814031676163, 410.9351481665833, 371.8943869690485, 350.7776393530483, 340.9971558343723, 337.94002891786636, 327.6157664373761, 317.0977090595745, 308.29025148841976, 282.0968269280072, 257.7525120259349, 248.9955342748332, 244.94053746638465, 239.09136628430326, 593.2210731981173, 642.9328159718394, 355.1385855449033, 1663.6678375173858, 1453.4209086864744, 1050.7367558064323, 1015.1681295706567, 898.1422939483771, 850.8502044715577, 761.2939710487389, 706.6372272996382, 687.8821775476276, 625.9693004171551, 602.4566833662926, 554.7262389399931, 536.2963734387097, 516.6710373968377, 504.35826187264774, 489.14155224611807, 451.3024086344879, 427.43286359759605, 411.4853402972656, 379.6706412209149, 370.81816762171115, 355.2493944356613, 342.6353211854196, 328.022868235043, 326.49140580794807, 325.12622209373984, 318.2773335941117, 313.91314663831724, 297.3882287713754, 238.48968720099938, 2190.4066655770507, 639.0789683661111, 613.1157738017461, 776.9526790410504, 362.36615227903377, 1191.0835941151356, 726.6190582493041, 700.3697398349932, 696.3405997937908, 556.5407599876885, 510.69180911463036, 459.25205132244696, 446.8170495756602, 431.3537723515021, 381.42749097300765, 378.7304781985639, 322.5710005131352, 281.5704804530435, 280.3501210600184, 280.0106351226219, 279.6969444296232, 278.6534901785964, 269.57085343956317, 232.57356907346005, 220.3291190577079, 219.43022611450291, 211.6458776139258, 208.98302323459103, 207.15481943790832, 206.4005356804301, 202.0642199179653, 198.19693081321586, 187.99389400939629, 187.04876669303667, 185.2730932255166, 2001.7674314895733, 924.26764963994, 788.3546696400063, 411.61392125370656, 234.60558620437993, 536.3502116986923, 636.1831536130046, 259.12210181185327, 280.4274329925609, 2456.3857992394883, 1367.0599189031404, 1349.749664724821, 1290.5836232333218, 1035.7818125360586, 958.2166503837362, 906.4348655144128, 645.0466048952906, 492.32483173165934, 450.6747172830406, 447.0543065726632, 407.9812832013567, 360.5600962090729, 347.15321848417034, 345.092046525165, 336.2066782058545, 333.7800100290528, 317.21354825891297, 301.7286691017823, 299.46659535124905, 291.06935925541035, 283.4186456055775, 281.45420444583027, 273.9546900459296, 268.41538810755304, 262.0082740701428, 260.82725814573683, 252.20484859490034, 246.50926903639234, 241.34088366344122, 853.1765660790478, 320.9567191698483, 596.493860906947, 520.9758128762796, 324.90383870706097, 285.21661871429257, 1954.0081195737237, 1500.982649706634, 1187.6585053257809, 891.3487726140717, 740.6284699471985, 635.8519164849283, 616.7654315888884, 577.572645685946, 540.8592527252289, 530.2050895620272, 519.6146993144342, 501.14243579099826, 468.4556153131883, 459.88498982889973, 408.57506318139855, 397.00959325586035, 376.8853584218981, 350.1528986580094, 338.63260044495615, 326.62194901460765, 326.3387584811926, 315.80680520439364, 311.36350472953086, 299.96795719807926, 281.65943432188567, 279.03860242878756, 265.29029733234825, 263.34428038069257, 257.36526165127384, 237.84816149954662, 609.6389042896694, 1384.9664659683929, 587.5823761465807, 726.4377915285036, 613.123910750556, 573.0267833912808, 438.06681831997673, 426.27177873103483, 409.7684550116251, 373.13484043279226, 351.9050466400325, 316.7727154367151, 308.2317247631877, 294.36477091842767, 276.46342633085715, 262.9573627514642, 256.34163386063585, 243.08972116818805, 239.46792847677327, 231.2644057976565, 229.47672422748434, 215.80402567349643, 209.52114044004247, 209.3519736031966, 206.101473794576, 205.7702577549978, 192.40819805934788, 181.47089155469644, 177.03924705039464, 163.7024488755124, 162.5564691362022, 162.32283612611678, 160.94944503021915, 308.96878297211776, 296.3232432155435, 284.1403898616523, 190.17759248167854], \"Total\": [7685.0, 7325.0, 8679.0, 6914.0, 3485.0, 11456.0, 2457.0, 3206.0, 8016.0, 2414.0, 2511.0, 2359.0, 2699.0, 2329.0, 3024.0, 3105.0, 2958.0, 1954.0, 2982.0, 2980.0, 3662.0, 3609.0, 2496.0, 2699.0, 2575.0, 3065.0, 1776.0, 1664.0, 1723.0, 1501.0, 7685.1920801068945, 3105.3378226360746, 2980.904496918124, 2982.505119035722, 2575.4833693508112, 2011.8575467493386, 1599.0802930213417, 1405.040390649928, 1285.6346842506434, 1262.8603121902281, 1232.0838056137611, 1204.2235892537615, 1181.7412728671893, 1113.523662807047, 1089.6149411615913, 946.8671258827751, 910.7090685860909, 845.5155956612512, 743.5564606416755, 698.0047439421536, 693.1107818970991, 686.708919157976, 594.8612305485349, 580.0869421893129, 570.6344652224572, 560.2520109538984, 514.0665944273028, 508.50855759968255, 488.00589460481314, 465.2197056086791, 8679.937502319863, 3662.9435848638236, 2723.1693215362066, 8016.57202088087, 1017.9984801559112, 2541.011977646971, 3850.8978928213132, 2301.2292125100344, 1788.1272249620147, 2958.2557629974845, 11456.203866644366, 3609.7249024856937, 1784.6511825698078, 2232.6700045577472, 1695.9615964968862, 1652.0044602916946, 1316.37085854623, 1182.6047468922732, 1149.6780866013282, 1136.7187705187432, 1011.4381193017924, 951.4948785316316, 931.6602940261639, 885.3920441638712, 874.2165135313963, 818.0528184584625, 780.6073535899026, 755.4566335341102, 704.7957422097012, 671.3340966551099, 603.7282031701374, 570.499649224359, 560.5127986752593, 558.4615906632134, 549.1790938367061, 492.7250177832576, 490.8071985915865, 467.8837378037669, 445.9381687083943, 444.621684838835, 425.3470451078657, 417.25451341552804, 408.58153822146267, 406.73107392271436, 1095.2450601153623, 6914.423752516264, 3065.461088551183, 1047.0896785499226, 11456.203866644366, 933.5386064003287, 1772.1858807821473, 1126.07130628208, 7325.617688423767, 1482.122579946299, 8016.57202088087, 1523.8640207701412, 8679.937502319863, 3024.8086206470766, 3850.8978928213132, 2582.206698057213, 2329.6987594413326, 1692.9824272691897, 1636.8917154935834, 1117.9457512025404, 683.8295969644465, 677.812240446037, 672.4220474536634, 669.2369600235469, 668.2634413804675, 645.8083776257434, 580.286400456868, 568.014947850337, 560.0452316565089, 532.4424683284694, 499.4515190510191, 476.9898376803514, 471.6756064719874, 469.3539015480259, 392.62912203685005, 369.77283481764147, 365.0687046919546, 344.6483117266581, 342.80814525873484, 330.1508325133641, 325.16994303448587, 301.3956066789534, 300.56864459854984, 294.1645518038272, 290.8240883932917, 288.46160379167804, 2232.6700045577472, 2005.2631914600324, 2582.206698057213, 6914.423752516264, 11456.203866644366, 2699.338257419535, 3065.461088551183, 1472.744868459967, 2146.197185538164, 558.5017578550942, 1704.6823759723106, 3485.1249671290607, 1723.7539779687881, 1479.5024449803188, 1259.1509209232238, 1249.8850516222042, 1141.8354698188766, 1020.3097612584942, 1004.5059947808405, 946.9493178205439, 911.3544273635887, 903.5850615026079, 774.2640117053445, 749.4467453068942, 710.2772779517766, 629.0770747728318, 592.54893351238, 566.9808028544442, 542.8857811074488, 527.5600237461143, 508.7649665754058, 500.1739064053306, 472.5442341623979, 435.0971784902162, 411.3811288273961, 398.6080574914241, 392.1123427622881, 340.195821124388, 310.1638018926507, 288.5612593612682, 287.08016385487923, 1408.306602089201, 3609.7249024856937, 2301.2292125100344, 11456.203866644366, 788.183796184609, 2511.7571487106215, 1442.8182065049775, 1222.2174644405277, 984.8330475834739, 841.8185633313228, 829.1900558119505, 772.2928927668311, 743.6612495767297, 659.9577982200688, 655.7106429359709, 580.6352379487168, 577.0839746781986, 566.2504477264923, 564.8683600184186, 563.879241107524, 562.6475810788467, 509.37968534846226, 479.978696937234, 403.79143962179074, 395.18124945707393, 387.9741577962854, 386.62650169592035, 376.8917463093175, 371.92452019142536, 370.68220474743293, 343.5514125894509, 342.99303587127054, 322.19734555631857, 307.53266521523585, 289.1436687517742, 7325.617688423767, 2496.502666699107, 3024.8086206470766, 1472.744868459967, 2071.2993927729253, 3206.448113133501, 2699.653021624342, 3850.8978928213132, 3662.9435848638236, 2510.104117454738, 1196.3064620516575, 1166.6080704833626, 884.6822314443407, 865.0491969095145, 849.9063469528938, 820.6884243118772, 787.2970792696879, 779.8135460443983, 779.5255026402, 691.6353566084669, 571.5502662220711, 524.9536815151906, 516.110188153296, 500.8921987702474, 472.32857731096004, 470.47519312462975, 422.5501876388218, 421.1567436658458, 408.0313342573235, 371.61738839810295, 340.6809018355966, 334.55487086190595, 333.96735363296585, 321.42225719888694, 320.27051395146157, 314.82852060156637, 303.1139198151999, 300.30417572946055, 292.00680092585685, 283.7573418064679, 2958.2557629974845, 2146.197185538164, 1252.8399611118864, 484.3535575759878, 671.0600135034961, 11456.203866644366, 3609.7249024856937, 8016.57202088087, 2414.891479593556, 2359.684499578546, 1776.7285840718573, 1565.4957693127064, 1128.0523385694705, 949.9599735953226, 836.9949337568213, 633.5346937470109, 575.6972366413645, 550.1469278984874, 534.3449702396691, 517.4622080521764, 458.8701063070299, 453.150845672001, 420.20135594825825, 416.84758747702875, 414.7391593571522, 411.7929066087057, 372.752140989211, 351.6353976766025, 341.8549101200992, 338.7977738635504, 328.47352333842986, 317.95547087354964, 309.14800452281935, 282.954577452521, 258.6102537223365, 249.85328180020022, 245.79829330534648, 239.9491235760099, 1068.892068935926, 2496.502666699107, 2541.011977646971, 1664.5240523545467, 1454.2771262605906, 1051.5929717023787, 1016.0243487357781, 898.9985244566805, 851.706437024997, 762.1501941155607, 707.4934526873145, 688.738389205246, 626.8255181009212, 603.3129120829657, 555.5824603240873, 537.152596173842, 517.5272519407343, 505.2144748634587, 489.9977692189273, 452.15862513812857, 428.28908085503673, 412.34156885661656, 380.52686142685735, 371.67439263539893, 356.105611619222, 343.4915431467129, 328.87910103643026, 327.34761916432086, 325.98244610097606, 319.13356810855737, 314.76937136933907, 298.2444457698329, 239.34592832803276, 3206.448113133501, 964.759008540574, 1294.9653672029312, 2510.104117454738, 650.8158623820954, 1191.9389186567676, 727.4743830809563, 701.2250702434819, 697.195929742098, 557.3960878805499, 511.54714307011983, 460.1073842664302, 447.6723776362169, 432.2090983598096, 382.2828238597209, 379.585810806344, 323.42632969733603, 282.425806549817, 281.20544762226314, 280.86595882580554, 280.55228327097234, 279.5088215641318, 270.42618632472596, 233.42889592635814, 221.18444877120555, 220.28555487787312, 212.50120479668334, 209.83835176527, 208.01014818050868, 207.2558647828791, 202.91955314979566, 199.05226445079165, 188.84922883572864, 187.90410310764062, 186.12841564747941, 2699.338257419535, 1184.2725652136487, 1042.01428732354, 506.85057791995064, 259.30642605941523, 1090.5485476725585, 1704.6823759723106, 1482.122579946299, 8016.57202088087, 2457.241602386551, 1367.9157127277972, 1350.6054623386494, 1291.4395440570315, 1036.6376098789951, 959.0724602334552, 907.2906624523016, 645.9024156534424, 493.1806302048312, 451.53052083897285, 447.91011502342434, 408.83708490718595, 361.41589884364333, 348.00901472749126, 345.9478551455463, 337.0624801924176, 334.6358111972159, 318.0693474428779, 302.5844795343148, 300.32243056769437, 291.92516359705513, 284.27444836654684, 282.3100067755381, 274.81049147836495, 269.27120141983823, 262.8641055549133, 261.68306186649824, 253.0606557848225, 247.3650827439935, 242.1966873042908, 1784.6511825698078, 457.5505692688589, 2699.653021624342, 3850.8978928213132, 964.759008540574, 1772.1858807821473, 1954.8648308755737, 1501.8393513257636, 1188.515219354973, 892.2055394139293, 741.4851718008675, 636.7086222056219, 617.6221398352199, 578.4293553621499, 541.7159508587774, 531.061787301144, 520.4714018660326, 501.999149875686, 469.31231343241376, 460.74169360344524, 409.43177232174827, 397.8662927853793, 377.74206663472285, 351.0096081271235, 339.4893100838486, 327.47864800482887, 327.19547354914647, 316.66351042874214, 312.220212358068, 300.82465680804506, 282.51650987318783, 279.8952998838364, 266.1470016567468, 264.2009895237336, 258.22197082370616, 238.7048738592954, 796.0838813699721, 2699.653021624342, 1281.6809019306088, 727.2841976707878, 613.97032543762, 573.8731867784843, 438.9132337237406, 427.11817857320744, 410.6148613713823, 373.9812499025508, 352.7514623852622, 317.61912231248704, 309.078129808684, 295.21117484739824, 277.3098297651682, 263.8037746593377, 257.1880432816883, 243.93613784315636, 240.31433278043946, 232.1108187130684, 230.32313440436354, 216.65043257168423, 210.36755510808774, 210.19837527507548, 206.94789148403694, 206.61666706874544, 193.2546030124808, 182.31730109904078, 177.88565744401072, 164.5488538211129, 163.40287922941664, 163.16924506085857, 161.80006349347957, 432.5985631331192, 453.7316605187756, 706.9758351658711, 293.27352572985467], \"Category\": [\"Default\", \"Default\", \"Default\", \"Default\", \"Default\", \"Default\", \"Default\", \"Default\", \"Default\", \"Default\", \"Default\", \"Default\", \"Default\", \"Default\", \"Default\", \"Default\", \"Default\", \"Default\", \"Default\", \"Default\", \"Default\", \"Default\", \"Default\", \"Default\", \"Default\", \"Default\", \"Default\", \"Default\", \"Default\", \"Default\", \"Topic1\", \"Topic1\", \"Topic1\", \"Topic1\", \"Topic1\", \"Topic1\", \"Topic1\", \"Topic1\", \"Topic1\", \"Topic1\", \"Topic1\", \"Topic1\", \"Topic1\", \"Topic1\", \"Topic1\", \"Topic1\", \"Topic1\", \"Topic1\", \"Topic1\", \"Topic1\", \"Topic1\", \"Topic1\", \"Topic1\", \"Topic1\", \"Topic1\", \"Topic1\", \"Topic1\", \"Topic1\", \"Topic1\", \"Topic1\", \"Topic1\", \"Topic1\", \"Topic1\", \"Topic1\", \"Topic1\", \"Topic1\", \"Topic1\", \"Topic1\", \"Topic1\", \"Topic1\", \"Topic1\", \"Topic1\", \"Topic1\", \"Topic1\", \"Topic2\", \"Topic2\", \"Topic2\", \"Topic2\", \"Topic2\", \"Topic2\", \"Topic2\", \"Topic2\", \"Topic2\", \"Topic2\", \"Topic2\", \"Topic2\", \"Topic2\", \"Topic2\", \"Topic2\", \"Topic2\", \"Topic2\", \"Topic2\", \"Topic2\", \"Topic2\", \"Topic2\", \"Topic2\", \"Topic2\", \"Topic2\", \"Topic2\", \"Topic2\", \"Topic2\", \"Topic2\", \"Topic2\", \"Topic2\", \"Topic2\", \"Topic2\", \"Topic2\", \"Topic2\", \"Topic2\", \"Topic2\", \"Topic2\", \"Topic2\", \"Topic2\", \"Topic2\", \"Topic2\", \"Topic2\", \"Topic2\", \"Topic2\", \"Topic2\", \"Topic2\", \"Topic3\", \"Topic3\", \"Topic3\", \"Topic3\", \"Topic3\", \"Topic3\", \"Topic3\", \"Topic3\", \"Topic3\", \"Topic3\", \"Topic3\", \"Topic3\", \"Topic3\", \"Topic3\", \"Topic3\", \"Topic3\", \"Topic3\", \"Topic3\", \"Topic3\", \"Topic3\", \"Topic3\", \"Topic3\", \"Topic3\", \"Topic3\", \"Topic3\", \"Topic3\", \"Topic3\", \"Topic3\", \"Topic3\", \"Topic3\", \"Topic3\", \"Topic3\", \"Topic3\", \"Topic3\", \"Topic3\", \"Topic3\", \"Topic3\", \"Topic3\", \"Topic3\", \"Topic3\", \"Topic3\", \"Topic4\", \"Topic4\", \"Topic4\", \"Topic4\", \"Topic4\", \"Topic4\", \"Topic4\", \"Topic4\", \"Topic4\", \"Topic4\", \"Topic4\", \"Topic4\", \"Topic4\", \"Topic4\", \"Topic4\", \"Topic4\", \"Topic4\", \"Topic4\", \"Topic4\", \"Topic4\", \"Topic4\", \"Topic4\", \"Topic4\", \"Topic4\", \"Topic4\", \"Topic4\", \"Topic4\", \"Topic4\", \"Topic4\", \"Topic4\", \"Topic4\", \"Topic4\", \"Topic4\", \"Topic4\", \"Topic4\", \"Topic5\", \"Topic5\", \"Topic5\", \"Topic5\", \"Topic5\", \"Topic5\", \"Topic5\", \"Topic5\", \"Topic5\", \"Topic5\", \"Topic5\", \"Topic5\", \"Topic5\", \"Topic5\", \"Topic5\", \"Topic5\", \"Topic5\", \"Topic5\", \"Topic5\", \"Topic5\", \"Topic5\", \"Topic5\", \"Topic5\", \"Topic5\", \"Topic5\", \"Topic5\", \"Topic5\", \"Topic5\", \"Topic5\", \"Topic5\", \"Topic5\", \"Topic5\", \"Topic5\", \"Topic5\", \"Topic5\", \"Topic5\", \"Topic5\", \"Topic5\", \"Topic5\", \"Topic5\", \"Topic6\", \"Topic6\", \"Topic6\", \"Topic6\", \"Topic6\", \"Topic6\", \"Topic6\", \"Topic6\", \"Topic6\", \"Topic6\", \"Topic6\", \"Topic6\", \"Topic6\", \"Topic6\", \"Topic6\", \"Topic6\", \"Topic6\", \"Topic6\", \"Topic6\", \"Topic6\", \"Topic6\", \"Topic6\", \"Topic6\", \"Topic6\", \"Topic6\", \"Topic6\", \"Topic6\", \"Topic6\", \"Topic6\", \"Topic6\", \"Topic6\", \"Topic6\", \"Topic6\", \"Topic6\", \"Topic6\", \"Topic6\", \"Topic6\", \"Topic6\", \"Topic7\", \"Topic7\", \"Topic7\", \"Topic7\", \"Topic7\", \"Topic7\", \"Topic7\", \"Topic7\", \"Topic7\", \"Topic7\", \"Topic7\", \"Topic7\", \"Topic7\", \"Topic7\", \"Topic7\", \"Topic7\", \"Topic7\", \"Topic7\", \"Topic7\", \"Topic7\", \"Topic7\", \"Topic7\", \"Topic7\", \"Topic7\", \"Topic7\", \"Topic7\", \"Topic7\", \"Topic7\", \"Topic7\", \"Topic7\", \"Topic7\", \"Topic7\", \"Topic7\", \"Topic8\", \"Topic8\", \"Topic8\", \"Topic8\", \"Topic8\", \"Topic8\", \"Topic8\", \"Topic8\", \"Topic8\", \"Topic8\", \"Topic8\", \"Topic8\", \"Topic8\", \"Topic8\", \"Topic8\", \"Topic8\", \"Topic8\", \"Topic8\", \"Topic8\", \"Topic8\", \"Topic8\", \"Topic8\", \"Topic8\", \"Topic8\", \"Topic8\", \"Topic8\", \"Topic8\", \"Topic8\", \"Topic8\", \"Topic8\", \"Topic8\", \"Topic8\", \"Topic8\", \"Topic8\", \"Topic8\", \"Topic9\", \"Topic9\", \"Topic9\", \"Topic9\", \"Topic9\", \"Topic9\", \"Topic9\", \"Topic9\", \"Topic9\", \"Topic9\", \"Topic9\", \"Topic9\", \"Topic9\", \"Topic9\", \"Topic9\", \"Topic9\", \"Topic9\", \"Topic9\", \"Topic9\", \"Topic9\", \"Topic9\", \"Topic9\", \"Topic9\", \"Topic9\", \"Topic9\", \"Topic9\", \"Topic9\", \"Topic9\", \"Topic9\", \"Topic9\", \"Topic9\", \"Topic9\", \"Topic9\", \"Topic9\", \"Topic9\", \"Topic9\", \"Topic9\", \"Topic9\", \"Topic9\", \"Topic10\", \"Topic10\", \"Topic10\", \"Topic10\", \"Topic10\", \"Topic10\", \"Topic10\", \"Topic10\", \"Topic10\", \"Topic10\", \"Topic10\", \"Topic10\", \"Topic10\", \"Topic10\", \"Topic10\", \"Topic10\", \"Topic10\", \"Topic10\", \"Topic10\", \"Topic10\", \"Topic10\", \"Topic10\", \"Topic10\", \"Topic10\", \"Topic10\", \"Topic10\", \"Topic10\", \"Topic10\", \"Topic10\", \"Topic10\", \"Topic10\", \"Topic10\", \"Topic10\", \"Topic10\", \"Topic10\", \"Topic10\", \"Topic11\", \"Topic11\", \"Topic11\", \"Topic11\", \"Topic11\", \"Topic11\", \"Topic11\", \"Topic11\", \"Topic11\", \"Topic11\", \"Topic11\", \"Topic11\", \"Topic11\", \"Topic11\", \"Topic11\", \"Topic11\", \"Topic11\", \"Topic11\", \"Topic11\", \"Topic11\", \"Topic11\", \"Topic11\", \"Topic11\", \"Topic11\", \"Topic11\", \"Topic11\", \"Topic11\", \"Topic11\", \"Topic11\", \"Topic11\", \"Topic11\", \"Topic11\", \"Topic11\", \"Topic12\", \"Topic12\", \"Topic12\", \"Topic12\", \"Topic12\", \"Topic12\", \"Topic12\", \"Topic12\", \"Topic12\", \"Topic12\", \"Topic12\", \"Topic12\", \"Topic12\", \"Topic12\", \"Topic12\", \"Topic12\", \"Topic12\", \"Topic12\", \"Topic12\", \"Topic12\", \"Topic12\", \"Topic12\", \"Topic12\", \"Topic12\", \"Topic12\", \"Topic12\", \"Topic12\", \"Topic12\", \"Topic12\", \"Topic12\", \"Topic12\", \"Topic12\", \"Topic12\", \"Topic12\"], \"logprob\": [30.0, 29.0, 28.0, 27.0, 26.0, 25.0, 24.0, 23.0, 22.0, 21.0, 20.0, 19.0, 18.0, 17.0, 16.0, 15.0, 14.0, 13.0, 12.0, 11.0, 10.0, 9.0, 8.0, 7.0, 6.0, 5.0, 4.0, 3.0, 2.0, 1.0, -2.6376, -3.5439, -3.5849, -3.5843, -3.7311, -3.9782, -4.2079, -4.3373, -4.4262, -4.4441, -4.4688, -4.4917, -4.5105, -4.57, -4.5918, -4.7323, -4.7713, -4.8456, -4.9743, -5.0376, -5.0446, -5.0539, -5.1977, -5.2229, -5.2393, -5.2577, -5.3439, -5.3548, -5.396, -5.4439, -2.6963, -3.5137, -3.8836, -3.0871, -4.8482, -4.3169, -4.1152, -4.4386, -4.6522, -4.5755, -4.1512, -4.5376, -4.7486, -4.8124, -3.9779, -4.0042, -4.2314, -4.3387, -4.3669, -4.3783, -4.4951, -4.5563, -4.5774, -4.6284, -4.6411, -4.7075, -4.7544, -4.7872, -4.8567, -4.9054, -5.0117, -5.0684, -5.0861, -5.0898, -5.1066, -5.2152, -5.2191, -5.267, -5.3152, -5.3181, -5.3625, -5.3818, -5.4028, -5.4074, -4.4391, -2.8639, -3.6225, -4.6628, -2.8795, -4.7621, -4.3015, -4.7045, -3.6623, -4.6417, -3.8815, -4.6841, -4.1459, -4.5844, -4.663, -4.7912, -3.1992, -3.5186, -3.5523, -3.9339, -4.4259, -4.4347, -4.4427, -4.4475, -4.4489, -4.4832, -4.5903, -4.6117, -4.6259, -4.6765, -4.7406, -4.7867, -4.7979, -4.8028, -4.9817, -5.0418, -5.0546, -5.1123, -5.1177, -5.1554, -5.1706, -5.2468, -5.2495, -5.2711, -5.2826, -5.2908, -3.738, -3.8353, -3.9933, -3.4852, -3.3489, -4.4059, -4.4815, -4.741, -4.6619, -5.0131, -5.0098, -2.7557, -3.4599, -3.6128, -3.7742, -3.7816, -3.8721, -3.9847, -4.0003, -4.0594, -4.0977, -4.1063, -4.2609, -4.2935, -4.3473, -4.4688, -4.5287, -4.5729, -4.6164, -4.6451, -4.6814, -4.6985, -4.7554, -4.8381, -4.8943, -4.9259, -4.9424, -5.0847, -5.1774, -5.2498, -5.2549, -3.9212, -3.4682, -3.973, -3.5693, -4.9315, -3.0823, -3.6369, -3.803, -4.0191, -4.1761, -4.1913, -4.2624, -4.3003, -4.4198, -4.4263, -4.5481, -4.5542, -4.5732, -4.5756, -4.5774, -4.5796, -4.6792, -4.7387, -4.9119, -4.9335, -4.952, -4.9555, -4.981, -4.9943, -4.9977, -5.0739, -5.0755, -5.1382, -5.1849, -5.2467, -2.3942, -3.3862, -3.2611, -4.0297, -3.7905, -3.9878, -4.335, -4.3295, -4.7743, -4.8099, -3.7346, -3.7597, -4.0366, -4.059, -4.0767, -4.1117, -4.1533, -4.1629, -4.1633, -4.283, -4.474, -4.5592, -4.5762, -4.6062, -4.665, -4.6689, -4.7766, -4.7799, -4.8116, -4.9053, -4.9924, -5.0106, -5.0124, -5.0508, -5.0544, -5.0715, -5.1096, -5.1189, -5.147, -5.1758, -3.2974, -3.9159, -4.3072, -4.8583, -4.6949, -3.7906, -4.2052, -4.0922, -3.0137, -3.0368, -3.3207, -3.4473, -3.7752, -3.9472, -4.0739, -4.3528, -4.4486, -4.4941, -4.5233, -4.5555, -4.6758, -4.6884, -4.764, -4.7721, -4.7771, -4.7843, -4.8841, -4.9426, -4.9709, -4.9799, -5.0109, -5.0435, -5.0717, -5.1605, -5.2507, -5.2853, -5.3017, -5.3259, -4.4172, -4.3367, -4.9302, -3.3165, -3.4516, -3.776, -3.8105, -3.9329, -3.987, -4.0982, -4.1727, -4.1996, -4.294, -4.3322, -4.4148, -4.4486, -4.4859, -4.51, -4.5406, -4.6211, -4.6755, -4.7135, -4.794, -4.8176, -4.8604, -4.8966, -4.9402, -4.9449, -4.949, -4.9703, -4.9841, -5.0382, -5.2589, -3.0414, -4.2732, -4.3147, -4.0779, -4.8406, -3.6234, -4.1177, -4.1545, -4.1602, -4.3843, -4.4703, -4.5765, -4.6039, -4.6391, -4.7621, -4.7692, -4.9297, -5.0657, -5.07, -5.0712, -5.0724, -5.0761, -5.1092, -5.2569, -5.3109, -5.315, -5.3511, -5.3638, -5.3726, -5.3762, -5.3975, -5.4168, -5.4697, -5.4747, -5.4842, -3.1043, -3.8771, -4.0361, -4.686, -5.2482, -4.4213, -4.2506, -5.1488, -5.0697, -2.8734, -3.4595, -3.4722, -3.517, -3.737, -3.8148, -3.8704, -4.2106, -4.4807, -4.5691, -4.5772, -4.6687, -4.7922, -4.8301, -4.8361, -4.8621, -4.8694, -4.9203, -4.9703, -4.9779, -5.0063, -5.0329, -5.0399, -5.0669, -5.0873, -5.1115, -5.116, -5.1496, -5.1725, -5.1937, -3.9309, -4.9086, -4.2888, -4.4242, -4.8963, -5.0266, -3.0229, -3.2867, -3.5208, -3.8078, -3.993, -4.1456, -4.176, -4.2417, -4.3074, -4.3273, -4.3474, -4.3836, -4.4511, -4.4696, -4.5879, -4.6166, -4.6686, -4.7422, -4.7756, -4.8117, -4.8126, -4.8454, -4.8596, -4.8969, -4.9598, -4.9692, -5.0197, -5.0271, -5.05, -5.1289, -4.1877, -3.3671, -4.2245, -3.8794, -4.049, -4.1166, -4.3852, -4.4125, -4.4519, -4.5456, -4.6042, -4.7093, -4.7367, -4.7827, -4.8455, -4.8955, -4.921, -4.9741, -4.9891, -5.024, -5.0317, -5.0932, -5.1227, -5.1235, -5.1392, -5.1408, -5.2079, -5.2664, -5.2912, -5.3695, -5.3765, -5.3779, -5.3864, -4.7343, -4.7761, -4.8181, -5.2196], \"loglift\": [30.0, 29.0, 28.0, 27.0, 26.0, 25.0, 24.0, 23.0, 22.0, 21.0, 20.0, 19.0, 18.0, 17.0, 16.0, 15.0, 14.0, 13.0, 12.0, 11.0, 10.0, 9.0, 8.0, 7.0, 6.0, 5.0, 4.0, 3.0, 2.0, 1.0, 1.835, 1.8348, 1.8348, 1.8348, 1.8347, 1.8347, 1.8345, 1.8345, 1.8344, 1.8344, 1.8344, 1.8344, 1.8344, 1.8343, 1.8343, 1.8342, 1.8341, 1.8341, 1.8339, 1.8338, 1.8338, 1.8338, 1.8336, 1.8336, 1.8336, 1.8335, 1.8334, 1.8334, 1.8333, 1.8332, 1.6545, 1.6999, 1.6265, 1.3433, 1.6459, 1.2624, 1.0484, 1.2399, 1.2785, 0.8518, -0.0778, 0.6907, 1.184, 0.8963, 2.0057, 2.0057, 2.0056, 2.0055, 2.0055, 2.0055, 2.0054, 2.0053, 2.0053, 2.0052, 2.0052, 2.0052, 2.0051, 2.0051, 2.005, 2.0049, 2.0048, 2.0047, 2.0047, 2.0047, 2.0046, 2.0045, 2.0045, 2.0044, 2.0043, 2.0043, 2.0042, 2.0041, 2.0041, 2.0041, 1.9818, 1.7143, 1.7692, 1.8031, 1.1939, 1.8186, 1.6382, 1.6886, 0.8581, 1.4767, 0.5489, 1.4065, 0.205, 0.8206, 0.5005, 0.772, 2.4669, 2.4668, 2.4668, 2.4665, 2.466, 2.466, 2.466, 2.466, 2.466, 2.466, 2.4658, 2.4658, 2.4658, 2.4657, 2.4656, 2.4655, 2.4655, 2.4655, 2.4651, 2.465, 2.4649, 2.4648, 2.4648, 2.4647, 2.4646, 2.4644, 2.4644, 2.4644, 2.4643, 2.4643, 1.9706, 1.9808, 1.5699, 1.093, 0.7245, 1.113, 0.9102, 1.3838, 1.0862, 2.0812, 0.9687, 2.5077, 2.5074, 2.5073, 2.5072, 2.5072, 2.5072, 2.5071, 2.5071, 2.507, 2.507, 2.507, 2.5068, 2.5068, 2.5067, 2.5066, 2.5065, 2.5064, 2.5063, 2.5063, 2.5062, 2.5062, 2.5061, 2.5059, 2.5058, 2.5058, 2.5057, 2.5054, 2.5051, 2.5049, 2.5049, 2.2483, 1.76, 1.7054, 0.504, 1.8184, 2.5086, 2.5083, 2.5082, 2.5081, 2.5079, 2.5079, 2.5078, 2.5078, 2.5076, 2.5076, 2.5075, 2.5074, 2.5074, 2.5074, 2.5074, 2.5074, 2.5072, 2.5071, 2.5068, 2.5068, 2.5067, 2.5067, 2.5067, 2.5066, 2.5066, 2.5064, 2.5064, 2.5063, 2.5061, 2.506, 2.1263, 2.2107, 2.1439, 2.095, 1.9932, 1.3589, 1.1838, 0.834, 0.4393, 0.7817, 2.5981, 2.5981, 2.5978, 2.5978, 2.5978, 2.5977, 2.5977, 2.5977, 2.5977, 2.5975, 2.5973, 2.5972, 2.5971, 2.5971, 2.597, 2.597, 2.5968, 2.5967, 2.5967, 2.5965, 2.5963, 2.5962, 2.5962, 2.5961, 2.5961, 2.5961, 2.596, 2.5959, 2.5958, 2.5958, 2.1298, 1.8323, 1.9793, 2.3785, 2.2158, 0.2827, 1.023, 0.3381, 2.6165, 2.6165, 2.6164, 2.6164, 2.6161, 2.616, 2.6159, 2.6155, 2.6154, 2.6153, 2.6153, 2.6152, 2.615, 2.615, 2.6149, 2.6148, 2.6148, 2.6148, 2.6146, 2.6145, 2.6144, 2.6144, 2.6143, 2.6142, 2.6141, 2.6139, 2.6136, 2.6135, 2.6134, 2.6133, 2.0281, 1.2603, 0.6491, 2.6859, 2.6858, 2.6856, 2.6855, 2.6854, 2.6854, 2.6852, 2.6852, 2.6851, 2.685, 2.6849, 2.6848, 2.6848, 2.6847, 2.6847, 2.6846, 2.6845, 2.6844, 2.6843, 2.6841, 2.6841, 2.684, 2.6839, 2.6838, 2.6837, 2.6837, 2.6837, 2.6836, 2.6835, 2.6828, 2.3053, 2.2745, 1.9387, 1.5137, 2.1008, 2.7128, 2.7124, 2.7123, 2.7123, 2.712, 2.7119, 2.7117, 2.7117, 2.7116, 2.7113, 2.7113, 2.7109, 2.7105, 2.7105, 2.7105, 2.7105, 2.7105, 2.7104, 2.7099, 2.7097, 2.7097, 2.7095, 2.7095, 2.7094, 2.7094, 2.7093, 2.7093, 2.709, 2.709, 2.709, 2.4146, 2.4657, 2.4346, 2.5054, 2.6135, 2.0039, 1.7279, 0.9696, -0.6394, 2.7394, 2.7391, 2.7391, 2.7391, 2.7389, 2.7389, 2.7388, 2.7384, 2.738, 2.7379, 2.7378, 2.7377, 2.7374, 2.7373, 2.7373, 2.7372, 2.7372, 2.7371, 2.7369, 2.7369, 2.7368, 2.7367, 2.7367, 2.7366, 2.7366, 2.7365, 2.7365, 2.7364, 2.7363, 2.7362, 2.0017, 2.3852, 1.2299, 0.7394, 1.6514, 0.913, 2.8187, 2.8185, 2.8184, 2.8181, 2.8179, 2.8178, 2.8177, 2.8176, 2.8175, 2.8175, 2.8175, 2.8174, 2.8173, 2.8172, 2.817, 2.8169, 2.8168, 2.8167, 2.8166, 2.8165, 2.8165, 2.8164, 2.8164, 2.8162, 2.8161, 2.816, 2.8159, 2.8158, 2.8158, 2.8155, 2.5523, 2.1517, 2.0392, 2.9509, 2.9507, 2.9506, 2.9502, 2.9501, 2.95, 2.9498, 2.9497, 2.9494, 2.9494, 2.9492, 2.949, 2.9489, 2.9488, 2.9486, 2.9486, 2.9484, 2.9484, 2.9482, 2.9481, 2.9481, 2.948, 2.948, 2.9477, 2.9474, 2.9473, 2.9469, 2.9469, 2.9469, 2.9468, 2.6155, 2.526, 2.0406, 2.5189]}, \"token.table\": {\"Topic\": [11, 3, 8, 1, 3, 8, 8, 1, 12, 8, 7, 5, 5, 9, 10, 8, 6, 2, 7, 11, 6, 6, 8, 4, 5, 10, 2, 3, 4, 7, 4, 8, 1, 4, 9, 9, 3, 11, 11, 3, 5, 4, 4, 11, 5, 2, 4, 11, 2, 5, 4, 4, 1, 3, 2, 11, 9, 11, 8, 3, 3, 5, 6, 9, 10, 4, 3, 4, 3, 3, 4, 11, 2, 10, 4, 9, 2, 2, 8, 6, 5, 10, 6, 6, 12, 9, 12, 11, 4, 2, 4, 8, 8, 10, 3, 3, 2, 7, 12, 5, 8, 10, 3, 7, 3, 4, 6, 9, 11, 11, 10, 8, 10, 12, 10, 10, 12, 5, 4, 10, 5, 7, 7, 1, 8, 6, 7, 12, 1, 8, 1, 2, 3, 4, 2, 11, 9, 3, 10, 9, 6, 4, 4, 1, 5, 8, 5, 10, 11, 1, 2, 9, 6, 9, 1, 10, 5, 6, 7, 10, 8, 1, 2, 1, 1, 7, 2, 7, 2, 2, 1, 2, 4, 5, 1, 1, 2, 5, 7, 1, 2, 3, 4, 6, 4, 9, 7, 6, 12, 9, 2, 4, 11, 8, 7, 2, 12, 12, 2, 3, 11, 9, 12, 1, 2, 5, 10, 1, 3, 6, 1, 5, 6, 2, 2, 5, 1, 5, 1, 2, 3, 9, 10, 12, 12, 3, 2, 12, 3, 1, 2, 2, 3, 12, 1, 8, 9, 11, 7, 10, 7, 6, 12, 8, 3, 1, 7, 11, 5, 11, 10, 10, 5, 8, 1, 4, 10, 2, 6, 1, 2, 7, 10, 1, 11, 5, 9, 3, 9, 6, 12, 12, 3, 10, 12, 8, 1, 1, 6, 2, 4, 1, 9, 5, 7, 4, 5, 2, 1, 11, 11, 11, 10, 3, 3, 5, 6, 2, 3, 5, 4, 4, 1, 6, 12, 2, 1, 2, 9, 1, 11, 10, 10, 6, 1, 8, 1, 9, 1, 3, 6, 12, 2, 9, 7, 12, 2, 9, 12, 6, 4, 10, 8, 5, 6, 7, 5, 1, 6, 1, 6, 12, 9, 12, 6, 5, 3, 2, 2, 5, 3, 9, 3, 5, 12, 12, 8, 2, 11, 11, 11, 10, 3, 11, 8, 12, 12, 9, 5, 8, 12, 8, 5, 7, 8, 4, 3, 1, 10, 2, 10, 1, 11, 11, 1, 11, 1, 4, 4, 5, 1, 12, 9, 10, 1, 7, 4, 12, 1, 2, 8, 6, 7, 1, 2, 4, 6, 11, 3, 2, 6, 1, 7, 7, 12, 9, 7, 1, 9, 4, 12, 8, 11, 7, 5, 3, 9, 5, 3, 5, 3, 2, 1, 4, 9, 3, 6, 9, 5, 4, 10, 1, 2, 3, 9, 10, 12, 7, 2, 8, 1, 2, 4, 6, 9, 10, 11, 4, 8, 10, 1, 10, 9, 6, 1, 10, 2, 9, 7, 5, 9, 5, 2, 8, 1, 1, 1, 10, 7, 7, 3, 5, 11, 9, 2, 7, 2, 9, 10, 6, 7, 3, 8, 1, 7, 1, 1, 2, 5, 6, 8, 6, 6, 9, 8, 2, 3, 6, 3, 5, 7, 2, 9], \"Freq\": [0.9989926853409338, 0.9982131670052381, 0.9978542481558277, 0.3910116578884778, 0.6086882509397953, 0.9993025339168297, 0.9958832168452572, 0.9979251823813001, 0.9966644931984175, 0.9969861993713866, 0.996044479921973, 0.9983949634050557, 0.998325903580183, 0.9939374348427453, 0.9993305781055974, 0.9988892924409594, 0.9983386450220635, 0.9993676795550626, 0.9981930212919381, 0.9985383840816949, 0.9980013501434102, 0.9956571508661423, 0.9989812093203649, 0.9985138302696276, 0.9991108188343738, 0.9966380053548858, 0.999433008094716, 0.25634019370427635, 0.188045178593283, 0.5547800542577952, 0.999085954746092, 0.997596120214515, 0.5514444163586188, 0.448021428893409, 0.9947136273295109, 0.9939405102760555, 0.9990959702117295, 0.9986488097633633, 0.9956903453745232, 0.9987482701467649, 0.9996985581543939, 0.9971632039061763, 0.9996603959783753, 0.9980355202656302, 0.998916224795759, 0.9994886314350907, 0.9993525108730383, 0.9989454352325912, 0.9988709605321872, 0.998267939391534, 0.9964849035463291, 0.9989974988072975, 0.999696569642181, 0.999419706162707, 0.23364372065907754, 0.7662509118389103, 0.9992122761979904, 0.9979046830250704, 0.9979637270175377, 0.9964020566490004, 0.9965142219857419, 0.9981595967146636, 0.9994787705496408, 0.9984923242142112, 0.9971006074992587, 0.99623741382764, 0.9985676459356447, 0.998716310175374, 0.9960411552082462, 0.9981189180257112, 0.9983683840353271, 0.9993456756529747, 0.9994101943759468, 0.9988817735072967, 0.9983674667991342, 0.9984980586924591, 0.9992219473886462, 0.9986017667153136, 0.9974375693092781, 0.9982187808625532, 0.9984627214411687, 0.9973897360355455, 0.9992288401189805, 0.9973310230436807, 0.998478432520282, 0.9972025152538482, 0.9965117887527294, 0.9968013043298406, 0.9982017192560912, 0.997852988487838, 0.9996772089552969, 0.9991705627734075, 0.6623415737435181, 0.33687169243606163, 0.9994552385566234, 0.9991540276426445, 0.046282862377268495, 0.29973663253850075, 0.6523679649367369, 0.3165496412814525, 0.6829987334053015, 0.9955168381334663, 0.997072592971626, 0.9997099190257561, 0.30351697841092723, 0.2017333391250876, 0.0018339394465917054, 0.49149577168657704, 0.9988870541706077, 0.9963463016887766, 0.998849251388846, 0.29723490502333033, 0.7015617978859487, 0.9953806434135545, 0.9979525220727568, 0.9968308192906175, 0.9952142742883451, 0.9990276249931059, 0.9990735383791608, 0.9985774542759945, 0.9981216344141196, 0.9991067791135584, 0.9969949538187703, 0.9993901997031197, 0.9991218136918136, 0.997253412931781, 0.9976452800900879, 0.9954196610690761, 0.4425214821068922, 0.5562249184815797, 0.3009054234831763, 0.2912237818009634, 0.40779074765480644, 0.9990736064460936, 0.8165489714157619, 0.18336538305476757, 0.9981795867433292, 0.9983997738845986, 0.9958086894956742, 0.9989304151581493, 0.9981833035012956, 0.9976530035047864, 0.9982701304003481, 0.8736143284387946, 0.12612806866835097, 0.9978238289672389, 0.265589686621502, 0.2207691118917925, 0.5130288925673365, 0.023738979473015304, 0.9760372714097446, 0.9981626271046861, 0.8031323274403156, 0.1961377149275835, 0.9995691861200019, 0.9988250609549336, 0.9994329108814343, 0.9963250786506966, 0.9974603475134326, 0.9995517104324448, 0.998991806902017, 0.8347986374398872, 0.1650933546027268, 0.9993187590251086, 0.9998123189780359, 0.997140999353638, 0.999391974830675, 0.9996308407226208, 0.9992912716894798, 0.9986084528116699, 0.5732254314408608, 0.21195359855227927, 0.07382025068311573, 0.1409295694859482, 0.9981262426194069, 0.5639485420005722, 0.21605565216909572, 0.07988943058347256, 0.13970811752282147, 0.14760561348977727, 0.4437770189130855, 0.17501434361147453, 0.1347741379232502, 0.09863651285833726, 0.997478313938915, 0.9957132849578277, 0.9981038069486973, 0.9974724140752556, 0.9979193297135457, 0.9966443068334359, 0.9995668352878623, 0.9994038998638772, 0.9995576006781061, 0.9943766399644447, 0.9966263933203867, 0.9969934095972769, 0.9978697114955076, 0.9942553126164018, 0.9994798936465162, 0.9981516860283638, 0.9992577220395721, 0.9993479040747151, 0.9982527956466534, 0.4554781894554346, 0.22176646168468708, 0.18722906191412106, 0.1352931224095105, 0.2837577106631476, 0.25114188185129155, 0.46454259036314965, 0.4026457994966596, 0.5972096570472037, 0.997187175676467, 0.9985766899209542, 0.30547387153450223, 0.6942587989420506, 0.99737821593975, 0.9962838130951973, 0.0006747080258612836, 0.5890201065769006, 0.15113459779292754, 0.17474937869807247, 0.08433850323266046, 0.9950552337483365, 0.9927746785900194, 0.9979099740573896, 0.9978961910546666, 0.9973762056177776, 0.9983976684317599, 0.27174122836884296, 0.728195448570102, 0.78911456714764, 0.21073501875873313, 0.9945307765657062, 0.5258827898007268, 0.4733717329630624, 0.9984240197648085, 0.9981717533130376, 0.9989894589014215, 0.998524113670597, 0.9982177729291397, 0.996032997431496, 0.9969531343500462, 0.9964479822186183, 0.9991689837779874, 0.9988881407255873, 0.998074501537106, 0.9970470906274378, 0.997633945773422, 0.9972586794686472, 0.9996596479803842, 0.9986028606929277, 0.9983795686711278, 0.9984908563634293, 0.9998306393398965, 0.9982878492699472, 0.9979680855758822, 0.9993955529492486, 0.9990813705482288, 0.0011285497879699323, 0.6923652949195535, 0.1450186477541363, 0.16081834478571536, 0.9992516228812063, 0.9994411177700048, 0.9988490467201424, 0.9976414025644567, 0.2582114331481767, 0.7416632556135577, 0.998787124578275, 0.9985025837366706, 0.997382039376215, 0.9988016733874524, 0.9967127289856135, 0.9935080303758675, 0.9989516221880952, 0.9989999035570156, 0.9994356344261067, 0.9973683432492607, 0.9987938228389636, 0.9992918935856897, 0.9993244285317903, 0.9946449726561438, 0.742238341948198, 0.25756030969923976, 0.7711388971612686, 0.2279333204316457, 0.9985285549604941, 0.9991203474886831, 0.998558687801605, 0.9986783648189749, 0.9990942790240877, 0.9953596870670628, 0.9971153930039562, 0.9981093663034184, 0.9974891167962869, 0.9989899719866763, 0.3172428727303743, 0.0005460290408440178, 0.6821267792743892, 0.9984745479174434, 0.9984964244284449, 0.3742069951647184, 0.6257065474705454, 0.9961623650704913, 0.9991241901287086, 0.8119216027127981, 0.18801621917184652, 0.9954683856951092, 0.9989676569821676, 0.9952677503784508, 0.9980999905690273, 0.9976060896707545, 0.9989335919702879, 0.9983973963093479, 0.9986154422190282, 0.9990842158745699, 0.9992893960162943, 0.38498687019627914, 0.6148818794715184, 0.9983524906876435, 0.9969977785690826, 0.21869965378559209, 0.780225791883734, 0.9979821953880266, 0.9975344422857384, 0.3536188757305189, 0.24328978650259703, 0.40171104282986947, 0.9986862851298264, 0.9994962750013743, 0.9955966307105513, 0.9981855283851624, 0.9970108666372789, 0.9978489319165188, 0.999067119021441, 0.9992546123071192, 0.9993727282915398, 0.998907920258646, 0.4613518230110007, 0.5379777313311669, 0.9958972594854367, 0.2843282675494011, 0.7142880867704466, 0.9971034485184173, 0.9989059603909659, 0.9981081040595258, 0.9982025619147721, 0.8291033650814931, 0.17031968352449275, 0.9981336656444385, 0.9982846575961217, 0.9976425727628937, 0.9977917055403437, 0.9970154050130899, 0.9950211981295374, 0.9985689803533155, 0.9990851258410668, 0.995454258040825, 0.9972037523950397, 0.997822653486641, 0.9952791036949539, 0.9997000644660599, 0.9995665016765604, 0.9958274301919664, 0.9928341578069907, 0.9942988366417808, 0.9980314426083678, 0.9991541230409378, 0.9969901617560195, 0.9984195890299286, 0.9975557616486252, 0.9984407280080092, 0.9979152334761395, 0.9967464622586159, 0.9992683098038554, 0.997924824383754, 0.5216705701891878, 0.47796455034519575, 0.9981112021377038, 0.9980683756972124, 0.9995737537427916, 0.9983902181770343, 0.9980096582316257, 0.54069620523808, 0.4587725377777649, 0.8280955388763357, 0.17190595409651097, 0.9962477829922477, 0.9979609575519098, 0.3477981851452765, 0.6478593644862993, 0.9941641435427492, 0.9968478242021744, 0.9985605485480241, 0.9967522422771472, 0.9980549732749624, 0.9980507398043941, 0.45082762676737986, 0.5492616064109126, 0.997326978109403, 0.9989567428669006, 0.9988113025339884, 0.3183068048229345, 0.001108117684327013, 0.4734432806287163, 0.2069409775480697, 0.9980006332096685, 0.9971663681717546, 0.9983553652148892, 0.9986979354052682, 0.9979387654617826, 0.9995899294476438, 0.9962865536700088, 0.9982342560516225, 0.9955031384508997, 0.9985584124601057, 0.999221410425624, 0.9960047733971538, 0.9989384644004341, 0.9952766558391478, 0.9986830177185156, 0.996091821381927, 0.9965848685514462, 0.9975142262979878, 0.09255459019939925, 0.906263695702451, 0.9985647972939266, 0.9993723473891709, 0.9971047929041824, 0.9987868367088393, 0.9980127679172607, 0.4973459260359946, 0.5024208844649333, 0.9982529571524639, 0.9986874172344031, 0.9993258685720735, 0.9984567104731876, 0.9960446349847071, 0.9988482894868824, 0.9970507258510952, 0.17950558081265128, 0.17657248308695436, 0.22350204669810503, 0.37309003070864777, 0.0023464781805575333, 0.044583085430593125, 0.998788883119481, 0.9995572083954725, 0.9989279104855793, 0.6114833107257936, 0.23289256244901196, 0.00012474159745528226, 0.10428397547261596, 0.03492764728747903, 0.0008731911821869757, 0.015343216486999716, 0.9995625953712509, 0.9968952704390287, 0.9994947170089643, 0.9985522160391245, 0.9950590269519776, 0.9951437552958614, 0.9983414653014124, 0.998983918547452, 0.997260121340693, 0.9991734603221947, 0.9951884866126488, 0.9991560150497071, 0.9985486977763548, 0.9969168252734302, 0.9980399791968546, 0.9968330681419825, 0.9994361205158886, 0.9995297245810413, 0.9992595297211017, 0.997765271825144, 0.99938492499894, 0.9974992018695918, 0.9974829551795615, 0.9977831628384618, 0.9990038888528852, 0.9971237023040183, 0.9975932047511131, 0.9987130189705276, 0.999683314817948, 0.9997182719870906, 0.756227634866709, 0.24279897413867688, 0.682502296044814, 0.3174082730514092, 0.6803917707607157, 0.3187098294615984, 0.9995063261294842, 0.997966672945959, 0.9998448861011581, 0.19919492443484904, 0.20158526352806722, 0.17768187259588533, 0.11154915768351546, 0.30954891257175543, 0.9965521319275283, 0.9991611623955164, 0.9986818336721843, 0.9996851638437995, 0.7468445939722369, 0.25309412073032816, 0.9990372391465964, 0.33814410809711604, 0.6613501230654438, 0.9976402570526391, 0.18545899737505256, 0.8128628395587411], \"Term\": [\"accepted\", \"actually\", \"afternoon\", \"ago\", \"ago\", \"amazing\", \"anniversary\", \"apartment\", \"appointment\", \"approved\", \"area\", \"arrived\", \"asked\", \"asleep\", \"ate\", \"away\", \"awesome\", \"baby\", \"bad\", \"band\", \"baseball\", \"basketball\", \"beach\", \"beautiful\", \"bed\", \"beer\", \"best\", \"better\", \"better\", \"better\", \"big\", \"bike\", \"birthday\", \"birthday\", \"blue\", \"board\", \"bonus\", \"book\", \"booked\", \"bos\", \"bought\", \"boy\", \"boyfriend\", \"break\", \"breakfast\", \"brother\", \"brought\", \"business\", \"buy\", \"buying\", \"cake\", \"called\", \"came\", \"car\", \"card\", \"card\", \"cat\", \"caught\", \"celebrated\", \"change\", \"check\", \"chicken\", \"child\", \"childhood\", \"chocolate\", \"church\", \"city\", \"class\", \"clean\", \"cleaned\", \"close\", \"coffee\", \"college\", \"come\", \"company\", \"complete\", \"completed\", \"computer\", \"concert\", \"conversation\", \"cooked\", \"cooking\", \"couple\", \"course\", \"cousin\", \"coworker\", \"coworkers\", \"credit\", \"dad\", \"date\", \"daughter\", \"decided\", \"delicious\", \"delicious\", \"did\", \"didnt\", \"different\", \"different\", \"different\", \"dinner\", \"dinner\", \"discovered\", \"doctor\", \"dog\", \"doing\", \"doing\", \"doing\", \"doing\", \"dollar\", \"door\", \"dream\", \"drink\", \"drink\", \"drinking\", \"drive\", \"driving\", \"drove\", \"early\", \"easter\", \"eat\", \"eating\", \"end\", \"ended\", \"enjoy\", \"enjoyed\", \"entire\", \"episode\", \"especially\", \"evening\", \"evening\", \"event\", \"event\", \"event\", \"exam\", \"excited\", \"excited\", \"exciting\", \"expected\", \"expecting\", \"experience\", \"extra\", \"extremely\", \"face\", \"family\", \"family\", \"father\", \"favorite\", \"favorite\", \"favorite\", \"feeling\", \"feeling\", \"fell\", \"final\", \"final\", \"finally\", \"finding\", \"finished\", \"fixed\", \"flower\", \"food\", \"free\", \"friend\", \"friend\", \"fun\", \"game\", \"garden\", \"gave\", \"getting\", \"gift\", \"girl\", \"girlfriend\", \"girlfriend\", \"girlfriend\", \"girlfriend\", \"goal\", \"going\", \"going\", \"going\", \"going\", \"got\", \"got\", \"got\", \"got\", \"got\", \"grade\", \"guy\", \"gym\", \"half\", \"hand\", \"happened\", \"hard\", \"havent\", \"having\", \"head\", \"healthy\", \"heard\", \"heart\", \"held\", \"help\", \"helped\", \"high\", \"hit\", \"hold\", \"home\", \"home\", \"home\", \"home\", \"hour\", \"hour\", \"hour\", \"house\", \"house\", \"hug\", \"huge\", \"husband\", \"husband\", \"ice\", \"id\", \"im\", \"im\", \"im\", \"im\", \"im\", \"including\", \"income\", \"instead\", \"interview\", \"issue\", \"item\", \"ive\", \"ive\", \"job\", \"job\", \"joke\", \"kid\", \"kid\", \"kind\", \"knew\", \"know\", \"knowing\", \"large\", \"late\", \"laughed\", \"le\", \"learned\", \"left\", \"let\", \"light\", \"liked\", \"listening\", \"little\", \"live\", \"living\", \"local\", \"long\", \"look\", \"looked\", \"looking\", \"lost\", \"love\", \"love\", \"love\", \"love\", \"loved\", \"lunch\", \"mail\", \"major\", \"make\", \"make\", \"making\", \"managed\", \"marriage\", \"meal\", \"mean\", \"medical\", \"meet\", \"member\", \"met\", \"mile\", \"minute\", \"mom\", \"money\", \"mood\", \"morning\", \"morning\", \"mother\", \"mother\", \"moved\", \"movie\", \"moving\", \"mturk\", \"music\", \"near\", \"need\", \"needed\", \"neighbor\", \"nephew\", \"new\", \"new\", \"new\", \"news\", \"niece\", \"night\", \"night\", \"noticed\", \"office\", \"old\", \"old\", \"older\", \"online\", \"open\", \"order\", \"ordered\", \"outside\", \"paid\", \"partner\", \"party\", \"passed\", \"past\", \"past\", \"pay\", \"payment\", \"people\", \"people\", \"perfect\", \"perform\", \"person\", \"person\", \"person\", \"pet\", \"phone\", \"pick\", \"picked\", \"picture\", \"pizza\", \"place\", \"plan\", \"play\", \"played\", \"playing\", \"playing\", \"pleasant\", \"positive\", \"positive\", \"pound\", \"pretty\", \"price\", \"problem\", \"project\", \"project\", \"promotion\", \"proud\", \"purchase\", \"purchased\", \"putting\", \"question\", \"rain\", \"raise\", \"reached\", \"read\", \"reading\", \"reason\", \"received\", \"recently\", \"relaxing\", \"rent\", \"research\", \"rest\", \"restaurant\", \"ride\", \"right\", \"road\", \"room\", \"run\", \"running\", \"said\", \"sale\", \"saw\", \"saw\", \"say\", \"saying\", \"school\", \"season\", \"second\", \"seeing\", \"seeing\", \"seen\", \"seen\", \"semester\", \"sent\", \"share\", \"share\", \"shes\", \"shop\", \"shopping\", \"short\", \"sick\", \"significant\", \"sister\", \"sister\", \"sitting\", \"sleep\", \"small\", \"son\", \"son\", \"son\", \"son\", \"song\", \"soon\", \"special\", \"spring\", \"start\", \"started\", \"starting\", \"state\", \"stop\", \"stopped\", \"store\", \"street\", \"student\", \"successful\", \"summer\", \"sun\", \"sunny\", \"super\", \"sure\", \"sure\", \"surprise\", \"surprised\", \"sweet\", \"taking\", \"talk\", \"talked\", \"talked\", \"talking\", \"tax\", \"team\", \"tell\", \"temple\", \"test\", \"text\", \"thing\", \"thing\", \"thing\", \"thing\", \"thing\", \"thing\", \"think\", \"thought\", \"ticket\", \"time\", \"time\", \"time\", \"time\", \"time\", \"time\", \"time\", \"told\", \"tonight\", \"took\", \"town\", \"treat\", \"tree\", \"tried\", \"trip\", \"try\", \"trying\", \"turn\", \"turned\", \"tv\", \"uncle\", \"use\", \"used\", \"vacation\", \"video\", \"visit\", \"visited\", \"walk\", \"walked\", \"walking\", \"want\", \"wanted\", \"warm\", \"wasnt\", \"watch\", \"watched\", \"watching\", \"way\", \"way\", \"weather\", \"weather\", \"wedding\", \"wedding\", \"weekend\", \"weight\", \"went\", \"wife\", \"wife\", \"wife\", \"wife\", \"wife\", \"win\", \"woke\", \"woman\", \"won\", \"work\", \"work\", \"worked\", \"working\", \"working\", \"workout\", \"world\", \"world\"]}, \"R\": 30, \"lambda.step\": 0.01, \"plot.opts\": {\"xlab\": \"PC1\", \"ylab\": \"PC2\"}, \"topic.order\": [2, 12, 4, 6, 1, 11, 9, 3, 10, 7, 5, 8]};\n",
       "\n",
       "function LDAvis_load_lib(url, callback){\n",
       "  var s = document.createElement('script');\n",
       "  s.src = url;\n",
       "  s.async = true;\n",
       "  s.onreadystatechange = s.onload = callback;\n",
       "  s.onerror = function(){console.warn(\"failed to load library \" + url);};\n",
       "  document.getElementsByTagName(\"head\")[0].appendChild(s);\n",
       "}\n",
       "\n",
       "if(typeof(LDAvis) !== \"undefined\"){\n",
       "   // already loaded: just create the visualization\n",
       "   !function(LDAvis){\n",
       "       new LDAvis(\"#\" + \"ldavis_el434701404056323060566650586412\", ldavis_el434701404056323060566650586412_data);\n",
       "   }(LDAvis);\n",
       "}else if(typeof define === \"function\" && define.amd){\n",
       "   // require.js is available: use it to load d3/LDAvis\n",
       "   require.config({paths: {d3: \"https://d3js.org/d3.v5\"}});\n",
       "   require([\"d3\"], function(d3){\n",
       "      window.d3 = d3;\n",
       "      LDAvis_load_lib(\"https://cdn.jsdelivr.net/gh/bmabey/pyLDAvis@3.2.2/pyLDAvis/js/ldavis.v3.0.0.js\", function(){\n",
       "        new LDAvis(\"#\" + \"ldavis_el434701404056323060566650586412\", ldavis_el434701404056323060566650586412_data);\n",
       "      });\n",
       "    });\n",
       "}else{\n",
       "    // require.js not available: dynamically load d3 & LDAvis\n",
       "    LDAvis_load_lib(\"https://d3js.org/d3.v5.js\", function(){\n",
       "         LDAvis_load_lib(\"https://cdn.jsdelivr.net/gh/bmabey/pyLDAvis@3.2.2/pyLDAvis/js/ldavis.v3.0.0.js\", function(){\n",
       "                 new LDAvis(\"#\" + \"ldavis_el434701404056323060566650586412\", ldavis_el434701404056323060566650586412_data);\n",
       "            })\n",
       "         });\n",
       "}\n",
       "</script>"
      ],
      "text/plain": [
       "PreparedData(topic_coordinates=              x         y  topics  cluster       Freq\n",
       "topic                                                \n",
       "1      0.245470  0.074058       1        1  15.960075\n",
       "11     0.243120  0.064326       2        1  13.449667\n",
       "3      0.160968 -0.150467       3        1   8.481434\n",
       "5      0.082904 -0.085158       4        1   8.143688\n",
       "0     -0.010231  0.296506       5        1   8.135497\n",
       "10     0.105307 -0.081080       6        1   7.436323\n",
       "8     -0.139591 -0.001963       7        1   7.302893\n",
       "2     -0.136043  0.161229       8        1   6.812812\n",
       "9     -0.082770 -0.222531       9        1   6.630002\n",
       "6     -0.138992  0.067676      10        1   6.458614\n",
       "4     -0.155375  0.013198      11        1   5.965975\n",
       "7     -0.174767 -0.135794      12        1   5.223020, topic_info=            Term         Freq        Total Category  logprob  loglift\n",
       "23809       went  7685.000000  7685.000000  Default  30.0000  30.0000\n",
       "14419        new  7325.000000  7325.000000  Default  29.0000  29.0000\n",
       "8392      friend  8679.000000  8679.000000  Default  28.0000  28.0000\n",
       "24129       work  6914.000000  6914.000000  Default  27.0000  27.0000\n",
       "5299    daughter  3485.000000  3485.000000  Default  26.0000  26.0000\n",
       "...          ...          ...          ...      ...      ...      ...\n",
       "10683  including   160.949445   161.800063  Topic12  -5.3864   2.9468\n",
       "16370   positive   308.968783   432.598563  Topic12  -4.7343   2.6155\n",
       "5832   different   296.323243   453.731661  Topic12  -4.7761   2.5260\n",
       "15790     person   284.140390   706.975835  Topic12  -4.8181   2.0406\n",
       "19301      share   190.177592   293.273526  Topic12  -5.2196   2.5189\n",
       "\n",
       "[484 rows x 6 columns], token_table=       Topic      Freq       Term\n",
       "term                             \n",
       "91        11  0.998993   accepted\n",
       "204        3  0.998213   actually\n",
       "389        8  0.997854  afternoon\n",
       "422        1  0.391012        ago\n",
       "422        3  0.608688        ago\n",
       "...      ...       ...        ...\n",
       "24154      3  0.338144    working\n",
       "24154      5  0.661350    working\n",
       "24162      7  0.997640    workout\n",
       "24183      2  0.185459      world\n",
       "24183      9  0.812863      world\n",
       "\n",
       "[513 rows x 3 columns], R=30, lambda_step=0.01, plot_opts={'xlab': 'PC1', 'ylab': 'PC2'}, topic_order=[2, 12, 4, 6, 1, 11, 9, 3, 10, 7, 5, 8])"
      ]
     },
     "execution_count": 46,
     "metadata": {},
     "output_type": "execute_result"
    }
   ],
   "source": [
    "pyLDAvis.sklearn.prepare(lda_12, tf, vectorizer)"
   ]
  },
  {
   "cell_type": "code",
   "execution_count": 47,
   "metadata": {
    "ExecuteTime": {
     "end_time": "2021-02-23T03:16:40.164728Z",
     "start_time": "2021-02-23T03:15:15.512772Z"
    }
   },
   "outputs": [
    {
     "data": {
      "text/plain": [
       "LatentDirichletAllocation(learning_method='online', learning_offset=50.0,\n",
       "                          max_iter=5, n_components=5, random_state=0)"
      ]
     },
     "execution_count": 47,
     "metadata": {},
     "output_type": "execute_result"
    }
   ],
   "source": [
    "lda_5 = LatentDirichletAllocation(n_components=5, max_iter=5, \n",
    "                                learning_method='online', learning_offset=50.,\n",
    "                                random_state=0)\n",
    "\n",
    "lda_5.fit(tf)"
   ]
  },
  {
   "cell_type": "code",
   "execution_count": null,
   "metadata": {},
   "outputs": [],
   "source": []
  }
 ],
 "metadata": {
  "kernelspec": {
   "display_name": "Python 3",
   "language": "python",
   "name": "python3"
  },
  "language_info": {
   "codemirror_mode": {
    "name": "ipython",
    "version": 3
   },
   "file_extension": ".py",
   "mimetype": "text/x-python",
   "name": "python",
   "nbconvert_exporter": "python",
   "pygments_lexer": "ipython3",
   "version": "3.6.8"
  },
  "toc": {
   "base_numbering": 1,
   "nav_menu": {},
   "number_sections": true,
   "sideBar": true,
   "skip_h1_title": false,
   "title_cell": "Table of Contents",
   "title_sidebar": "Contents",
   "toc_cell": false,
   "toc_position": {},
   "toc_section_display": true,
   "toc_window_display": false
  },
  "varInspector": {
   "cols": {
    "lenName": 16,
    "lenType": 16,
    "lenVar": 40
   },
   "kernels_config": {
    "python": {
     "delete_cmd_postfix": "",
     "delete_cmd_prefix": "del ",
     "library": "var_list.py",
     "varRefreshCmd": "print(var_dic_list())"
    },
    "r": {
     "delete_cmd_postfix": ") ",
     "delete_cmd_prefix": "rm(",
     "library": "var_list.r",
     "varRefreshCmd": "cat(var_dic_list()) "
    }
   },
   "types_to_exclude": [
    "module",
    "function",
    "builtin_function_or_method",
    "instance",
    "_Feature"
   ],
   "window_display": false
  }
 },
 "nbformat": 4,
 "nbformat_minor": 2
}
