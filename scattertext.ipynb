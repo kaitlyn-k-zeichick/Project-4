{
 "cells": [
  {
   "cell_type": "code",
   "execution_count": 1,
   "metadata": {
    "ExecuteTime": {
     "end_time": "2021-02-23T18:12:56.647613Z",
     "start_time": "2021-02-23T18:12:55.955984Z"
    }
   },
   "outputs": [],
   "source": [
    "import pandas as pd \n",
    "import numpy as np"
   ]
  },
  {
   "cell_type": "code",
   "execution_count": 76,
   "metadata": {
    "ExecuteTime": {
     "end_time": "2021-02-23T20:13:14.226759Z",
     "start_time": "2021-02-23T20:13:13.755173Z"
    }
   },
   "outputs": [],
   "source": [
    "import matplotlib.pyplot as plt\n",
    "import seaborn as sns"
   ]
  },
  {
   "cell_type": "code",
   "execution_count": 241,
   "metadata": {
    "ExecuteTime": {
     "end_time": "2021-02-23T22:49:17.404026Z",
     "start_time": "2021-02-23T22:49:17.399930Z"
    }
   },
   "outputs": [],
   "source": [
    "import scattertext as st"
   ]
  },
  {
   "cell_type": "code",
   "execution_count": 17,
   "metadata": {
    "ExecuteTime": {
     "end_time": "2021-02-23T18:19:11.668284Z",
     "start_time": "2021-02-23T18:19:11.664523Z"
    }
   },
   "outputs": [],
   "source": [
    "import re"
   ]
  },
  {
   "cell_type": "code",
   "execution_count": 261,
   "metadata": {
    "ExecuteTime": {
     "end_time": "2021-02-23T23:05:41.465683Z",
     "start_time": "2021-02-23T23:05:40.897212Z"
    }
   },
   "outputs": [],
   "source": [
    "df = pd.read_csv('cleaned_dataset.csv')"
   ]
  },
  {
   "cell_type": "code",
   "execution_count": 262,
   "metadata": {
    "ExecuteTime": {
     "end_time": "2021-02-23T23:05:41.770184Z",
     "start_time": "2021-02-23T23:05:41.747639Z"
    },
    "scrolled": false
   },
   "outputs": [
    {
     "data": {
      "text/html": [
       "<div>\n",
       "<style scoped>\n",
       "    .dataframe tbody tr th:only-of-type {\n",
       "        vertical-align: middle;\n",
       "    }\n",
       "\n",
       "    .dataframe tbody tr th {\n",
       "        vertical-align: top;\n",
       "    }\n",
       "\n",
       "    .dataframe thead th {\n",
       "        text-align: right;\n",
       "    }\n",
       "</style>\n",
       "<table border=\"1\" class=\"dataframe\">\n",
       "  <thead>\n",
       "    <tr style=\"text-align: right;\">\n",
       "      <th></th>\n",
       "      <th>Unnamed: 0</th>\n",
       "      <th>Unnamed: 0.1</th>\n",
       "      <th>Unnamed: 0.1.1</th>\n",
       "      <th>wid</th>\n",
       "      <th>age</th>\n",
       "      <th>country</th>\n",
       "      <th>gender</th>\n",
       "      <th>marital</th>\n",
       "      <th>parenthood</th>\n",
       "      <th>reflection_period</th>\n",
       "      <th>...</th>\n",
       "      <th>text_cleaned</th>\n",
       "      <th>verbs</th>\n",
       "      <th>nouns</th>\n",
       "      <th>proto_agent</th>\n",
       "      <th>passive_agent</th>\n",
       "      <th>root_verb</th>\n",
       "      <th>direct_object</th>\n",
       "      <th>parenthood_cat</th>\n",
       "      <th>gender_cat</th>\n",
       "      <th>marital_cat</th>\n",
       "    </tr>\n",
       "  </thead>\n",
       "  <tbody>\n",
       "    <tr>\n",
       "      <th>0</th>\n",
       "      <td>0</td>\n",
       "      <td>0</td>\n",
       "      <td>0</td>\n",
       "      <td>1</td>\n",
       "      <td>37</td>\n",
       "      <td>USA</td>\n",
       "      <td>m</td>\n",
       "      <td>married</td>\n",
       "      <td>y</td>\n",
       "      <td>24h</td>\n",
       "      <td>...</td>\n",
       "      <td>['wife', 'celebrating', 'year', 'anniversary', 'today']</td>\n",
       "      <td>[celebrating]</td>\n",
       "      <td>[wife, year, anniversary, today]</td>\n",
       "      <td>[wife]</td>\n",
       "      <td>[]</td>\n",
       "      <td>[celebrating]</td>\n",
       "      <td>[anniversary]</td>\n",
       "      <td>1</td>\n",
       "      <td>1</td>\n",
       "      <td>1</td>\n",
       "    </tr>\n",
       "    <tr>\n",
       "      <th>1</th>\n",
       "      <td>1</td>\n",
       "      <td>1</td>\n",
       "      <td>1</td>\n",
       "      <td>1</td>\n",
       "      <td>37</td>\n",
       "      <td>USA</td>\n",
       "      <td>m</td>\n",
       "      <td>married</td>\n",
       "      <td>y</td>\n",
       "      <td>24h</td>\n",
       "      <td>...</td>\n",
       "      <td>['mother', 'called', 'blue', 'tell', 'proud']</td>\n",
       "      <td>[called, tell]</td>\n",
       "      <td>[mother, blue]</td>\n",
       "      <td>[mother, she]</td>\n",
       "      <td>[]</td>\n",
       "      <td>[called]</td>\n",
       "      <td>[me]</td>\n",
       "      <td>1</td>\n",
       "      <td>1</td>\n",
       "      <td>1</td>\n",
       "    </tr>\n",
       "    <tr>\n",
       "      <th>2</th>\n",
       "      <td>2</td>\n",
       "      <td>2</td>\n",
       "      <td>2</td>\n",
       "      <td>1</td>\n",
       "      <td>37</td>\n",
       "      <td>USA</td>\n",
       "      <td>m</td>\n",
       "      <td>married</td>\n",
       "      <td>y</td>\n",
       "      <td>24h</td>\n",
       "      <td>...</td>\n",
       "      <td>['today', 'took', 'day', 'time', 'job', 'brunch', 'date', 'wonderful', 'wife']</td>\n",
       "      <td>[took, go, have]</td>\n",
       "      <td>[Today, day, part, time, job, brunch, date, wife]</td>\n",
       "      <td>[i]</td>\n",
       "      <td>[]</td>\n",
       "      <td>[took]</td>\n",
       "      <td>[day, date]</td>\n",
       "      <td>1</td>\n",
       "      <td>1</td>\n",
       "      <td>1</td>\n",
       "    </tr>\n",
       "    <tr>\n",
       "      <th>3</th>\n",
       "      <td>3</td>\n",
       "      <td>3</td>\n",
       "      <td>3</td>\n",
       "      <td>1</td>\n",
       "      <td>37</td>\n",
       "      <td>USA</td>\n",
       "      <td>m</td>\n",
       "      <td>married</td>\n",
       "      <td>y</td>\n",
       "      <td>24h</td>\n",
       "      <td>...</td>\n",
       "      <td>['just', 'got', 'bonus', 'mturk', 'task']</td>\n",
       "      <td>[got]</td>\n",
       "      <td>[bonus, mturk, task]</td>\n",
       "      <td>[I]</td>\n",
       "      <td>[]</td>\n",
       "      <td>[got]</td>\n",
       "      <td>[bonus]</td>\n",
       "      <td>1</td>\n",
       "      <td>1</td>\n",
       "      <td>1</td>\n",
       "    </tr>\n",
       "    <tr>\n",
       "      <th>4</th>\n",
       "      <td>4</td>\n",
       "      <td>4</td>\n",
       "      <td>4</td>\n",
       "      <td>1</td>\n",
       "      <td>37</td>\n",
       "      <td>USA</td>\n",
       "      <td>m</td>\n",
       "      <td>married</td>\n",
       "      <td>y</td>\n",
       "      <td>24h</td>\n",
       "      <td>...</td>\n",
       "      <td>['wife', 'cooked', 'surprise', 'dinner', 'work']</td>\n",
       "      <td>[cooked, take, work]</td>\n",
       "      <td>[wife, surprise, dinner]</td>\n",
       "      <td>[wife]</td>\n",
       "      <td>[]</td>\n",
       "      <td>[cooked]</td>\n",
       "      <td>[dinner]</td>\n",
       "      <td>1</td>\n",
       "      <td>1</td>\n",
       "      <td>1</td>\n",
       "    </tr>\n",
       "  </tbody>\n",
       "</table>\n",
       "<p>5 rows × 21 columns</p>\n",
       "</div>"
      ],
      "text/plain": [
       "   Unnamed: 0  Unnamed: 0.1  Unnamed: 0.1.1  wid  age country gender  marital  \\\n",
       "0  0           0             0               1    37   USA     m      married   \n",
       "1  1           1             1               1    37   USA     m      married   \n",
       "2  2           2             2               1    37   USA     m      married   \n",
       "3  3           3             3               1    37   USA     m      married   \n",
       "4  4           4             4               1    37   USA     m      married   \n",
       "\n",
       "  parenthood reflection_period  ...  \\\n",
       "0  y          24h               ...   \n",
       "1  y          24h               ...   \n",
       "2  y          24h               ...   \n",
       "3  y          24h               ...   \n",
       "4  y          24h               ...   \n",
       "\n",
       "                                                                     text_cleaned  \\\n",
       "0  ['wife', 'celebrating', 'year', 'anniversary', 'today']                          \n",
       "1  ['mother', 'called', 'blue', 'tell', 'proud']                                    \n",
       "2  ['today', 'took', 'day', 'time', 'job', 'brunch', 'date', 'wonderful', 'wife']   \n",
       "3  ['just', 'got', 'bonus', 'mturk', 'task']                                        \n",
       "4  ['wife', 'cooked', 'surprise', 'dinner', 'work']                                 \n",
       "\n",
       "                  verbs                                              nouns  \\\n",
       "0  [celebrating]         [wife, year, anniversary, today]                    \n",
       "1  [called, tell]        [mother, blue]                                      \n",
       "2  [took, go, have]      [Today, day, part, time, job, brunch, date, wife]   \n",
       "3  [got]                 [bonus, mturk, task]                                \n",
       "4  [cooked, take, work]  [wife, surprise, dinner]                            \n",
       "\n",
       "     proto_agent passive_agent      root_verb  direct_object parenthood_cat  \\\n",
       "0  [wife]         []            [celebrating]  [anniversary]  1               \n",
       "1  [mother, she]  []            [called]       [me]           1               \n",
       "2  [i]            []            [took]         [day, date]    1               \n",
       "3  [I]            []            [got]          [bonus]        1               \n",
       "4  [wife]         []            [cooked]       [dinner]       1               \n",
       "\n",
       "   gender_cat  marital_cat  \n",
       "0  1           1            \n",
       "1  1           1            \n",
       "2  1           1            \n",
       "3  1           1            \n",
       "4  1           1            \n",
       "\n",
       "[5 rows x 21 columns]"
      ]
     },
     "execution_count": 262,
     "metadata": {},
     "output_type": "execute_result"
    }
   ],
   "source": [
    "df.head()"
   ]
  },
  {
   "cell_type": "markdown",
   "metadata": {},
   "source": [
    "# Wives and Husbands"
   ]
  },
  {
   "cell_type": "markdown",
   "metadata": {},
   "source": [
    "## Basic Visualizations"
   ]
  },
  {
   "cell_type": "code",
   "execution_count": 263,
   "metadata": {
    "ExecuteTime": {
     "end_time": "2021-02-23T23:05:45.213706Z",
     "start_time": "2021-02-23T23:05:44.193202Z"
    }
   },
   "outputs": [
    {
     "name": "stderr",
     "output_type": "stream",
     "text": [
      "/Users/kaitlynzeichick/anaconda3/lib/python3.6/site-packages/ipykernel_launcher.py:10: FutureWarning: set_value is deprecated and will be removed in a future release. Please use .at[] or .iat[] accessors instead\n",
      "  # Remove the CWD from sys.path while we load stuff.\n",
      "/Users/kaitlynzeichick/anaconda3/lib/python3.6/site-packages/ipykernel_launcher.py:12: FutureWarning: set_value is deprecated and will be removed in a future release. Please use .at[] or .iat[] accessors instead\n",
      "  if sys.path[0] == '':\n"
     ]
    },
    {
     "data": {
      "text/html": [
       "<div>\n",
       "<style scoped>\n",
       "    .dataframe tbody tr th:only-of-type {\n",
       "        vertical-align: middle;\n",
       "    }\n",
       "\n",
       "    .dataframe tbody tr th {\n",
       "        vertical-align: top;\n",
       "    }\n",
       "\n",
       "    .dataframe thead th {\n",
       "        text-align: right;\n",
       "    }\n",
       "</style>\n",
       "<table border=\"1\" class=\"dataframe\">\n",
       "  <thead>\n",
       "    <tr style=\"text-align: right;\">\n",
       "      <th></th>\n",
       "      <th>Unnamed: 0</th>\n",
       "      <th>Unnamed: 0.1</th>\n",
       "      <th>Unnamed: 0.1.1</th>\n",
       "      <th>wid</th>\n",
       "      <th>age</th>\n",
       "      <th>country</th>\n",
       "      <th>gender</th>\n",
       "      <th>marital</th>\n",
       "      <th>parenthood</th>\n",
       "      <th>reflection_period</th>\n",
       "      <th>...</th>\n",
       "      <th>verbs</th>\n",
       "      <th>nouns</th>\n",
       "      <th>proto_agent</th>\n",
       "      <th>passive_agent</th>\n",
       "      <th>root_verb</th>\n",
       "      <th>direct_object</th>\n",
       "      <th>parenthood_cat</th>\n",
       "      <th>gender_cat</th>\n",
       "      <th>marital_cat</th>\n",
       "      <th>wife_husband_label</th>\n",
       "    </tr>\n",
       "  </thead>\n",
       "  <tbody>\n",
       "    <tr>\n",
       "      <th>0</th>\n",
       "      <td>0</td>\n",
       "      <td>0</td>\n",
       "      <td>0</td>\n",
       "      <td>1</td>\n",
       "      <td>37</td>\n",
       "      <td>USA</td>\n",
       "      <td>m</td>\n",
       "      <td>married</td>\n",
       "      <td>y</td>\n",
       "      <td>24h</td>\n",
       "      <td>...</td>\n",
       "      <td>[celebrating]</td>\n",
       "      <td>[wife, year, anniversary, today]</td>\n",
       "      <td>[wife]</td>\n",
       "      <td>[]</td>\n",
       "      <td>[celebrating]</td>\n",
       "      <td>[anniversary]</td>\n",
       "      <td>1</td>\n",
       "      <td>1</td>\n",
       "      <td>1</td>\n",
       "      <td>wife</td>\n",
       "    </tr>\n",
       "    <tr>\n",
       "      <th>1</th>\n",
       "      <td>1</td>\n",
       "      <td>1</td>\n",
       "      <td>1</td>\n",
       "      <td>1</td>\n",
       "      <td>37</td>\n",
       "      <td>USA</td>\n",
       "      <td>m</td>\n",
       "      <td>married</td>\n",
       "      <td>y</td>\n",
       "      <td>24h</td>\n",
       "      <td>...</td>\n",
       "      <td>[called, tell]</td>\n",
       "      <td>[mother, blue]</td>\n",
       "      <td>[mother, she]</td>\n",
       "      <td>[]</td>\n",
       "      <td>[called]</td>\n",
       "      <td>[me]</td>\n",
       "      <td>1</td>\n",
       "      <td>1</td>\n",
       "      <td>1</td>\n",
       "      <td>other</td>\n",
       "    </tr>\n",
       "    <tr>\n",
       "      <th>2</th>\n",
       "      <td>2</td>\n",
       "      <td>2</td>\n",
       "      <td>2</td>\n",
       "      <td>1</td>\n",
       "      <td>37</td>\n",
       "      <td>USA</td>\n",
       "      <td>m</td>\n",
       "      <td>married</td>\n",
       "      <td>y</td>\n",
       "      <td>24h</td>\n",
       "      <td>...</td>\n",
       "      <td>[took, go, have]</td>\n",
       "      <td>[Today, day, part, time, job, brunch, date, wife]</td>\n",
       "      <td>[i]</td>\n",
       "      <td>[]</td>\n",
       "      <td>[took]</td>\n",
       "      <td>[day, date]</td>\n",
       "      <td>1</td>\n",
       "      <td>1</td>\n",
       "      <td>1</td>\n",
       "      <td>wife</td>\n",
       "    </tr>\n",
       "    <tr>\n",
       "      <th>3</th>\n",
       "      <td>3</td>\n",
       "      <td>3</td>\n",
       "      <td>3</td>\n",
       "      <td>1</td>\n",
       "      <td>37</td>\n",
       "      <td>USA</td>\n",
       "      <td>m</td>\n",
       "      <td>married</td>\n",
       "      <td>y</td>\n",
       "      <td>24h</td>\n",
       "      <td>...</td>\n",
       "      <td>[got]</td>\n",
       "      <td>[bonus, mturk, task]</td>\n",
       "      <td>[I]</td>\n",
       "      <td>[]</td>\n",
       "      <td>[got]</td>\n",
       "      <td>[bonus]</td>\n",
       "      <td>1</td>\n",
       "      <td>1</td>\n",
       "      <td>1</td>\n",
       "      <td>other</td>\n",
       "    </tr>\n",
       "    <tr>\n",
       "      <th>4</th>\n",
       "      <td>4</td>\n",
       "      <td>4</td>\n",
       "      <td>4</td>\n",
       "      <td>1</td>\n",
       "      <td>37</td>\n",
       "      <td>USA</td>\n",
       "      <td>m</td>\n",
       "      <td>married</td>\n",
       "      <td>y</td>\n",
       "      <td>24h</td>\n",
       "      <td>...</td>\n",
       "      <td>[cooked, take, work]</td>\n",
       "      <td>[wife, surprise, dinner]</td>\n",
       "      <td>[wife]</td>\n",
       "      <td>[]</td>\n",
       "      <td>[cooked]</td>\n",
       "      <td>[dinner]</td>\n",
       "      <td>1</td>\n",
       "      <td>1</td>\n",
       "      <td>1</td>\n",
       "      <td>wife</td>\n",
       "    </tr>\n",
       "  </tbody>\n",
       "</table>\n",
       "<p>5 rows × 22 columns</p>\n",
       "</div>"
      ],
      "text/plain": [
       "   Unnamed: 0  Unnamed: 0.1  Unnamed: 0.1.1  wid  age country gender  marital  \\\n",
       "0  0           0             0               1    37   USA     m      married   \n",
       "1  1           1             1               1    37   USA     m      married   \n",
       "2  2           2             2               1    37   USA     m      married   \n",
       "3  3           3             3               1    37   USA     m      married   \n",
       "4  4           4             4               1    37   USA     m      married   \n",
       "\n",
       "  parenthood reflection_period  ...                 verbs  \\\n",
       "0  y          24h               ...  [celebrating]          \n",
       "1  y          24h               ...  [called, tell]         \n",
       "2  y          24h               ...  [took, go, have]       \n",
       "3  y          24h               ...  [got]                  \n",
       "4  y          24h               ...  [cooked, take, work]   \n",
       "\n",
       "                                               nouns    proto_agent  \\\n",
       "0  [wife, year, anniversary, today]                   [wife]          \n",
       "1  [mother, blue]                                     [mother, she]   \n",
       "2  [Today, day, part, time, job, brunch, date, wife]  [i]             \n",
       "3  [bonus, mturk, task]                               [I]             \n",
       "4  [wife, surprise, dinner]                           [wife]          \n",
       "\n",
       "  passive_agent      root_verb  direct_object parenthood_cat gender_cat  \\\n",
       "0  []            [celebrating]  [anniversary]  1              1           \n",
       "1  []            [called]       [me]           1              1           \n",
       "2  []            [took]         [day, date]    1              1           \n",
       "3  []            [got]          [bonus]        1              1           \n",
       "4  []            [cooked]       [dinner]       1              1           \n",
       "\n",
       "   marital_cat  wife_husband_label  \n",
       "0  1            wife                \n",
       "1  1            other               \n",
       "2  1            wife                \n",
       "3  1            other               \n",
       "4  1            wife                \n",
       "\n",
       "[5 rows x 22 columns]"
      ]
     },
     "execution_count": 263,
     "metadata": {},
     "output_type": "execute_result"
    }
   ],
   "source": [
    "# Create a new column that labels each row as having the word 'wife' or 'husband' in it.\n",
    "\n",
    "df['wife_husband_label'] = 'other'\n",
    "\n",
    "counter = 0\n",
    "for row in df['text_cleaned']:\n",
    "    wordList = re.sub(\"[^\\w]\", \" \",  row).split()\n",
    "    for word in wordList:\n",
    "        if word == 'wife':\n",
    "            df.set_value(counter, 'wife_husband_label', 'wife')\n",
    "        elif word == 'husband':\n",
    "            df.set_value(counter, 'wife_husband_label', 'husband')\n",
    "    counter += 1\n",
    "\n",
    "df.head()"
   ]
  },
  {
   "cell_type": "code",
   "execution_count": 264,
   "metadata": {
    "ExecuteTime": {
     "end_time": "2021-02-23T23:05:47.341196Z",
     "start_time": "2021-02-23T23:05:47.285853Z"
    }
   },
   "outputs": [
    {
     "data": {
      "text/plain": [
       "2690"
      ]
     },
     "execution_count": 264,
     "metadata": {},
     "output_type": "execute_result"
    }
   ],
   "source": [
    "# The number of entries with the word 'wife'.\n",
    "len(df[df['wife_husband_label']=='wife'][['wife_husband_label', 'text']])"
   ]
  },
  {
   "cell_type": "code",
   "execution_count": 265,
   "metadata": {
    "ExecuteTime": {
     "end_time": "2021-02-23T23:05:47.959505Z",
     "start_time": "2021-02-23T23:05:47.943835Z"
    }
   },
   "outputs": [
    {
     "data": {
      "text/plain": [
       "2638"
      ]
     },
     "execution_count": 265,
     "metadata": {},
     "output_type": "execute_result"
    }
   ],
   "source": [
    "# The number of entries with the word 'husband'.\n",
    "len(df[df['wife_husband_label']=='husband'][['wife_husband_label', 'text']])"
   ]
  },
  {
   "cell_type": "code",
   "execution_count": 144,
   "metadata": {
    "ExecuteTime": {
     "end_time": "2021-02-23T22:01:11.474246Z",
     "start_time": "2021-02-23T22:01:11.113743Z"
    }
   },
   "outputs": [
    {
     "data": {
      "image/png": "[encoded data removed]",
      "text/plain": [
       "<Figure size 1080x432 with 1 Axes>"
      ]
     },
     "metadata": {},
     "output_type": "display_data"
    }
   ],
   "source": [
    "# Visual of the total number of 'Wife' and 'Husband' responders.\n",
    "wives = df[(df['marital'] == 'married') & (df['gender'] == 'f')]\n",
    "husbands = df[(df['marital'] == 'married') & (df['gender'] == 'm')]\n",
    "\n",
    "x = ['Wives', 'Husbands']\n",
    "y = [len(wives.values),len(husbands.values)]\n",
    "\n",
    "plt.figure(figsize=(15,6))\n",
    "sns.barplot(x=x, y=y, palette=\"rocket\")\n",
    "plt.title(\"Wives and Husbands\")\n",
    "plt.xlabel(\"Wives and Husbands\")\n",
    "plt.ylabel(\"Number of People\")\n",
    "plt.show()"
   ]
  },
  {
   "cell_type": "code",
   "execution_count": 230,
   "metadata": {
    "ExecuteTime": {
     "end_time": "2021-02-23T22:37:30.343184Z",
     "start_time": "2021-02-23T22:37:30.111397Z"
    }
   },
   "outputs": [
    {
     "data": {
      "image/png": "[encoded data removed]",
      "text/plain": [
       "<Figure size 432x288 with 1 Axes>"
      ]
     },
     "metadata": {},
     "output_type": "display_data"
    }
   ],
   "source": [
    "# Red is the total number of wife and husband responders. Blue is the times wives and husbands\n",
    "# were mentioned in the happiness snippets.\n",
    "\n",
    "sns.barplot(x = ['Wives', 'Husbands'], \n",
    "            y = [len(wives.values),len(husbands.values)], \n",
    "            color = \"red\")\n",
    "\n",
    "bottom_plot = sns.barplot(x = ['Wives', 'Husbands'], \n",
    "                          y = [len(df[df['wife_husband_label']=='wife']), \n",
    "                               len(df[df['wife_husband_label']=='husband'])], \n",
    "                               color = \"#0000A3\")\n",
    "\n",
    "topbar = plt.Rectangle((0,0),1,1,fc=\"red\", edgecolor = 'none')\n",
    "bottombar = plt.Rectangle((0,0),1,1,fc='#0000A3',  edgecolor = 'none')\n",
    "l.draw_frame(False)\n"
   ]
  },
  {
   "cell_type": "markdown",
   "metadata": {},
   "source": [
    "## Husband Wife Dataframe"
   ]
  },
  {
   "cell_type": "code",
   "execution_count": 266,
   "metadata": {
    "ExecuteTime": {
     "end_time": "2021-02-23T23:06:01.329449Z",
     "start_time": "2021-02-23T23:06:01.306672Z"
    }
   },
   "outputs": [
    {
     "data": {
      "text/plain": [
       "(5328, 22)"
      ]
     },
     "execution_count": 266,
     "metadata": {},
     "output_type": "execute_result"
    }
   ],
   "source": [
    "# Make a new dataframe of snippets where wives or husbands were mentioned\n",
    "df_husband_wife = df[(df['wife_husband_label']=='wife') | (df['wife_husband_label']=='husband')]\n",
    "\n",
    "df_husband_wife.shape"
   ]
  },
  {
   "cell_type": "code",
   "execution_count": 267,
   "metadata": {
    "ExecuteTime": {
     "end_time": "2021-02-23T23:06:03.203965Z",
     "start_time": "2021-02-23T23:06:03.188730Z"
    }
   },
   "outputs": [
    {
     "data": {
      "text/plain": [
       "(5089, 22)"
      ]
     },
     "execution_count": 267,
     "metadata": {},
     "output_type": "execute_result"
    }
   ],
   "source": [
    "# I noticed a couple duplicates in the text_cleaned column. Remove those.\n",
    "\n",
    "df_husband_wife = df_husband_wife.drop_duplicates(subset=['text_cleaned'])\n",
    "df_husband_wife.shape"
   ]
  },
  {
   "cell_type": "code",
   "execution_count": 268,
   "metadata": {
    "ExecuteTime": {
     "end_time": "2021-02-23T23:06:08.526015Z",
     "start_time": "2021-02-23T23:06:08.250217Z"
    },
    "scrolled": true
   },
   "outputs": [
    {
     "data": {
      "text/plain": [
       "(5079, 22)"
      ]
     },
     "execution_count": 268,
     "metadata": {},
     "output_type": "execute_result"
    }
   ],
   "source": [
    "# Remove the user that keeps mentioning 'Roti', his wife. The IDs are different for each entry,\n",
    "# and the spelling is very slightly different, so this has to be done manually.\n",
    "counter = 0\n",
    "for row in df_husband_wife['text_cleaned']:\n",
    "    wordList = re.sub(\"[^\\w]\", \" \",  row).split()\n",
    "    for word in wordList:\n",
    "        if word == 'roti':\n",
    "            df_husband_wife = df_husband_wife[df_husband_wife.text_cleaned != row]\n",
    "    counter += 1\n",
    "    \n",
    "df_husband_wife.shape"
   ]
  },
  {
   "cell_type": "code",
   "execution_count": 269,
   "metadata": {
    "ExecuteTime": {
     "end_time": "2021-02-23T23:06:15.470901Z",
     "start_time": "2021-02-23T23:06:15.395266Z"
    }
   },
   "outputs": [],
   "source": [
    "# Create a new column of cleaned text without the words 'wife' or 'husband' in them.\n",
    "remove_words = ['wife', 'husband']\n",
    "pat = r'\\b(?:{})\\b'.format('|'.join(remove_words))\n",
    "df_husband_wife['text_cleaned_no_husband_wife'] = df_husband_wife['text_cleaned'].str.replace(pat, '')"
   ]
  },
  {
   "cell_type": "code",
   "execution_count": 270,
   "metadata": {
    "ExecuteTime": {
     "end_time": "2021-02-23T23:06:16.103226Z",
     "start_time": "2021-02-23T23:06:16.074662Z"
    }
   },
   "outputs": [
    {
     "data": {
      "text/html": [
       "<div>\n",
       "<style scoped>\n",
       "    .dataframe tbody tr th:only-of-type {\n",
       "        vertical-align: middle;\n",
       "    }\n",
       "\n",
       "    .dataframe tbody tr th {\n",
       "        vertical-align: top;\n",
       "    }\n",
       "\n",
       "    .dataframe thead th {\n",
       "        text-align: right;\n",
       "    }\n",
       "</style>\n",
       "<table border=\"1\" class=\"dataframe\">\n",
       "  <thead>\n",
       "    <tr style=\"text-align: right;\">\n",
       "      <th></th>\n",
       "      <th>Unnamed: 0</th>\n",
       "      <th>Unnamed: 0.1</th>\n",
       "      <th>Unnamed: 0.1.1</th>\n",
       "      <th>wid</th>\n",
       "      <th>age</th>\n",
       "      <th>country</th>\n",
       "      <th>gender</th>\n",
       "      <th>marital</th>\n",
       "      <th>parenthood</th>\n",
       "      <th>reflection_period</th>\n",
       "      <th>...</th>\n",
       "      <th>nouns</th>\n",
       "      <th>proto_agent</th>\n",
       "      <th>passive_agent</th>\n",
       "      <th>root_verb</th>\n",
       "      <th>direct_object</th>\n",
       "      <th>parenthood_cat</th>\n",
       "      <th>gender_cat</th>\n",
       "      <th>marital_cat</th>\n",
       "      <th>wife_husband_label</th>\n",
       "      <th>text_cleaned_no_husband_wife</th>\n",
       "    </tr>\n",
       "  </thead>\n",
       "  <tbody>\n",
       "    <tr>\n",
       "      <th>0</th>\n",
       "      <td>0</td>\n",
       "      <td>0</td>\n",
       "      <td>0</td>\n",
       "      <td>1</td>\n",
       "      <td>37</td>\n",
       "      <td>USA</td>\n",
       "      <td>m</td>\n",
       "      <td>married</td>\n",
       "      <td>y</td>\n",
       "      <td>24h</td>\n",
       "      <td>...</td>\n",
       "      <td>[wife, year, anniversary, today]</td>\n",
       "      <td>[wife]</td>\n",
       "      <td>[]</td>\n",
       "      <td>[celebrating]</td>\n",
       "      <td>[anniversary]</td>\n",
       "      <td>1</td>\n",
       "      <td>1</td>\n",
       "      <td>1</td>\n",
       "      <td>wife</td>\n",
       "      <td>['', 'celebrating', 'year', 'anniversary', 'today']</td>\n",
       "    </tr>\n",
       "    <tr>\n",
       "      <th>2</th>\n",
       "      <td>2</td>\n",
       "      <td>2</td>\n",
       "      <td>2</td>\n",
       "      <td>1</td>\n",
       "      <td>37</td>\n",
       "      <td>USA</td>\n",
       "      <td>m</td>\n",
       "      <td>married</td>\n",
       "      <td>y</td>\n",
       "      <td>24h</td>\n",
       "      <td>...</td>\n",
       "      <td>[Today, day, part, time, job, brunch, date, wife]</td>\n",
       "      <td>[i]</td>\n",
       "      <td>[]</td>\n",
       "      <td>[took]</td>\n",
       "      <td>[day, date]</td>\n",
       "      <td>1</td>\n",
       "      <td>1</td>\n",
       "      <td>1</td>\n",
       "      <td>wife</td>\n",
       "      <td>['today', 'took', 'day', 'time', 'job', 'brunch', 'date', 'wonderful', '']</td>\n",
       "    </tr>\n",
       "    <tr>\n",
       "      <th>4</th>\n",
       "      <td>4</td>\n",
       "      <td>4</td>\n",
       "      <td>4</td>\n",
       "      <td>1</td>\n",
       "      <td>37</td>\n",
       "      <td>USA</td>\n",
       "      <td>m</td>\n",
       "      <td>married</td>\n",
       "      <td>y</td>\n",
       "      <td>24h</td>\n",
       "      <td>...</td>\n",
       "      <td>[wife, surprise, dinner]</td>\n",
       "      <td>[wife]</td>\n",
       "      <td>[]</td>\n",
       "      <td>[cooked]</td>\n",
       "      <td>[dinner]</td>\n",
       "      <td>1</td>\n",
       "      <td>1</td>\n",
       "      <td>1</td>\n",
       "      <td>wife</td>\n",
       "      <td>['', 'cooked', 'surprise', 'dinner', 'work']</td>\n",
       "    </tr>\n",
       "    <tr>\n",
       "      <th>8</th>\n",
       "      <td>8</td>\n",
       "      <td>8</td>\n",
       "      <td>8</td>\n",
       "      <td>1</td>\n",
       "      <td>37</td>\n",
       "      <td>USA</td>\n",
       "      <td>m</td>\n",
       "      <td>married</td>\n",
       "      <td>y</td>\n",
       "      <td>24h</td>\n",
       "      <td>...</td>\n",
       "      <td>[wife, I, phone]</td>\n",
       "      <td>[wife, i]</td>\n",
       "      <td>[]</td>\n",
       "      <td>[surprised]</td>\n",
       "      <td>[me, phone]</td>\n",
       "      <td>1</td>\n",
       "      <td>1</td>\n",
       "      <td>1</td>\n",
       "      <td>wife</td>\n",
       "      <td>['', 'surprised', 'bought', 'new', 'iphone', 'upgrade']</td>\n",
       "    </tr>\n",
       "    <tr>\n",
       "      <th>20</th>\n",
       "      <td>20</td>\n",
       "      <td>20</td>\n",
       "      <td>20</td>\n",
       "      <td>1</td>\n",
       "      <td>37</td>\n",
       "      <td>USA</td>\n",
       "      <td>m</td>\n",
       "      <td>married</td>\n",
       "      <td>y</td>\n",
       "      <td>24h</td>\n",
       "      <td>...</td>\n",
       "      <td>[wife, grocery, shopping, today, time, kids]</td>\n",
       "      <td>[wife, time]</td>\n",
       "      <td>[]</td>\n",
       "      <td>[went]</td>\n",
       "      <td>[shopping]</td>\n",
       "      <td>1</td>\n",
       "      <td>1</td>\n",
       "      <td>1</td>\n",
       "      <td>wife</td>\n",
       "      <td>['', 'went', 'grocery', 'shopping', 'today', 'fun', 'time', 'hanging', 'kid']</td>\n",
       "    </tr>\n",
       "  </tbody>\n",
       "</table>\n",
       "<p>5 rows × 23 columns</p>\n",
       "</div>"
      ],
      "text/plain": [
       "    Unnamed: 0  Unnamed: 0.1  Unnamed: 0.1.1  wid  age country gender  \\\n",
       "0   0           0             0               1    37   USA     m       \n",
       "2   2           2             2               1    37   USA     m       \n",
       "4   4           4             4               1    37   USA     m       \n",
       "8   8           8             8               1    37   USA     m       \n",
       "20  20          20            20              1    37   USA     m       \n",
       "\n",
       "    marital parenthood reflection_period  ...  \\\n",
       "0   married  y          24h               ...   \n",
       "2   married  y          24h               ...   \n",
       "4   married  y          24h               ...   \n",
       "8   married  y          24h               ...   \n",
       "20  married  y          24h               ...   \n",
       "\n",
       "                                                nouns   proto_agent  \\\n",
       "0   [wife, year, anniversary, today]                   [wife]         \n",
       "2   [Today, day, part, time, job, brunch, date, wife]  [i]            \n",
       "4   [wife, surprise, dinner]                           [wife]         \n",
       "8   [wife, I, phone]                                   [wife, i]      \n",
       "20  [wife, grocery, shopping, today, time, kids]       [wife, time]   \n",
       "\n",
       "   passive_agent      root_verb  direct_object parenthood_cat gender_cat  \\\n",
       "0   []            [celebrating]  [anniversary]  1              1           \n",
       "2   []            [took]         [day, date]    1              1           \n",
       "4   []            [cooked]       [dinner]       1              1           \n",
       "8   []            [surprised]    [me, phone]    1              1           \n",
       "20  []            [went]         [shopping]     1              1           \n",
       "\n",
       "   marital_cat  wife_husband_label  \\\n",
       "0   1           wife                 \n",
       "2   1           wife                 \n",
       "4   1           wife                 \n",
       "8   1           wife                 \n",
       "20  1           wife                 \n",
       "\n",
       "                                                     text_cleaned_no_husband_wife  \n",
       "0   ['', 'celebrating', 'year', 'anniversary', 'today']                            \n",
       "2   ['today', 'took', 'day', 'time', 'job', 'brunch', 'date', 'wonderful', '']     \n",
       "4   ['', 'cooked', 'surprise', 'dinner', 'work']                                   \n",
       "8   ['', 'surprised', 'bought', 'new', 'iphone', 'upgrade']                        \n",
       "20  ['', 'went', 'grocery', 'shopping', 'today', 'fun', 'time', 'hanging', 'kid']  \n",
       "\n",
       "[5 rows x 23 columns]"
      ]
     },
     "execution_count": 270,
     "metadata": {},
     "output_type": "execute_result"
    }
   ],
   "source": [
    "df_husband_wife.head()"
   ]
  },
  {
   "cell_type": "markdown",
   "metadata": {},
   "source": [
    "## Scatterplot"
   ]
  },
  {
   "cell_type": "code",
   "execution_count": 242,
   "metadata": {
    "ExecuteTime": {
     "end_time": "2021-02-23T22:49:35.828129Z",
     "start_time": "2021-02-23T22:49:32.948286Z"
    }
   },
   "outputs": [],
   "source": [
    "corpus = st.CorpusFromPandas(df_husband_wife,\n",
    "                             category_col='wife_husband_label',\n",
    "                             text_col='text_cleaned_no_husband_wife',\n",
    "                             nlp=st.whitespace_nlp_with_sentences\n",
    "                            ).build()"
   ]
  },
  {
   "cell_type": "code",
   "execution_count": 243,
   "metadata": {
    "ExecuteTime": {
     "end_time": "2021-02-23T22:49:38.204966Z",
     "start_time": "2021-02-23T22:49:36.548532Z"
    }
   },
   "outputs": [],
   "source": [
    "html = st.produce_scattertext_explorer(corpus,\n",
    "                                       category='wife',\n",
    "                                       category_name='Wife',\n",
    "                                       not_category_name='Husband',\n",
    "                                       minimum_term_frequency=50,\n",
    "                                       pmi_threshold_coefficient=5,\n",
    "                                       width_in_pixels=1000\n",
    "                                      )"
   ]
  },
  {
   "cell_type": "code",
   "execution_count": 244,
   "metadata": {
    "ExecuteTime": {
     "end_time": "2021-02-23T22:49:38.763367Z",
     "start_time": "2021-02-23T22:49:38.747367Z"
    }
   },
   "outputs": [],
   "source": [
    "open('wife_husband.html', 'wb').write(html.encode('utf-8'));"
   ]
  },
  {
   "cell_type": "code",
   "execution_count": 248,
   "metadata": {
    "ExecuteTime": {
     "end_time": "2021-02-23T22:54:16.791861Z",
     "start_time": "2021-02-23T22:54:16.696770Z"
    }
   },
   "outputs": [
    {
     "name": "stdout",
     "output_type": "stream",
     "text": [
      "My wife and I had sex and it was really, really good.\n",
      "My wife and I had some really good sex this morning.\n",
      "My wife and I have increased the amount of sex we are having.\n",
      "My wife an I had some really awesome sex this morning.\n",
      "I had sex with my wife \n",
      "My husband and i were able to have succesful, non-painful penetrative sex for the first time in 4 months.\n",
      "My wife and I had passionate sex after a long hiatus due to caring for newborn. \n",
      "I enjoyed have sex with my wife in the bedroom\n",
      "I love have sex with my wife in my bed\n",
      "my life in my husband sex is well good day in my life dailly sex in my life varry varry enjing my life in My mom used to come home from school and spontaneously bake once in a while. Cookies, cake or whatever, but my sister and I would get to lick the beaters and bowl. in ,my life in world \n",
      "my life in my husband sex is well good day in my life dailly sex in my life varry varry enjing my life in My mom used to come home from school and spontaneously bake once in a while. Cookies, cake or whatever, but my sister and I would get to lick the beaters and bowl. in ,my life in world \n",
      "i am prabhu in my name my last 3 months is to see in me my happy to all my   sux life in my all the sotray in last last manthi my marigein my life in my wife in my romans time in all well good wel suxvall life in day night in sex ya life vee good \r\n",
      "mater in life in ve  good ve in my wife in good com sex in my life in enjie\n",
      "i am prabhu in my name my last 3 months is to see in me my happy to all my   sux life in my all the sotray in last last manthi my marigein my life in my wife in my romans time in all well good wel suxvall life in day night in sex ya life vee good \r\n",
      "mater in life in ve  good ve in my wife in good com sex in my life in enjie\n",
      "I had sex with my wife in the morning when my wife got ready to office. we both were  happy after had it.\n",
      "Early morning me and wife had sex about half and hour, we felt relax and happy.\n",
      "Having sex with my wife\n",
      "Receiving oral sex from my wife.\n",
      "I had great sex with my husband.\n",
      "Had really nice sex with the wife. \n",
      "wife and I had sex\n",
      "Head sex with my wife\n",
      "Normally we have sex whenever we get time. After we came from the engagement ceremony I could not resist to look at my wife who was looking very sexy. I took her in my hands. She also did not resist. and finally we had a very satisfying sex.\n",
      "Normally we have sex whenever we get time. After we came from the engagement ceremony I could not resist to look at my wife who was looking very sexy. I took her in my hands. She also did not resist. and finally we had a very satisfying sex.\n",
      "I was happy when I had sex with my wife.\n",
      "Having sex with my wife made me extremely happy last night.\n",
      "I had sex with my wife last night for the first time this month.\n",
      "I had really good sex with my wife. The baby wasn't home and we really went to town.\n",
      "I had sex with my wife a few nights ago.\n",
      "I had sex last night with my wife.\n",
      "Last night I had sex with my wife.  She rode my reverse cowgirl style and I was able to have two full orgasms without having to stop.  Not bad for a 40 year old man!\n",
      "Within the last month I have been happy because my wife and I have been spicing up our sex life.\n",
      "My wife woke me up with sex. \n",
      "My wife woke me up by giving me a sex act.\n",
      "My wife took me into our bedroom and stripped me naked and layed me down on our bed and gave me oral sex until I exploded in her mouth\n",
      "I performed oral sex on my wife\n",
      "My wife and I recently found out the sex of our baby and that everything is going well so far with her pregnancy.\n",
      "I had sex with the wife of my ex with her permission, and it was wonderful. \n",
      "The wife of my ex left her for me and I drove hours to see her and we had hotel sex for three days straight. \n",
      "I had sex with my wife after weeks apart from silly arguments\n",
      "I had sex with my wife. It was really good.\n",
      "One afternoon my wife spontaneously preformed oral sex on me and completed the act by swallowing.\n",
      "I was happy after my husband and I had sex.\n",
      "I had a great night of sex with my wife.\n",
      "Had passionate sex with my wife.\n",
      "I got to have sex with my husband that made me really happy\n",
      "An event that occurred yesterday that made me happy was having sex with my wife yesterday evening.\n",
      "My husband having sex with me without me begging him.\n",
      "My wife and I had sex on the floor of the office because I was so excited about the award nomination.\n",
      "My husband and I had sex!\n",
      "My wife dressed in a negligee and seduced me to have sex after a trying day that left me quite down.\n",
      "When my wife came home we had sex.\n",
      "Something that made me happy over the last 24 hours was having sex with my wife last night. \n",
      "My wife and I had a rather dry spell in terms of our intimacy. Money is tight, trying to save for a remodel, kids are sick, wife has an on-going ailment, so our stress levels have been high. We were getting on each others nerves a lot. Well her parents surprised us last weekend and took the kids. We spent the day together, getting coffee, cleaning house, drinking on the deck. We really connected all day. Then we had sex better than we have ever. In fact, all our moments together in the last week have been amazing. People say it gets better with age and I can attest.\n",
      "I got to work and my work wife was in my office, she has a key, naked under an overcoat ready to have sex on my desk.\n",
      "I would say what has made me happy these past three months is even though I am now divorce from my wife we still have a good relationship with each other. I still have a key to the house and I can go over anytime and have sex with her or just to talk. \n",
      "Having a deep conversation with my wife about sex three months ago. This was About what was really go on in our life and minds. \n",
      "Last night my husband and I had a great sex session, and it made me feel loved by him.\n"
     ]
    }
   ],
   "source": [
    "# Exploring one of the top words mentioned in relation to wives: Sex\n",
    "counter = 0\n",
    "for row in df_husband_wife['text_cleaned']:\n",
    "    wordList = re.sub(\"[^\\w]\", \" \",  row).split()\n",
    "    for word in wordList:\n",
    "        if word == 'sex':\n",
    "            print(df_husband_wife.iloc[counter]['text'])\n",
    "    counter += 1"
   ]
  },
  {
   "cell_type": "code",
   "execution_count": 249,
   "metadata": {
    "ExecuteTime": {
     "end_time": "2021-02-23T22:56:47.546717Z",
     "start_time": "2021-02-23T22:56:47.435140Z"
    }
   },
   "outputs": [
    {
     "name": "stdout",
     "output_type": "stream",
     "text": [
      "I used an ice chopper to edge my wife's flower garden, doesn't sound like much but it worked great. \n",
      "My husband a brought me icecream and a live flower at work.\n",
      "Today is my marriage anniversary we went outside, my husband fought me a bunch of flowers red roses\n",
      "Purchased some beautiful flowers and a vase and arranged them for my wife.\n",
      "I just ordered flowers for my mom and wife, who is also a mother now, and feeling great to have them both here with me.\n",
      "I was feeling grateful thinking about spending time with my mom and wife on mother's day, I ordered flowers for them.\n",
      "Seeing that my newly planted Icelandic Poppy didn't die like my husband said it would and in fact is thriving in its new spot with three new flowers that just bloomed! \n",
      "Writing a sweet card for my wife and getting her flowers\n",
      "My husband brought me flowers just because.\n",
      "I received some flowers from  my husband\n",
      "My wife got me flowers.\n",
      "  after attending my sister's high school graduation I left to spend a month of summer vacation with my grandparents. I wasn't sure about the trip because while I liked them a lot I'd never spent much time alone with them. I packed everything I could think of to keep me entertained on the long trip from Florida to Oklahoma.\r\n",
      "\r\n",
      "Though hard as it is to believe I had so much fun on their motor home. Granted most of the time I was sleeping, reading, or listening to music. Those things can only hold your attention for so long so in those periods of boredom I would talk with my grandma.\r\n",
      "\r\n",
      "She told the funny stories involving my mom as a little kid that sounded more like the trouble I would get myself into rather than anything she would have done. Tales of other relatives that had done some strange or suspicious things, thing such as one's husband mysteriously dying or fishing trips that didn't include fishing. I'd never heard most of this because my mother has a bad memory.\r\n",
      "\r\n",
      "We even laughed at the things she remembered me doing when I was little. Like blowing the surprise for my dad by asking mom where the necklace dad had bought her was.On our way to Oklahoma we stopped in Little Rock Arkansas to see the Bill Clinton Presidential library and Museum. The place was made mostly of glass so it had an amazing futuristic look to it.\r\n",
      "\r\n",
      "It held everything from Clinton's life story to what was taking place in America during his time in office and what affect he had on it. Also shining light on Hilary Clinton's active role at her husband's side.When we reached their house it was great. It was kind of like living with a really nice version of your parents.\r\n",
      "\r\n",
      "Grandma was constantly worrying if I had enough to eat and if my cloths needed to be washed. I told not to worry about me that I was fine but she wouldn't believe me. While I was there I also meet her brother Sid.\r\n",
      "\r\n",
      "I'm told the only other time I'd seen him was when I was first born. He was great; I liked him a lot, probably because as grandma said I'm just like him.After being there for two weeks we again loaded up the motor home and headed up to Oklahoma City. We went to the Oklahoma City National Memorial and Museum.\r\n",
      "\r\n",
      "Before then all I really knew about that day was that some had blown up something in Oklahoma. Though now after seeing the museum and hearing my grandma's account of that day I know all the details. The memorial was beautiful and simple, which I liked a kind of 'less is more' approach.\r\n",
      "\r\n",
      "The grieving people put up pictures and flowers along the gate that ran surrounded it. While two huge black walls stood on either end of a pool of water. Each wall held a time on it symbolizing the start and stop time of the bombing, 9:01 and 9:03. Then to represent those lost gold chairs where placed in a roped of field, mini chairs were used to distinguish the lost adults from the children. It was sad to imagine that the number of chairs could hold the number of people gone in a split second.The next week I spend hanging around doing nothing. Then the last week of my visit my oldest sister Courtney flew up to spend a week with us then take me home. With her there it was even more fun. The three of us would talk all day about things. Then finally the trip was over, Courtney and I got on a plan home. Which went over just fine until the lay over in Dallas. The weather was bad that day and the screen told us our flight was cancelled. So we exited the airport to get another ticket. Yet when we finally got to the counter the lady told us it wasn't cancelled, that they had made a mistake with the monitors. So that was a relief except that the plane was about to leave and we had to go back through security. After all that we finally got on the plane just in time. That's how I spent half of my summer vacation.\n",
      "We went to my cousinas wedding. It was a lovely wedding very unlike any wedding Iave yet been to, but a lot like the weddings in the movies (you know, like The Wedding Crashersa| never understood why someone would *want* to go to a wedding they werenat invited to).  The ceremony was short and simple, though there were a lot of attendants, complete with flower girl and ring-bearer.  The bride had both her father and step-father give her away, one on each arm.  The Lutheran minister was kind of a jolly middle-aged woman.  The gentlemen were almost all in army dress uniforms.  From my cousinas face, you could not tell he was hit by a roadside bomb in Afghanistan just a few months ago.  Heas still not walking correctly and never may, but the damage seems to mainly be concentrated in one leg.\r\n",
      "\r\n",
      "The wedding was in a part of the country where folks are not as stiff as Midwesterners or as unstructured as Northern Californians.  Iave been to Midwestern wedding receptions that tried to be like this reception, but the soul wasnat there so they always ended up being kind of lame with folks congregated in the parking lot to talk away from the DJ.  People at this wedding line-danced (and not just to country music) and they enjoyed it.  My usually introverted uncle is apparently a dancing fiend and led the bride in some traditional dances.  The food was great and full of local specialties (including something we heard about on the Splendid table from their road trip foodies).  And, important in my book for any wedding, they served appetizers between the wedding and reception.\r\n",
      "\r\n",
      "You may recall that the groomas parents had said they refused to attend because he was not getting married by a priest.  Not only did they not show up, despite his being hit by a roadside bomb in service to our country, they did not allow any siblings to come.  The daughter whose college my parents and aunts are paying was threatened with being disowned when her mother found out she was planning to attend.  So she didnt go.  Guests kept asking if I was a sister.  No, not a sister.\r\n",
      "\r\n",
      "But all of my aunts and uncles went, and I have a lot of aunts and uncles. It was funny to see all my uncles and my cousin and the characteristic ears of that side of the family.  The family resemblance is especially strong with military haircuts.  All my uncles are ex-military and they bonded with my cousinas army buddies.  Not much has changed in the army in the past 30-40 years.  SNAFUs still abound.  My aunts talked about how the world has changed and wondered if the homophobic father of the groom realized his favorite aunt (after whom one of his daughters is named) was a lesbian.  How nice it would have been if shead been around today and been able to share her relationship with her acompaniona out in the open.\r\n",
      "\r\n",
      "They openly wondered what had happened to my unclea head always been rigid and never had a sense of humor, but wasnat such a hater until he married his wife.  Perhaps he could have been rigid and humorless for the powers of good if head married someone else.  Ironically, the woman he married and is refusing to countenance this wedding is a divorced mother of three| but the difference is that she got the Pope to annul that marriage, so somehow that made it ok.  There was some speculation that perhaps the bride is better off with her mother-in-law not talking to her.\r\n",
      "\r\n",
      "My childless aunt and uncle took over duties of parents of the groom. The groom gave an especially moving speech about how grateful he was for his family to come and show the support they were showing.  The bride sent a lovely thank-you note with the same sentiments.  As the wedding party was breaking up for the folks having to catch planes, the bride and groom made plans to visit all of my aunts and uncles who live in interesting and accessible places.  My family does take care of its own, even when some members refuse to.\r\n",
      "\r\n",
      "My cousin and his new wife are very nice people.  I know they will have a lifetime of happiness together.  And if their children and step-children are close with their great-aunts and uncles rather than their grandparents on my side of the family, well, that's not such a bad thing.\n",
      "My husband gave me flowers on Mother's day.\n",
      "My husband sent flowers to my office.\n",
      "My husband bring home flowers yesterday\n",
      "my husband brought flowers home for no reason at all.\n",
      "I'm glad I found my wife some new flowers for mother's day.\n",
      "My husband picked flowers from me from the walking trail about a mile away from our house just to bring them home and surprise me with them!\n",
      "My husband told me he ordered my mom flowers for the anniversary of my brother's death and I was so touched that he remembered and thought of it ahead of time.\n",
      "I got some flowers from my husband \n",
      "My husband surprised me with flowers.\n",
      "My birthday fell this year on Easter. My husband never takes me out or gets me flowers. So I knew that I would once again get stiffed on my birthday. One of my favorite restaurants is the Olive Garden. That week I just happened to be involved in a Bible Study that left me close to my son's school. For the week I decided to help out my son's teacher. That Thursday she surprised me with a birthday card, chocolate and my favorite gift card from  Olive Garden. But the one thing that I loved the most was a candy dish that she had bought me.\n",
      "My husband brought home flowers for me on a whim, for the first day of spring.\n",
      "Gave my wife flowers for mothers day\n",
      "Receiving flowers from my husband just because..not a special occasion!  :)\n",
      "Purchasing flowers for my wife.\n",
      "I went on vacation to Jamaica.  My husband and I went tubing down the White River.  It was relaxing and enjoyable,  We saw flowers and birds.\n",
      "After having a bad night last week, my husband brought home a beautiful bouquet of flowers the next day to cheer me up.\n",
      "My husband went out of his way to bring me home flowers after work. \n",
      "My husband brought me flowers.\n",
      "My husband brought me home some flowers the other night for the first time in 10 years. :)\n",
      "I was happy when my husband and kids got me flowers and gifts for Mother's Day.\n",
      "I picked wild flowers for my amazing wife and she loved them.\n",
      "I was really happy to get flowers from my husband for Easter! He usually doesn't get me anything, as I don't want any candy. This year, he remembered me!\n",
      "My husband made me breakfast and placed a flower at his side.\n",
      "My husband brought me flowers for no reason.\n",
      "My husband surprised me by bringing me flowers\n",
      "My husband randomly brought home a few flowers one day. No reason, totally out of the blue. I love flowers, and I definitely enjoyed them for about a week. Smelling and seeing them made me so happy!\n",
      "My husband randomly brought home a few flowers one day. No reason, totally out of the blue. I love flowers, and I definitely enjoyed them for about a week. Smelling and seeing them made me so happy!\n",
      "I am happy it finally stopped raining. It has been raining for about 5 days. I planted a lot of flowers last week and my husband planted the garden. I was worried the flowers may be drowned out by all of the rain. It did not rain yesterday and the sun is shining today. This makes me very happy. My flowers held up very well and I expect them to be beautiful by the end of the month.\n",
      "I am happy it finally stopped raining. It has been raining for about 5 days. I planted a lot of flowers last week and my husband planted the garden. I was worried the flowers may be drowned out by all of the rain. It did not rain yesterday and the sun is shining today. This makes me very happy. My flowers held up very well and I expect them to be beautiful by the end of the month.\n",
      "I am happy it finally stopped raining. It has been raining for about 5 days. I planted a lot of flowers last week and my husband planted the garden. I was worried the flowers may be drowned out by all of the rain. It did not rain yesterday and the sun is shining today. This makes me very happy. My flowers held up very well and I expect them to be beautiful by the end of the month.\n",
      "When my husband sent me flower, just because, it brought a smile to my face.\n",
      "I planted flowers for my wife in our garden.\n",
      "My husband birthday. I made surprise to him. When he was at work, I prepared cake, flowers, confetti, his favourite food for dinner, snacks and drinks. He didn't expected it because we plannes go to the restaurant for dinner couple hours later but when he came home and saw cake with candles and we sing with his mother 'happy birthday' to him I knew that it was good decision. He was very happy. I was excited like it was my birthday not his!\n",
      "I was happy when my husband surprised me with flowers for no reason at all.  I had been having a rough time at work and it was such a pleasant surprise.\n",
      "Even though they were expected, my husband sent me flowers for Valentine's Day.\n",
      "My husband surprised me with beautiful flowers.\n",
      "My husband bought me flowers. \n",
      "I was happy when my husband gave me some flowers unexpectedly.\n",
      "My husband bought me flowers on the way home from work about two weeks ago. No reason, just because he loves seeing me trimming all the stems, making an arrangement and walking by days after breathing in their day sweet smell. \n",
      "I was really happy last night when my husband went to the store to get some items for dinner and came back with flowers as a surprise.\n",
      "Yesterday, I helped my elderly Mother plant flowers of her deceased husband, mother and father, and brother-in-law. \n",
      "My wife and I spent part of the evening filling a new patio planter with beautiful flowers and plants.\n",
      "My husband bringing me flowers.\n",
      "The other day I was able to spend some time clearing out a flower bed that was very important to my husband. It had become overgrown in the last two years. It was my husband's idea to create this wildflower bed, and now it will be pretty again in memory of my late husband.\n",
      "My Husband bought me flowers just to say how much he loves me.\n",
      "Building a window flower box for my wife.\n",
      "My husband picked me a bouquet of flowers and wrote me a cute note.\n",
      "Mother's Day was very enjoyable, my husband took my daughters for a walk to collect flowers on my behalf.\n",
      "Flowers from my husband unexpectedly for nothing just because. \n",
      "When I received a bouquet of flowers, unexpectedly, from my husband.\n",
      "I took a ride in the car with my husband and we looked at all the spring trees and flowers coming up in the country. It was very peaceful.\n",
      "My husband brought home a flower pot someone was giving away because he remembered I said I needed one.\n",
      "I was happy when my husband brought my flowers for no reason.\n",
      "My husband bought me flowers for no reason.\n",
      "I was happy when my husband brought home flowers unexpectedly for me the other day. \n",
      "My husband surprising me with flowers.\n",
      "Something that made me happy in the past three months would be my husband's thoughtful action of bringing me home flowers and writing me a sweet note to wake up to in the morning.\n",
      "My family spoiled me for mothers day. I was happy all day.. They let me sleep in.. My husband n children cleaned the house all up before i got up . My daughter went and picked me some wild flowers for the living room.. We all spent the day together watching movies and just good family time..Husband and my son made dinner up for everyone. cherish your family <3\n",
      "My husband brought home flowers for no reason, just to say he loved me.\n"
     ]
    }
   ],
   "source": [
    "# Exploring one of the top words mentioned in relation to husbands: Flower\n",
    "counter = 0\n",
    "for row in df_husband_wife['text_cleaned']:\n",
    "    wordList = re.sub(\"[^\\w]\", \" \",  row).split()\n",
    "    for word in wordList:\n",
    "        if word == 'flower':\n",
    "            print(df_husband_wife.iloc[counter]['text'])\n",
    "    counter += 1\n",
    "    \n",
    "# Example: My husband surprised me with beautiful flowers."
   ]
  },
  {
   "cell_type": "markdown",
   "metadata": {},
   "source": [
    "# Sons and Daughters"
   ]
  },
  {
   "cell_type": "markdown",
   "metadata": {},
   "source": [
    "## Basic Visualizations"
   ]
  },
  {
   "cell_type": "code",
   "execution_count": 271,
   "metadata": {
    "ExecuteTime": {
     "end_time": "2021-02-23T23:06:27.645694Z",
     "start_time": "2021-02-23T23:06:26.671822Z"
    }
   },
   "outputs": [
    {
     "name": "stderr",
     "output_type": "stream",
     "text": [
      "/Users/kaitlynzeichick/anaconda3/lib/python3.6/site-packages/ipykernel_launcher.py:10: FutureWarning: set_value is deprecated and will be removed in a future release. Please use .at[] or .iat[] accessors instead\n",
      "  # Remove the CWD from sys.path while we load stuff.\n",
      "/Users/kaitlynzeichick/anaconda3/lib/python3.6/site-packages/ipykernel_launcher.py:12: FutureWarning: set_value is deprecated and will be removed in a future release. Please use .at[] or .iat[] accessors instead\n",
      "  if sys.path[0] == '':\n"
     ]
    },
    {
     "data": {
      "text/html": [
       "<div>\n",
       "<style scoped>\n",
       "    .dataframe tbody tr th:only-of-type {\n",
       "        vertical-align: middle;\n",
       "    }\n",
       "\n",
       "    .dataframe tbody tr th {\n",
       "        vertical-align: top;\n",
       "    }\n",
       "\n",
       "    .dataframe thead th {\n",
       "        text-align: right;\n",
       "    }\n",
       "</style>\n",
       "<table border=\"1\" class=\"dataframe\">\n",
       "  <thead>\n",
       "    <tr style=\"text-align: right;\">\n",
       "      <th></th>\n",
       "      <th>Unnamed: 0</th>\n",
       "      <th>Unnamed: 0.1</th>\n",
       "      <th>Unnamed: 0.1.1</th>\n",
       "      <th>wid</th>\n",
       "      <th>age</th>\n",
       "      <th>country</th>\n",
       "      <th>gender</th>\n",
       "      <th>marital</th>\n",
       "      <th>parenthood</th>\n",
       "      <th>reflection_period</th>\n",
       "      <th>...</th>\n",
       "      <th>nouns</th>\n",
       "      <th>proto_agent</th>\n",
       "      <th>passive_agent</th>\n",
       "      <th>root_verb</th>\n",
       "      <th>direct_object</th>\n",
       "      <th>parenthood_cat</th>\n",
       "      <th>gender_cat</th>\n",
       "      <th>marital_cat</th>\n",
       "      <th>wife_husband_label</th>\n",
       "      <th>son_daughter_label</th>\n",
       "    </tr>\n",
       "  </thead>\n",
       "  <tbody>\n",
       "    <tr>\n",
       "      <th>0</th>\n",
       "      <td>0</td>\n",
       "      <td>0</td>\n",
       "      <td>0</td>\n",
       "      <td>1</td>\n",
       "      <td>37</td>\n",
       "      <td>USA</td>\n",
       "      <td>m</td>\n",
       "      <td>married</td>\n",
       "      <td>y</td>\n",
       "      <td>24h</td>\n",
       "      <td>...</td>\n",
       "      <td>[wife, year, anniversary, today]</td>\n",
       "      <td>[wife]</td>\n",
       "      <td>[]</td>\n",
       "      <td>[celebrating]</td>\n",
       "      <td>[anniversary]</td>\n",
       "      <td>1</td>\n",
       "      <td>1</td>\n",
       "      <td>1</td>\n",
       "      <td>wife</td>\n",
       "      <td>none</td>\n",
       "    </tr>\n",
       "    <tr>\n",
       "      <th>1</th>\n",
       "      <td>1</td>\n",
       "      <td>1</td>\n",
       "      <td>1</td>\n",
       "      <td>1</td>\n",
       "      <td>37</td>\n",
       "      <td>USA</td>\n",
       "      <td>m</td>\n",
       "      <td>married</td>\n",
       "      <td>y</td>\n",
       "      <td>24h</td>\n",
       "      <td>...</td>\n",
       "      <td>[mother, blue]</td>\n",
       "      <td>[mother, she]</td>\n",
       "      <td>[]</td>\n",
       "      <td>[called]</td>\n",
       "      <td>[me]</td>\n",
       "      <td>1</td>\n",
       "      <td>1</td>\n",
       "      <td>1</td>\n",
       "      <td>other</td>\n",
       "      <td>none</td>\n",
       "    </tr>\n",
       "    <tr>\n",
       "      <th>2</th>\n",
       "      <td>2</td>\n",
       "      <td>2</td>\n",
       "      <td>2</td>\n",
       "      <td>1</td>\n",
       "      <td>37</td>\n",
       "      <td>USA</td>\n",
       "      <td>m</td>\n",
       "      <td>married</td>\n",
       "      <td>y</td>\n",
       "      <td>24h</td>\n",
       "      <td>...</td>\n",
       "      <td>[Today, day, part, time, job, brunch, date, wife]</td>\n",
       "      <td>[i]</td>\n",
       "      <td>[]</td>\n",
       "      <td>[took]</td>\n",
       "      <td>[day, date]</td>\n",
       "      <td>1</td>\n",
       "      <td>1</td>\n",
       "      <td>1</td>\n",
       "      <td>wife</td>\n",
       "      <td>none</td>\n",
       "    </tr>\n",
       "    <tr>\n",
       "      <th>3</th>\n",
       "      <td>3</td>\n",
       "      <td>3</td>\n",
       "      <td>3</td>\n",
       "      <td>1</td>\n",
       "      <td>37</td>\n",
       "      <td>USA</td>\n",
       "      <td>m</td>\n",
       "      <td>married</td>\n",
       "      <td>y</td>\n",
       "      <td>24h</td>\n",
       "      <td>...</td>\n",
       "      <td>[bonus, mturk, task]</td>\n",
       "      <td>[I]</td>\n",
       "      <td>[]</td>\n",
       "      <td>[got]</td>\n",
       "      <td>[bonus]</td>\n",
       "      <td>1</td>\n",
       "      <td>1</td>\n",
       "      <td>1</td>\n",
       "      <td>other</td>\n",
       "      <td>none</td>\n",
       "    </tr>\n",
       "    <tr>\n",
       "      <th>4</th>\n",
       "      <td>4</td>\n",
       "      <td>4</td>\n",
       "      <td>4</td>\n",
       "      <td>1</td>\n",
       "      <td>37</td>\n",
       "      <td>USA</td>\n",
       "      <td>m</td>\n",
       "      <td>married</td>\n",
       "      <td>y</td>\n",
       "      <td>24h</td>\n",
       "      <td>...</td>\n",
       "      <td>[wife, surprise, dinner]</td>\n",
       "      <td>[wife]</td>\n",
       "      <td>[]</td>\n",
       "      <td>[cooked]</td>\n",
       "      <td>[dinner]</td>\n",
       "      <td>1</td>\n",
       "      <td>1</td>\n",
       "      <td>1</td>\n",
       "      <td>wife</td>\n",
       "      <td>none</td>\n",
       "    </tr>\n",
       "  </tbody>\n",
       "</table>\n",
       "<p>5 rows × 23 columns</p>\n",
       "</div>"
      ],
      "text/plain": [
       "   Unnamed: 0  Unnamed: 0.1  Unnamed: 0.1.1  wid  age country gender  marital  \\\n",
       "0  0           0             0               1    37   USA     m      married   \n",
       "1  1           1             1               1    37   USA     m      married   \n",
       "2  2           2             2               1    37   USA     m      married   \n",
       "3  3           3             3               1    37   USA     m      married   \n",
       "4  4           4             4               1    37   USA     m      married   \n",
       "\n",
       "  parenthood reflection_period  ...  \\\n",
       "0  y          24h               ...   \n",
       "1  y          24h               ...   \n",
       "2  y          24h               ...   \n",
       "3  y          24h               ...   \n",
       "4  y          24h               ...   \n",
       "\n",
       "                                               nouns    proto_agent  \\\n",
       "0  [wife, year, anniversary, today]                   [wife]          \n",
       "1  [mother, blue]                                     [mother, she]   \n",
       "2  [Today, day, part, time, job, brunch, date, wife]  [i]             \n",
       "3  [bonus, mturk, task]                               [I]             \n",
       "4  [wife, surprise, dinner]                           [wife]          \n",
       "\n",
       "  passive_agent      root_verb  direct_object parenthood_cat gender_cat  \\\n",
       "0  []            [celebrating]  [anniversary]  1              1           \n",
       "1  []            [called]       [me]           1              1           \n",
       "2  []            [took]         [day, date]    1              1           \n",
       "3  []            [got]          [bonus]        1              1           \n",
       "4  []            [cooked]       [dinner]       1              1           \n",
       "\n",
       "  marital_cat  wife_husband_label  son_daughter_label  \n",
       "0  1           wife                none                \n",
       "1  1           other               none                \n",
       "2  1           wife                none                \n",
       "3  1           other               none                \n",
       "4  1           wife                none                \n",
       "\n",
       "[5 rows x 23 columns]"
      ]
     },
     "execution_count": 271,
     "metadata": {},
     "output_type": "execute_result"
    }
   ],
   "source": [
    "# Create a new column that labels each row as having the word 'son' or 'daughter' in it.\n",
    "\n",
    "df['son_daughter_label'] = 'none'\n",
    "\n",
    "counter = 0\n",
    "for row in df['text_cleaned']:\n",
    "    wordList = re.sub(\"[^\\w]\", \" \",  row).split()\n",
    "    for word in wordList:\n",
    "        if word == 'son':\n",
    "            df.set_value(counter, 'son_daughter_label', 'son')\n",
    "        elif word == 'daughter':\n",
    "            df.set_value(counter, 'son_daughter_label', 'daughter')\n",
    "    counter += 1\n",
    "\n",
    "df.head()"
   ]
  },
  {
   "cell_type": "code",
   "execution_count": 272,
   "metadata": {
    "ExecuteTime": {
     "end_time": "2021-02-23T23:08:11.668627Z",
     "start_time": "2021-02-23T23:08:11.616499Z"
    }
   },
   "outputs": [
    {
     "data": {
      "text/plain": [
       "3419"
      ]
     },
     "execution_count": 272,
     "metadata": {},
     "output_type": "execute_result"
    }
   ],
   "source": [
    "# The number of entries with the word 'son'.\n",
    "len(df[df['son_daughter_label']=='son'])"
   ]
  },
  {
   "cell_type": "code",
   "execution_count": 273,
   "metadata": {
    "ExecuteTime": {
     "end_time": "2021-02-23T23:08:22.345352Z",
     "start_time": "2021-02-23T23:08:22.329142Z"
    }
   },
   "outputs": [
    {
     "data": {
      "text/plain": [
       "3267"
      ]
     },
     "execution_count": 273,
     "metadata": {},
     "output_type": "execute_result"
    }
   ],
   "source": [
    "# The number of entries with the word 'daughter'.\n",
    "len(df[df['son_daughter_label']=='daughter'])"
   ]
  },
  {
   "cell_type": "code",
   "execution_count": 274,
   "metadata": {
    "ExecuteTime": {
     "end_time": "2021-02-23T23:10:06.089772Z",
     "start_time": "2021-02-23T23:10:05.397540Z"
    }
   },
   "outputs": [
    {
     "data": {
      "image/png": "[encoded data removed]",
      "text/plain": [
       "<Figure size 1080x432 with 1 Axes>"
      ]
     },
     "metadata": {},
     "output_type": "display_data"
    }
   ],
   "source": [
    "# Visual of the total number of daughters and sons mentioned.\n",
    "daughter = df[df['son_daughter_label']=='son']\n",
    "son = df[df['son_daughter_label']=='daughter']\n",
    "\n",
    "x = ['Daughters Mentioned', 'Sons Mentioned']\n",
    "y = [len(daughter.values),len(son.values)]\n",
    "\n",
    "plt.figure(figsize=(15,6))\n",
    "sns.barplot(x=x, y=y, palette=\"rocket\")\n",
    "plt.title(\"Sons and Daughters Mentioned\")\n",
    "plt.xlabel(\"Sons and Daughters\")\n",
    "plt.ylabel(\"Count\")\n",
    "plt.show()"
   ]
  },
  {
   "cell_type": "code",
   "execution_count": 300,
   "metadata": {
    "ExecuteTime": {
     "end_time": "2021-02-23T23:33:11.552836Z",
     "start_time": "2021-02-23T23:33:11.396652Z"
    }
   },
   "outputs": [
    {
     "name": "stdout",
     "output_type": "stream",
     "text": [
      "Total Mothers:  20612\n",
      "Sons mentioned by mothers:  1988\n",
      "Daughters mentioned by mothers:  1915\n",
      "Neither mentioned by mothers:  16709\n",
      " \n",
      "Total fathers:  18343\n",
      "Sons mentioned by fathers:  1245\n",
      "Daughters mentioned by fathers:  1224\n",
      "Neither mentioned by mothers:  15874\n"
     ]
    }
   ],
   "source": [
    "# Total mothers\n",
    "print('Total Mothers: ', len(df[(df['gender'] == 'f') & (df['parenthood'] == 'y')]))\n",
    "\n",
    "# Sons mentioned by mothers\n",
    "print('Sons mentioned by mothers: ', len(df[(df['son_daughter_label']=='son') & (df['gender'] == 'f') & (df['parenthood'] == 'y')]))\n",
    "\n",
    "# Daughters mentioned by mothers\n",
    "print('Daughters mentioned by mothers: ', len(df[(df['son_daughter_label']=='daughter') & (df['gender'] == 'f') & (df['parenthood'] == 'y')]))\n",
    "\n",
    "# Neither mentioned by mothers\n",
    "print('Neither mentioned by mothers: ', len(df[(df['son_daughter_label']=='none') & (df['gender'] == 'f') & (df['parenthood'] == 'y')]))\n",
    "\n",
    "print(' ')\n",
    "\n",
    "# Total fathers\n",
    "print('Total fathers: ', len(df[(df['gender'] == 'm') & (df['parenthood'] == 'y')]))\n",
    "\n",
    "# Sons mentioned by fathers\n",
    "print('Sons mentioned by fathers: ', len(df[(df['son_daughter_label']=='son') & (df['gender'] == 'm') & (df['parenthood'] == 'y')]))\n",
    "\n",
    "# Daughters mentioned by fathers\n",
    "print('Daughters mentioned by fathers: ', len(df[(df['son_daughter_label']=='daughter') & (df['gender'] == 'm') & (df['parenthood'] == 'y')]))\n",
    "\n",
    "# Neither mentioned by mothers\n",
    "print('Neither mentioned by mothers: ', len(df[(df['son_daughter_label']=='none') & (df['gender'] == 'm') & (df['parenthood'] == 'y')]))"
   ]
  },
  {
   "cell_type": "code",
   "execution_count": 292,
   "metadata": {
    "ExecuteTime": {
     "end_time": "2021-02-23T23:29:13.821554Z",
     "start_time": "2021-02-23T23:29:13.446511Z"
    }
   },
   "outputs": [
    {
     "data": {
      "text/plain": [
       "Text(0, 0.5, 'Pies Consumed')"
      ]
     },
     "execution_count": 292,
     "metadata": {},
     "output_type": "execute_result"
    },
    {
     "data": {
      "image/png": "[encoded data removed]",
      "text/plain": [
       "<Figure size 432x288 with 1 Axes>"
      ]
     },
     "metadata": {},
     "output_type": "display_data"
    }
   ],
   "source": [
    "# Sons vs Daughters mentioned by Mothers and Fathers\n",
    "\n",
    "plotdata = pd.DataFrame({\n",
    "    \"Daughters\":[len(df[(df['son_daughter_label']=='daughter') & (df['gender'] == 'f') & (df['parenthood'] == 'y')]),\n",
    "                len(df[(df['son_daughter_label']=='daughter') & (df['gender'] == 'm') & (df['parenthood'] == 'y')])],\n",
    "    \"Sons\":[len(df[(df['son_daughter_label']=='son') & (df['gender'] == 'f') & (df['parenthood'] == 'y')]),\n",
    "           len(df[(df['son_daughter_label']=='son') & (df['gender'] == 'm') & (df['parenthood'] == 'y')])],\n",
    "    \"Kids not mentioned\":[len(df[(df['son_daughter_label']=='none') & (df['gender'] == 'f') & (df['parenthood'] == 'y')]),\n",
    "                        len(df[(df['son_daughter_label']=='none') & (df['gender'] == 'm') & (df['parenthood'] == 'y')])],\n",
    "    }, \n",
    "    index=['Mothers', 'Fathers']\n",
    ")\n",
    "plotdata.plot(kind=\"bar\", stacked=True)\n",
    "plt.title(\"Mince Pie Consumption Study\")\n",
    "plt.xlabel(\"Family Member\")\n",
    "plt.ylabel(\"Pies Consumed\")"
   ]
  },
  {
   "cell_type": "markdown",
   "metadata": {},
   "source": [
    "## Son Daughter Dataframe"
   ]
  },
  {
   "cell_type": "code",
   "execution_count": 312,
   "metadata": {
    "ExecuteTime": {
     "end_time": "2021-02-23T23:40:18.237136Z",
     "start_time": "2021-02-23T23:40:18.213861Z"
    }
   },
   "outputs": [
    {
     "data": {
      "text/plain": [
       "(6686, 23)"
      ]
     },
     "execution_count": 312,
     "metadata": {},
     "output_type": "execute_result"
    }
   ],
   "source": [
    "# Make a new dataframe of snippets where wives or husbands were mentioned\n",
    "df_son_daughter = df[(df['son_daughter_label']=='son') | (df['son_daughter_label']=='daughter')]\n",
    "\n",
    "df_son_daughter.shape"
   ]
  },
  {
   "cell_type": "code",
   "execution_count": 313,
   "metadata": {
    "ExecuteTime": {
     "end_time": "2021-02-23T23:40:19.745266Z",
     "start_time": "2021-02-23T23:40:19.729446Z"
    }
   },
   "outputs": [
    {
     "data": {
      "text/plain": [
       "(6382, 23)"
      ]
     },
     "execution_count": 313,
     "metadata": {},
     "output_type": "execute_result"
    }
   ],
   "source": [
    "# I noticed a couple duplicates in the text_cleaned column. Remove those.\n",
    "\n",
    "df_son_daughter = df_son_daughter.drop_duplicates(subset=['text_cleaned'])\n",
    "df_son_daughter.shape"
   ]
  },
  {
   "cell_type": "code",
   "execution_count": 314,
   "metadata": {
    "ExecuteTime": {
     "end_time": "2021-02-23T23:40:21.114875Z",
     "start_time": "2021-02-23T23:40:20.781154Z"
    }
   },
   "outputs": [
    {
     "data": {
      "text/plain": [
       "(6372, 23)"
      ]
     },
     "execution_count": 314,
     "metadata": {},
     "output_type": "execute_result"
    }
   ],
   "source": [
    "# Remove the user that keeps mentioning 'Roti', his wife. The IDs are different for each entry,\n",
    "# and the spelling is very slightly different, so this has to be done manually.\n",
    "counter = 0\n",
    "for row in df_son_daughter['text_cleaned']:\n",
    "    wordList = re.sub(\"[^\\w]\", \" \",  row).split()\n",
    "    for word in wordList:\n",
    "        if word == 'roti':\n",
    "            df_son_daughter = df_son_daughter[df_son_daughter.text_cleaned != row]\n",
    "    counter += 1\n",
    "    \n",
    "df_son_daughter.shape"
   ]
  },
  {
   "cell_type": "code",
   "execution_count": 315,
   "metadata": {
    "ExecuteTime": {
     "end_time": "2021-02-23T23:40:22.743691Z",
     "start_time": "2021-02-23T23:40:22.716330Z"
    }
   },
   "outputs": [],
   "source": [
    "# Create a new column of cleaned text without the words 'wife' or 'husband' in them.\n",
    "remove_words = ['son', 'daughter']\n",
    "pat = r'\\b(?:{})\\b'.format('|'.join(remove_words))\n",
    "df_son_daughter['text_cleaned_no_son_daughter'] = df_son_daughter['text_cleaned'].str.replace(pat, '')"
   ]
  },
  {
   "cell_type": "code",
   "execution_count": 316,
   "metadata": {
    "ExecuteTime": {
     "end_time": "2021-02-23T23:40:23.618040Z",
     "start_time": "2021-02-23T23:40:23.577861Z"
    }
   },
   "outputs": [
    {
     "data": {
      "text/html": [
       "<div>\n",
       "<style scoped>\n",
       "    .dataframe tbody tr th:only-of-type {\n",
       "        vertical-align: middle;\n",
       "    }\n",
       "\n",
       "    .dataframe tbody tr th {\n",
       "        vertical-align: top;\n",
       "    }\n",
       "\n",
       "    .dataframe thead th {\n",
       "        text-align: right;\n",
       "    }\n",
       "</style>\n",
       "<table border=\"1\" class=\"dataframe\">\n",
       "  <thead>\n",
       "    <tr style=\"text-align: right;\">\n",
       "      <th></th>\n",
       "      <th>Unnamed: 0</th>\n",
       "      <th>Unnamed: 0.1</th>\n",
       "      <th>Unnamed: 0.1.1</th>\n",
       "      <th>wid</th>\n",
       "      <th>age</th>\n",
       "      <th>country</th>\n",
       "      <th>gender</th>\n",
       "      <th>marital</th>\n",
       "      <th>parenthood</th>\n",
       "      <th>reflection_period</th>\n",
       "      <th>...</th>\n",
       "      <th>proto_agent</th>\n",
       "      <th>passive_agent</th>\n",
       "      <th>root_verb</th>\n",
       "      <th>direct_object</th>\n",
       "      <th>parenthood_cat</th>\n",
       "      <th>gender_cat</th>\n",
       "      <th>marital_cat</th>\n",
       "      <th>wife_husband_label</th>\n",
       "      <th>son_daughter_label</th>\n",
       "      <th>text_cleaned_no_son_daughter</th>\n",
       "    </tr>\n",
       "  </thead>\n",
       "  <tbody>\n",
       "    <tr>\n",
       "      <th>5</th>\n",
       "      <td>5</td>\n",
       "      <td>5</td>\n",
       "      <td>5</td>\n",
       "      <td>1</td>\n",
       "      <td>37</td>\n",
       "      <td>USA</td>\n",
       "      <td>m</td>\n",
       "      <td>married</td>\n",
       "      <td>y</td>\n",
       "      <td>24h</td>\n",
       "      <td>...</td>\n",
       "      <td>[I, he, He, he]</td>\n",
       "      <td>[]</td>\n",
       "      <td>[bought, texted]</td>\n",
       "      <td>[son, gift, it, me, me, it]</td>\n",
       "      <td>1</td>\n",
       "      <td>1</td>\n",
       "      <td>1</td>\n",
       "      <td>other</td>\n",
       "      <td>son</td>\n",
       "      <td>['bought', '', 'gift', 'mta', 'store', 'left', 'bed', 'got', 'home', 'school', 'texted', 'little', 'ago', 'told', 'loved']</td>\n",
       "    </tr>\n",
       "    <tr>\n",
       "      <th>7</th>\n",
       "      <td>7</td>\n",
       "      <td>7</td>\n",
       "      <td>7</td>\n",
       "      <td>1</td>\n",
       "      <td>37</td>\n",
       "      <td>USA</td>\n",
       "      <td>m</td>\n",
       "      <td>married</td>\n",
       "      <td>y</td>\n",
       "      <td>24h</td>\n",
       "      <td>...</td>\n",
       "      <td>[]</td>\n",
       "      <td>[son]</td>\n",
       "      <td>[accepted]</td>\n",
       "      <td>[]</td>\n",
       "      <td>1</td>\n",
       "      <td>1</td>\n",
       "      <td>1</td>\n",
       "      <td>other</td>\n",
       "      <td>son</td>\n",
       "      <td>['oldest', '', 'got', 'accepted', 'high', 'school', 'excited']</td>\n",
       "    </tr>\n",
       "    <tr>\n",
       "      <th>9</th>\n",
       "      <td>9</td>\n",
       "      <td>9</td>\n",
       "      <td>9</td>\n",
       "      <td>1</td>\n",
       "      <td>37</td>\n",
       "      <td>USA</td>\n",
       "      <td>m</td>\n",
       "      <td>married</td>\n",
       "      <td>y</td>\n",
       "      <td>24h</td>\n",
       "      <td>...</td>\n",
       "      <td>[parents, they]</td>\n",
       "      <td>[]</td>\n",
       "      <td>[told]</td>\n",
       "      <td>[me, birthday]</td>\n",
       "      <td>1</td>\n",
       "      <td>1</td>\n",
       "      <td>1</td>\n",
       "      <td>other</td>\n",
       "      <td>son</td>\n",
       "      <td>['parent', 'told', 'stopping', 'celebrate', '', 'birthday', 'u', 'weekend']</td>\n",
       "    </tr>\n",
       "    <tr>\n",
       "      <th>11</th>\n",
       "      <td>11</td>\n",
       "      <td>11</td>\n",
       "      <td>11</td>\n",
       "      <td>1</td>\n",
       "      <td>37</td>\n",
       "      <td>USA</td>\n",
       "      <td>m</td>\n",
       "      <td>married</td>\n",
       "      <td>y</td>\n",
       "      <td>24h</td>\n",
       "      <td>...</td>\n",
       "      <td>[I, he]</td>\n",
       "      <td>[]</td>\n",
       "      <td>[took]</td>\n",
       "      <td>[son, time]</td>\n",
       "      <td>1</td>\n",
       "      <td>1</td>\n",
       "      <td>1</td>\n",
       "      <td>other</td>\n",
       "      <td>son</td>\n",
       "      <td>['took', '', 'transit', 'museum', 'time']</td>\n",
       "    </tr>\n",
       "    <tr>\n",
       "      <th>16</th>\n",
       "      <td>16</td>\n",
       "      <td>16</td>\n",
       "      <td>16</td>\n",
       "      <td>1</td>\n",
       "      <td>37</td>\n",
       "      <td>USA</td>\n",
       "      <td>m</td>\n",
       "      <td>married</td>\n",
       "      <td>y</td>\n",
       "      <td>24h</td>\n",
       "      <td>...</td>\n",
       "      <td>[mom, she]</td>\n",
       "      <td>[]</td>\n",
       "      <td>[called]</td>\n",
       "      <td>[cake]</td>\n",
       "      <td>1</td>\n",
       "      <td>1</td>\n",
       "      <td>1</td>\n",
       "      <td>other</td>\n",
       "      <td>son</td>\n",
       "      <td>['mom', 'called', 'said', 'wa', 'buying', '', 'birthday', 'cake', 'week']</td>\n",
       "    </tr>\n",
       "  </tbody>\n",
       "</table>\n",
       "<p>5 rows × 24 columns</p>\n",
       "</div>"
      ],
      "text/plain": [
       "    Unnamed: 0  Unnamed: 0.1  Unnamed: 0.1.1  wid  age country gender  \\\n",
       "5   5           5             5               1    37   USA     m       \n",
       "7   7           7             7               1    37   USA     m       \n",
       "9   9           9             9               1    37   USA     m       \n",
       "11  11          11            11              1    37   USA     m       \n",
       "16  16          16            16              1    37   USA     m       \n",
       "\n",
       "    marital parenthood reflection_period  ...      proto_agent passive_agent  \\\n",
       "5   married  y          24h               ...  [I, he, He, he]  []             \n",
       "7   married  y          24h               ...  []               [son]          \n",
       "9   married  y          24h               ...  [parents, they]  []             \n",
       "11  married  y          24h               ...  [I, he]          []             \n",
       "16  married  y          24h               ...  [mom, she]       []             \n",
       "\n",
       "           root_verb                direct_object parenthood_cat gender_cat  \\\n",
       "5   [bought, texted]  [son, gift, it, me, me, it]  1              1           \n",
       "7   [accepted]        []                           1              1           \n",
       "9   [told]            [me, birthday]               1              1           \n",
       "11  [took]            [son, time]                  1              1           \n",
       "16  [called]          [cake]                       1              1           \n",
       "\n",
       "   marital_cat wife_husband_label  son_daughter_label  \\\n",
       "5   1           other              son                  \n",
       "7   1           other              son                  \n",
       "9   1           other              son                  \n",
       "11  1           other              son                  \n",
       "16  1           other              son                  \n",
       "\n",
       "                                                                                                  text_cleaned_no_son_daughter  \n",
       "5   ['bought', '', 'gift', 'mta', 'store', 'left', 'bed', 'got', 'home', 'school', 'texted', 'little', 'ago', 'told', 'loved']  \n",
       "7   ['oldest', '', 'got', 'accepted', 'high', 'school', 'excited']                                                              \n",
       "9   ['parent', 'told', 'stopping', 'celebrate', '', 'birthday', 'u', 'weekend']                                                 \n",
       "11  ['took', '', 'transit', 'museum', 'time']                                                                                   \n",
       "16  ['mom', 'called', 'said', 'wa', 'buying', '', 'birthday', 'cake', 'week']                                                   \n",
       "\n",
       "[5 rows x 24 columns]"
      ]
     },
     "execution_count": 316,
     "metadata": {},
     "output_type": "execute_result"
    }
   ],
   "source": [
    "df_son_daughter.head()"
   ]
  },
  {
   "cell_type": "markdown",
   "metadata": {},
   "source": [
    "## Scatterplot"
   ]
  },
  {
   "cell_type": "code",
   "execution_count": 317,
   "metadata": {
    "ExecuteTime": {
     "end_time": "2021-02-23T23:40:30.606485Z",
     "start_time": "2021-02-23T23:40:26.890396Z"
    }
   },
   "outputs": [],
   "source": [
    "corpus = st.CorpusFromPandas(df_son_daughter,\n",
    "                             category_col='son_daughter_label',\n",
    "                             text_col='text_cleaned_no_son_daughter',\n",
    "                             nlp=st.whitespace_nlp_with_sentences\n",
    "                            ).build()"
   ]
  },
  {
   "cell_type": "code",
   "execution_count": 318,
   "metadata": {
    "ExecuteTime": {
     "end_time": "2021-02-23T23:40:33.597363Z",
     "start_time": "2021-02-23T23:40:31.982320Z"
    }
   },
   "outputs": [],
   "source": [
    "html = st.produce_scattertext_explorer(corpus,\n",
    "                                       category='son',\n",
    "                                       category_name='Son',\n",
    "                                       not_category_name='Daughter',\n",
    "                                       minimum_term_frequency=50,\n",
    "                                       pmi_threshold_coefficient=5,\n",
    "                                       width_in_pixels=1000\n",
    "                                      )"
   ]
  },
  {
   "cell_type": "code",
   "execution_count": 319,
   "metadata": {
    "ExecuteTime": {
     "end_time": "2021-02-23T23:40:34.323732Z",
     "start_time": "2021-02-23T23:40:34.317029Z"
    }
   },
   "outputs": [],
   "source": [
    "open('son_daughter.html', 'wb').write(html.encode('utf-8'));"
   ]
  },
  {
   "cell_type": "code",
   "execution_count": 320,
   "metadata": {
    "ExecuteTime": {
     "end_time": "2021-02-23T23:42:15.731994Z",
     "start_time": "2021-02-23T23:42:15.592336Z"
    }
   },
   "outputs": [
    {
     "name": "stdout",
     "output_type": "stream",
     "text": [
      "I got the news that my god daughter just had a beautiful baby boy.\n",
      "my neighbours daughter delivered a baby girl yesterday \n",
      "Yesterday My cousin invited me for his son's first birthday. It was a surprise and a happy occasion as the baby was a precious one which born after 14 years of marriage.\n",
      "My baby daughter was meeting a bunch of family member s for the first time and she had a smile on her face the whole time. \n",
      "We bought baby floaties and tested them out on my daughter for the first time in the tub. \n",
      "My baby daughter wouldn't go to sleep at the restaurant but we were able to make her laugh a lot and she remained in a good mood. \n",
      "After a long day of work, getting my baby daughter to break out in laughter when playing with her.\n",
      "My baby daughter saw me in the morning and she turn up a huge smile and reached out arms out for a hug.\n",
      "At my daughter's school, i found a baby turtle in the grass and we took it in the school and showed all the kids in the classroom.\n",
      "we have celebrated our daughters birthday in old age home giving them food and clothes. they all blessed our baby .we felt very happy for that.\n",
      "I got to watch my daughter play with her baby doll and pretend it was her brother.\n",
      "my daughter got a new book from my parents and she tried to read to her brother whos a baby.\n",
      "A neighbor's daughter had a baby boy and the whole neighborhood got together for a gift.\n",
      "Last week I received information from my youngest sister that her daughter had a baby girl which made me a great uncle.\n",
      "Today, my youngest sister informed me that her youngest daughter had a baby girl.\n",
      "My baby daughter told me a story about a trip to the trampoline park. \n",
      "My daughter sang baby Jesus song this morning.\n",
      "I got to play with my baby daughter and make her laugh.\n",
      "My baby daughter said her first words.\n",
      "In the past three months, my baby  son started smiling and it fills me with joy\n",
      "My baby son started growing teeth\n",
      "My baby son got his first toys and he's laughing much more than usual\n",
      "My baby son started listening to music and making imitating sounds as if he's also singing\n",
      "Playing with my neighbor's baby daughter.\n",
      "My step daughter found a baby turtle, which we brought to the nearest pond.\n",
      "Pregnancy of my daughter was confirmed and she will have a baby in the month of November. \n",
      "With all family members,  celebrated baby shower of my daughter.\n",
      "My daughter and Son in Law are having another baby.\n",
      "Even though i am only 38 my oldest daughter \"21\" had a baby making me a Grandfather.\n",
      "My daughter was playing with toys and she made the mommy be extra nice and gave all the baby dolls kisses and sang the same song I sing to her each day. \n",
      "My son sat on my lap and ate a snack while I was holding a friend's baby.\n",
      "My daughter started saying my baby daughters name.\n",
      "My daughter just wants to give my baby daughter kisses and cuddles all the time.\n",
      "My one year old daughter played with my baby daughter.\n",
      "My older daughter put a blanket on my baby daughter.\n",
      "My older daughter kissed my baby daughters forehead.\n",
      "My one year old daughter tried to comfort my baby daughter when she cried\n",
      "My older daughter patted baby daughter on head and tried singing to her.\n",
      "My baby daughter started smiling recently.\n",
      "My younger baby daughter started smiling back at me when I talk to her.\n",
      "I'm glad my baby son can now say dada\n",
      "Some incidences that I want to relate where I have been the happiest in the past few weeks. I'm sharing the best week of probably the decade. I suddenly booked tickets to Tirupti, where my sister lives with her husband and their cute daughter. I love being with my niece, she is all I got. This journey was all about randomness and I think randomness gave me joy.\r\n",
      "My niece. She is sweet, cute and the most adorable creature in this world for me. She hugs me, snuggles up to me when we are sleeping, tickles me. I get pecks from her all the time.\r\n",
      "It's never about the place. It's about the people you spend time with. I have never been much happier. Whenever I went to Tirupati and was traveling back to Bangalore, I felt like I had failed my most important exam, maybe I was missing a train. I cried like a small baby every time I left that place. This time it was different, this time I was happy. I was myself, my true self. Peace!\n",
      "I held my baby son in my arms and felt him hug me.\n",
      "I felt my baby son hug me back when I was putting him down for his nap.\n",
      "I attended the baby shower for a friend's baby daughter\n",
      "I attended the baby shower for a friend's baby daughter\n",
      "Taking pictures of my baby daughter in an easter outfit made me happy.\n",
      "my daughter 2 1/2 yrs baby started going to school so feeling happy while seeing in her school dress and bag\n",
      "I finished decorating the nursery for our new baby.  It felt good to finish and made me very excited for my new son to come!\n",
      "TODAY WE ARE GOING TO PARK. MY SON PLAYING WITH ME. I FEEL VERY HAPPY. BECAUSE HE WAS PLAYING. HE WAS 11MONTHS BABY.\n",
      "I attended a friend's baby daughter's first birthday party yesterday and it was so much fun.\n",
      "My son is only 2 but he is big and people think he is at least 4. 2weeks ago he came up with sentences that made us realize he is growing, fast.. and is not a baby anymore!\n",
      "My baby girl (daughter) fell asleep without any fuss tonight\n",
      "My son just started eating baby food, and has been having trouble pooping. It was time, and he made it aware to everyone with the grunting and pushing. After he was done he gave the biggest sigh of relief, and let out the biggest smile. \n",
      " It made me happy when my infant son used baby sign language for the first time.\n",
      "I HAVE A BABY HER NAME IS BIHU SHE IS MY LIFE, I LOVE HER SO MUCH BECAUSE SHE IS MY DAUGHTER , SHE IS MY LIFE, WORLD, AND MY SMILE, I AM VERY HAPPY FOR MY DAUGHTER HER NAME IS BIHU.\n",
      "One of my oldest, dearest friends became a grandmother for the first time when her daughter gave birth to a baby girl.\n",
      "I found out one of my daughters is now expecting a baby of her own.\n",
      "Find birthday wishes for the 1st year of a baby  boy. Make the ... Tweet * My son, you are turning one and it is such a special moment.\n",
      "We introduced our baby daughter to solid food, and she did very well. She anticipated the next spoonful each time we offered her one.\n",
      "It's my son's eighth birthday in four days. I had fun going through his baby pictures and old birthday photos. \n",
      "I have received gifts for my future daughter. My best friends are painting a mural for the baby's room! \n",
      "My 9 month old daughter ate squash baby food for the first time without throwing up.\n",
      "My five-year old daughter read to me aloud in the car yesterday.  She is just learning to read and her two upper front baby teeth are missing so the story was more amusing than it otherwise would have been.\n",
      "The Day i delivered my baby. I was actually waiting for my delivery pain to commence and suddenly some risk happened so planned for a C-Section.I was taken to the operation theater and within few mins my daughter was born. I could hear the sound of the baby and I fainted and when I woke up she was put near me and a small hand touching me .The feeling which I got that time was so awesome which cannot be expressed in words.the whole family my parents and relatives were near which made me really comfortable.  \n",
      "The Day i delivered my baby. I was actually waiting for my delivery pain to commence and suddenly some risk happened so planned for a C-Section.I was taken to the operation theater and within few mins my daughter was born. I could hear the sound of the baby and I fainted and when I woke up she was put near me and a small hand touching me .The feeling which I got that time was so awesome which cannot be expressed in words.the whole family my parents and relatives were near which made me really comfortable.  \n",
      "I went with my daughter at ultrasound exam where doctors said that she is pregnant with a baby girl. \n",
      "May daughter give birth to a baby boy.\n",
      "Well, it's close to 3 months (1-17-17) The birth of my daughter, Brie. She's my first child and my wife and I have been trying for eight years. After some hard work on ourselves, getting into shape, controlling her diabetes, and me lowering my anxiety, we finally have a beautiful baby girl.  :-)\n",
      "One of my neighbors told me she is expecting a baby.  I am so happy for her.  She has a daughter who is 4 but has been trying for a second child for 2 years now.  She had pretty much given up, and then just last week, she got the good news.  \n",
      "Seeing my oldest daughter come back from school and smile at the sight of her baby brother.\n",
      "My wife gave birth to a baby daughter!\n",
      "My 3 year old son hugged his baby sister and said he loves her.\n",
      "Holding and loving baby grand daughter.\n",
      "My oldest daughter had given me the news that i will be a grandma to a baby boy which was everything i ever wanted.\n",
      "I watched my baby son crawl.\n",
      "My son & daughter-in-law came over to tell me they are having a baby.\n",
      "My son has a new born baby it was born last , very nice and sweet little guy.I am so happy that everything went ok she had a lot of trouble carrying Justin he was born a month early weighing 6 pounds .It made me cray when he came n to the world.\n",
      "There are numerous happy events in my life that I can recall and among those, I would like to talk about the day that I was blessed with a little sister. This was an event that I still recall vividly. I was then only 7-8 years old and when I saw a little angel was crying on my mother's lap, I became the happiest man in the world. I was the only son of my parents and when I heard that I will have another sibling, I got very excited and I was counting days when this brother/ sister of mine will come. I speculated and imagined lots of things I would do with my sibling. The day that my sister came into the world was one of the happiest days of my life.\r\n",
      "\r\n",
      "For the first time, I felt a strong urge to kiss this little fairy child. She was so beautiful and adorable that I thanked God for the gift. My mother asked me to hold her and kiss her but I was afraid to touch her as I thought that might hurt her. I felt like I was flying on that day. My mother gave birth of the baby in a hospital and I was so happy and attached to the event that I denied returning home at night. I stayed in the hospital cabin for about 4-5 days till my mother and sister came home. I came back home with the most precious gift of the world. \n",
      "To be honest, I can't quite remember the time when I've truly been happy but I am trying to see the positives in everything every day. It isn't always easy,especially when you are trying to get back up on your feet after a string of unfortunate events that flipped your whole world up side down,but baby steps. Every step counts. \r",
      "\r",
      "One of my favorite happy moments was spending time with my mother at one of the famous tourist spots in my city. It was one of our first real exclusive mother and daughter trips since an unhappy incident that shook our family life. I have always had a love for music so one night, my mother decided to take me out to visit the stretch of reggae,grunge and EDM pubs and open air cafes and clubs around where she was working. We got all girly with some mascara and lipstick,hair loose,and wearing skirts and sequins. We went to a reggae cafe where I fell absolutely in love with the whole place. The resident guitarist sang a few songs for us, 'November Rain,Songs of Freedom',About A Girl,Last Kiss,Wish You Were Here,and House of The Rising Sun. It was all so lovely: the people,the atmosphere,the smoke,the music,the sound of the busy street blending in with the melody from the guitar,the songs and the messages contained in it.It was euphoric. \r",
      "\r",
      " It was one of the happiest moments in my life because I was sharing it with my mother and because I felt so free. \n",
      "My daughter started eating real food and not baby food anymore. \n",
      "I was skyping with my friend and she had her baby son on cam and he was smiling and laughing.\n",
      "My really good friend had her first child. She has been trying for so long to have a baby and she finally gave birth to her beautiful daughter two months ago. It was a very happy day. I am still so happy because she finally gets to be a mom. I was at the hospital as soon as she had her and got to hold the new baby. Such a wonderful happy day for all who was there. \n",
      "My really good friend had her first child. She has been trying for so long to have a baby and she finally gave birth to her beautiful daughter two months ago. It was a very happy day. I am still so happy because she finally gets to be a mom. I was at the hospital as soon as she had her and got to hold the new baby. Such a wonderful happy day for all who was there. \n",
      "Finding out that my son and daughter in law are expecting their first baby made me very happy.\n",
      "My baby son met his great grandmother for the first time and she clapped her hands making him laugh. \n",
      "I spent a week with my step grand daughter last month. I love seeing this baby.\n",
      "The day of my daughter's 9th birthday.  She was so excited and happy which makes me incredibly happy.  She was my miracle baby so it's always exciting to celebrate another year with her.\n",
      "My son was giggling during lunch today, he is such a sweet baby.\n",
      "I am having my 6th baby this summer, but super happy the baby is my 2nd daughter!!\n",
      "I am having my 6th baby this summer, but super happy the baby is my 2nd daughter!!\n",
      "seeing my daughter play with her baby brother made me happy.\n",
      "for my son kG graduation day celebrate i was more happy to see my baby getting convocation and certificate\n",
      "I found out I was pregnant in January of this year. It was very much so an unplanned and unwanted pregnancy. I was in no shape to have another baby while having two other children and living in my in-laws house. I had no job and no car. I dreaded telling anyone about the pregnancy. As time has gone by these last few months, I am beginning to look forward to a 3rd baby and I am falling in love with this baby. April 26th was my daughter's 4th birthday and I decided to share the news with my kids since they were the last ones to find out. Both of my kids were beyond excited to hear they will be having a younger sibling added into the mix. They both came up to me and hugged and kissed my belly. Asking all kinds of questions and it was one of the sweetest moments I have experienced in my life. I still get so happy and warm thinking about that moment.\n",
      "I found out I was pregnant in January of this year. It was very much so an unplanned and unwanted pregnancy. I was in no shape to have another baby while having two other children and living in my in-laws house. I had no job and no car. I dreaded telling anyone about the pregnancy. As time has gone by these last few months, I am beginning to look forward to a 3rd baby and I am falling in love with this baby. April 26th was my daughter's 4th birthday and I decided to share the news with my kids since they were the last ones to find out. Both of my kids were beyond excited to hear they will be having a younger sibling added into the mix. They both came up to me and hugged and kissed my belly. Asking all kinds of questions and it was one of the sweetest moments I have experienced in my life. I still get so happy and warm thinking about that moment.\n",
      "I found out I was pregnant in January of this year. It was very much so an unplanned and unwanted pregnancy. I was in no shape to have another baby while having two other children and living in my in-laws house. I had no job and no car. I dreaded telling anyone about the pregnancy. As time has gone by these last few months, I am beginning to look forward to a 3rd baby and I am falling in love with this baby. April 26th was my daughter's 4th birthday and I decided to share the news with my kids since they were the last ones to find out. Both of my kids were beyond excited to hear they will be having a younger sibling added into the mix. They both came up to me and hugged and kissed my belly. Asking all kinds of questions and it was one of the sweetest moments I have experienced in my life. I still get so happy and warm thinking about that moment.\n",
      "In the past three months a event that made me happy was my son's birthday. It took me back to the day he was born and now when I look at him I see a young man. He is now 13 a teenager which makes me happy to know that he is grown up but, also sad because he is not my little baby boy anymore. We went out to eat, shopping, and had some ice cream which is his favorite treat. He is my first born and will always have a special place in my heart. \n",
      "Last week, I had my baby shower for my second daughter. \n",
      "My daughter playing in her baby pool. \n",
      "My daughter had a baby, last week.\n",
      "Coming home from work to find my baby daughter wide awake, allowing me to spend time with her.\n",
      "My baby daughter started talking. This made me very happy because she started saying Mama and Dada. She has also learned some other words as well so I am very proud of her. \n",
      "The day that my son picked out something for his soon to be baby sister.\n",
      "While Frank Sinatra music was playing on the Echo, my two year old daughter grabbed her baby brother's hands and swung them side to side and he smiled and stared at her.\n",
      "My 1 and a half year old son telling me that he loves me in baby talk and giving me a hug and patting my back like I do to him.\n",
      "Watching my oldest daughter help a friend with her baby without being asked.\n",
      "I went in for my 20 week ultrasound (I am expecting) an found out that I am carrying a baby girl. I have always wanted a daughter and already being a mother of 2 boys I was expecting another boy. \n",
      "My baby daughter rolled over for the first time. \n",
      "My baby daughter finally found her thumb (she's been working on it for weeks). \n",
      "Watching my baby daughter try to stand on her own and take a step. \n",
      "My first son's emotional behavior after my second son's birth. I was so scared about my first son's acceptance of my second baby,because he is 7 years elder to my second baby.But to my surprise,when he look at my second baby,he was so excited and so Happy,that he expressed his happiness by kissing my second baby for more than 1000 times.That moment was another happiest moment in my life.\n",
      "My 3 year old daughter, when watching her pretend to be a mother playing with her baby dolls and how she shows her caring side to others brings me joy.\n",
      "I talked to my son yesterday and I'm going to help he and his wife shop for baby furniture on Saturday.\n",
      "Watching my son warm up to the baby finally.\n",
      "I recently found out that my son and his fiance's baby is going to be a girl.  I was very happy and excited to learn that my first grandchild is going to be a little girl who I can treat like a princess.\n",
      "My friend had a baby.  She was off work with her for 12 weeks.  My kids and I went to visit her and the baby while she was off work.  Her baby is so adorable and she reminds me of my daughter when she was a baby.  My friend's mother was going to babysit once she went back to work, but then her mother was hospitalized and was unable to do so.  Therefore, my friend was looking for a replacement babysitter for when she went back to work.  Even though it saddened me that her mother was not in good health, the situation also made me very happy because I am now able to babysit this adorable baby.\n",
      "My friend had a baby.  She was off work with her for 12 weeks.  My kids and I went to visit her and the baby while she was off work.  Her baby is so adorable and she reminds me of my daughter when she was a baby.  My friend's mother was going to babysit once she went back to work, but then her mother was hospitalized and was unable to do so.  Therefore, my friend was looking for a replacement babysitter for when she went back to work.  Even though it saddened me that her mother was not in good health, the situation also made me very happy because I am now able to babysit this adorable baby.\n",
      "My friend had a baby.  She was off work with her for 12 weeks.  My kids and I went to visit her and the baby while she was off work.  Her baby is so adorable and she reminds me of my daughter when she was a baby.  My friend's mother was going to babysit once she went back to work, but then her mother was hospitalized and was unable to do so.  Therefore, my friend was looking for a replacement babysitter for when she went back to work.  Even though it saddened me that her mother was not in good health, the situation also made me very happy because I am now able to babysit this adorable baby.\n",
      "My friend had a baby.  She was off work with her for 12 weeks.  My kids and I went to visit her and the baby while she was off work.  Her baby is so adorable and she reminds me of my daughter when she was a baby.  My friend's mother was going to babysit once she went back to work, but then her mother was hospitalized and was unable to do so.  Therefore, my friend was looking for a replacement babysitter for when she went back to work.  Even though it saddened me that her mother was not in good health, the situation also made me very happy because I am now able to babysit this adorable baby.\n",
      "My friend had a baby.  She was off work with her for 12 weeks.  My kids and I went to visit her and the baby while she was off work.  Her baby is so adorable and she reminds me of my daughter when she was a baby.  My friend's mother was going to babysit once she went back to work, but then her mother was hospitalized and was unable to do so.  Therefore, my friend was looking for a replacement babysitter for when she went back to work.  Even though it saddened me that her mother was not in good health, the situation also made me very happy because I am now able to babysit this adorable baby.\n",
      "My 5-year old son gave a piece of bacon to his baby sister when she fell off a chair in an attempt to cheer her up.\n",
      "I picked my 5 year old son up from daycare and a one to two year baby was toddling along and having trouble following the teacher calling her into the classroom. My son grabbed the little girls hand, walked her into the classroom while talking to her about how he has a friend with the same name as her. \n"
     ]
    }
   ],
   "source": [
    "# Exploring one of the top words mentioned in relation to daughters: baby\n",
    "counter = 0\n",
    "for row in df_son_daughter['text_cleaned']:\n",
    "    wordList = re.sub(\"[^\\w]\", \" \",  row).split()\n",
    "    for word in wordList:\n",
    "        if word == 'baby':\n",
    "            print(df_son_daughter.iloc[counter]['text'])\n",
    "    counter += 1\n",
    "    \n",
    "# Common: Somebody's ~daughter~ had a baby"
   ]
  },
  {
   "cell_type": "code",
   "execution_count": 323,
   "metadata": {
    "ExecuteTime": {
     "end_time": "2021-02-23T23:45:50.991703Z",
     "start_time": "2021-02-23T23:45:50.876963Z"
    }
   },
   "outputs": [
    {
     "name": "stdout",
     "output_type": "stream",
     "text": [
      "My son hit a scored a goal in his soccer game.\n",
      "Policeman at an accident who was calming down a mother and child who had been hit. He put them in the back of his car and gave the child a toy from his trunk. He got on the child eye level and spoke to him quietly and calmly till his father came. I overheard the cop say he had a son his age and he was asking him questions too.\r\n",
      "\n",
      "We had a soccer game for our twin daughters this morning and they BOTH scored. One usually plays defense and rarely gets the chance to score, but today she took the ball and went streaking down the field and hit a shot in the upper 90. It was beautiful shot.\n",
      "My oldest son hit a ground-rule double at his t-ball practice.\n",
      "We went to my cousinas wedding. It was a lovely wedding very unlike any wedding Iave yet been to, but a lot like the weddings in the movies (you know, like The Wedding Crashersa| never understood why someone would *want* to go to a wedding they werenat invited to).  The ceremony was short and simple, though there were a lot of attendants, complete with flower girl and ring-bearer.  The bride had both her father and step-father give her away, one on each arm.  The Lutheran minister was kind of a jolly middle-aged woman.  The gentlemen were almost all in army dress uniforms.  From my cousinas face, you could not tell he was hit by a roadside bomb in Afghanistan just a few months ago.  Heas still not walking correctly and never may, but the damage seems to mainly be concentrated in one leg.\r\n",
      "\r\n",
      "The wedding was in a part of the country where folks are not as stiff as Midwesterners or as unstructured as Northern Californians.  Iave been to Midwestern wedding receptions that tried to be like this reception, but the soul wasnat there so they always ended up being kind of lame with folks congregated in the parking lot to talk away from the DJ.  People at this wedding line-danced (and not just to country music) and they enjoyed it.  My usually introverted uncle is apparently a dancing fiend and led the bride in some traditional dances.  The food was great and full of local specialties (including something we heard about on the Splendid table from their road trip foodies).  And, important in my book for any wedding, they served appetizers between the wedding and reception.\r\n",
      "\r\n",
      "You may recall that the groomas parents had said they refused to attend because he was not getting married by a priest.  Not only did they not show up, despite his being hit by a roadside bomb in service to our country, they did not allow any siblings to come.  The daughter whose college my parents and aunts are paying was threatened with being disowned when her mother found out she was planning to attend.  So she didnt go.  Guests kept asking if I was a sister.  No, not a sister.\r\n",
      "\r\n",
      "But all of my aunts and uncles went, and I have a lot of aunts and uncles. It was funny to see all my uncles and my cousin and the characteristic ears of that side of the family.  The family resemblance is especially strong with military haircuts.  All my uncles are ex-military and they bonded with my cousinas army buddies.  Not much has changed in the army in the past 30-40 years.  SNAFUs still abound.  My aunts talked about how the world has changed and wondered if the homophobic father of the groom realized his favorite aunt (after whom one of his daughters is named) was a lesbian.  How nice it would have been if shead been around today and been able to share her relationship with her acompaniona out in the open.\r\n",
      "\r\n",
      "They openly wondered what had happened to my unclea head always been rigid and never had a sense of humor, but wasnat such a hater until he married his wife.  Perhaps he could have been rigid and humorless for the powers of good if head married someone else.  Ironically, the woman he married and is refusing to countenance this wedding is a divorced mother of three| but the difference is that she got the Pope to annul that marriage, so somehow that made it ok.  There was some speculation that perhaps the bride is better off with her mother-in-law not talking to her.\r\n",
      "\r\n",
      "My childless aunt and uncle took over duties of parents of the groom. The groom gave an especially moving speech about how grateful he was for his family to come and show the support they were showing.  The bride sent a lovely thank-you note with the same sentiments.  As the wedding party was breaking up for the folks having to catch planes, the bride and groom made plans to visit all of my aunts and uncles who live in interesting and accessible places.  My family does take care of its own, even when some members refuse to.\r\n",
      "\r\n",
      "My cousin and his new wife are very nice people.  I know they will have a lifetime of happiness together.  And if their children and step-children are close with their great-aunts and uncles rather than their grandparents on my side of the family, well, that's not such a bad thing.\n",
      "We went to my cousinas wedding. It was a lovely wedding very unlike any wedding Iave yet been to, but a lot like the weddings in the movies (you know, like The Wedding Crashersa| never understood why someone would *want* to go to a wedding they werenat invited to).  The ceremony was short and simple, though there were a lot of attendants, complete with flower girl and ring-bearer.  The bride had both her father and step-father give her away, one on each arm.  The Lutheran minister was kind of a jolly middle-aged woman.  The gentlemen were almost all in army dress uniforms.  From my cousinas face, you could not tell he was hit by a roadside bomb in Afghanistan just a few months ago.  Heas still not walking correctly and never may, but the damage seems to mainly be concentrated in one leg.\r\n",
      "\r\n",
      "The wedding was in a part of the country where folks are not as stiff as Midwesterners or as unstructured as Northern Californians.  Iave been to Midwestern wedding receptions that tried to be like this reception, but the soul wasnat there so they always ended up being kind of lame with folks congregated in the parking lot to talk away from the DJ.  People at this wedding line-danced (and not just to country music) and they enjoyed it.  My usually introverted uncle is apparently a dancing fiend and led the bride in some traditional dances.  The food was great and full of local specialties (including something we heard about on the Splendid table from their road trip foodies).  And, important in my book for any wedding, they served appetizers between the wedding and reception.\r\n",
      "\r\n",
      "You may recall that the groomas parents had said they refused to attend because he was not getting married by a priest.  Not only did they not show up, despite his being hit by a roadside bomb in service to our country, they did not allow any siblings to come.  The daughter whose college my parents and aunts are paying was threatened with being disowned when her mother found out she was planning to attend.  So she didnt go.  Guests kept asking if I was a sister.  No, not a sister.\r\n",
      "\r\n",
      "But all of my aunts and uncles went, and I have a lot of aunts and uncles. It was funny to see all my uncles and my cousin and the characteristic ears of that side of the family.  The family resemblance is especially strong with military haircuts.  All my uncles are ex-military and they bonded with my cousinas army buddies.  Not much has changed in the army in the past 30-40 years.  SNAFUs still abound.  My aunts talked about how the world has changed and wondered if the homophobic father of the groom realized his favorite aunt (after whom one of his daughters is named) was a lesbian.  How nice it would have been if shead been around today and been able to share her relationship with her acompaniona out in the open.\r\n",
      "\r\n",
      "They openly wondered what had happened to my unclea head always been rigid and never had a sense of humor, but wasnat such a hater until he married his wife.  Perhaps he could have been rigid and humorless for the powers of good if head married someone else.  Ironically, the woman he married and is refusing to countenance this wedding is a divorced mother of three| but the difference is that she got the Pope to annul that marriage, so somehow that made it ok.  There was some speculation that perhaps the bride is better off with her mother-in-law not talking to her.\r\n",
      "\r\n",
      "My childless aunt and uncle took over duties of parents of the groom. The groom gave an especially moving speech about how grateful he was for his family to come and show the support they were showing.  The bride sent a lovely thank-you note with the same sentiments.  As the wedding party was breaking up for the folks having to catch planes, the bride and groom made plans to visit all of my aunts and uncles who live in interesting and accessible places.  My family does take care of its own, even when some members refuse to.\r\n",
      "\r\n",
      "My cousin and his new wife are very nice people.  I know they will have a lifetime of happiness together.  And if their children and step-children are close with their great-aunts and uncles rather than their grandparents on my side of the family, well, that's not such a bad thing.\n",
      "My son had a great practice at baseball. He hit some solid pitches and made some nice plays. He is really improving.\n",
      "Watching my eldest son play in his first tee ball game and getting a hit his first at bat.\n",
      "Seeing my son hit his first homerun during his little league game.\n",
      "My son got a hit in a baseball game and was so happy with himself.\n",
      "My son hit an in the park homerun in baseball.\n",
      "My son hit a single, double, and triple in his baseball game last night!\n",
      "My youngest son has hit 3 homeruns this baseball season.\n",
      "My son hit an out of the park homerun for the 1st time this season.\n",
      "My son also hit a ground rule double and another double in the same game!\n",
      "My daughter hit a home run, her first one.\n",
      "I was happy when my son got his first base hit in minor league.\n",
      "I was happy when my son had a base hit.\n",
      "My son hit his very first home run in a baseball game and I was there to see it.\n",
      "The first hit when we went to my sons first baseball game.\n",
      "The tornadic storms in the South missed my daughter's house which was hit by a tornado last year.\n",
      "My son hit his first home-run in baseball during his first game of the season.\n",
      "My son hit a home run at his baseball game\n",
      "My son hit the ball in his baseball game and scored the winning run.\n",
      "My daughter got a big hit at her softball game yesterday\n",
      "My youngest son hit the winning shot in his travel basketball game after having a very difficult first half that I could see was effecting him negatively.\n",
      "I was very happy watching my daughter hit softballs in the batting cage at practice.\n",
      "My son hit the game winning base hit tonight in the baseball game.  The game was tied 3-3 in the bottom of the 4th (final inning in his league)\n",
      "My son hit the game winning base hit tonight in the baseball game.  The game was tied 3-3 in the bottom of the 4th (final inning in his league)\n",
      "My son hit the game winning base hit in his little league game 3 weeks ago.  I remember being on the pitchers mound and watching him make contact with the ball.  It was a feeling of pure bliss when he ran up to me after the game with a big hug.\n",
      "My son hit the game winning base hit in his little league game 3 weeks ago.  I remember being on the pitchers mound and watching him make contact with the ball.  It was a feeling of pure bliss when he ran up to me after the game with a big hug.\n",
      "When my daughter hit a homerun\n",
      "I was attending my oldest sons baseball game and while there he hit a triple and eventually scored.\n",
      "My son hit a home run at his baseball game last week.\n",
      "My son hit a home run in his baseball game against the best team in the league.\n",
      "Saw my son hit an in-the-park home run.\n",
      "Saw my eldest son hit an in-the-park home run.\n",
      "My youngest son hit a home run in his spring baseball league to win the game.  His excitement was contagious \n",
      "My son hit a ball that I through to him for the first time. We have been practicing for awhile now and he was finally able to do it. \n",
      "My son hit a baseball for the first time in baseball practice.\n",
      "The day my son hit his first base hit in baseball made me so happy and proud of all his accomplishments. \n",
      "The day my son hit his first base hit in baseball made me so happy and proud of all his accomplishments. \n",
      "My son hit a triple in baseball.\n",
      "My son got his first hit while playing baseball.\n",
      "My daughter hit a home run in a softball game.\n",
      "I was playing outside with my 2 year old son, I showed him how to hit a ball off of a tee and he picked it up immediately.\n",
      "My son hit a double in his baseball game last night. \n",
      "My daughter hit the ball very well in her softball game a few days ago.\n",
      "Last night, I was coaching my daughter in her softball game. She hit really well and the team ended up winning 16-15!\n",
      "When I was able to teach my son to hit a baseball the correct way.\n",
      "I watched my son play in his tee-ball game, he hit the ball and ran toward the pitcher position instead of going to first base.\n",
      "I watched my 3 year old son play in his first t-ball game and he got a base hit his first at bat!\n",
      "My son hit the ball for the first time in his baseball game.\n",
      "At my son's baseball game, he hit a ground ball to the pitcher. The pitcher picked up and threw to first. My son ran as hard as he could and made it to first before the the first baseman caught the ball. It was close, but he made it! I was so happy, and proud of my 7 year old boy. \n",
      "I have been practicing softball with my daughter. She loves it but was having trouble hitting. Some time about 2 months ago something clicked for her. She was able to hit the ball almost every time. To see her eyes light up and how happy she was made me extremely happy as well.\r\n",
      "\n",
      "About one week ago, my nine year old son hit his first home run.\n",
      "When my son hit a baseball well when I was playing with him in the backyard. \n",
      "My youngest son started to laugh and hit many other milestones recently in the past three months. \n",
      "Tuesday my four-year-old son played in his first, real, T Ball game. He hit the ball, a long way for him to be so small, and made it to first base. He turned to me and said \"I love you mommy\" and gave me two thumbs up. I felt the tears well up in my eyes and my heart felt as though it could burst. I was so proud and so overfilled with joy. When children are little like he is they don't care at all to shout on the roof tops that they love you. It is something that I know he will soon outgrow. But, for now, he is not embarrassed and it made my day!\n",
      "Recently my son hit his 90% mark for his homeschooling.  This made me happy, and still makes me happy, because it means we are almost done!\n",
      "Watching my son get his first hit of this baseball season made me happy.\n",
      "My daughter finally hit the baseball at her last game and was finally able to run to first base, she was so happy that it made me happy.\n",
      "An even that made me happy was when my 9-year-old son, who was recently diagnosed with autism (among other things), hit his first ball at baseball practice for the season.\n",
      "My son hit a baseball pretty well after I coached him a little bit.\n",
      "I witnessed my 6 year old son hit a home run in his last game of the baseball season. \n"
     ]
    }
   ],
   "source": [
    "# Exploring one of the top words mentioned in relation to daughters: baby\n",
    "counter = 0\n",
    "for row in df_son_daughter['text_cleaned']:\n",
    "    wordList = re.sub(\"[^\\w]\", \" \",  row).split()\n",
    "    for word in wordList:\n",
    "        if word == 'hit':\n",
    "            print(df_son_daughter.iloc[counter]['text'])\n",
    "    counter += 1\n",
    "    \n",
    "# Common: Somebody's ~daughter~ had a baby"
   ]
  },
  {
   "cell_type": "markdown",
   "metadata": {},
   "source": [
    "# Mothers and Fathers"
   ]
  },
  {
   "cell_type": "markdown",
   "metadata": {},
   "source": [
    "## Basic Visualizations"
   ]
  },
  {
   "cell_type": "code",
   "execution_count": 334,
   "metadata": {
    "ExecuteTime": {
     "end_time": "2021-02-23T23:54:23.701915Z",
     "start_time": "2021-02-23T23:54:22.360177Z"
    }
   },
   "outputs": [
    {
     "name": "stderr",
     "output_type": "stream",
     "text": [
      "/Users/kaitlynzeichick/anaconda3/lib/python3.6/site-packages/ipykernel_launcher.py:10: FutureWarning: set_value is deprecated and will be removed in a future release. Please use .at[] or .iat[] accessors instead\n",
      "  # Remove the CWD from sys.path while we load stuff.\n",
      "/Users/kaitlynzeichick/anaconda3/lib/python3.6/site-packages/ipykernel_launcher.py:12: FutureWarning: set_value is deprecated and will be removed in a future release. Please use .at[] or .iat[] accessors instead\n",
      "  if sys.path[0] == '':\n"
     ]
    },
    {
     "data": {
      "text/html": [
       "<div>\n",
       "<style scoped>\n",
       "    .dataframe tbody tr th:only-of-type {\n",
       "        vertical-align: middle;\n",
       "    }\n",
       "\n",
       "    .dataframe tbody tr th {\n",
       "        vertical-align: top;\n",
       "    }\n",
       "\n",
       "    .dataframe thead th {\n",
       "        text-align: right;\n",
       "    }\n",
       "</style>\n",
       "<table border=\"1\" class=\"dataframe\">\n",
       "  <thead>\n",
       "    <tr style=\"text-align: right;\">\n",
       "      <th></th>\n",
       "      <th>text</th>\n",
       "      <th>mother_father_label</th>\n",
       "    </tr>\n",
       "  </thead>\n",
       "  <tbody>\n",
       "    <tr>\n",
       "      <th>0</th>\n",
       "      <td>My wife and i are celebrating our ten year anniversary today.</td>\n",
       "      <td>none</td>\n",
       "    </tr>\n",
       "    <tr>\n",
       "      <th>1</th>\n",
       "      <td>My mother called out of the blue to tell me how proud she is of me.</td>\n",
       "      <td>mother</td>\n",
       "    </tr>\n",
       "    <tr>\n",
       "      <th>2</th>\n",
       "      <td>Today i took the day off from my part time job to go and have a brunch date with my wonderful wife.</td>\n",
       "      <td>none</td>\n",
       "    </tr>\n",
       "    <tr>\n",
       "      <th>3</th>\n",
       "      <td>I just got a $21 bonus on a mturk task!</td>\n",
       "      <td>none</td>\n",
       "    </tr>\n",
       "    <tr>\n",
       "      <th>4</th>\n",
       "      <td>My wife cooked me a surprise dinner to take to work with me.</td>\n",
       "      <td>none</td>\n",
       "    </tr>\n",
       "  </tbody>\n",
       "</table>\n",
       "</div>"
      ],
      "text/plain": [
       "                                                                                                  text  \\\n",
       "0  My wife and i are celebrating our ten year anniversary today.                                         \n",
       "1  My mother called out of the blue to tell me how proud she is of me.                                   \n",
       "2  Today i took the day off from my part time job to go and have a brunch date with my wonderful wife.   \n",
       "3  I just got a $21 bonus on a mturk task!                                                               \n",
       "4  My wife cooked me a surprise dinner to take to work with me.                                          \n",
       "\n",
       "  mother_father_label  \n",
       "0  none                \n",
       "1  mother              \n",
       "2  none                \n",
       "3  none                \n",
       "4  none                "
      ]
     },
     "execution_count": 334,
     "metadata": {},
     "output_type": "execute_result"
    }
   ],
   "source": [
    "# Create a new column that labels each row as having the word 'son' or 'daughter' in it.\n",
    "\n",
    "df['mother_father_label'] = 'none'\n",
    "\n",
    "counter = 0\n",
    "for row in df['text_cleaned']:\n",
    "    wordList = re.sub(\"[^\\w]\", \" \",  row).split()\n",
    "    for word in wordList:\n",
    "        if (word == 'mother') or (word == 'mom') or (word == 'mommy') or (word == 'mama') or (word == 'ma'):\n",
    "            df.set_value(counter, 'mother_father_label', 'mother')\n",
    "        elif (word == 'father') or (word == 'dad') or (word == 'daddy') or (word == 'papa') or (word == 'pa'):\n",
    "            df.set_value(counter, 'mother_father_label', 'father')\n",
    "    counter += 1\n",
    "\n",
    "df.head()[['text', 'mother_father_label']]"
   ]
  },
  {
   "cell_type": "code",
   "execution_count": 335,
   "metadata": {
    "ExecuteTime": {
     "end_time": "2021-02-23T23:54:27.219604Z",
     "start_time": "2021-02-23T23:54:27.204567Z"
    }
   },
   "outputs": [
    {
     "data": {
      "text/plain": [
       "2851"
      ]
     },
     "execution_count": 335,
     "metadata": {},
     "output_type": "execute_result"
    }
   ],
   "source": [
    "# The number of entries with the word 'mother'.\n",
    "len(df[df['mother_father_label']=='mother'])"
   ]
  },
  {
   "cell_type": "code",
   "execution_count": 333,
   "metadata": {
    "ExecuteTime": {
     "end_time": "2021-02-23T23:53:55.308107Z",
     "start_time": "2021-02-23T23:53:55.295155Z"
    }
   },
   "outputs": [
    {
     "data": {
      "text/plain": [
       "1500"
      ]
     },
     "execution_count": 333,
     "metadata": {},
     "output_type": "execute_result"
    }
   ],
   "source": [
    "# The number of entries with the word 'father'.\n",
    "len(df[df['mother_father_label']=='father'])"
   ]
  },
  {
   "cell_type": "code",
   "execution_count": 336,
   "metadata": {
    "ExecuteTime": {
     "end_time": "2021-02-23T23:58:59.786808Z",
     "start_time": "2021-02-23T23:58:59.507820Z"
    }
   },
   "outputs": [
    {
     "data": {
      "image/png": "[encoded data removed]",
      "text/plain": [
       "<Figure size 1080x432 with 1 Axes>"
      ]
     },
     "metadata": {},
     "output_type": "display_data"
    }
   ],
   "source": [
    "# Visual of the total number of daughters and sons mentioned.\n",
    "mother_mentioned = df[df['mother_father_label']=='mother']\n",
    "father_mentioned = df[df['mother_father_label']=='father']\n",
    "\n",
    "x = ['Mothers Mentioned', 'Fathers Mentioned']\n",
    "y = [len(mother_mentioned.values),len(father_mentioned.values)]\n",
    "\n",
    "plt.figure(figsize=(15,6))\n",
    "sns.barplot(x=x, y=y, palette=\"rocket\")\n",
    "plt.title(\"Mothers and Fathers Mentioned\")\n",
    "plt.xlabel(\"Mothers and Fathers\")\n",
    "plt.ylabel(\"Count\")\n",
    "plt.show()"
   ]
  },
  {
   "cell_type": "code",
   "execution_count": 341,
   "metadata": {
    "ExecuteTime": {
     "end_time": "2021-02-24T00:08:13.723980Z",
     "start_time": "2021-02-24T00:08:13.548993Z"
    }
   },
   "outputs": [
    {
     "name": "stdout",
     "output_type": "stream",
     "text": [
      "total_women 41772\n",
      "women_mentioning_mothers:  1518\n",
      "women_mentioning_fathers:  632\n",
      "women_mentioning_none:  39622\n",
      " \n",
      "total_men:  57406\n",
      "men_mentioning_mothers:  1319\n",
      "men_mentioning_fathers:  860\n",
      "men_mentioning_none:  55227\n"
     ]
    }
   ],
   "source": [
    "# Total women\n",
    "total_women = len(df[(df['gender'] == 'f')])\n",
    "print('total_women', total_women)\n",
    "\n",
    "# Women mentioning mothers\n",
    "women_mentioning_mothers = len(df[(df['gender'] == 'f') & (df['mother_father_label'] == 'mother')])\n",
    "print('women_mentioning_mothers: ', women_mentioning_mothers)\n",
    "\n",
    "# Women mentioning fathers\n",
    "women_mentioning_fathers = len(df[(df['gender'] == 'f') & (df['mother_father_label'] == 'father')])\n",
    "print('women_mentioning_fathers: ', women_mentioning_fathers)\n",
    "\n",
    "# Women mentioning neither\n",
    "women_mentioning_none = len(df[(df['gender'] == 'f') & (df['mother_father_label'] == 'none')])\n",
    "print('women_mentioning_none: ', women_mentioning_none)\n",
    "\n",
    "print(' ')\n",
    "\n",
    "# Total men\n",
    "total_men = len(df[(df['gender'] == 'm')])\n",
    "print('total_men: ', total_men)\n",
    "\n",
    "# Men mentioning mother\n",
    "men_mentioning_mothers = len(df[(df['gender'] == 'm') & (df['mother_father_label'] == 'mother')])\n",
    "print('men_mentioning_mothers: ', men_mentioning_mothers)\n",
    "\n",
    "# Men mentioning fathers\n",
    "men_mentioning_fathers = len(df[(df['gender'] == 'm') & (df['mother_father_label'] == 'father')])\n",
    "print('men_mentioning_fathers: ', men_mentioning_fathers)\n",
    "\n",
    "# Men mentioning neither\n",
    "men_mentioning_none = len(df[(df['gender'] == 'm') & (df['mother_father_label'] == 'none')])\n",
    "print('men_mentioning_none: ', men_mentioning_none)\n"
   ]
  },
  {
   "cell_type": "code",
   "execution_count": 380,
   "metadata": {
    "ExecuteTime": {
     "end_time": "2021-02-24T00:28:31.839338Z",
     "start_time": "2021-02-24T00:28:31.362430Z"
    }
   },
   "outputs": [
    {
     "data": {
      "image/png": "[encoded data removed]",
      "text/plain": [
       "<Figure size 1296x576 with 1 Axes>"
      ]
     },
     "metadata": {},
     "output_type": "display_data"
    }
   ],
   "source": [
    "# Sons vs Daughters mentioned by Mothers and Fathers\n",
    "\n",
    "\n",
    "plotdata = pd.DataFrame({\n",
    "    \"Mothers\":[women_mentioning_mothers, men_mentioning_mothers],\n",
    "    \"Fathers\":[women_mentioning_fathers, men_mentioning_fathers],\n",
    "    \"Parent not mentioned\":[women_mentioning_none, men_mentioning_none],\n",
    "    }, \n",
    "    index=['Women', 'Men']\n",
    ")\n",
    "plotdata.plot(kind=\"barh\", stacked=True, figsize=(18,8))\n",
    "plt.title(\"How often men and women mention their mothers and fathers when describing what made them happy.\", fontsize=20)\n",
    "plt.xlabel(\"Gender\", fontsize=15)\n",
    "plt.ylabel(\"Count\", fontsize=15)\n",
    "plt.show()"
   ]
  },
  {
   "cell_type": "markdown",
   "metadata": {
    "ExecuteTime": {
     "end_time": "2021-02-24T00:29:37.827765Z",
     "start_time": "2021-02-24T00:29:37.824131Z"
    }
   },
   "source": [
    "## Mother Father Dataframe"
   ]
  },
  {
   "cell_type": "code",
   "execution_count": 396,
   "metadata": {
    "ExecuteTime": {
     "end_time": "2021-02-24T00:45:45.493167Z",
     "start_time": "2021-02-24T00:45:45.464690Z"
    }
   },
   "outputs": [
    {
     "data": {
      "text/plain": [
       "(4351, 24)"
      ]
     },
     "execution_count": 396,
     "metadata": {},
     "output_type": "execute_result"
    }
   ],
   "source": [
    "# Make a new dataframe of snippets where wives or husbands were mentioned\n",
    "df_mother_father = df[(df['mother_father_label']=='mother') | (df['mother_father_label']=='father')]\n",
    "\n",
    "df_mother_father.shape"
   ]
  },
  {
   "cell_type": "code",
   "execution_count": 397,
   "metadata": {
    "ExecuteTime": {
     "end_time": "2021-02-24T00:45:46.409537Z",
     "start_time": "2021-02-24T00:45:46.395867Z"
    }
   },
   "outputs": [
    {
     "data": {
      "text/plain": [
       "(4014, 24)"
      ]
     },
     "execution_count": 397,
     "metadata": {},
     "output_type": "execute_result"
    }
   ],
   "source": [
    "# Getting rid of duplicates\n",
    "df_mother_father = df_mother_father.drop_duplicates(subset=['text_cleaned'])\n",
    "df_mother_father.shape"
   ]
  },
  {
   "cell_type": "code",
   "execution_count": 398,
   "metadata": {
    "ExecuteTime": {
     "end_time": "2021-02-24T00:45:47.517693Z",
     "start_time": "2021-02-24T00:45:47.499424Z"
    }
   },
   "outputs": [
    {
     "data": {
      "text/plain": [
       "(4014, 24)"
      ]
     },
     "execution_count": 398,
     "metadata": {},
     "output_type": "execute_result"
    }
   ],
   "source": [
    "# Getting rid of duplicates\n",
    "df_mother_father = df_mother_father.drop_duplicates(subset=['text'])\n",
    "df_mother_father.shape"
   ]
  },
  {
   "cell_type": "code",
   "execution_count": 384,
   "metadata": {
    "ExecuteTime": {
     "end_time": "2021-02-24T00:31:31.420744Z",
     "start_time": "2021-02-24T00:31:31.159375Z"
    }
   },
   "outputs": [
    {
     "data": {
      "text/plain": [
       "(4003, 24)"
      ]
     },
     "execution_count": 384,
     "metadata": {},
     "output_type": "execute_result"
    }
   ],
   "source": [
    "# Remove the user that keeps mentioning 'Roti', his wife. The IDs are different for each entry,\n",
    "# and the spelling is very slightly different, so this has to be done manually.\n",
    "counter = 0\n",
    "for row in df_mother_father['text_cleaned']:\n",
    "    wordList = re.sub(\"[^\\w]\", \" \",  row).split()\n",
    "    for word in wordList:\n",
    "        if word == 'roti':\n",
    "            df_mother_father = df_mother_father[df_mother_father.text_cleaned != row]\n",
    "    counter += 1\n",
    "    \n",
    "df_mother_father.shape"
   ]
  },
  {
   "cell_type": "code",
   "execution_count": 385,
   "metadata": {
    "ExecuteTime": {
     "end_time": "2021-02-24T00:33:52.394186Z",
     "start_time": "2021-02-24T00:33:52.371937Z"
    }
   },
   "outputs": [],
   "source": [
    "# Create a new column of cleaned text without the words 'wife' or 'husband' in them.\n",
    "remove_words = ['mother', 'mom', 'mommy', 'mama', 'ma', 'father', 'dad', 'daddy', \n",
    "                'pappa', 'pa']\n",
    "pat = r'\\b(?:{})\\b'.format('|'.join(remove_words))\n",
    "df_mother_father['text_cleaned_no_mother_father'] = df_mother_father['text_cleaned'].str.replace(pat, '')"
   ]
  },
  {
   "cell_type": "code",
   "execution_count": 387,
   "metadata": {
    "ExecuteTime": {
     "end_time": "2021-02-24T00:34:30.617129Z",
     "start_time": "2021-02-24T00:34:30.604014Z"
    },
    "scrolled": true
   },
   "outputs": [
    {
     "data": {
      "text/html": [
       "<div>\n",
       "<style scoped>\n",
       "    .dataframe tbody tr th:only-of-type {\n",
       "        vertical-align: middle;\n",
       "    }\n",
       "\n",
       "    .dataframe tbody tr th {\n",
       "        vertical-align: top;\n",
       "    }\n",
       "\n",
       "    .dataframe thead th {\n",
       "        text-align: right;\n",
       "    }\n",
       "</style>\n",
       "<table border=\"1\" class=\"dataframe\">\n",
       "  <thead>\n",
       "    <tr style=\"text-align: right;\">\n",
       "      <th></th>\n",
       "      <th>text</th>\n",
       "      <th>mother_father_label</th>\n",
       "    </tr>\n",
       "  </thead>\n",
       "  <tbody>\n",
       "    <tr>\n",
       "      <th>1</th>\n",
       "      <td>My mother called out of the blue to tell me how proud she is of me.</td>\n",
       "      <td>mother</td>\n",
       "    </tr>\n",
       "    <tr>\n",
       "      <th>13</th>\n",
       "      <td>My family and i went to see Boss Daddy and had a good laugh during the movie.</td>\n",
       "      <td>father</td>\n",
       "    </tr>\n",
       "    <tr>\n",
       "      <th>15</th>\n",
       "      <td>I just got the news my mother in-law is coming to stay over for a few days this week.</td>\n",
       "      <td>mother</td>\n",
       "    </tr>\n",
       "    <tr>\n",
       "      <th>16</th>\n",
       "      <td>My mom called and said she was buying my sons birthday cake for him this week.</td>\n",
       "      <td>mother</td>\n",
       "    </tr>\n",
       "    <tr>\n",
       "      <th>24</th>\n",
       "      <td>My mom and dad came over for my sons birthday today.</td>\n",
       "      <td>father</td>\n",
       "    </tr>\n",
       "  </tbody>\n",
       "</table>\n",
       "</div>"
      ],
      "text/plain": [
       "                                                                                     text  \\\n",
       "1   My mother called out of the blue to tell me how proud she is of me.                     \n",
       "13  My family and i went to see Boss Daddy and had a good laugh during the movie.           \n",
       "15  I just got the news my mother in-law is coming to stay over for a few days this week.   \n",
       "16  My mom called and said she was buying my sons birthday cake for him this week.          \n",
       "24  My mom and dad came over for my sons birthday today.                                    \n",
       "\n",
       "   mother_father_label  \n",
       "1   mother              \n",
       "13  father              \n",
       "15  mother              \n",
       "16  mother              \n",
       "24  father              "
      ]
     },
     "execution_count": 387,
     "metadata": {},
     "output_type": "execute_result"
    }
   ],
   "source": [
    "df_mother_father[['text', 'mother_father_label']].head()"
   ]
  },
  {
   "cell_type": "markdown",
   "metadata": {},
   "source": [
    "## Scatterplot"
   ]
  },
  {
   "cell_type": "code",
   "execution_count": 388,
   "metadata": {
    "ExecuteTime": {
     "end_time": "2021-02-24T00:35:36.281235Z",
     "start_time": "2021-02-24T00:35:32.700175Z"
    }
   },
   "outputs": [],
   "source": [
    "corpus = st.CorpusFromPandas(df_mother_father,\n",
    "                             category_col='mother_father_label',\n",
    "                             text_col='text_cleaned_no_mother_father',\n",
    "                             nlp=st.whitespace_nlp_with_sentences\n",
    "                            ).build()"
   ]
  },
  {
   "cell_type": "code",
   "execution_count": 389,
   "metadata": {
    "ExecuteTime": {
     "end_time": "2021-02-24T00:36:16.094414Z",
     "start_time": "2021-02-24T00:36:14.326933Z"
    }
   },
   "outputs": [],
   "source": [
    "html = st.produce_scattertext_explorer(corpus,\n",
    "                                       category='mother',\n",
    "                                       category_name='Mother',\n",
    "                                       not_category_name='Father',\n",
    "                                       minimum_term_frequency=50,\n",
    "                                       pmi_threshold_coefficient=5,\n",
    "                                       width_in_pixels=1000\n",
    "                                      )"
   ]
  },
  {
   "cell_type": "code",
   "execution_count": 390,
   "metadata": {
    "ExecuteTime": {
     "end_time": "2021-02-24T00:36:29.266949Z",
     "start_time": "2021-02-24T00:36:29.259745Z"
    }
   },
   "outputs": [],
   "source": [
    "open('mother_father.html', 'wb').write(html.encode('utf-8'));"
   ]
  },
  {
   "cell_type": "code",
   "execution_count": 391,
   "metadata": {
    "ExecuteTime": {
     "end_time": "2021-02-24T00:38:23.138627Z",
     "start_time": "2021-02-24T00:38:23.016017Z"
    }
   },
   "outputs": [
    {
     "name": "stdout",
     "output_type": "stream",
     "text": [
      "I had one of my favorite recipes that my mom makes for dinner. I went to her house and she made her Chinese spaghetti with is an Oriental version of the Italian dish.\n",
      "I went to lunch with my mom. We went to her favorite sushi bar and enjoyed a nice meal there.\n",
      "My mother baked my favorite chicken dish on my anniversary\n",
      "yesterday i went to my friend house and i had lunch with him and i was very happy and surprised because they had prepared food with my favorite dish fish and i ate very happily because it had very good taste. and it reminds me of my mother cooking.\n",
      "yesterday  night i ate my favorite dish in the resturant because after a long time i am eating this dish and i was very happy because the food tasted like my mama was preparing and the food remind me of her because i missed her very much she is dead.\n",
      "Last month i went to met my mother in my native place. she prepared my favorite dishes and i was very happy to eat because it reminds me of my childhood memories.\n",
      "One of my favorite happy moments was spending time with my mother at one of the famous tourist spots in my city\n",
      "One month ago, I celebrated my brother's birthday. it was a small gathering including my parents and husband. all of us bought a present for him beside a birthday cake showing that he got 33. my mother did her best by cooking his favorite meal called Kebab . we were all happy that we had a chance to be next to each other and fortunate enough to show our fondness, love, and caring toward each other by having nice chats, making each other laugh and snapping photos. this was one of my hippest moment in past 3 months\n",
      "I watched the Utah Jazz (my favorite team) beat the Blazers on TV with my dad.\n",
      "It's the sense of what family is at the dinner table.\r\n",
      "It was the joy of knowing mother was in the kitchen making our favorite dish\r\n",
      "I wish more people would do this and recall the joy of life.\n",
      "As I can remember, when I was younger I used to held parties at my home solely with my family and relatives. Especially on my birthdays, my mom cooked my favorite foods and made my favorite birthday cake with chocolate. Now that I am not a teenager anymore, I go out with my friends and in some special circumstances with my family as well. For example, on my graduation day, I went to a Greek restaurant with my parents, brother and my five best friends and we had a really great time. Generally speaking, I would say that I am more of an introvert person, so I totally prefer to spend substantial time with few friends rather than having many people and typical relationships. My happy moments and celebrations are also related to my friends and family members. \n",
      "As I can remember, when I was younger I used to held parties at my home solely with my family and relatives. Especially on my birthdays, my mom cooked my favorite foods and made my favorite birthday cake with chocolate. Now that I am not a teenager anymore, I go out with my friends and in some special circumstances with my family as well. For example, on my graduation day, I went to a Greek restaurant with my parents, brother and my five best friends and we had a really great time. Generally speaking, I would say that I am more of an introvert person, so I totally prefer to spend substantial time with few friends rather than having many people and typical relationships. My happy moments and celebrations are also related to my friends and family members. \n",
      "One of my favorite happy moments was spending time with my mother at one of the famous tourist spots in my city. i am very joyful that day.\n",
      "My dad surprised me, bringing me over some empanadas from my favorite place in town.\n",
      "One of my favorite happy moments was spending time with my mother at one of the famous tourist spots in my city. It was one of our first real exclusive mother and daughter trips since an unhappy incident that shook our family life\n",
      "My mother and I watched the series finale of one of our favorite new shows together.\n",
      "my mom made me my favorite pancakes after long time.\n",
      "when my mom said that she would be making my favorite, chicken salad, for dinner.\n",
      "when my mom made my favorite casserole.\n",
      "when my dad bought me my favorite casio edifice watch.\n",
      "when my mom made me my favorite meatball sphaghetti.\n",
      "When I came back from a long day of work and my mom surprised me with my favorite lunch. \n",
      "when my mom surprised me with my favorite meatballs serving.\n",
      "My mother prepared my favorite foods.  It was a surprise feast.  It was good and awesome.\n",
      "One day, i fight with my mother, because she went to outplace but not informed to me.. So i felt lonely.. I did not speak with my mom.. My mother be ready to peace with me.. So, she prepared  my favorite dish at home... Then, I saw my favorite dish and said thanks to mom ..\n",
      "One day, i fight with my mother, because she went to outplace but not informed to me.. So i felt lonely.. I did not speak with my mom.. My mother be ready to peace with me.. So, she prepared  my favorite dish at home... Then, I saw my favorite dish and said thanks to mom ..\n",
      "I came home and my mom had made my favorite type of pizza to celebrate my good work at my job.\n",
      "My mom came home after work and she brought me one of my favorite types of chocolate.\n",
      "I had lunch with my mom at one of our favorite spots.\n",
      "I went to the movies to watch my childhood favorite, Beauty and the Beast, with my mom\n",
      "Nostalgia has me by the throat today. Iam not sure why. In an effort to assuage it, I am sifting through old photos and there are some great ones from a holiday a few years ago. I had gone on a family holiday with my parents and two siblings to Munnar in the tea country of Kerala. We drove from Kottayam to Munnar and stayed for a weekend. That trip too was steeped in nostalgia as my father had grown up there.\r\n",
      "\r\n",
      "When the three of us were little kids, our favorite bedtime stories were the 'Munar Talesa narrated with infectious enthusiasm by my father. We were never satisfied with one and would try to wheedle more by pleading hard. His yarns portrayed what seemed to be an idyllic country life to the three of us who lived in a flat in Bombay in those days. There were tales of runaway cows, gardening attempts, going to school in the cold winter and throwing up on long bus journeys down from the hills. Munnar always seemed like a little piece of heaven to me. Around the time my father went away to college, my grandfather relocated to our hometown of Kottayam following his retirement. My father didnt return for more than thirty years in fear of tainting his cherished memories. He finally gave in when the rest of his siblings planned a trip to see if their old house, school and other favorite places were still there.\r\n",
      "Munnar still seems a lovely town to me if you stay away from the crowded and badly constructed main areas. But my father insists that it was much better sixty years ago when the British company Messrs Finlay Muir & Co ran the town. The town had grown due to the tea estates owned by Finlay Muir in the name of Kanan Devan Hills Produce Company. From electricity generation to hospitals, everything was set up and managed by the company but he remembers it to be an extremely well-run town. Even the roads were washed down everyday, he says. The company also ran the school where my granddad was the Headmaster and that my father attended. He recalls the Munnar Supply Association (MSA) being a shop for the British with many imported things that seemed exotic to him like cheese and preserves. We went in to take a look on that trip but there was nothing remotely exotic in there.\r\n",
      "Last year my parents came along on a location visit to Munnar to add properties for seek&hide. We stayed at one of our favourite homestays in Munnar, Casa del Fauno and were lucky that we caught both the glorious sunset and sunrise over a steep valley. My father looked so content and happy to be back in Munnar. The next day we visited another of our hotels in Munnar, Windermere Estate. The manager mentioned that the great grandson of James Finlay had stayed with them a while ago. So we were not the only people who were making nostalgic trips to Munnar :) If you look at these pictures, it will be clear why I am a wee bit sentimental about the place too.\n",
      "Nostalgia has me by the throat today. Iam not sure why. In an effort to assuage it, I am sifting through old photos and there are some great ones from a holiday a few years ago. I had gone on a family holiday with my parents and two siblings to Munnar in the tea country of Kerala. We drove from Kottayam to Munnar and stayed for a weekend. That trip too was steeped in nostalgia as my father had grown up there.\r\n",
      "\r\n",
      "When the three of us were little kids, our favorite bedtime stories were the 'Munar Talesa narrated with infectious enthusiasm by my father. We were never satisfied with one and would try to wheedle more by pleading hard. His yarns portrayed what seemed to be an idyllic country life to the three of us who lived in a flat in Bombay in those days. There were tales of runaway cows, gardening attempts, going to school in the cold winter and throwing up on long bus journeys down from the hills. Munnar always seemed like a little piece of heaven to me. Around the time my father went away to college, my grandfather relocated to our hometown of Kottayam following his retirement. My father didnt return for more than thirty years in fear of tainting his cherished memories. He finally gave in when the rest of his siblings planned a trip to see if their old house, school and other favorite places were still there.\r\n",
      "Munnar still seems a lovely town to me if you stay away from the crowded and badly constructed main areas. But my father insists that it was much better sixty years ago when the British company Messrs Finlay Muir & Co ran the town. The town had grown due to the tea estates owned by Finlay Muir in the name of Kanan Devan Hills Produce Company. From electricity generation to hospitals, everything was set up and managed by the company but he remembers it to be an extremely well-run town. Even the roads were washed down everyday, he says. The company also ran the school where my granddad was the Headmaster and that my father attended. He recalls the Munnar Supply Association (MSA) being a shop for the British with many imported things that seemed exotic to him like cheese and preserves. We went in to take a look on that trip but there was nothing remotely exotic in there.\r\n",
      "Last year my parents came along on a location visit to Munnar to add properties for seek&hide. We stayed at one of our favourite homestays in Munnar, Casa del Fauno and were lucky that we caught both the glorious sunset and sunrise over a steep valley. My father looked so content and happy to be back in Munnar. The next day we visited another of our hotels in Munnar, Windermere Estate. The manager mentioned that the great grandson of James Finlay had stayed with them a while ago. So we were not the only people who were making nostalgic trips to Munnar :) If you look at these pictures, it will be clear why I am a wee bit sentimental about the place too.\n",
      "Itas a trip to Kanyakumari from Bangalore. Kanyakumari is the southernmost tip of mainland India and is surrounded by three water bodies. Bay of Bengal towards east, Indian Ocean in south and Arabian Sea in west. I think it is the only place to see sun rise and sun set in water bodies in India. Kanyakumari town is named after the goddess Kanyakumari amman, a popular deity of the area. Legend has it that the goddess Parvathi in one of her incarnation as devi Kanya did penance on one of the rock of this landas end to obtain the hand of lord Siva. Tip of the day a Never ever wear any footwear which is difficult to open in Kanyakumari like sneakers or other shoes. Every place you visit, you have to open your shoe even in museum. 2nd tip of the day a Always wear socks to protect your feet from heat. 3rd tip a Protect yourself with best sunscreen lotion you have. 4th one a everybody speaks Hindi. 5th one a Hardly any non veg restaurant. Everyone is veg and I figured out only one non veg which became my favorite. Ok ok lots of free trip.\r\n",
      "\r\n",
      "Its 22-March-2017 10:30 PM, we have boarded Nagercoil Express in Bangalore City Junction station. Since this train does not have any pantry, we had to get packed food. When I am traveling I am always double hungry than normal days. The train was full, but it was totally empty once it reached Madurai next day at 10:00 am. Runai and I were thinking whether the train will go till Nagercoil or not. Then I saw there was another family far end in the same coach.\r\n",
      "\r\n",
      "We reached Nagercoil Junction station at 23-March-2012 2:30 pm. We came out of the station and saw lots of taxi waiting to take you to Kanyakumari. We know that they are going to take you on a ride if we hire them, so thought of taking a bus because it 20 KM from Nagercoil to Kanyakumari. There lots of local public bus very frequent to go to Kanyakumari. But then I came to know that it will take 2 hours to reach in this type of bus because it will go everywhere and will stop in every place. One person told us that if we walk a kilometer from there to reach highway, then we will get direct express bus for Kanyakumari and will take hardly 20 min to reach. Along with us there were another family who came to highway road bus stop. After waiting for 10 min, a bus came and we boarded that bus. Ticket was Rs. 18 per head and we reached Kanyakumari around 3:30 pm. We asked one fellow passenger to drop us in Kanyakumari Railway station. I had a printed google map of all the places from Kanyakumari Railway station. Anyway we got down and saw that itas the entrance for Our Lady of Ransom Church.\r\n",
      "\r\n",
      "We decided to go to the church and then search for hotel. We did that promptly. Itas a beautiful church. A bit of information about this church a Located on the shoreline of the Bay of Bengal, the 100 year old Church in dedicated to Mother Mary. It was built in the Gothic style of architecture with a strong Portuguese influence. It is 153 feet high and is crowned with a cross of pure gold. One lady near the entrance asked me if I know Tamil and I replied yes. May be she knows only Tamil and wanted to communicate something important. She told me that behind the church, there is a staircase and on top there is a new smaller church build and we also get to see beautiful view of Bay of Bengal from the terrace. We opened our shoe and went inside the church. Interior was very simple just opposite to the decoration on outside. Then we went backstage and went to that new church which was pretty small and from the terrace we can see the beautiful sea. We could not take any picture because we did not yet open our luggage.\r\n",
      "\r\n",
      "Next was our hotel search. Tell you something, if there are 100 houses for local resident, then there are 1000 hotels for tourist. So we decided to go near the beach and get a hotel. In the midway we found a budget Hotel Sangam. We wanted to enquire the rate and they told Rs. 1300 and 1000 for A/C and Non A/C double bed. We told its too much and we were about to leave and the receptionist told us, that they have room for Rs 600. Basically itas the same room and since it is off season, they lower the rate and I instantly booked it for 3 days. After refreshing we went to the restaurant downstairs. We did not wanted something fancy so ordered for 2 plates of lunch meal. Tell you something, I donat know what they gave in food but I till late night I was not hungry. So we decided that we are not going to go in that restaurant anymore.\r\n",
      "\r\n",
      "We headed toward Triveny Sangam (which is the meeting point of three water bodies). I am confused here. Till now I know that there are 3 different Triveny Sangam (one near Srirangapatnam, another near Coorg and next is this one). If a traveler ask for Triveny Sangam details, where will the person refer to? Anyway itas a rocky place and no sea beach as such. There are plenty of shops for sea shells and they are pretty cheap AMO. Big shells were for Rs. 200 whereas in Chennai they are sold for min Rs. 500 for bad quality ones. We can have a so-so view for sun rise and sun set from here with lots of obstacles. After the sun set and few photographs, we left the place.\n",
      "We went to my cousinas wedding. It was a lovely wedding very unlike any wedding Iave yet been to, but a lot like the weddings in the movies (you know, like The Wedding Crashersa| never understood why someone would *want* to go to a wedding they werenat invited to).  The ceremony was short and simple, though there were a lot of attendants, complete with flower girl and ring-bearer.  The bride had both her father and step-father give her away, one on each arm.  The Lutheran minister was kind of a jolly middle-aged woman.  The gentlemen were almost all in army dress uniforms.  From my cousinas face, you could not tell he was hit by a roadside bomb in Afghanistan just a few months ago.  Heas still not walking correctly and never may, but the damage seems to mainly be concentrated in one leg.\r\n",
      "\r\n",
      "The wedding was in a part of the country where folks are not as stiff as Midwesterners or as unstructured as Northern Californians.  Iave been to Midwestern wedding receptions that tried to be like this reception, but the soul wasnat there so they always ended up being kind of lame with folks congregated in the parking lot to talk away from the DJ.  People at this wedding line-danced (and not just to country music) and they enjoyed it.  My usually introverted uncle is apparently a dancing fiend and led the bride in some traditional dances.  The food was great and full of local specialties (including something we heard about on the Splendid table from their road trip foodies).  And, important in my book for any wedding, they served appetizers between the wedding and reception.\r\n",
      "\r\n",
      "You may recall that the groomas parents had said they refused to attend because he was not getting married by a priest.  Not only did they not show up, despite his being hit by a roadside bomb in service to our country, they did not allow any siblings to come.  The daughter whose college my parents and aunts are paying was threatened with being disowned when her mother found out she was planning to attend.  So she didnt go.  Guests kept asking if I was a sister.  No, not a sister.\r\n",
      "\r\n",
      "But all of my aunts and uncles went, and I have a lot of aunts and uncles. It was funny to see all my uncles and my cousin and the characteristic ears of that side of the family.  The family resemblance is especially strong with military haircuts.  All my uncles are ex-military and they bonded with my cousinas army buddies.  Not much has changed in the army in the past 30-40 years.  SNAFUs still abound.  My aunts talked about how the world has changed and wondered if the homophobic father of the groom realized his favorite aunt (after whom one of his daughters is named) was a lesbian.  How nice it would have been if shead been around today and been able to share her relationship with her acompaniona out in the open.\r\n",
      "\r\n",
      "They openly wondered what had happened to my unclea head always been rigid and never had a sense of humor, but wasnat such a hater until he married his wife.  Perhaps he could have been rigid and humorless for the powers of good if head married someone else.  Ironically, the woman he married and is refusing to countenance this wedding is a divorced mother of three| but the difference is that she got the Pope to annul that marriage, so somehow that made it ok.  There was some speculation that perhaps the bride is better off with her mother-in-law not talking to her.\r\n",
      "\r\n",
      "My childless aunt and uncle took over duties of parents of the groom. The groom gave an especially moving speech about how grateful he was for his family to come and show the support they were showing.  The bride sent a lovely thank-you note with the same sentiments.  As the wedding party was breaking up for the folks having to catch planes, the bride and groom made plans to visit all of my aunts and uncles who live in interesting and accessible places.  My family does take care of its own, even when some members refuse to.\r\n",
      "\r\n",
      "My cousin and his new wife are very nice people.  I know they will have a lifetime of happiness together.  And if their children and step-children are close with their great-aunts and uncles rather than their grandparents on my side of the family, well, that's not such a bad thing.\n",
      "My mother cooked my favorite dishes to me.\n",
      "My mom baked my favorite cookies for me recently!\n",
      "I was happy because Joe Rogan was a guest on my favorite podcast \"Your Mom's House\"\n",
      "I went to eat at Apple Bee's with my mother for mothers day, it was great Apple Bee's is her favorite restaurant.\n",
      "I ate a Papa Johns Pizza. Even though I'm trying to eat healthier I always have a day where I allow myself to eat junk food, and on that day I got Papa Johns, it my favorite pizza place.\n",
      "My mother made me my favorite dish for lunch and it made me happy.\n",
      "My mother made my favorite dinner (Sushi) when I stopped by.\n",
      "One of my favorite memories is of fall in Tennessee when I was in early elementary school. My mother would go through \"fall cleaning\" in mid-October and have every window open removing screens and replacing them with storm windows. Of course I was too young to help, so she would have a UT football game on the radio to keep me entertained. I didn't understand the game, but I knew who John Ward was. \r\n",
      "\r\n",
      "It was a warm/chilly feeling, sitting on the couch all warm and cozy, but being interrupted by the cool breezes wafting in from every corner of the living room. These breezes would invariably bring in the smell of burning leaves from our yard or the neighbors.\n",
      "My mom bought me my favorite cookies and they were very tasty.\n",
      "My mother made my favorite dinner in the world, her special meatloaf.\n",
      "Because it was his favorite childhood meal with his dad, it made my husband smile tonight when I served grilled Shishkabob for dinner and served it with potatoes and caesar salad.\n",
      "The day when my entire family took my mom to see her favorite hockey team play the local team. This was an extremely happy moment for me because both my mom and I love hockey so it made me feel extremely happy to bond with her over the game, as well as spend time with my family.\n",
      "One of my favorite happy moments of today was spending time with my mother at one of the famous tourist spots in my city. It was one of our first real exclusive mother and son trips.\n",
      "My mother and I went to a reggae cafe where I fell absolutely in love with the whole place. The resident female guitarist sang a few songs for us. I guess I've found a new favorite food joint.\n",
      "I walked into the kitchen and saw that my mother had bought me a package of my favorite sugar cookies as a surprise.\n",
      "My mom made one of my favorite meals for the family this evening to cheer people up and it was delicious. \n",
      "When I celebrated my moms birthday by taking her to her favorite restaurant.  She was thrilled.\n",
      "Taking my mom out to eat on mothers day to her favorite Peruvian restaurant\n",
      "This evening my mother made my favorite meal and made sure she cooked it just the way I liked for my dinner.\n",
      "This morning my mom made me my favorite meal for breakfast.\n",
      "My mother cooked my favorite meal for me for no reason other than to make me happy.\n",
      "Because it was too hot to cook one night, my mom ordered Chinese food and remembered to get my favorite dish for me.\n",
      "My mom brought home some cake from my favorite bakery.\n",
      "I watched my favorite show, teen mom\n",
      "My mom sent me a box of my favorite foods in the mail.\n",
      "My mom visited me, and we went out to eat at my favorite restaurant.\n",
      "My daughter treated me to my favorite restaurant for Mothers' day.\n",
      "My mom made one of my favorite meals yesterday and I was able to have leftovers for today also.\n",
      "I was happy when I my mother made rice and chicken for dinner. It's my favorite. \n",
      "Call your mom. Or your dad. Or your favorite aunt, or your grandma.\n",
      "I just found out that my favorite uncle will be coming into town for Mother's Day. \n",
      "I had my favorite lunch this afternoon which my mother made for me. \n",
      "I had lunch at my mothers place and she made me my favorite meal.\n",
      "When my mom cooked my favorite meal just for me.\n",
      "I ate my favorite food which was my dad's classic home cooked dumplings.\n",
      "ENJOYED MY FAVORITE DESSERT MADE BY MY MOM AFTER A LONG TIME. \n",
      "My mother surprised me by coming over and taking me out for dinner at my favorite Chinese restaurant on a Sunday evening.\n",
      "My mom took me out to eat at my favorite restaurant on a Saturday when I was bored and feeling a little loney.\n",
      "My Mom cooked one of my favorite things for breakfast--hash browns!\n",
      "My mom brought me my favorite creamer.\n",
      "My mother in law surprised me with a basket of gift cards to my favorite places to shop. \n",
      "My father invited me for dinner and he made my favorite appetizer and surprised me.\n",
      "For my fathers birthday, my mother made our favorite spanish dish. Fried onions, steak, and white rice with plantains.\n",
      "My mother brought home my favorite juice. \n",
      "My mother sent me a gift card to my favorite clothing store for my birthday!\n",
      "My mom bought me my favorite fast food snack.\n",
      "My mom surprised me with a six pack of my favorite beer. \n",
      "i bought my mom her favorite gift and made me happy\n",
      "My mom cooked my favorite beef steak for dinner.\n",
      "My mother got me my favorite meal from a restaurant without my knowledge and surprised me with it at home.\n",
      "My husband, my mother and I went out for a delicious dinner at one of our favorite Chinese restaurants.\n",
      "My husband and my mother had a birthday dinner/party for me at one of our favorite restaurants and several of my cousins came.  \n",
      "My mom surprised me with my favorite snack that is only available at a store on the other side of town.\n",
      "I ate at my favorite restaurant with my dad.\n",
      "i was happy when i buy new brand sooty pep from my own money.i collect money from 2 year finally i buy my favorite 2 Wheeler .All my family member specially my mom & dad feel so happy at that moment.my mom little bit scary that i ride it on highway but after some time when she saw that i am very good in ride then she OK with it.i click many pictures with my pep & also post it in social media.all my colleague & friends was happy.i gave him small party of that. \n",
      "My mom brought me dinner from my favorite take-out restaurant because she knew I was stressed out.\n",
      "Today, I was happy when my father brought me a cherry pie, which is my favorite. It was delicious and it was the highlight of my day. \n",
      "Another event that made me happy was when my mother cooked my favorite meal.\n",
      "Another event that made me happy was driving 5 hours to surprise my mom for her 53rd birthday; my fiance and I got to spend the weekend with her and celebrate with gifts and her favorite cake. \n",
      "My mother came to visit me and she brought my favorite ice cream - chocolate chip. Needless to say, I indulged a bit too much; I definitely surpassed my daily caloric limit.\n",
      "To be honest, I can't quite remember the time when I've truly been happy but I am trying to see the positives in everything every day. It isn't always easy,especially when you are trying to get back up on your feet after a string of unfortunate events that flipped your whole world up side down,but baby steps. Every step counts. \r",
      "\r",
      "One of my favorite happy moments was spending time with my mother at one of the famous tourist spots in my city. It was one of our first real exclusive mother and daughter trips since an unhappy incident that shook our family life. I have always had a love for music so one night, my mother decided to take me out to visit the stretch of reggae,grunge and EDM pubs and open air cafes and clubs around where she was working. We got all girly with some mascara and lipstick,hair loose,and wearing skirts and sequins. We went to a reggae cafe where I fell absolutely in love with the whole place. The resident guitarist sang a few songs for us, 'November Rain,Songs of Freedom',About A Girl,Last Kiss,Wish You Were Here,and House of The Rising Sun. It was all so lovely: the people,the atmosphere,the smoke,the music,the sound of the busy street blending in with the melody from the guitar,the songs and the messages contained in it.It was euphoric. \r",
      "\r",
      " It was one of the happiest moments in my life because I was sharing it with my mother and because I felt so free. \n",
      "I found that my late mother's favorite cookies were on sale and it is something that cheered me up.\n",
      "I attended my mom's favorite artists concert with her.\n",
      "I came home to find my mother has cooked my favorite dish.\n",
      "When my mom made my favorite food\n",
      "My mother cooked my favorite shake and bake porkchops. She will not cook pork if my brother is coming over to eat. He had gone to Galveston.\n",
      "I watched a favorite show with my mom who I don't see too often.\n",
      "After planting the flowers with my Mother, I planted her favorite geraniums in front of her house. \n",
      "I spent the day with my mom, taking her to brunch that was delicious, then for a few hours at a local casino, and then back home where I made one of her favorite dinners.\n",
      "When I went to work a few weeks ago and all of my favorite people were there.  They are all younger than me, but they all treat me like I'm their mom away from home.  They were all happy that I was there and it made me feel good.\n",
      "When my dad bought me my favorite candy.\n",
      "Watching the new episode of my favorite tv show with my mom. \n",
      "It was a long day with my mom in the hospital, I didn't have much money but decided to get myself a sub(my favorite) from Jersey Mike's and by chance it was free. Just felt for a moment like things can work out.\n",
      "My family and I went on a road trip to PA to see a show put on by the kids favorite You Tuber.  The whole trip was such a good time, the event and all the conversations that we had during the long drive.\n",
      "My next happy moment was the day my Dad decided to take off of work and we went and saw a movie that I had been wanting to see for weeks, and then went to eat at my favorite sandwich shop.\n",
      "the first event was when a room mom came in ,cleaned my back counter, brought me lunch and left me a 50$ to my favorite  restaurant all to show support of my teaching job!\n",
      "My mother is making my favorite dinner side that she hasn't made in what feels like months. It feels like I haven't had Macaroni & cheese in forever.\n",
      "The day I gave my mom concert tickets to her favorite singer and seeing how happy it made her.\n",
      "My mom brought me my favorite chocolate cake.\n",
      "Another event that made me happy was driving 5 hours to surprise my mom for her 53rd birthday; my fiancA(c) and I got to spend the weekend with her and celebrate with gifts and her favorite cake. \n",
      "I got to go out of town with my mom to a museum and out to eat at a favorite restaurant we have went to a couple other times. \n",
      "Last night my son before bed, hugged me and told me \"Mommy you're my favorite\". It made me smile and I couldn't help but tear up a little. He's only two so it's kind of a big deal to me. It made me happy all through the rest of the night. \n",
      "At valentines, I got a surprise package delivered from my mom, a box of my favorite pears. \n",
      "I got to see my Nana and Papa that are like my parents. I live pretty far away and I don't see them often. They are the perfect couple and I strive to be like them. They are so loving and caring. I was beyond excited when I got to see them for an entire month. They pushed me to my dreams of nursing school and I took it because I want to make them proud. They tell me all the time how proud of me they are and how I could have ended up like my real parents but I succeeded. I try my best to continue to make them happy because they are my favorite people in the universe. \n",
      "I went to my parents house for dinner.  My mom made me my favorite meal.  I hadn't had it in many years and I was craving it.  I spent time with my parents and my wife.  we had great conversations.  We spent the whole day together.\n",
      "Today my mom and I found some new videos on YouTube by one of our favorite comedians, and we watched them and laughed a lot.\n"
     ]
    }
   ],
   "source": [
    "# Exploring one of the top words mentioned in relation to mothers: favorite\n",
    "counter = 0\n",
    "for row in df_mother_father['text_cleaned']:\n",
    "    wordList = re.sub(\"[^\\w]\", \" \",  row).split()\n",
    "    for word in wordList:\n",
    "        if word == 'favorite':\n",
    "            print(df_mother_father.iloc[counter]['text'])\n",
    "    counter += 1\n",
    "    \n",
    "# Mom made or bought favorite food"
   ]
  },
  {
   "cell_type": "code",
   "execution_count": 395,
   "metadata": {
    "ExecuteTime": {
     "end_time": "2021-02-24T00:44:46.571266Z",
     "start_time": "2021-02-24T00:44:46.393583Z"
    }
   },
   "outputs": [
    {
     "name": "stdout",
     "output_type": "stream",
     "text": [
      "text       Last month i presented my mom with a new dress on her birthday and she was happy that her son remembered her birthday and bought a new dress. and i too felt very happy because i am seeing big smile on my mother's face after a long time.\n",
      "country    IND                                                                                                                                                                                                                                         \n",
      "Name: 3029, dtype: object\n",
      "text       My happiest moment in my life  was for my 20th birthday my dad presented me a new smart phone surprisingly dat day i was so exited. why because before this mobile i used a small black and white mobile.  i cant forget dat day in my life,dat was my first surprise given by my dad. after i had this mobile i have learned a lot of information from internet.\n",
      "country    IND                                                                                                                                                                                                                                                                                                                                                              \n",
      "Name: 4264, dtype: object\n",
      "text       My happiest moment in my life ..for my 20th birthday my father presented me a new smart phone surprisingly that day i was so exited....i cant forget that day in my life,that was my first surprise given by my dad.\n",
      "country    IND                                                                                                                                                                                                                 \n",
      "Name: 4273, dtype: object\n",
      "text       My happiest moment in my life s......for my 20th birthday my dad presented me a new smart phone surprisingly that day i was so exited....i cant forget that day in my life,that was my first surprise given by my dad..\n",
      "country    IND                                                                                                                                                                                                                    \n",
      "Name: 4294, dtype: object\n",
      "text       My happiest moment in my life was for my 20th birthday my dad presented me a new smart phone surprisingly hat day i was so exited....i cant forget that day in my life,that was my first surprise given by my dad..\n",
      "country    IND                                                                                                                                                                                                                \n",
      "Name: 4846, dtype: object\n",
      "text       My happiest moment in my life s......for my 20th birthday my dad presented me a new smart phone surprisingly dat day i was so exited....i cant forgt dat day in my life,dat was my first suprise gvn by my dad..\n",
      "country    IND                                                                                                                                                                                                             \n",
      "Name: 5182, dtype: object\n",
      "text       My happiest moment in my life for my 28th birthday my daddy presented me a new smart phone surprisingly date day i was so exited....i can't forget date day in my life, date was my family first surprise given by my daddy..rest surprise given by my daddy..\n",
      "country    IND                                                                                                                                                                                                                                                           \n",
      "Name: 5188, dtype: object\n",
      "text       My happiest moment in my life was for my 20th birthday my dad presented me a new smart phone surprisingly dat day i was so exited....i cant forget dat day in my life,dat was my first surprise gvn by my dad.\n",
      "country    IND                                                                                                                                                                                                           \n",
      "Name: 5535, dtype: object\n",
      "text       My happiest moment in my life so for my 20th birthday my dad presented me a new smart phone surprisingly dat day i was so exited . i cant forget dat day in my life,dat was my first surprise gvn by my dad.\n",
      "country    IND                                                                                                                                                                                                         \n",
      "Name: 5545, dtype: object\n",
      "text       My happiest moment in my life s......for my 20th birthday my dad presented me a new smart phone surprisingly that day i was so exited....i cant forgot that day in my life,that was my first surprise given by my dad..\n",
      "country    IND                                                                                                                                                                                                                    \n",
      "Name: 5570, dtype: object\n",
      "text       My happiest moment in my life for yesterday  my  birthday my dad presented me a new smart phone surprisingly that day i was so exited..i cannot forget day in my life, that was my first surprise given by my dad..\n",
      "country    IND                                                                                                                                                                                                                \n",
      "Name: 6252, dtype: object\n",
      "text       My happiest moment in my life s......for my 20th birthday my dad presented me a new smart phone surprisingly date day i was so exited....i cant forget date day in my life,date was my first surprise given by my dad..\n",
      "country    IND                                                                                                                                                                                                                    \n",
      "Name: 6984, dtype: object\n",
      "text       My happiest moment in my life .for my 20th birthday my mother presented me a new smart iphone that day i was so exited....i cant forget that day in my life.\n",
      "country    IND                                                                                                                                                         \n",
      "Name: 10211, dtype: object\n",
      "text       My happiest moment in my life for my 20th birthday my dad presented me a new smart phone surprisingly dat day i was so exited....i cant forget dat day in my life,dat was my first surprise given by my dad.\n",
      "country    IND                                                                                                                                                                                                         \n",
      "Name: 10233, dtype: object\n",
      "text       My happiest moment in my life s......for my 20th birthday day my dad presented me a new smart phone surprisingly dat day i was so exited....i cant forget dat day in my life,dat was my first surprise gvn by my dad..\n",
      "country    IND                                                                                                                                                                                                                   \n",
      "Name: 10240, dtype: object\n",
      "text       My happiest moment in my life s......for my 20th birthday my dad presented me a new smart phone surprisingly that day i was so exited....i cant forget that day in my life,that was my first surprise that by my dad..\n",
      "country    IND                                                                                                                                                                                                                   \n",
      "Name: 11380, dtype: object\n",
      "text       My happiest moment in my life...for my 20th birthday my mother presented me a new smart phone surprisingly mother day i was so exited..\n",
      "country    IND                                                                                                                                    \n",
      "Name: 11383, dtype: object\n",
      "text       My happiest moment in my life s......for my 20th birthday my dad presented me a new smart phone surprisingly date day i was so exited....i cant forget date day in my life, date was my first surprise given by my dad..\n",
      "country    IND                                                                                                                                                                                                                     \n",
      "Name: 13673, dtype: object\n",
      "text       My dad presented me a new smart phone surprisingly on my birthday I was so excited. I can't forget that day in my life, that was my first surprise given by my dad..\\r\\n\n",
      "country    IND                                                                                                                                                                     \n",
      "Name: 14465, dtype: object\n",
      "text       My dad presented me a new laptop surprisingly on my birthday I was so excited. I can't forget that day in my life, that was my first surprise given by my dad..\\r\\n\\r\\n\\r\\n\\r\\n\n",
      "country    IND                                                                                                                                                                            \n",
      "Name: 14495, dtype: object\n",
      "text       My dad presented a hand bag. I am so happy and excited. \n",
      "country    IND                                                     \n",
      "Name: 15556, dtype: object\n",
      "text       I presented a teddy bear to my son.  He was happy and hugged me.   He said I am the best mom.\n",
      "country    IND                                                                                          \n",
      "Name: 15560, dtype: object\n",
      "text       My mom presented a gold bracelet.  I am so surprised and happy. \n",
      "country    IND                                                             \n",
      "Name: 15562, dtype: object\n",
      "text       My dad presented a bangle for me.  I was so surprised. \n",
      "country    IND                                                    \n",
      "Name: 15564, dtype: object\n",
      "text       My dad presented a watch.  I was so happy and still feeling it. \n",
      "country    IND                                                             \n",
      "Name: 15567, dtype: object\n",
      "text       My dad presented a watch surprisingly.  I was so happy.  \n",
      "country    IND                                                      \n",
      "Name: 15574, dtype: object\n",
      "text       My mom presented a mobile phone.  I was so surprised and happy. \n",
      "country    IND                                                             \n",
      "Name: 15576, dtype: object\n",
      "text       My mom presented a watch.  I was surprised and happy. \n",
      "country    IND                                                   \n",
      "Name: 15583, dtype: object\n",
      "text       My father presented a watch.  I was so happy.\n",
      "country    IND                                          \n",
      "Name: 15586, dtype: object\n",
      "text       MY MOTHER PRESENTED GIFT TO ME FOR MY PERFORMANCE IN COLLEGE . THAT MOMENT NEVER FORGET IN MY LIFE\n",
      "country    IND                                                                                               \n",
      "Name: 15777, dtype: object\n",
      "text       MY MOTHER AND FATHER WENT TO OUT OF PLACE AND WE RETURN TO HOME, WE PRESENTED BY COSTLY DRESS TO ME.. VERY BEAUTIFUL .. I FEEL VERY HAPPY FOR THIS ONE. \n",
      "country    IND                                                                                                                                                     \n",
      "Name: 15784, dtype: object\n",
      "text       MY FATHER PRESENTED A COMPUTER FOR MY PERFORMANCE IN COLLEGE.. HE IS EVERYTIME MOTIVATED TO ME.. I FEEL VERY HAPPY BECAUSE MY DAD IS GREAT\n",
      "country    IND                                                                                                                                       \n",
      "Name: 15790, dtype: object\n",
      "text       My mother went to out of place.. Then, she arrived at home... My mother presented to me a makeup things and dresses.. I felt happy because I did not told buy the product.. but My mother bought makeup things..\n",
      "country    IND                                                                                                                                                                                                             \n",
      "Name: 15820, dtype: object\n",
      "text       MY DAD PRESENTED ME A NEW SMART PHONE SURPRISINGLY ON MY BIRTHDAY I WAS SO EXITED, I AN'S FORGET TAT DAY IN MY LIFE, THAT WAS MY FIRST SURPRISED GIVEN BY MY DAD \n",
      "country    IND                                                                                                                                                              \n",
      "Name: 16534, dtype: object\n",
      "text       I SURPRISE MY MOTHER BECAUSE MOTHER'S WEDDING DAY,SO I AM GIFT PRESENTED IN COSTLY GIFT,STILL MY MOTHER THAT GIFT SEEING VERY HAPPINESS THAT MOMENT I AM  FELT VERY HAPPY \n",
      "country    IND                                                                                                                                                                       \n",
      "Name: 18411, dtype: object\n",
      "text       MY dad presented me a new smart phone surprisingly on my birthday I was so excite. I can't forget that day in my life that was my first surprise given by my dad\n",
      "country    IND                                                                                                                                                             \n",
      "Name: 18418, dtype: object\n",
      "text       my dad presented me a new smart phone surprisingly on my birthday i was so excited.i can't forget that day in my life, that was my first surprise given by my dad.\n",
      "country    IND                                                                                                                                                               \n",
      "Name: 18976, dtype: object\n",
      "text       My dad presented me a new laptop  surprisingly on my birthday..i was so excited, i cant forget that day in my life\n",
      "country    IND                                                                                                               \n",
      "Name: 19551, dtype: object\n",
      "text       My dad presented me a new Smart Phone surprisingly on my birthday I was so exited. I can't forget that day in my life, that was my first surprise given by my dad.\n",
      "country    IND                                                                                                                                                               \n",
      "Name: 21144, dtype: object\n",
      "text       My dad presented me a new laptop surprisingly on my birthday i was so excited. I can't forget that day in my like, that was my first surprise given by my dad.\n",
      "country    IND                                                                                                                                                           \n",
      "Name: 21176, dtype: object\n",
      "text       My dad presented me a new smart phone surprisingly on my birthday I was so excited. I can't forgot that day in my life, that was my first surprise given by my dad\n",
      "country    IND                                                                                                                                                               \n",
      "Name: 21715, dtype: object\n",
      "text       My dad presented me a hew smart phone surprisingly on my birthday I was  so exited. I can't forget that day in my life that was my first surprise given by  my dad.\\r\\n\n",
      "country    IND                                                                                                                                                                    \n",
      "Name: 21829, dtype: object\n",
      "text       MY DAD PRESENTED VERY COSTLY \"I PHONE\" MOBILE ON MY BIRTHDAY AM SURPRISE THAT MOMENT IS VERY HAPPY MOMENT \n",
      "country    IND                                                                                                       \n",
      "Name: 22042, dtype: object\n",
      "text       My dad Presented me a a new laptop on my birthday I was so excited I can't for get that day in my life. that was my first surprise given my dad.\n",
      "country    IND                                                                                                                                             \n",
      "Name: 22375, dtype: object\n",
      "text       my dad presented me a new laptop surprisingly on my birthday i was so excited, i can't for get that day in my life, that was my first surprise given by my dad..\n",
      "country    IND                                                                                                                                                             \n",
      "Name: 22561, dtype: object\n",
      "text       my dad presented me a new laptop surprisingly on my birthday i was so exited. I can't forget that day in my life that was my surprise given  my dad.\n",
      "country    IND                                                                                                                                                 \n",
      "Name: 22615, dtype: object\n",
      "text       my dad presented me a laptop surprisingly on my birthday. I was  so excited. I can't forget that day in my life, that was my first surprise given by my dad.\n",
      "country    IND                                                                                                                                                         \n",
      "Name: 22666, dtype: object\n",
      "text       My dad presented  me a new smart phone surprisingly on my birthday.I was so excited. I can't forget that day in my life, that was my first surprise given by my dad.\n",
      "country    IND                                                                                                                                                                 \n",
      "Name: 22840, dtype: object\n",
      "text       My dad presented gift to me on my birthday. I felt happy because my dad presented gift a house. \n",
      "country    IND                                                                                             \n",
      "Name: 23821, dtype: object\n",
      "text       My dad presented gift to me on my birthday. I felt happy because my dad presented gift a house. \n",
      "country    IND                                                                                             \n",
      "Name: 23821, dtype: object\n",
      "text       MY dad presented me a new smart phone surprise on my birthday I was so excited. I can't forget that day in my life, that was my first surprise given by my dad.\n",
      "country    IND                                                                                                                                                            \n",
      "Name: 25326, dtype: object\n",
      "text       My dad presented me a new smart phone surprisingly on my birthday. I was so excited. I can't forget that day in my life. \n",
      "country    IND                                                                                                                      \n",
      "Name: 25353, dtype: object\n",
      "text       My happiest moment in my life s......for my 20th birthday my father presented me a new smart phone surprisingly that day i was so exited\n",
      "country    IND                                                                                                                                     \n",
      "Name: 26462, dtype: object\n",
      "text       My happiest moment in my life ..for my 20th birthday my dad presented me a new smart phone surprisingly that day i was so exited..\n",
      "country    IND                                                                                                                               \n",
      "Name: 26465, dtype: object\n",
      "text       My happiest moment in my life s......for my 20th birthday my father presented me a new smart phone surprisingly that day i was so exited....i cant forget that day in my life,that was my first surprise given by my dad..\n",
      "country    IND                                                                                                                                                                                                                       \n",
      "Name: 26467, dtype: object\n",
      "text       MY DAD PRESENTED ME A NEW SMART PHONE SURPRISINGLY ON MY BIRTHDAY I WAS SO EXCITED,I CAN'T FORGET THAT DAY IN MY LIFE,THAT WAS MY FIRST SURPRISE GIVEN BY MY DAD\n",
      "country    IND                                                                                                                                                             \n",
      "Name: 27744, dtype: object\n",
      "text       my dad presented a new laptop surprisingly my birthday i was so excited. i can't for get that day in my life, that way my first surprise given my dad.\n",
      "country    IND                                                                                                                                                   \n",
      "Name: 28887, dtype: object\n",
      "text       My happiest moment in my life is for my 20th birthday my dad presented me a new smart phone surprisingly that day i was so exited.... I cant forget that day in my life, that was my first surprise given by my dad..\n",
      "country    IND                                                                                                                                                                                                                  \n",
      "Name: 35580, dtype: object\n",
      "text       MY DAD PRESENTED ME A NEW SMART PHONE SURPRISINGLY ON MY BIRTHDAY I WAS SO EXCITED. I CAN'T FORGET THAT DAY IN MY LIFE,THAT WAS MY FIRST SURPRISE GIVEN BY MY DAD\n",
      "country    IND                                                                                                                                                              \n",
      "Name: 40015, dtype: object\n",
      "text       My dad presented me a new laptop surprisingly on my birthday.I was so exited.I can't forgot that day in my life,that was my first surprise given by my dad. \n",
      "country    IND                                                                                                                                                         \n",
      "Name: 40045, dtype: object\n",
      "text       My dad presented  me a new smart phone surprisingly on my birthday I was so excited, I can't forget that day in my life, that was my furst surprise given by my dad.\n",
      "country    IND                                                                                                                                                                 \n",
      "Name: 42501, dtype: object\n",
      "text       My dad presented me a new laptap surprisingly on my birthday I was so excited. I can't forget that day in my life,that day in my life, that was my first surprise given my dad.\n",
      "country    IND                                                                                                                                                                            \n",
      "Name: 42531, dtype: object\n",
      "text       MY FATHER WAS PRESENTED  SURPRISE GIFT FOR ME. THE GIFT WAS  SMART PHONE I AM SO HAPPY.\n",
      "country    IND                                                                                    \n",
      "Name: 44242, dtype: object\n",
      "text       My dad presented me a new lap top surprisingly on my birthday i was so excited i can't forget that day in my life, that was my first surprise given by my dad.\n",
      "country    IND                                                                                                                                                           \n",
      "Name: 45618, dtype: object\n",
      "text       My happiest moment is......for my  birthday my dad presented me a new smart phone surprisingly  that day i was so exited....i cant forget that day in my life,that was my first surprise given by my dad..\n",
      "country    IND                                                                                                                                                                                                       \n",
      "Name: 49445, dtype: object\n",
      "text       On my 21st birthday (last february) my dad presented me a new smart phone surprisingly ,that day was so exiting for me. I cant forget that day in my life,that was my first surprise given by my dad.\n",
      "country    IND                                                                                                                                                                                                  \n",
      "Name: 52597, dtype: object\n",
      "text       My happiest moment in my life s......for my 20th birthday my dad presented me a new smart phone surprisingly DAT day i was so exited....i cant fort DAT day in my life,tad was my first surprise gun by my dad.\n",
      "country    IND                                                                                                                                                                                                            \n",
      "Name: 54178, dtype: object\n",
      "text       My happiest moment in my life for my 20th birthday my dad presented me a new smart phone surprisingly dat day i was so exited....i cant forgt dat day in my life,dat was my first suprise gvn by my dad.\n",
      "country    IND                                                                                                                                                                                                     \n",
      "Name: 55365, dtype: object\n",
      "text       \\r\\nMy happiest moment in my life s......for my 20th birthday my dad presented me a new smart phone surprisingly dat day i was so exited....i cant forget that day in my life's most happiest moment\n",
      "country    IND                                                                                                                                                                                                 \n",
      "Name: 55604, dtype: object\n",
      "text       i presented shirt to my father.\n",
      "country    IND                            \n",
      "Name: 57887, dtype: object\n",
      "text       when my father presented me a bike\n",
      "country    IND                               \n",
      "Name: 82514, dtype: object\n",
      "text       Before my wife's passing she made arrangements for my and the kids birthdays in secret involving her sister. She completed letters, and purchased gifts. When April 21st rolled around this had an immense impact when out of nowhere my son was presented with a letter from her mom, and several gifts from her. \n",
      "country    USA                                                                                                                                                                                                                                                                                                                \n",
      "Name: 84517, dtype: object\n",
      "text       I was gifted a laptop by my dad. As I came back home after playing soccer, I was presented with a laptop gift wrapped. My dad hugged me and said that I deserved this because I've been an awesome son. This made me extremely happy.\n",
      "country    IND                                                                                                                                                                                                                                  \n",
      "Name: 96007, dtype: object\n"
     ]
    }
   ],
   "source": [
    "# Exploring one of the top words mentioned in relation to fathers: presented\n",
    "counter = 0\n",
    "for row in df_mother_father['text_cleaned']:\n",
    "    wordList = re.sub(\"[^\\w]\", \" \",  row).split()\n",
    "    for word in wordList:\n",
    "        if word == 'presented':\n",
    "            print(df_mother_father.iloc[counter][['text', 'country']])\n",
    "    counter += 1\n",
    "    \n",
    "# From india, fathers presenting things as gifts"
   ]
  },
  {
   "cell_type": "code",
   "execution_count": 400,
   "metadata": {
    "ExecuteTime": {
     "end_time": "2021-02-24T00:54:18.321314Z",
     "start_time": "2021-02-24T00:54:18.078687Z"
    }
   },
   "outputs": [
    {
     "name": "stdout",
     "output_type": "stream",
     "text": [
      "text       Last night father give me a surprise gift as CAR occasion of my birthday its a happiest event for me.\n",
      "country    USA                                                                                                  \n",
      "Name: 1176, dtype: object\n",
      "text       a new car bought by my dad give me honor in the society\n",
      "country    IND                                                    \n",
      "Name: 1652, dtype: object\n",
      "text       my father bought a new car for himself after 10 years\n",
      "country    IND                                                  \n",
      "Name: 2026, dtype: object\n",
      "text       I fixed my car with my father to help.\n",
      "country    USA                                   \n",
      "Name: 2625, dtype: object\n",
      "text       In past month i m very happy when i get surprised gift from my father, i received a car in that gift.\n",
      "country    USA                                                                                                  \n",
      "Name: 5088, dtype: object\n",
      "text       I m very happy when i get surprise party from my family in home and from co-workers in office. My father gives me a new car in gift is very surprisingly happiest moment.\n",
      "country    USA                                                                                                                                                                      \n",
      "Name: 5123, dtype: object\n",
      "text       When my co-worker organised a surprise party on my birthday in my office and also in my home, My dad gives me a new car as a surprise gift. it very happiest moment in my life.\n",
      "country    USA                                                                                                                                                                            \n",
      "Name: 5125, dtype: object\n",
      "text       I bought a new car for my father.\n",
      "country    IND                              \n",
      "Name: 5635, dtype: object\n",
      "text       I bought a new car for my father as a gift.\n",
      "country    IND                                        \n",
      "Name: 5642, dtype: object\n",
      "text       One was last year June, I scored all India rank 4 for the entrance and personally I was going through a near death scenario and was in hospital when I got the news. Second was yesterday when my twin sister got selected for MD.\\r\\n\\r\\nAs suggested by Swateek Jena I am adding this. All credit goes to him for extracting this from my memory. \\r\\n\\r\\n\"Talking about cubing there was no eureka moment, but I would say my first blind solve was a dopamine jackpot. My room mates were silent for a moment and I knew it, heart rate racing like a formula 1 car, I opened the blindfold with trembling hands, saw my cube, lying down in that one state among 43 quintillion possibilities. I felt like a father seeing his new born kid\"\n",
      "country    IND                                                                                                                                                                                                                                                                                                                                                                                                                                                                                                                                                                                                                                                                                                                                              \n",
      "Name: 6269, dtype: object\n",
      "text       Sang-woo, the leader of college rock band Active Volcano, dies and sets up a reunion for Gi-yeong and the other members of the group. Former bass player Seong-wook lives a hand-to-mouth existence working two jobs. Drummer Hyeok-su is a single father struggling to make a living as a car salesman. \n",
      "country    USA                                                                                                                                                                                                                                                                                                      \n",
      "Name: 6586, dtype: object\n",
      "text       Sang-woo, the leader of college rock band Active Volcano, dies and sets up a reunion for Gi-yeong and the other members of the group. Former bass player Seong-wook lives a hand-to-mouth existence working two jobs. Drummer Hyeok-su is a single father struggling to make a living as a car salesman. The jobless lead guitarist Gi-yeong dreams of taking over Volcano as the new frontman. When he suggests they reform the band while the old friends reminisce at the funeral, they all spurn the idea. But Gi-yeong persists and gets each to relent, setting the stage for a rock and roll reunion.\n",
      "country    USA                                                                                                                                                                                                                                                                                                                                                                                                                                                                                                                                                                                                         \n",
      "Name: 6611, dtype: object\n",
      "text       Policeman at an accident who was calming down a mother and child who had been hit. He put them in the back of his car and gave the child a toy from his trunk. He got on the child eye level and spoke to him quietly and calmly till his father came. I overheard the cop say he had a son his age and he was asking him questions too.\\r\\n\n",
      "country    USA                                                                                                                                                                                                                                                                                                                                         \n",
      "Name: 8066, dtype: object\n",
      "text       I went to Walmart with my mom and while they filled our car with groceries we had a nice chat.\n",
      "country    USA                                                                                           \n",
      "Name: 8825, dtype: object\n",
      "text       i got new car from my father so i celebrate this event with my family.so i go to tour with my family. it makes more good values in my time.it gives lot of fun in my time.it is very pleasant in my time.\n",
      "country    IND                                                                                                                                                                                                      \n",
      "Name: 16959, dtype: object\n",
      "text       my parent are help to me for my carriers . it make me feel very excited and happy . because they are very supported with my education and my carrier . my father work hard well for my carrier and future . i have to proud of my father . my father bought a car for me . i am so happy for this . i am so lucky to have this parent . \n",
      "country    IND                                                                                                                                                                                                                                                                                                                                     \n",
      "Name: 16966, dtype: object\n",
      "text       my father gifted one new car for my promotion.he is always encouraging to my self.so he gives gift to me.it is very pleasant to my life.i feel very happy to that moment.it is very good time in my life.i feel very lucky person in the world.\n",
      "country    IND                                                                                                                                                                                                                                            \n",
      "Name: 16973, dtype: object\n",
      "text       My father gave me the surprise for me . this surprise is big car . i really didn't expect this gift . it make me felt very excited and happy . this is unforgettable situation and action in my life . i can't expect and control my emotion . \n",
      "country    IND                                                                                                                                                                                                                                            \n",
      "Name: 16988, dtype: object\n",
      "text       i got new car from my father for my promotion.it is very good moment in my life.it feel very proud to my promotion.it gives lot of goodness to my life.\n",
      "country    IND                                                                                                                                                    \n",
      "Name: 17001, dtype: object\n",
      "text       My dad unexpectedly gave me a little bit of money to help me with my car fund!\n",
      "country    USA                                                                           \n",
      "Name: 17950, dtype: object\n",
      "text       When I proposed that my dad help me buy a new car, he was really excited to help, which made me really happy. \n",
      "country    USA                                                                                                           \n",
      "Name: 17955, dtype: object\n",
      "text       My family celebrate, my fathers 45th birthday at my house in home town.They bought a new SWIFT car they present the car.My father face goes 100 volts bulb.He feel very proudly.After finished the function we went theater saw Hollywood movie.Then i back to continue my tuition. \n",
      "country    IND                                                                                                                                                                                                                                                                                 \n",
      "Name: 25333, dtype: object\n",
      "text       Driven to take my mom to the orthodontist, to me it's always a pleasure to drive a car.\n",
      "country    VEN                                                                                    \n",
      "Name: 26007, dtype: object\n",
      "text       My dad gifted me a new car few days back. That was my favourite car bmw. It was very exciting and surprising moment   for me. I really love my dad. He is the best dad. I am really happy for this new car.\n",
      "country    IND                                                                                                                                                                                                        \n",
      "Name: 26510, dtype: object\n",
      "text       My dad gifted me a new car few days back. That was my favourite car bmw. It was very exciting and surprising moment   for me. I really love my dad. He is the best dad. I am really happy for this new car.\n",
      "country    IND                                                                                                                                                                                                        \n",
      "Name: 26510, dtype: object\n",
      "text       My dad gifted me a new car few days back. That was my favourite car bmw. It was very exciting and surprising moment   for me. I really love my dad. He is the best dad. I am really happy for this new car.\n",
      "country    IND                                                                                                                                                                                                        \n",
      "Name: 26510, dtype: object\n",
      "text       Last month my dad gifted me my first car and that too a BMW. I became so surprised and excited that i was not able to control my happiness. I love my dad and thank him from bottom of my heart for such a wonderful gift. That was a very happy moment for me.\n",
      "country    IND                                                                                                                                                                                                                                                            \n",
      "Name: 26517, dtype: object\n",
      "text       My dad gifted me a new car last week. I became so excited and surprised after seeing the car. That is my favourite bmw car and i am very happy for such a wonderful gift from my loving dad.\n",
      "country    IND                                                                                                                                                                                         \n",
      "Name: 26520, dtype: object\n",
      "text       My dad gifted me a new car last week. I became so excited and surprised after seeing the car. That is my favourite bmw car and i am very happy for such a wonderful gift from my loving dad.\n",
      "country    IND                                                                                                                                                                                         \n",
      "Name: 26520, dtype: object\n",
      "text       My dad gifted me a new car last week. I became so excited and surprised after seeing the car. That is my favourite bmw car and i am very happy for such a wonderful gift from my loving dad.\n",
      "country    IND                                                                                                                                                                                         \n",
      "Name: 26520, dtype: object\n",
      "text       Summer vacation. It was a long journey to Ooty from Delhi, but we thoroughly enjoyed it. We reached Mettupalayam by train. From there we took another train for Wellington. This journey, in the little mountain railway, was quite exhilarating and unforgettable.\\r\\n\\r\\n\\r\\nDuring the journey we saw breath-taking scenes of Nigeria hills and forests. There were my maternal uncle, aunt, their little daughter Jasmine and 2 attendants to receive us at the station. We were overAjoyed to see and meet one another.\\r\\n\\r\\nThe following day, and then on the week-end, we visited Ooty. On both these visits we enjoyed the beauty, freshness, food walking, horse-riding and excursions. Situated at the height of 2,286 meters on Nigeria hills, Ooty is a very popular and famous hill resort of South India. It is in the state of Tamil Nadu. Full of rich tourist- activities and possibilities round the year, Ooty was discovered in 1819 by the then collector of Combater, an Englishman, Mr. John Sullivan. He constructed his summer residence there. He was the first man to do so. He was soon followed by numerous other Englishmen. It then became the summer seat of Provincial Government of Madras.\\r\\nThe temperate coolness attracts a large crowd of people from nearby areas, provinces and distant parts of the country. Originally it belonged to the Toads, a hill tribe which still lives in the Nigeria Hills. This aQueen of the Hill Stationsa is full of nice outdoor activities like hiking, boating, fishing, horse-riding, long walks, excursions and shopping. There is a big and wonderful botanical garden in the very heart of the town. It has more than 600 varieties of exotic plants and trees. We visited the botanical garden and then enjoyed boating in the lake.\\r\\n\\r\\nWe went to Deadbeats Peak in our uncle's car. From there we had an excellent panoramic view of the plains below. Is the highest point and boasts the height of 2,638 meters. There is also a telescope for the viewing pleasure of the tourists. We also visited and immensely enjoyed the nearby Samas Park, a nice picnic spot full of many varieties of plants, trees, herbs and a fine pool full of lilies.\\r\\n\\r\\nThe shopping in the small but colorful market of the town is an unforgettable experience. Mother bought a few silk sarisa, spices and some other items as gifts for our friends and relations. I bought some special tea and items of woodcraft. Ooty, overlooking blue hills and lush green valleys, is a very pleasant place and tourist resort. There was a big crowd of Indian and foreign tourists.\\r\\n\\r\\nWe also visited nearby Connor, a small but colorful town amidst sprawling tea gardens. We thoroughly enjoyed our visit to this still station. We also exposed a number of films to capture beautiful and natural scenes, events and memorable moments. These photographs will help us to keep our joy and memories of the place ever new and fresh.\n",
      "country    IND                                                                                                                                                                                                                                                                                                                                                                                                                                                                                                                                                                                                                                                                                                                                                                                                                                                                                                                                                                                                                                                                                                                                                                                                                                                                                                                                                                                                                                                                                                                                                                                                                                                                                                                                                                                                                                                                                                                                                                                                                                                                                                                                                                                                                                                                                                                                                                                                                                                                                                                                                                                                                                                                                                                                                                                                                                                                                                                                                                                                                        \n",
      "Name: 27243, dtype: object\n",
      "text       I like traveling. Iam very thankful to god because giving me a family that loves to travel. When I go for traveling with my family, there are a lot of interesting place that we visit. Between traveling at bigger city and go traveling at Island, I will choose the Island to travel. I donat like travel at bigger city because it was so noisy and a lot of pollution. Enough for me to live and always trapped in the traffic jam especially when Iam go back home to my own town Johor Bharu. My parent will take us to go for traveling especially when school holiday is coming. A wonderful holiday that I still remember until now is when my family and I went to Tioman Island when school holiday. That was the first time and first experience I went to Tioman Island. We stayed at Tioman Resort about three days. About seven o'clock early in the morning, we took a car to go to Jeti Mersing from Kota Tinggi. Around nine in the morning, we arrived at Jeti Mersing and my father parked his car at there. We take a bot at ten o'clock. Our journey from Jetty Mersing to Tioman Island is about one hour and thirty minute. Along travel to Tioman Island by bot, I saw many interesting scenery like a lot of monkey when our bot is near to the near Island and the water was very clean and clear blue in colour. Iam the one who was very excited to arrived at Tioman Island. At twelve noon, we safely arrived at Tioman Island. I was very excited. The scenery was very amazing with the birds flying anywhere just like to welcome us. It is so fascinating to be there. When we went out from the bot, have a car exactly like when we see when people playing a golf was waiting for us to take us to the resort. Along in the car, we found a lot of monkey was climbed the trees. The driver also looked very friendly and love to tell us about Tiomal Island. \\r\\n\\r\\n\n",
      "country    IND                                                                                                                                                                                                                                                                                                                                                                                                                                                                                                                                                                                                                                                                                                                                                                                                                                                                                                                                                                                                                                                                                                                                                                                                                                                                                                                                                                                                                                                                                                                                                                                                                                                                                                                                                                                                                                                                                                           \n",
      "Name: 27247, dtype: object\n",
      "text       I like traveling. Iam very thankful to god because giving me a family that loves to travel. When I go for traveling with my family, there are a lot of interesting place that we visit. Between traveling at bigger city and go traveling at Island, I will choose the Island to travel. I donat like travel at bigger city because it was so noisy and a lot of pollution. Enough for me to live and always trapped in the traffic jam especially when Iam go back home to my own town Johor Bharu. My parent will take us to go for traveling especially when school holiday is coming. A wonderful holiday that I still remember until now is when my family and I went to Tioman Island when school holiday. That was the first time and first experience I went to Tioman Island. We stayed at Tioman Resort about three days. About seven o'clock early in the morning, we took a car to go to Jeti Mersing from Kota Tinggi. Around nine in the morning, we arrived at Jeti Mersing and my father parked his car at there. We take a bot at ten o'clock. Our journey from Jetty Mersing to Tioman Island is about one hour and thirty minute. Along travel to Tioman Island by bot, I saw many interesting scenery like a lot of monkey when our bot is near to the near Island and the water was very clean and clear blue in colour. Iam the one who was very excited to arrived at Tioman Island. At twelve noon, we safely arrived at Tioman Island. I was very excited. The scenery was very amazing with the birds flying anywhere just like to welcome us. It is so fascinating to be there. When we went out from the bot, have a car exactly like when we see when people playing a golf was waiting for us to take us to the resort. Along in the car, we found a lot of monkey was climbed the trees. The driver also looked very friendly and love to tell us about Tiomal Island. \\r\\n\\r\\n\n",
      "country    IND                                                                                                                                                                                                                                                                                                                                                                                                                                                                                                                                                                                                                                                                                                                                                                                                                                                                                                                                                                                                                                                                                                                                                                                                                                                                                                                                                                                                                                                                                                                                                                                                                                                                                                                                                                                                                                                                                                           \n",
      "Name: 27247, dtype: object\n",
      "text       I like traveling. Iam very thankful to god because giving me a family that loves to travel. When I go for traveling with my family, there are a lot of interesting place that we visit. Between traveling at bigger city and go traveling at Island, I will choose the Island to travel. I donat like travel at bigger city because it was so noisy and a lot of pollution. Enough for me to live and always trapped in the traffic jam especially when Iam go back home to my own town Johor Bharu. My parent will take us to go for traveling especially when school holiday is coming. A wonderful holiday that I still remember until now is when my family and I went to Tioman Island when school holiday. That was the first time and first experience I went to Tioman Island. We stayed at Tioman Resort about three days. About seven o'clock early in the morning, we took a car to go to Jeti Mersing from Kota Tinggi. Around nine in the morning, we arrived at Jeti Mersing and my father parked his car at there. We take a bot at ten o'clock. Our journey from Jetty Mersing to Tioman Island is about one hour and thirty minute. Along travel to Tioman Island by bot, I saw many interesting scenery like a lot of monkey when our bot is near to the near Island and the water was very clean and clear blue in colour. Iam the one who was very excited to arrived at Tioman Island. At twelve noon, we safely arrived at Tioman Island. I was very excited. The scenery was very amazing with the birds flying anywhere just like to welcome us. It is so fascinating to be there. When we went out from the bot, have a car exactly like when we see when people playing a golf was waiting for us to take us to the resort. Along in the car, we found a lot of monkey was climbed the trees. The driver also looked very friendly and love to tell us about Tiomal Island. \\r\\n\\r\\n\n",
      "country    IND                                                                                                                                                                                                                                                                                                                                                                                                                                                                                                                                                                                                                                                                                                                                                                                                                                                                                                                                                                                                                                                                                                                                                                                                                                                                                                                                                                                                                                                                                                                                                                                                                                                                                                                                                                                                                                                                                                           \n",
      "Name: 27247, dtype: object\n",
      "text       I like traveling. Iam very thankful to god because giving me a family that loves to travel. When I go for traveling with my family, there are a lot of interesting place that we visit. Between traveling at bigger city and go traveling at Island, I will choose the Island to travel. I donat like travel at bigger city because it was so noisy and a lot of pollution. Enough for me to live and always trapped in the traffic jam especially when Iam go back home to my own town Johor Bharu. My parent will take us to go for traveling especially when school holiday is coming. A wonderful holiday that I still remember until now is when my family and I went to Tioman Island when school holiday. That was the first time and first experience I went to Tioman Island. We stayed at Tioman Resort about three days. About seven o'clock early in the morning, we took a car to go to Jeti Mersing from Kota Tinggi. Around nine in the morning, we arrived at Jeti Mersing and my father parked his car at there. We take a bot at ten o'clock. Our journey from Jetty Mersing to Tioman Island is about one hour and thirty minute. Along travel to Tioman Island by bot, I saw many interesting scenery like a lot of monkey when our bot is near to the near Island and the water was very clean and clear blue in colour. Iam the one who was very excited to arrived at Tioman Island. At twelve noon, we safely arrived at Tioman Island. I was very excited. The scenery was very amazing with the birds flying anywhere just like to welcome us. It is so fascinating to be there. When we went out from the bot, have a car exactly like when we see when people playing a golf was waiting for us to take us to the resort. Along in the car, we found a lot of monkey was climbed the trees. The driver also looked very friendly and love to tell us about Tiomal Island. \\r\\n\\r\\n\n",
      "country    IND                                                                                                                                                                                                                                                                                                                                                                                                                                                                                                                                                                                                                                                                                                                                                                                                                                                                                                                                                                                                                                                                                                                                                                                                                                                                                                                                                                                                                                                                                                                                                                                                                                                                                                                                                                                                                                                                                                           \n",
      "Name: 27247, dtype: object\n",
      "text       We all love to go for picnics during our holidays, especially in the winter season. A picnic brings about excitement, exhilaration and breaks the monotony in our lives. I also had gone for a picnic with my family and relatives, the memories of which I will always cherish. We decided to go for a picnic on the 1st of march, which also coincided with the New Year celebrations. I remember how excited I was and so was my younger brother and cousins. It was sheer excitement that morning!\\r\\n\\r\\nI remember I could not sleep the previous night thinking about the fun we would be having the next day. I got my picnic attire ready so that I would not have to waste any time the next day. I was the first to wake up and then called everybody so that we could start moving as soon as possible. Every minute seemed so precious. My mother got busy preparing some delicious breakfast and tasty snacks for the journey. My brother, cousins and myself were busy putting all the games together that we would be playing at our destination. But, where were going. Finally my father decided to take us to Nicco Park. This whole episode was so thrilling. Soon, we our entire family was seen scurrying into the car and 'hurray', we were on our way.\\r\\n\\r\\nThe journey by car was great. I had travelled by the 'Scorpio' many times, but today the drive down the road was different. The air was filled with fun and laughter and we were really enjoying ourselves. Mum's snacks were great and so was the fruit juice that we had while travelling. Along the way we cracked jokes and sand songs. We were soon in front of the gates of 'Nicco Park'. It was around 9:30 am in the morning. We got down from the car and we waited for my father and uncle who went to park the car and arrange for the entry tickets. The hurdle of booking the entry tickets was crossed easily and we were inside Nicco Park.\\r\\n\\r\\nWe managed to find a nice spot and settled down for a while. Then we started going for some of the most interesting rides. We began our endeavour by going on the merry-go-round. It was great fun. Then we hurried towards the counter for a ride named 'striking cars'. This ride was among the best because my father, mother, uncle, aunt and cousins all decided to go for the ride. We had a great time striking each other's car. The next ride we went on was the 'giant wheel'. This ride was scary but the next ride 'the roller coaster' brought my heart into my mouth. We were all sliding down from a great height to land into the water. I was screaming out of excitement when 'splash' I was thrown into water and so were my cousins. What a great feeling! My excitement surpassed my fear. There was no end to the rides. We went on the toy train that took us all around the park; we also went for a boat ride which so nice and enjoyable. Well by now it was lunch time!\\r\\n\\r\\nMy father treated us to a great and sumptuous continental lunch that had some very tasty food on the platter. I enjoyed my lunch. After lunch we had ice-creams, which is my favourite. We rested for a while, and then started to play several games such as badminton, throw ball and frisbee. We also spent a good deal of time playing on slides, see-saws and swings. By then it was time for some nice coffee. My parents and relatives were busy chatting, while we helped ourselves with some great desserts. The desserts were just awesome!\\r\\n\\r\\nWe spent a little more time enjoying the cool breeze in the park and then decided to return home. We got into the car for our return journey back home. I was a bit sad as this beautiful day had come to an end. But, while returning home we could not stop talking about the fun we had. Most of all we were busy browsing through some of the nicest photographs taken by my mother and aunt. Some nice video recordings were also taken. It was a wonderful picnic that we all thoroughly enjoyed, the memories of which will always be cherished from the bottom of my heart.. - See more at: \n",
      "country    IND                                                                                                                                                                                                                                                                                                                                                                                                                                                                                                                                                                                                                                                                                                                                                                                                                                                                                                                                                                                                                                                                                                                                                                                                                                                                                                                                                                                                                                                                                                                                                                                                                                                                                                                                                                                                                                                                                                                                                                                                                                                                                                                                                                                                                                                                                                                                                                                                                                                                                                                                                                                                                                                                                                                                                                                                                                                                                                                                                                                                                                                                                                                                                                                                                                                                                                                                                                                                                                                                                                                                                                                                                                                                                                                                                                                                                                                                                                                                                                                                                                                                                                                                \n",
      "Name: 27255, dtype: object\n",
      "text       We all love to go for picnics during our holidays, especially in the winter season. A picnic brings about excitement, exhilaration and breaks the monotony in our lives. I also had gone for a picnic with my family and relatives, the memories of which I will always cherish. We decided to go for a picnic on the 1st of march, which also coincided with the New Year celebrations. I remember how excited I was and so was my younger brother and cousins. It was sheer excitement that morning!\\r\\n\\r\\nI remember I could not sleep the previous night thinking about the fun we would be having the next day. I got my picnic attire ready so that I would not have to waste any time the next day. I was the first to wake up and then called everybody so that we could start moving as soon as possible. Every minute seemed so precious. My mother got busy preparing some delicious breakfast and tasty snacks for the journey. My brother, cousins and myself were busy putting all the games together that we would be playing at our destination. But, where were going. Finally my father decided to take us to Nicco Park. This whole episode was so thrilling. Soon, we our entire family was seen scurrying into the car and 'hurray', we were on our way.\\r\\n\\r\\nThe journey by car was great. I had travelled by the 'Scorpio' many times, but today the drive down the road was different. The air was filled with fun and laughter and we were really enjoying ourselves. Mum's snacks were great and so was the fruit juice that we had while travelling. Along the way we cracked jokes and sand songs. We were soon in front of the gates of 'Nicco Park'. It was around 9:30 am in the morning. We got down from the car and we waited for my father and uncle who went to park the car and arrange for the entry tickets. The hurdle of booking the entry tickets was crossed easily and we were inside Nicco Park.\\r\\n\\r\\nWe managed to find a nice spot and settled down for a while. Then we started going for some of the most interesting rides. We began our endeavour by going on the merry-go-round. It was great fun. Then we hurried towards the counter for a ride named 'striking cars'. This ride was among the best because my father, mother, uncle, aunt and cousins all decided to go for the ride. We had a great time striking each other's car. The next ride we went on was the 'giant wheel'. This ride was scary but the next ride 'the roller coaster' brought my heart into my mouth. We were all sliding down from a great height to land into the water. I was screaming out of excitement when 'splash' I was thrown into water and so were my cousins. What a great feeling! My excitement surpassed my fear. There was no end to the rides. We went on the toy train that took us all around the park; we also went for a boat ride which so nice and enjoyable. Well by now it was lunch time!\\r\\n\\r\\nMy father treated us to a great and sumptuous continental lunch that had some very tasty food on the platter. I enjoyed my lunch. After lunch we had ice-creams, which is my favourite. We rested for a while, and then started to play several games such as badminton, throw ball and frisbee. We also spent a good deal of time playing on slides, see-saws and swings. By then it was time for some nice coffee. My parents and relatives were busy chatting, while we helped ourselves with some great desserts. The desserts were just awesome!\\r\\n\\r\\nWe spent a little more time enjoying the cool breeze in the park and then decided to return home. We got into the car for our return journey back home. I was a bit sad as this beautiful day had come to an end. But, while returning home we could not stop talking about the fun we had. Most of all we were busy browsing through some of the nicest photographs taken by my mother and aunt. Some nice video recordings were also taken. It was a wonderful picnic that we all thoroughly enjoyed, the memories of which will always be cherished from the bottom of my heart.. - See more at: \n",
      "country    IND                                                                                                                                                                                                                                                                                                                                                                                                                                                                                                                                                                                                                                                                                                                                                                                                                                                                                                                                                                                                                                                                                                                                                                                                                                                                                                                                                                                                                                                                                                                                                                                                                                                                                                                                                                                                                                                                                                                                                                                                                                                                                                                                                                                                                                                                                                                                                                                                                                                                                                                                                                                                                                                                                                                                                                                                                                                                                                                                                                                                                                                                                                                                                                                                                                                                                                                                                                                                                                                                                                                                                                                                                                                                                                                                                                                                                                                                                                                                                                                                                                                                                                                                \n",
      "Name: 27255, dtype: object\n",
      "text       We all love to go for picnics during our holidays, especially in the winter season. A picnic brings about excitement, exhilaration and breaks the monotony in our lives. I also had gone for a picnic with my family and relatives, the memories of which I will always cherish. We decided to go for a picnic on the 1st of march, which also coincided with the New Year celebrations. I remember how excited I was and so was my younger brother and cousins. It was sheer excitement that morning!\\r\\n\\r\\nI remember I could not sleep the previous night thinking about the fun we would be having the next day. I got my picnic attire ready so that I would not have to waste any time the next day. I was the first to wake up and then called everybody so that we could start moving as soon as possible. Every minute seemed so precious. My mother got busy preparing some delicious breakfast and tasty snacks for the journey. My brother, cousins and myself were busy putting all the games together that we would be playing at our destination. But, where were going. Finally my father decided to take us to Nicco Park. This whole episode was so thrilling. Soon, we our entire family was seen scurrying into the car and 'hurray', we were on our way.\\r\\n\\r\\nThe journey by car was great. I had travelled by the 'Scorpio' many times, but today the drive down the road was different. The air was filled with fun and laughter and we were really enjoying ourselves. Mum's snacks were great and so was the fruit juice that we had while travelling. Along the way we cracked jokes and sand songs. We were soon in front of the gates of 'Nicco Park'. It was around 9:30 am in the morning. We got down from the car and we waited for my father and uncle who went to park the car and arrange for the entry tickets. The hurdle of booking the entry tickets was crossed easily and we were inside Nicco Park.\\r\\n\\r\\nWe managed to find a nice spot and settled down for a while. Then we started going for some of the most interesting rides. We began our endeavour by going on the merry-go-round. It was great fun. Then we hurried towards the counter for a ride named 'striking cars'. This ride was among the best because my father, mother, uncle, aunt and cousins all decided to go for the ride. We had a great time striking each other's car. The next ride we went on was the 'giant wheel'. This ride was scary but the next ride 'the roller coaster' brought my heart into my mouth. We were all sliding down from a great height to land into the water. I was screaming out of excitement when 'splash' I was thrown into water and so were my cousins. What a great feeling! My excitement surpassed my fear. There was no end to the rides. We went on the toy train that took us all around the park; we also went for a boat ride which so nice and enjoyable. Well by now it was lunch time!\\r\\n\\r\\nMy father treated us to a great and sumptuous continental lunch that had some very tasty food on the platter. I enjoyed my lunch. After lunch we had ice-creams, which is my favourite. We rested for a while, and then started to play several games such as badminton, throw ball and frisbee. We also spent a good deal of time playing on slides, see-saws and swings. By then it was time for some nice coffee. My parents and relatives were busy chatting, while we helped ourselves with some great desserts. The desserts were just awesome!\\r\\n\\r\\nWe spent a little more time enjoying the cool breeze in the park and then decided to return home. We got into the car for our return journey back home. I was a bit sad as this beautiful day had come to an end. But, while returning home we could not stop talking about the fun we had. Most of all we were busy browsing through some of the nicest photographs taken by my mother and aunt. Some nice video recordings were also taken. It was a wonderful picnic that we all thoroughly enjoyed, the memories of which will always be cherished from the bottom of my heart.. - See more at: \n",
      "country    IND                                                                                                                                                                                                                                                                                                                                                                                                                                                                                                                                                                                                                                                                                                                                                                                                                                                                                                                                                                                                                                                                                                                                                                                                                                                                                                                                                                                                                                                                                                                                                                                                                                                                                                                                                                                                                                                                                                                                                                                                                                                                                                                                                                                                                                                                                                                                                                                                                                                                                                                                                                                                                                                                                                                                                                                                                                                                                                                                                                                                                                                                                                                                                                                                                                                                                                                                                                                                                                                                                                                                                                                                                                                                                                                                                                                                                                                                                                                                                                                                                                                                                                                                \n",
      "Name: 27255, dtype: object\n",
      "text       We all love to go for picnics during our holidays, especially in the winter season. A picnic brings about excitement, exhilaration and breaks the monotony in our lives. I also had gone for a picnic with my family and relatives, the memories of which I will always cherish. We decided to go for a picnic on the 1st of march, which also coincided with the New Year celebrations. I remember how excited I was and so was my younger brother and cousins. It was sheer excitement that morning!\\r\\n\\r\\nI remember I could not sleep the previous night thinking about the fun we would be having the next day. I got my picnic attire ready so that I would not have to waste any time the next day. I was the first to wake up and then called everybody so that we could start moving as soon as possible. Every minute seemed so precious. My mother got busy preparing some delicious breakfast and tasty snacks for the journey. My brother, cousins and myself were busy putting all the games together that we would be playing at our destination. But, where were going. Finally my father decided to take us to Nicco Park. This whole episode was so thrilling. Soon, we our entire family was seen scurrying into the car and 'hurray', we were on our way.\\r\\n\\r\\nThe journey by car was great. I had travelled by the 'Scorpio' many times, but today the drive down the road was different. The air was filled with fun and laughter and we were really enjoying ourselves. Mum's snacks were great and so was the fruit juice that we had while travelling. Along the way we cracked jokes and sand songs. We were soon in front of the gates of 'Nicco Park'. It was around 9:30 am in the morning. We got down from the car and we waited for my father and uncle who went to park the car and arrange for the entry tickets. The hurdle of booking the entry tickets was crossed easily and we were inside Nicco Park.\\r\\n\\r\\nWe managed to find a nice spot and settled down for a while. Then we started going for some of the most interesting rides. We began our endeavour by going on the merry-go-round. It was great fun. Then we hurried towards the counter for a ride named 'striking cars'. This ride was among the best because my father, mother, uncle, aunt and cousins all decided to go for the ride. We had a great time striking each other's car. The next ride we went on was the 'giant wheel'. This ride was scary but the next ride 'the roller coaster' brought my heart into my mouth. We were all sliding down from a great height to land into the water. I was screaming out of excitement when 'splash' I was thrown into water and so were my cousins. What a great feeling! My excitement surpassed my fear. There was no end to the rides. We went on the toy train that took us all around the park; we also went for a boat ride which so nice and enjoyable. Well by now it was lunch time!\\r\\n\\r\\nMy father treated us to a great and sumptuous continental lunch that had some very tasty food on the platter. I enjoyed my lunch. After lunch we had ice-creams, which is my favourite. We rested for a while, and then started to play several games such as badminton, throw ball and frisbee. We also spent a good deal of time playing on slides, see-saws and swings. By then it was time for some nice coffee. My parents and relatives were busy chatting, while we helped ourselves with some great desserts. The desserts were just awesome!\\r\\n\\r\\nWe spent a little more time enjoying the cool breeze in the park and then decided to return home. We got into the car for our return journey back home. I was a bit sad as this beautiful day had come to an end. But, while returning home we could not stop talking about the fun we had. Most of all we were busy browsing through some of the nicest photographs taken by my mother and aunt. Some nice video recordings were also taken. It was a wonderful picnic that we all thoroughly enjoyed, the memories of which will always be cherished from the bottom of my heart.. - See more at: \n",
      "country    IND                                                                                                                                                                                                                                                                                                                                                                                                                                                                                                                                                                                                                                                                                                                                                                                                                                                                                                                                                                                                                                                                                                                                                                                                                                                                                                                                                                                                                                                                                                                                                                                                                                                                                                                                                                                                                                                                                                                                                                                                                                                                                                                                                                                                                                                                                                                                                                                                                                                                                                                                                                                                                                                                                                                                                                                                                                                                                                                                                                                                                                                                                                                                                                                                                                                                                                                                                                                                                                                                                                                                                                                                                                                                                                                                                                                                                                                                                                                                                                                                                                                                                                                                \n",
      "Name: 27255, dtype: object\n",
      "text       We all love to go for picnics during our holidays, especially in the winter season. A picnic brings about excitement, exhilaration and breaks the monotony in our lives. I also had gone for a picnic with my family and relatives, the memories of which I will always cherish. We decided to go for a picnic on the 1st of march, which also coincided with the New Year celebrations. I remember how excited I was and so was my younger brother and cousins. It was sheer excitement that morning!\\r\\n\\r\\nI remember I could not sleep the previous night thinking about the fun we would be having the next day. I got my picnic attire ready so that I would not have to waste any time the next day. I was the first to wake up and then called everybody so that we could start moving as soon as possible. Every minute seemed so precious. My mother got busy preparing some delicious breakfast and tasty snacks for the journey. My brother, cousins and myself were busy putting all the games together that we would be playing at our destination. But, where were going. Finally my father decided to take us to Nicco Park. This whole episode was so thrilling. Soon, we our entire family was seen scurrying into the car and 'hurray', we were on our way.\\r\\n\\r\\nThe journey by car was great. I had travelled by the 'Scorpio' many times, but today the drive down the road was different. The air was filled with fun and laughter and we were really enjoying ourselves. Mum's snacks were great and so was the fruit juice that we had while travelling. Along the way we cracked jokes and sand songs. We were soon in front of the gates of 'Nicco Park'. It was around 9:30 am in the morning. We got down from the car and we waited for my father and uncle who went to park the car and arrange for the entry tickets. The hurdle of booking the entry tickets was crossed easily and we were inside Nicco Park.\\r\\n\\r\\nWe managed to find a nice spot and settled down for a while. Then we started going for some of the most interesting rides. We began our endeavour by going on the merry-go-round. It was great fun. Then we hurried towards the counter for a ride named 'striking cars'. This ride was among the best because my father, mother, uncle, aunt and cousins all decided to go for the ride. We had a great time striking each other's car. The next ride we went on was the 'giant wheel'. This ride was scary but the next ride 'the roller coaster' brought my heart into my mouth. We were all sliding down from a great height to land into the water. I was screaming out of excitement when 'splash' I was thrown into water and so were my cousins. What a great feeling! My excitement surpassed my fear. There was no end to the rides. We went on the toy train that took us all around the park; we also went for a boat ride which so nice and enjoyable. Well by now it was lunch time!\\r\\n\\r\\nMy father treated us to a great and sumptuous continental lunch that had some very tasty food on the platter. I enjoyed my lunch. After lunch we had ice-creams, which is my favourite. We rested for a while, and then started to play several games such as badminton, throw ball and frisbee. We also spent a good deal of time playing on slides, see-saws and swings. By then it was time for some nice coffee. My parents and relatives were busy chatting, while we helped ourselves with some great desserts. The desserts were just awesome!\\r\\n\\r\\nWe spent a little more time enjoying the cool breeze in the park and then decided to return home. We got into the car for our return journey back home. I was a bit sad as this beautiful day had come to an end. But, while returning home we could not stop talking about the fun we had. Most of all we were busy browsing through some of the nicest photographs taken by my mother and aunt. Some nice video recordings were also taken. It was a wonderful picnic that we all thoroughly enjoyed, the memories of which will always be cherished from the bottom of my heart.. - See more at: \n",
      "country    IND                                                                                                                                                                                                                                                                                                                                                                                                                                                                                                                                                                                                                                                                                                                                                                                                                                                                                                                                                                                                                                                                                                                                                                                                                                                                                                                                                                                                                                                                                                                                                                                                                                                                                                                                                                                                                                                                                                                                                                                                                                                                                                                                                                                                                                                                                                                                                                                                                                                                                                                                                                                                                                                                                                                                                                                                                                                                                                                                                                                                                                                                                                                                                                                                                                                                                                                                                                                                                                                                                                                                                                                                                                                                                                                                                                                                                                                                                                                                                                                                                                                                                                                                \n",
      "Name: 27255, dtype: object\n",
      "text       We all love to go for picnics during our holidays, especially in the winter season. A picnic brings about excitement, exhilaration and breaks the monotony in our lives. I also had gone for a picnic with my family and relatives, the memories of which I will always cherish. We decided to go for a picnic on the 1st of march, which also coincided with the New Year celebrations. I remember how excited I was and so was my younger brother and cousins. It was sheer excitement that morning!\\r\\n\\r\\nI remember I could not sleep the previous night thinking about the fun we would be having the next day. I got my picnic attire ready so that I would not have to waste any time the next day. I was the first to wake up and then called everybody so that we could start moving as soon as possible. Every minute seemed so precious. My mother got busy preparing some delicious breakfast and tasty snacks for the journey. My brother, cousins and myself were busy putting all the games together that we would be playing at our destination. But, where were going. Finally my father decided to take us to Nicco Park. This whole episode was so thrilling. Soon, we our entire family was seen scurrying into the car and 'hurray', we were on our way.\\r\\n\\r\\nThe journey by car was great. I had travelled by the 'Scorpio' many times, but today the drive down the road was different. The air was filled with fun and laughter and we were really enjoying ourselves. Mum's snacks were great and so was the fruit juice that we had while travelling. Along the way we cracked jokes and sand songs. We were soon in front of the gates of 'Nicco Park'. It was around 9:30 am in the morning. We got down from the car and we waited for my father and uncle who went to park the car and arrange for the entry tickets. The hurdle of booking the entry tickets was crossed easily and we were inside Nicco Park.\\r\\n\\r\\nWe managed to find a nice spot and settled down for a while. Then we started going for some of the most interesting rides. We began our endeavour by going on the merry-go-round. It was great fun. Then we hurried towards the counter for a ride named 'striking cars'. This ride was among the best because my father, mother, uncle, aunt and cousins all decided to go for the ride. We had a great time striking each other's car. The next ride we went on was the 'giant wheel'. This ride was scary but the next ride 'the roller coaster' brought my heart into my mouth. We were all sliding down from a great height to land into the water. I was screaming out of excitement when 'splash' I was thrown into water and so were my cousins. What a great feeling! My excitement surpassed my fear. There was no end to the rides. We went on the toy train that took us all around the park; we also went for a boat ride which so nice and enjoyable. Well by now it was lunch time!\\r\\n\\r\\nMy father treated us to a great and sumptuous continental lunch that had some very tasty food on the platter. I enjoyed my lunch. After lunch we had ice-creams, which is my favourite. We rested for a while, and then started to play several games such as badminton, throw ball and frisbee. We also spent a good deal of time playing on slides, see-saws and swings. By then it was time for some nice coffee. My parents and relatives were busy chatting, while we helped ourselves with some great desserts. The desserts were just awesome!\\r\\n\\r\\nWe spent a little more time enjoying the cool breeze in the park and then decided to return home. We got into the car for our return journey back home. I was a bit sad as this beautiful day had come to an end. But, while returning home we could not stop talking about the fun we had. Most of all we were busy browsing through some of the nicest photographs taken by my mother and aunt. Some nice video recordings were also taken. It was a wonderful picnic that we all thoroughly enjoyed, the memories of which will always be cherished from the bottom of my heart.. - See more at: \n",
      "country    IND                                                                                                                                                                                                                                                                                                                                                                                                                                                                                                                                                                                                                                                                                                                                                                                                                                                                                                                                                                                                                                                                                                                                                                                                                                                                                                                                                                                                                                                                                                                                                                                                                                                                                                                                                                                                                                                                                                                                                                                                                                                                                                                                                                                                                                                                                                                                                                                                                                                                                                                                                                                                                                                                                                                                                                                                                                                                                                                                                                                                                                                                                                                                                                                                                                                                                                                                                                                                                                                                                                                                                                                                                                                                                                                                                                                                                                                                                                                                                                                                                                                                                                                                \n",
      "Name: 27255, dtype: object\n",
      "text       We all love to go for picnics during our holidays, especially in the winter season. A picnic brings about excitement, exhilaration and breaks the monotony in our lives. I also had gone for a picnic with my family and relatives, the memories of which I will always cherish. We decided to go for a picnic on the 1st of march, which also coincided with the New Year celebrations. I remember how excited I was and so was my younger brother and cousins. It was sheer excitement that morning!\\r\\n\\r\\nI remember I could not sleep the previous night thinking about the fun we would be having the next day. I got my picnic attire ready so that I would not have to waste any time the next day. I was the first to wake up and then called everybody so that we could start moving as soon as possible. Every minute seemed so precious. My mother got busy preparing some delicious breakfast and tasty snacks for the journey. My brother, cousins and myself were busy putting all the games together that we would be playing at our destination. But, where were going. Finally my father decided to take us to Nicco Park. This whole episode was so thrilling. Soon, we our entire family was seen scurrying into the car and 'hurray', we were on our way.\\r\\n\\r\\nThe journey by car was great. I had travelled by the 'Scorpio' many times, but today the drive down the road was different. The air was filled with fun and laughter and we were really enjoying ourselves. Mum's snacks were great and so was the fruit juice that we had while travelling. Along the way we cracked jokes and sand songs. We were soon in front of the gates of 'Nicco Park'. It was around 9:30 am in the morning. We got down from the car and we waited for my father and uncle who went to park the car and arrange for the entry tickets. The hurdle of booking the entry tickets was crossed easily and we were inside Nicco Park.\\r\\n\\r\\nWe managed to find a nice spot and settled down for a while. Then we started going for some of the most interesting rides. We began our endeavour by going on the merry-go-round. It was great fun. Then we hurried towards the counter for a ride named 'striking cars'. This ride was among the best because my father, mother, uncle, aunt and cousins all decided to go for the ride. We had a great time striking each other's car. The next ride we went on was the 'giant wheel'. This ride was scary but the next ride 'the roller coaster' brought my heart into my mouth. We were all sliding down from a great height to land into the water. I was screaming out of excitement when 'splash' I was thrown into water and so were my cousins. What a great feeling! My excitement surpassed my fear. There was no end to the rides. We went on the toy train that took us all around the park; we also went for a boat ride which so nice and enjoyable. Well by now it was lunch time!\\r\\n\\r\\nMy father treated us to a great and sumptuous continental lunch that had some very tasty food on the platter. I enjoyed my lunch. After lunch we had ice-creams, which is my favourite. We rested for a while, and then started to play several games such as badminton, throw ball and frisbee. We also spent a good deal of time playing on slides, see-saws and swings. By then it was time for some nice coffee. My parents and relatives were busy chatting, while we helped ourselves with some great desserts. The desserts were just awesome!\\r\\n\\r\\nWe spent a little more time enjoying the cool breeze in the park and then decided to return home. We got into the car for our return journey back home. I was a bit sad as this beautiful day had come to an end. But, while returning home we could not stop talking about the fun we had. Most of all we were busy browsing through some of the nicest photographs taken by my mother and aunt. Some nice video recordings were also taken. It was a wonderful picnic that we all thoroughly enjoyed, the memories of which will always be cherished from the bottom of my heart.. - See more at: \n",
      "country    IND                                                                                                                                                                                                                                                                                                                                                                                                                                                                                                                                                                                                                                                                                                                                                                                                                                                                                                                                                                                                                                                                                                                                                                                                                                                                                                                                                                                                                                                                                                                                                                                                                                                                                                                                                                                                                                                                                                                                                                                                                                                                                                                                                                                                                                                                                                                                                                                                                                                                                                                                                                                                                                                                                                                                                                                                                                                                                                                                                                                                                                                                                                                                                                                                                                                                                                                                                                                                                                                                                                                                                                                                                                                                                                                                                                                                                                                                                                                                                                                                                                                                                                                                \n",
      "Name: 27255, dtype: object\n",
      "text       Somehow I ended up with the best parents in the world. Iave always been grateful to have them, and I know that Iam the badass I am today in large part because of them.\\r\\n\\r\\nMost people would consider themselves fortunate to have great parents. However, I ended up with the coolest grandparents ever, as well. My last living grandparent died more than 16 years ago, but I think of all of them often.\\r\\n\\r\\nBut I never had the opportunity to meet one of my grandparents. My dadas mom, Florence, died in 1979, six years before I was born. My grandpa George remarried shortly after my birth, and his second wife, a saintly, kind woman named Marie, became my grandma, and I loved her as much as all of my biological grandparents.\\r\\n\\r\\nIave often wondered about Grandma Florence though.\\r\\nShe was just fifty-seven years old when she died, and Iam ashamed to say that I donat remember if it was from ovarian cancer or cervical cancer. I think ovarian. Whatever the cause, she died way too young.\\r\\n\\r\\nBut just because I never met her doesnat mean that she hasnt had an impact on my life. She has probably impacted my life more than any other person who Iave never met. That might not make sense, but let me explain.\\r\\n\\r\\nI donat remember how old I was when I learned that Grandpa George had a wife, and my dad had a mom, who Iad never met. I suspect I was six or seven-years-old, but I donat remember learning that information for the first time. It seems like something I always knew, even though Iam sure it isnat.\\r\\n\\r\\nI remember seeing pictures of her, and once visiting her grave. My sisteras middle name is Florence, and I knew why.\\r\\n\\r\\nThe earliest impact that I recall Grandma Florence having on my life came one rainy night when I was nine or ten-years-old. My dad, my two sisters and I were in the car and joking around. I donat remember what we were talking about, but at some point the conversation turned to wishes. If we could have just one wish, what would it be?\\r\\n\\r\\nIam sure my sisters and I wished for common kid stuff: a million dollars, school to be canceled, a TV in my room. Real dumb stuff to waste a wish on.\\r\\n\\r\\nAnd then we asked my dad what head wish for. And he said, aI wish my mom was still alive so she could meet you guys and see how proud I am of you.a\\r\\n\\r\\nHoly cow.\\r\\n\\r\\nThe joking atmosphere in the car immediately became more somber, and I donat remember if any of us said anything. But I remember thinking to myself, aHe sure must love us if heas going to use his one wish for that.a\\r\\n\\r\\nI knew he loved us. Despite his occasional moodiness, none of us ever questioned that we were the most important part of his life. He and my mom told us they loved us often, and that they were glad to have us. But his wish just seemed to kick things up a notch.\\r\\n\\r\\nSince that night, whenever I think of Grandma Florence I think of that conversation in the car, and Iam reminded once again just how much my parents love us. And that never ending, unconditional love has provided so much support for me over the years that I have no doubt itas the foundation of every single positive thing I do in my life.\\r\\n\\r\\nI think itas also the reason that I feel such a devotion to my kids and to my wife. I know how it feels to never have to wonder if anyone loves you completely and unconditionally. Iave known that all my life. And I want them to know it, also. I never want them to wonder if thereas anyone who loves them so completely.\\r\\n\\r\\nIn sixty-two days, on August 10, it will be the 100th anniversary of Grandma Florenceas birth. I donat know if anyone else has plans to celebrate it, but in my house well get an ice cream cake, and well sing Happy Birthday. And Iall tell my kids the few things I know about Grandma Florence, and Iall tell them the story of that night in the car.\\r\\n\\r\\nAnd Iall do my best to make them feel as loved as I did when I heard my dadas wish.\n",
      "country    IND                                                                                                                                                                                                                                                                                                                                                                                                                                                                                                                                                                                                                                                                                                                                                                                                                                                                                                                                                                                                                                                                                                                                                                                                                                                                                                                                                                                                                                                                                                                                                                                                                                                                                                                                                                                                                                                                                                                                                                                                                                                                                                                                                                                                                                                                                                                                                                                                                                                                                                                                                                                                                                                                                                                                                                                                                                                                                                                                                                                                                                                                                                                                                                                                                                                                                                                                                                                                                                                                                                                                                                                                                                                                                                                                                                                                                                                                                                                                                                                                                                                                                  \n",
      "Name: 27278, dtype: object\n",
      "text       Somehow I ended up with the best parents in the world. Iave always been grateful to have them, and I know that Iam the badass I am today in large part because of them.\\r\\n\\r\\nMost people would consider themselves fortunate to have great parents. However, I ended up with the coolest grandparents ever, as well. My last living grandparent died more than 16 years ago, but I think of all of them often.\\r\\n\\r\\nBut I never had the opportunity to meet one of my grandparents. My dadas mom, Florence, died in 1979, six years before I was born. My grandpa George remarried shortly after my birth, and his second wife, a saintly, kind woman named Marie, became my grandma, and I loved her as much as all of my biological grandparents.\\r\\n\\r\\nIave often wondered about Grandma Florence though.\\r\\nShe was just fifty-seven years old when she died, and Iam ashamed to say that I donat remember if it was from ovarian cancer or cervical cancer. I think ovarian. Whatever the cause, she died way too young.\\r\\n\\r\\nBut just because I never met her doesnat mean that she hasnt had an impact on my life. She has probably impacted my life more than any other person who Iave never met. That might not make sense, but let me explain.\\r\\n\\r\\nI donat remember how old I was when I learned that Grandpa George had a wife, and my dad had a mom, who Iad never met. I suspect I was six or seven-years-old, but I donat remember learning that information for the first time. It seems like something I always knew, even though Iam sure it isnat.\\r\\n\\r\\nI remember seeing pictures of her, and once visiting her grave. My sisteras middle name is Florence, and I knew why.\\r\\n\\r\\nThe earliest impact that I recall Grandma Florence having on my life came one rainy night when I was nine or ten-years-old. My dad, my two sisters and I were in the car and joking around. I donat remember what we were talking about, but at some point the conversation turned to wishes. If we could have just one wish, what would it be?\\r\\n\\r\\nIam sure my sisters and I wished for common kid stuff: a million dollars, school to be canceled, a TV in my room. Real dumb stuff to waste a wish on.\\r\\n\\r\\nAnd then we asked my dad what head wish for. And he said, aI wish my mom was still alive so she could meet you guys and see how proud I am of you.a\\r\\n\\r\\nHoly cow.\\r\\n\\r\\nThe joking atmosphere in the car immediately became more somber, and I donat remember if any of us said anything. But I remember thinking to myself, aHe sure must love us if heas going to use his one wish for that.a\\r\\n\\r\\nI knew he loved us. Despite his occasional moodiness, none of us ever questioned that we were the most important part of his life. He and my mom told us they loved us often, and that they were glad to have us. But his wish just seemed to kick things up a notch.\\r\\n\\r\\nSince that night, whenever I think of Grandma Florence I think of that conversation in the car, and Iam reminded once again just how much my parents love us. And that never ending, unconditional love has provided so much support for me over the years that I have no doubt itas the foundation of every single positive thing I do in my life.\\r\\n\\r\\nI think itas also the reason that I feel such a devotion to my kids and to my wife. I know how it feels to never have to wonder if anyone loves you completely and unconditionally. Iave known that all my life. And I want them to know it, also. I never want them to wonder if thereas anyone who loves them so completely.\\r\\n\\r\\nIn sixty-two days, on August 10, it will be the 100th anniversary of Grandma Florenceas birth. I donat know if anyone else has plans to celebrate it, but in my house well get an ice cream cake, and well sing Happy Birthday. And Iall tell my kids the few things I know about Grandma Florence, and Iall tell them the story of that night in the car.\\r\\n\\r\\nAnd Iall do my best to make them feel as loved as I did when I heard my dadas wish.\n",
      "country    IND                                                                                                                                                                                                                                                                                                                                                                                                                                                                                                                                                                                                                                                                                                                                                                                                                                                                                                                                                                                                                                                                                                                                                                                                                                                                                                                                                                                                                                                                                                                                                                                                                                                                                                                                                                                                                                                                                                                                                                                                                                                                                                                                                                                                                                                                                                                                                                                                                                                                                                                                                                                                                                                                                                                                                                                                                                                                                                                                                                                                                                                                                                                                                                                                                                                                                                                                                                                                                                                                                                                                                                                                                                                                                                                                                                                                                                                                                                                                                                                                                                                                                  \n",
      "Name: 27278, dtype: object\n",
      "text       Somehow I ended up with the best parents in the world. Iave always been grateful to have them, and I know that Iam the badass I am today in large part because of them.\\r\\n\\r\\nMost people would consider themselves fortunate to have great parents. However, I ended up with the coolest grandparents ever, as well. My last living grandparent died more than 16 years ago, but I think of all of them often.\\r\\n\\r\\nBut I never had the opportunity to meet one of my grandparents. My dadas mom, Florence, died in 1979, six years before I was born. My grandpa George remarried shortly after my birth, and his second wife, a saintly, kind woman named Marie, became my grandma, and I loved her as much as all of my biological grandparents.\\r\\n\\r\\nIave often wondered about Grandma Florence though.\\r\\nShe was just fifty-seven years old when she died, and Iam ashamed to say that I donat remember if it was from ovarian cancer or cervical cancer. I think ovarian. Whatever the cause, she died way too young.\\r\\n\\r\\nBut just because I never met her doesnat mean that she hasnt had an impact on my life. She has probably impacted my life more than any other person who Iave never met. That might not make sense, but let me explain.\\r\\n\\r\\nI donat remember how old I was when I learned that Grandpa George had a wife, and my dad had a mom, who Iad never met. I suspect I was six or seven-years-old, but I donat remember learning that information for the first time. It seems like something I always knew, even though Iam sure it isnat.\\r\\n\\r\\nI remember seeing pictures of her, and once visiting her grave. My sisteras middle name is Florence, and I knew why.\\r\\n\\r\\nThe earliest impact that I recall Grandma Florence having on my life came one rainy night when I was nine or ten-years-old. My dad, my two sisters and I were in the car and joking around. I donat remember what we were talking about, but at some point the conversation turned to wishes. If we could have just one wish, what would it be?\\r\\n\\r\\nIam sure my sisters and I wished for common kid stuff: a million dollars, school to be canceled, a TV in my room. Real dumb stuff to waste a wish on.\\r\\n\\r\\nAnd then we asked my dad what head wish for. And he said, aI wish my mom was still alive so she could meet you guys and see how proud I am of you.a\\r\\n\\r\\nHoly cow.\\r\\n\\r\\nThe joking atmosphere in the car immediately became more somber, and I donat remember if any of us said anything. But I remember thinking to myself, aHe sure must love us if heas going to use his one wish for that.a\\r\\n\\r\\nI knew he loved us. Despite his occasional moodiness, none of us ever questioned that we were the most important part of his life. He and my mom told us they loved us often, and that they were glad to have us. But his wish just seemed to kick things up a notch.\\r\\n\\r\\nSince that night, whenever I think of Grandma Florence I think of that conversation in the car, and Iam reminded once again just how much my parents love us. And that never ending, unconditional love has provided so much support for me over the years that I have no doubt itas the foundation of every single positive thing I do in my life.\\r\\n\\r\\nI think itas also the reason that I feel such a devotion to my kids and to my wife. I know how it feels to never have to wonder if anyone loves you completely and unconditionally. Iave known that all my life. And I want them to know it, also. I never want them to wonder if thereas anyone who loves them so completely.\\r\\n\\r\\nIn sixty-two days, on August 10, it will be the 100th anniversary of Grandma Florenceas birth. I donat know if anyone else has plans to celebrate it, but in my house well get an ice cream cake, and well sing Happy Birthday. And Iall tell my kids the few things I know about Grandma Florence, and Iall tell them the story of that night in the car.\\r\\n\\r\\nAnd Iall do my best to make them feel as loved as I did when I heard my dadas wish.\n",
      "country    IND                                                                                                                                                                                                                                                                                                                                                                                                                                                                                                                                                                                                                                                                                                                                                                                                                                                                                                                                                                                                                                                                                                                                                                                                                                                                                                                                                                                                                                                                                                                                                                                                                                                                                                                                                                                                                                                                                                                                                                                                                                                                                                                                                                                                                                                                                                                                                                                                                                                                                                                                                                                                                                                                                                                                                                                                                                                                                                                                                                                                                                                                                                                                                                                                                                                                                                                                                                                                                                                                                                                                                                                                                                                                                                                                                                                                                                                                                                                                                                                                                                                                                  \n",
      "Name: 27278, dtype: object\n",
      "text       Somehow I ended up with the best parents in the world. Iave always been grateful to have them, and I know that Iam the badass I am today in large part because of them.\\r\\n\\r\\nMost people would consider themselves fortunate to have great parents. However, I ended up with the coolest grandparents ever, as well. My last living grandparent died more than 16 years ago, but I think of all of them often.\\r\\n\\r\\nBut I never had the opportunity to meet one of my grandparents. My dadas mom, Florence, died in 1979, six years before I was born. My grandpa George remarried shortly after my birth, and his second wife, a saintly, kind woman named Marie, became my grandma, and I loved her as much as all of my biological grandparents.\\r\\n\\r\\nIave often wondered about Grandma Florence though.\\r\\nShe was just fifty-seven years old when she died, and Iam ashamed to say that I donat remember if it was from ovarian cancer or cervical cancer. I think ovarian. Whatever the cause, she died way too young.\\r\\n\\r\\nBut just because I never met her doesnat mean that she hasnt had an impact on my life. She has probably impacted my life more than any other person who Iave never met. That might not make sense, but let me explain.\\r\\n\\r\\nI donat remember how old I was when I learned that Grandpa George had a wife, and my dad had a mom, who Iad never met. I suspect I was six or seven-years-old, but I donat remember learning that information for the first time. It seems like something I always knew, even though Iam sure it isnat.\\r\\n\\r\\nI remember seeing pictures of her, and once visiting her grave. My sisteras middle name is Florence, and I knew why.\\r\\n\\r\\nThe earliest impact that I recall Grandma Florence having on my life came one rainy night when I was nine or ten-years-old. My dad, my two sisters and I were in the car and joking around. I donat remember what we were talking about, but at some point the conversation turned to wishes. If we could have just one wish, what would it be?\\r\\n\\r\\nIam sure my sisters and I wished for common kid stuff: a million dollars, school to be canceled, a TV in my room. Real dumb stuff to waste a wish on.\\r\\n\\r\\nAnd then we asked my dad what head wish for. And he said, aI wish my mom was still alive so she could meet you guys and see how proud I am of you.a\\r\\n\\r\\nHoly cow.\\r\\n\\r\\nThe joking atmosphere in the car immediately became more somber, and I donat remember if any of us said anything. But I remember thinking to myself, aHe sure must love us if heas going to use his one wish for that.a\\r\\n\\r\\nI knew he loved us. Despite his occasional moodiness, none of us ever questioned that we were the most important part of his life. He and my mom told us they loved us often, and that they were glad to have us. But his wish just seemed to kick things up a notch.\\r\\n\\r\\nSince that night, whenever I think of Grandma Florence I think of that conversation in the car, and Iam reminded once again just how much my parents love us. And that never ending, unconditional love has provided so much support for me over the years that I have no doubt itas the foundation of every single positive thing I do in my life.\\r\\n\\r\\nI think itas also the reason that I feel such a devotion to my kids and to my wife. I know how it feels to never have to wonder if anyone loves you completely and unconditionally. Iave known that all my life. And I want them to know it, also. I never want them to wonder if thereas anyone who loves them so completely.\\r\\n\\r\\nIn sixty-two days, on August 10, it will be the 100th anniversary of Grandma Florenceas birth. I donat know if anyone else has plans to celebrate it, but in my house well get an ice cream cake, and well sing Happy Birthday. And Iall tell my kids the few things I know about Grandma Florence, and Iall tell them the story of that night in the car.\\r\\n\\r\\nAnd Iall do my best to make them feel as loved as I did when I heard my dadas wish.\n",
      "country    IND                                                                                                                                                                                                                                                                                                                                                                                                                                                                                                                                                                                                                                                                                                                                                                                                                                                                                                                                                                                                                                                                                                                                                                                                                                                                                                                                                                                                                                                                                                                                                                                                                                                                                                                                                                                                                                                                                                                                                                                                                                                                                                                                                                                                                                                                                                                                                                                                                                                                                                                                                                                                                                                                                                                                                                                                                                                                                                                                                                                                                                                                                                                                                                                                                                                                                                                                                                                                                                                                                                                                                                                                                                                                                                                                                                                                                                                                                                                                                                                                                                                                                  \n",
      "Name: 27278, dtype: object\n",
      "text       . Former bass player Seong-wook lives a hand-to-mouth existence working two jobs. Drummer Hyeok-su is a single father struggling to make a living as a car salesman. The jobless lead guitarist Gi-yeong dreams of taking over Volcano as the new frontman. When he suggests they reform the band while the old friends reminisce at the funeral, they all spurn the idea. But Gi-yeong persists and gets each to relent, setting the stage for a rock and roll reunion\n",
      "country    USA                                                                                                                                                                                                                                                                                                                                                                                                                                                                    \n",
      "Name: 27328, dtype: object\n",
      "text       I drove my fathers muscle car and it brought back great memories from highschool\n",
      "country    USA                                                                             \n",
      "Name: 29879, dtype: object\n",
      "text       I saw my Dad at his workplace and traded cars with him so he could get mine fixed.\n",
      "country    USA                                                                               \n",
      "Name: 29904, dtype: object\n",
      "text       My father called me to ask for recommendations on new cars, and I was glad he asked me for advice.\n",
      "country    USA                                                                                               \n",
      "Name: 30187, dtype: object\n",
      "text       I got my friend Steve to sub for me at work tomorrow so I can take my car in and help my Mom with something and I can take the day off work.\n",
      "country    USA                                                                                                                                         \n",
      "Name: 32261, dtype: object\n",
      "text       Each and everyone of us has a story to tell and share to others, life stories that may serve as an inspiration to other people. Every individual may have a life experience or a moment in his or her life that somehow greatly affects his or her whole life. We often share our own triumphs and travails, our victories and defeats, our happiness and despair that bring alterations to the present life situations. My story began as an ordinary boy in the state of Ferndale, Michigan. I am the youngest of five siblings, a son of Sazelia and Marvin Johnson.\\r\\n\\r\\nMy mother was a university woman who tries to acquire a bachelor's degree in Business at the University of Michigan. My father was a Mechanical Engineer who is deeply fascinated with cars. My parents are intellectual and social creatures who passed down the essential values of hard work, education and religion to their children. They make sure that we are not deprived of the essential things that we need in our education. They also impart important attitudes and ethical standards needed in conforming well to our social environment. My siblings and I grew up in happy and complete family that upholds education as the main key to success.\n",
      "country    IND                                                                                                                                                                                                                                                                                                                                                                                                                                                                                                                                                                                                                                                                                                                                                                                                                                                                                                                                                                                                                                                                                                                                                                                                                                               \n",
      "Name: 35648, dtype: object\n",
      "text       On a holiday, I was sitting in my room after finishing my home work. As my friends were away to hill stations, I was feeling very lonely. I watched the cars and other vehicles passing by and wished that like my friends, I would also have been travelling or passing my time.\\r\\n\\r\\nWhile my mind was occupied with thoughts of holidays and having fun with my friends, the door bell rang. I ran to answer it and found the postman with a parcel and a letter for me.\\r\\n\\r\\nI signed the paper and took the parcel. My hands were itching to open the packet as my curiosity knew no bounds. I ripped the parcel open and found a beautiful tape recorder in it. The parcel had been sent from the United States and the letter along with it was from my uncle who had sent me that wonderful gift.\\r\\n\\r\\nHowever, even more joy than receiving the tape recorder was the letter which my uncle had written. The letter was an invitation to go to the United States for my holidays. My uncle had arranged everything for me-the tickets and the visa, and I already had a passport.\\r\\n\\r\\nMy heart skipped several beats as I ran to give this great news to my mother. She was taken aback initially and her first reaction was not so positive.\\r\\n\\r\\nHowever, she thought about it, consulted my father who was at his office and they both agreed to allow me to go to the United States to spend the rest of my holidays with my uncle.\\r\\n\\r\\nI jumped from room to room and started packing my clothes, my toys, my books and other articles that I would need on the flight and in America. My mind was filled with various ideas about how I would spend my time with my cousins. I started dreaming about Disney world, Universal studios, the Statue of Liberty, the Grand Canyon and all the other tourist attractions that I had read about in magazines.\\r\\n\\r\\nMy father took me shopping the same day because he felt that I would need some more things to take with me. We bought gifts for my cousins and my uncle and aunt and when I came back home my cupboard was full of new clothes, shoes, gifts, etc.\\r\\n\\r\\nSince I had not expected any such thing to happen to me, and I had been feeling sorry for myself, this offer came as a great surprise. This was indeed the happiest day of my life and I don't think I shall ever forget it as long as I live.\n",
      "country    IND                                                                                                                                                                                                                                                                                                                                                                                                                                                                                                                                                                                                                                                                                                                                                                                                                                                                                                                                                                                                                                                                                                                                                                                                                                                                                                                                                                                                                                                                                                                                                                                                                                                                                                                                                                                                                                                                                                                                                                                                                                                                                                                                                                                                                                                                                                                                                                                                  \n",
      "Name: 35658, dtype: object\n",
      "text       This day marked one of the biggest honorable achievements of my life. Towards the end of my senior year of high school, Lawrence Upper Campus holds a convocation ceremony the day before commencement. It is an event that awards every student for their achievements academically and inspirationally. One of the biggest awards that they hand out is known as the Joshua Dawson Memorial Award. Joshua was a student a grade above me who died, along with his mother, in a terrible car accident in 2011. I never knew Joshua personally.God bless the Dawson family, and may Joshua's spirit continue to spread happiness to all\n",
      "country    IND                                                                                                                                                                                                                                                                                                                                                                                                                                                                                                                                                                                                                                    \n",
      "Name: 36074, dtype: object\n",
      "text       What an incredible opportunity this was! This was before I started getting into 80's music, which may be a reason why I now love it! Or my father made me listen to it in the car, so I finally got used to it ... But anyways, this really was an amazing experience. During our senior year, my best friend Sarah got the opportunity to volunteer at the Induction Ceremony in Cleveland because she was a volunteer intern at the Rock Hall of Fame.but it was extremely cool! \n",
      "country    IND                                                                                                                                                                                                                                                                                                                                                                                                                                                                                \n",
      "Name: 36076, dtype: object\n",
      "text       I washed my moms car for her and made her happy that entire day.\n",
      "country    USA                                                             \n",
      "Name: 40311, dtype: object\n",
      "text       I like traveling. I'm very thankful to god because giving me a family that loves to travel. When I go for traveling with my family, there are a lot of interesting place that we visit. Between traveling at bigger city and go traveling at Island, I will choose the Island to travel. I don't like travel at bigger city because it was so noisy and a lot of pollution. Enough for me to live and always trapped in the traffic jam especially when I'm go back home to my own town Johor Bharu. My parent will take us to go for traveling especially when school holiday is coming. A wonderful holiday that I still remember until now is when my family and I went to Tioman Island when school holiday. That was the first time and first experience I went to Tioman Island. We stayed at Tioman Resort about three days. About seven o'clock early in the morning, we took a car to go to Jeti Mersing from Kota Tinggi. Around nine in the morning, we arrived at Jeti Mersing and my father parked his car at there. We take a bot at ten o'clock. Our journey from Jetty Mersing to Tioman Island is about one hour and thirty minute. Along travel to Tioman Island by bot, I saw many interesting scenery like a lot of monkey when our bot is near to the near Island and the water was very clean and clear blue in colour. I'm the one who was very excited to arrived at Tioman Island. At twelve noon, we safely arrived at Tioman Island. I was very excited. The scenery was very amazing with the birds flying anywhere just like to welcome us. It is so fascinating to be there. When we went out from the bot, have a car exactly like when we see when people playing a golf was waiting for us to take us to the resort. Along in the car, we found a lot of monkey was climbed the trees. The driver also looked very friendly and love to tell us about Tiomal Island. \\r\\n\\r\\n\n",
      "country    USA                                                                                                                                                                                                                                                                                                                                                                                                                                                                                                                                                                                                                                                                                                                                                                                                                                                                                                                                                                                                                                                                                                                                                                                                                                                                                                                                                                                                                                                                                                                                                                                                                                                                                                                                                                                                                                                                                                           \n",
      "Name: 40817, dtype: object\n",
      "text       I like traveling. I'm very thankful to god because giving me a family that loves to travel. When I go for traveling with my family, there are a lot of interesting place that we visit. Between traveling at bigger city and go traveling at Island, I will choose the Island to travel. I don't like travel at bigger city because it was so noisy and a lot of pollution. Enough for me to live and always trapped in the traffic jam especially when I'm go back home to my own town Johor Bharu. My parent will take us to go for traveling especially when school holiday is coming. A wonderful holiday that I still remember until now is when my family and I went to Tioman Island when school holiday. That was the first time and first experience I went to Tioman Island. We stayed at Tioman Resort about three days. About seven o'clock early in the morning, we took a car to go to Jeti Mersing from Kota Tinggi. Around nine in the morning, we arrived at Jeti Mersing and my father parked his car at there. We take a bot at ten o'clock. Our journey from Jetty Mersing to Tioman Island is about one hour and thirty minute. Along travel to Tioman Island by bot, I saw many interesting scenery like a lot of monkey when our bot is near to the near Island and the water was very clean and clear blue in colour. I'm the one who was very excited to arrived at Tioman Island. At twelve noon, we safely arrived at Tioman Island. I was very excited. The scenery was very amazing with the birds flying anywhere just like to welcome us. It is so fascinating to be there. When we went out from the bot, have a car exactly like when we see when people playing a golf was waiting for us to take us to the resort. Along in the car, we found a lot of monkey was climbed the trees. The driver also looked very friendly and love to tell us about Tiomal Island. \\r\\n\\r\\n\n",
      "country    USA                                                                                                                                                                                                                                                                                                                                                                                                                                                                                                                                                                                                                                                                                                                                                                                                                                                                                                                                                                                                                                                                                                                                                                                                                                                                                                                                                                                                                                                                                                                                                                                                                                                                                                                                                                                                                                                                                                           \n",
      "Name: 40817, dtype: object\n",
      "text       I like traveling. I'm very thankful to god because giving me a family that loves to travel. When I go for traveling with my family, there are a lot of interesting place that we visit. Between traveling at bigger city and go traveling at Island, I will choose the Island to travel. I don't like travel at bigger city because it was so noisy and a lot of pollution. Enough for me to live and always trapped in the traffic jam especially when I'm go back home to my own town Johor Bharu. My parent will take us to go for traveling especially when school holiday is coming. A wonderful holiday that I still remember until now is when my family and I went to Tioman Island when school holiday. That was the first time and first experience I went to Tioman Island. We stayed at Tioman Resort about three days. About seven o'clock early in the morning, we took a car to go to Jeti Mersing from Kota Tinggi. Around nine in the morning, we arrived at Jeti Mersing and my father parked his car at there. We take a bot at ten o'clock. Our journey from Jetty Mersing to Tioman Island is about one hour and thirty minute. Along travel to Tioman Island by bot, I saw many interesting scenery like a lot of monkey when our bot is near to the near Island and the water was very clean and clear blue in colour. I'm the one who was very excited to arrived at Tioman Island. At twelve noon, we safely arrived at Tioman Island. I was very excited. The scenery was very amazing with the birds flying anywhere just like to welcome us. It is so fascinating to be there. When we went out from the bot, have a car exactly like when we see when people playing a golf was waiting for us to take us to the resort. Along in the car, we found a lot of monkey was climbed the trees. The driver also looked very friendly and love to tell us about Tiomal Island. \\r\\n\\r\\n\n",
      "country    USA                                                                                                                                                                                                                                                                                                                                                                                                                                                                                                                                                                                                                                                                                                                                                                                                                                                                                                                                                                                                                                                                                                                                                                                                                                                                                                                                                                                                                                                                                                                                                                                                                                                                                                                                                                                                                                                                                                           \n",
      "Name: 40817, dtype: object\n",
      "text       I like traveling. I'm very thankful to god because giving me a family that loves to travel. When I go for traveling with my family, there are a lot of interesting place that we visit. Between traveling at bigger city and go traveling at Island, I will choose the Island to travel. I don't like travel at bigger city because it was so noisy and a lot of pollution. Enough for me to live and always trapped in the traffic jam especially when I'm go back home to my own town Johor Bharu. My parent will take us to go for traveling especially when school holiday is coming. A wonderful holiday that I still remember until now is when my family and I went to Tioman Island when school holiday. That was the first time and first experience I went to Tioman Island. We stayed at Tioman Resort about three days. About seven o'clock early in the morning, we took a car to go to Jeti Mersing from Kota Tinggi. Around nine in the morning, we arrived at Jeti Mersing and my father parked his car at there. We take a bot at ten o'clock. Our journey from Jetty Mersing to Tioman Island is about one hour and thirty minute. Along travel to Tioman Island by bot, I saw many interesting scenery like a lot of monkey when our bot is near to the near Island and the water was very clean and clear blue in colour. I'm the one who was very excited to arrived at Tioman Island. At twelve noon, we safely arrived at Tioman Island. I was very excited. The scenery was very amazing with the birds flying anywhere just like to welcome us. It is so fascinating to be there. When we went out from the bot, have a car exactly like when we see when people playing a golf was waiting for us to take us to the resort. Along in the car, we found a lot of monkey was climbed the trees. The driver also looked very friendly and love to tell us about Tiomal Island. \\r\\n\\r\\n\n",
      "country    USA                                                                                                                                                                                                                                                                                                                                                                                                                                                                                                                                                                                                                                                                                                                                                                                                                                                                                                                                                                                                                                                                                                                                                                                                                                                                                                                                                                                                                                                                                                                                                                                                                                                                                                                                                                                                                                                                                                           \n",
      "Name: 40817, dtype: object\n",
      "text       Helped my dad out on a car project of his.\n",
      "country    USA                                       \n",
      "Name: 42551, dtype: object\n",
      "text       I went to look at cars with my dad. \n",
      "country    USA                                 \n",
      "Name: 42672, dtype: object\n",
      "text       I fixed my cars motor mount with my dad.\n",
      "country    USA                                     \n",
      "Name: 43243, dtype: object\n",
      "text       got a pleasant surprise from dad.. he bought a car for me . i was really superb feeling .. everyone loved it..  felt very happy.. thanks dad !!\n",
      "country    IND                                                                                                                                            \n",
      "Name: 49434, dtype: object\n",
      "text       Recently my father bought a new car which is a Hyundai i20.I was very happy and loved to drive it.\n",
      "country    IND                                                                                               \n",
      "Name: 52607, dtype: object\n",
      "text       My father agreed to buy a car for me.\n",
      "country    USA                                  \n",
      "Name: 54764, dtype: object\n",
      "text       My father agreed to let me get a rental car in his name so I can get the car.\n",
      "country    USA                                                                          \n",
      "Name: 54769, dtype: object\n",
      "text       My father agreed to let me get a rental car in his name so I can get the car.\n",
      "country    USA                                                                          \n",
      "Name: 54769, dtype: object\n",
      "text       that day my birthday, as usual I got up and went to my compound, one new CAR parked in front of my  house,I asked my father, then he greeted me and told its my birthday gift, that moment never forget in my life, feel great.\n",
      "country    IND                                                                                                                                                                                                                            \n",
      "Name: 55055, dtype: object\n",
      "text       my father gives new car for my promotion it is very encourage to my self.i feel very proud to this gift.it makes more happiness in my life.i feel very happy to this memory.\n",
      "country    IND                                                                                                                                                                         \n",
      "Name: 55238, dtype: object\n",
      "text       i got new car from my father for my profit.it is very good time in my life.i feel very happy to this moment.it gives lot of goodness in my life.it is very pleasant time in my life.i feel very happy to this moment.it is very proud time in my life.\n",
      "country    IND                                                                                                                                                                                                                                                   \n",
      "Name: 55240, dtype: object\n",
      "text       I was able to sell my mother's car for a good price.\n",
      "country    USA                                                 \n",
      "Name: 55588, dtype: object\n",
      "text       My mom told me she is picking up her new car tomorrow and I'm so excited for her.\n",
      "country    USA                                                                              \n",
      "Name: 58507, dtype: object\n",
      "text       My dad bought me a new car that I have been wanting for a long time!\n",
      "country    USA                                                                 \n",
      "Name: 58604, dtype: object\n",
      "text       Last week my father let me know he would help me purchase a car because we've been struggling for 3 years to get one.\n",
      "country    USA                                                                                                                  \n",
      "Name: 60248, dtype: object\n",
      "text       Last month was my mother's birthday in April and she usually forgets her birthdays.  She was coming to my house at 7:30am.  I was tired  that morning because I had just arrived last night from a business trip.  but I woke up early in the morning and baked a cheese cake and went to store to get candles.  Then as I saw her car park outside my home I quickly lit the candles and put them on the cake and then put the cake on the table.  When she came in I started singing happy birthday to her.  She was taken by surprise and couldn't stop smiling.  Then I served the cake and she enjoyed it tremendously.\n",
      "country    USA                                                                                                                                                                                                                                                                                                                                                                                                                                                                                                                                                                                                                         \n",
      "Name: 61862, dtype: object\n",
      "text       I WAS VERY HAPPY BECAUSE MY DADDY BOUGHT NEW CAR FOR OUR FAMILY.\n",
      "country    IND                                                             \n",
      "Name: 61999, dtype: object\n",
      "text       My mother told me that she would pay for my car's registration which is a good thing because at the moment I am low on funds. \n",
      "country    USA                                                                                                                           \n",
      "Name: 63660, dtype: object\n",
      "text       My mom gave me 3 thousand dollars for my Honda Civic 1999 car.  I don't have to take buses anymore.  \n",
      "country    USA                                                                                                  \n",
      "Name: 64164, dtype: object\n",
      "text       I became very happy when I figured out that the reason my car wasn't working properly was because of a bad battery terminal which my dad was able to easily fix for me.\n",
      "country    USA                                                                                                                                                                    \n",
      "Name: 66367, dtype: object\n",
      "text       My dad gave me $50 for helping him buy a car. \n",
      "country    USA                                           \n",
      "Name: 69449, dtype: object\n",
      "text       My father had recently purchased a car for me when mine broke down. I was very happy about this as I was not sure what I was going to do when my last car broke down, but thanks to him I was able to find a solution.\n",
      "country    USA                                                                                                                                                                                                                   \n",
      "Name: 72636, dtype: object\n",
      "text       My father had recently purchased a car for me when mine broke down. I was very happy about this as I was not sure what I was going to do when my last car broke down, but thanks to him I was able to find a solution.\n",
      "country    USA                                                                                                                                                                                                                   \n",
      "Name: 72636, dtype: object\n",
      "text       My father bought me a new car recently and I was very happy about that gesture, I thought it was very kind of him to do that for me as mine had recently broken down. \n",
      "country    USA                                                                                                                                                                   \n",
      "Name: 72721, dtype: object\n",
      "text       Taking my dad out of nursing home for a ice cream and car ride.  \n",
      "country    USA                                                              \n",
      "Name: 72852, dtype: object\n",
      "text       I have completed my graduation from the University of Colima in Mexico. I was a student of economics and scored the highest GPA in the graduation exam. So, every one of my family including my parents was extremely happy. Before appearing in the exam, dad told me to study hard. He also suggested me to get the top score if possible as he wants me to take care of his business. Besides, he hinted for a surprise too. I did not know what the surprise would be but I studied hard. I studied for about 12 hours in a day. Finally, I was able to grab the success. On the day of result publication, I came to know about my success. One of my mates informed about the score while I was on the way top university. I informed the issue to my dad. He asked to return home quick to receive the surprise.\\r\\n\\r\\nBut I cannot reach home early. I made late. It was my buddies who did not let me leave the university early. I had to pass about two hours with them and entertained at a restaurant for my success. In fact, they all loved me much and wanted to celebrate my success. So, I failed to defy their requests. Finally, I reached home at around 4.30pm. My dad was standing on the porch and the brand new car was expecting its young rider. Dad handed me over the keys and said that the car was the surprise. My mum was standing aside and her face was shining with joy for my grand success. Dad was happy too.\n",
      "country    USA                                                                                                                                                                                                                                                                                                                                                                                                                                                                                                                                                                                                                                                                                                                                                                                                                                                                                                                                                                                                                                                                                                                                                                                                                                                                                                                                                                                                                                                  \n",
      "Name: 73200, dtype: object\n",
      "text       I have completed my graduation from the University of Colima in Mexico. I was a student of economics and scored the highest GPA in the graduation exam. So, every one of my family including my parents was extremely happy. Before appearing in the exam, dad told me to study hard. He also suggested me to get the top score if possible as he wants me to take care of his business. Besides, he hinted for a surprise too. I did not know what the surprise would be but I studied hard. I studied for about 12 hours in a day. Finally, I was able to grab the success. On the day of result publication, I came to know about my success. One of my mates informed about the score while I was on the way top university. I informed the issue to my dad. He asked to return home quick to receive the surprise.\\r\\n\\r\\nBut I cannot reach home early. I made late. It was my buddies who did not let me leave the university early. I had to pass about two hours with them and entertained at a restaurant for my success. In fact, they all loved me much and wanted to celebrate my success. So, I failed to defy their requests. Finally, I reached home at around 4.30pm. My dad was standing on the porch and the brand new car was expecting its young rider. Dad handed me over the keys and said that the car was the surprise. My mum was standing aside and her face was shining with joy for my grand success. Dad was happy too.\n",
      "country    USA                                                                                                                                                                                                                                                                                                                                                                                                                                                                                                                                                                                                                                                                                                                                                                                                                                                                                                                                                                                                                                                                                                                                                                                                                                                                                                                                                                                                                                                  \n",
      "Name: 73200, dtype: object\n",
      "text       My dad present me a Luxurious car on my birthday.\n",
      "country    IND                                              \n",
      "Name: 73259, dtype: object\n",
      "text       I signed up for driving school even though I have social anxiety and my mother agreed that she would help me pay for a car when I get my license even though I've moved out of the house and am 22 years old. \n",
      "country    USA                                                                                                                                                                                                           \n",
      "Name: 75260, dtype: object\n",
      "text       The event that made me very happy was when I was finishing up a car that me and my father had worked on since I was a child.\n",
      "country    USA                                                                                                                         \n",
      "Name: 76396, dtype: object\n",
      "text       My father stopped by and told me that he will clean my car for me, and try to give the battery a jump.\n",
      "country    USA                                                                                                   \n",
      "Name: 76862, dtype: object\n",
      "text       I have been driving around a 1995 year old car since I was in High School and it has been a love and hate relationship with my car due to the issues that keep arising. So when I came home last week, I couldn't believe my eyes when I saw one of the many dream cars I wish to own, was sitting in my driveway. My father and I never hug or show any affection to each other aside from laughter and smiles, but I was speechless and so I hugged him twice that night and I could tell he was smiling behind me. \n",
      "country    USA                                                                                                                                                                                                                                                                                                                                                                                                                                                                                                                   \n",
      "Name: 77419, dtype: object\n",
      "text       I have been driving around a 1995 year old car since I was in High School and it has been a love and hate relationship with my car due to the issues that keep arising. So when I came home last week, I couldn't believe my eyes when I saw one of the many dream cars I wish to own, was sitting in my driveway. My father and I never hug or show any affection to each other aside from laughter and smiles, but I was speechless and so I hugged him twice that night and I could tell he was smiling behind me. \n",
      "country    USA                                                                                                                                                                                                                                                                                                                                                                                                                                                                                                                   \n",
      "Name: 77419, dtype: object\n",
      "text       I have been driving around a 1995 year old car since I was in High School and it has been a love and hate relationship with my car due to the issues that keep arising. So when I came home last week, I couldn't believe my eyes when I saw one of the many dream cars I wish to own, was sitting in my driveway. My father and I never hug or show any affection to each other aside from laughter and smiles, but I was speechless and so I hugged him twice that night and I could tell he was smiling behind me. \n",
      "country    USA                                                                                                                                                                                                                                                                                                                                                                                                                                                                                                                   \n",
      "Name: 77419, dtype: object\n",
      "text       my father give a new car for my promotion.my family members also feel very proud and happy about my promotion .it gives lot of happy moment in my life.my co workers also very encouraging myself.it is my biggest happy moment in my life.\n",
      "country    USA                                                                                                                                                                                                                                        \n",
      "Name: 80209, dtype: object\n",
      "text       About one month ago, my father offered to service my car at his expense while I was struggling financially.\n",
      "country    USA                                                                                                        \n",
      "Name: 80508, dtype: object\n",
      "text       Finding out I was not evicted. My fiance and I have been having financial difficulties and my mom was kind enough to send us money to keep us a float for a while. I thought we were going to be homeless and living out of my car for a while. \n",
      "country    USA                                                                                                                                                                                                                                             \n",
      "Name: 81038, dtype: object\n",
      "text       In April 12, 2017 when my family planned to go for a vacation we decided to go for some hill station on the way to our journey we found two old aged people standing not to know where to go suddenly we stopped the car we enquired about their where about and we came to know that their children throw them away from home we really shocked already I lost my mother and I was yearning to get one immediately I asked the old woman can you be mother to me immediately the old lady started to cry the cry filled with happiness and my whole family felt extreme happiness.\n",
      "country    USA                                                                                                                                                                                                                                                                                                                                                                                                                                                                                                                                                                                \n",
      "Name: 83595, dtype: object\n",
      "text       My mother purchased a brand new car.  I will be driving this car. \n",
      "country    USA                                                               \n",
      "Name: 83992, dtype: object\n",
      "text       My mother purchased a brand new car.  I will be driving this car. \n",
      "country    USA                                                               \n",
      "Name: 83992, dtype: object\n",
      "text       Summer vacation. It was a long journey to Ooty from Delhi, but we thoroughly enjoyed it. We reached Mettupalayam by train. From there we took another train for Wellington. This journey, in the little mountain railway, was quite exhilarating and unforgettable.\\r\\n\\r\\n\\r\\nDuring the journey we saw breath-taking scenes of Nigeria hills and forests. There were my maternal uncle, aunt, their little daughter Jasmine and 2 attendants to receive us at the station. We were overjoyed to see and meet one another.\\r\\n\\r\\nThe following day, and then on the week-end, we visited Ooty. On both these visits we enjoyed the beauty, freshness, food walking, horse-riding and excursions. Situated at the height of 2,286 meters on Nigeria hills, Ooty is a very popular and famous hill resort of South India. It is in the state of Tamil Nadu. Full of rich tourist- activities and possibilities round the year, Ooty was discovered in 1819 by the then collector of Combater, an Englishman, Mr. John Sullivan. He constructed his summer residence there. He was the first man to do so. He was soon followed by numerous other Englishmen. It then became the summer seat of Provincial Government of Madras.\\r\\nThe temperate coolness attracts a large crowd of people from nearby areas, provinces and distant parts of the country. Originally it belonged to the Toads, a hill tribe which still lives in the Nigeria Hills. This \"Queen of the Hill Stations\" is full of nice outdoor activities like hiking, boating, fishing, horse-riding, long walks, excursions and shopping. There is a big and wonderful botanical garden in the very heart of the town. It has more than 600 varieties of exotic plants and trees. We visited the botanical garden and then enjoyed boating in the lake.\\r\\n\\r\\nWe went to Deadbeats Peak in our uncle's car. From there we had an excellent panoramic view of the plains below. Is the highest point and boasts the height of 2,638 meters. There is also a telescope for the viewing pleasure of the tourists. We also visited and immensely enjoyed the nearby Sam's Park, a nice picnic spot full of many varieties of plants, trees, herbs and a fine pool full of lilies.\\r\\n\\r\\nThe shopping in the small but colorful market of the town is an unforgettable experience. Mother bought a few silk saris', spices and some other items as gifts for our friends and relations. I bought some special tea and items of woodcraft. Ooty, overlooking blue hills and lush green valleys, is a very pleasant place and tourist resort. There was a big crowd of Indian and foreign tourists.\\r\\n\\r\\nWe also visited nearby Connor, a small but colorful town amidst sprawling tea gardens. We thoroughly enjoyed our visit to this still station. We also exposed a number of films to capture beautiful and natural scenes, events and memorable moments. These photographs will help us to keep our joy and memories of the place ever new and fresh.\n",
      "country    USA                                                                                                                                                                                                                                                                                                                                                                                                                                                                                                                                                                                                                                                                                                                                                                                                                                                                                                                                                                                                                                                                                                                                                                                                                                                                                                                                                                                                                                                                                                                                                                                                                                                                                                                                                                                                                                                                                                                                                                                                                                                                                                                                                                                                                                                                                                                                                                                                                                                                                                                                                                                                                                                                                                                                                                                                                                                                                                                                                                                                                       \n",
      "Name: 84890, dtype: object\n",
      "text       My mother paid my car off.\n",
      "country    USA                       \n",
      "Name: 86307, dtype: object\n",
      "text       Last week I locked my keys in the car at a rest stop in a remote area near a Marine Corps base and AAA reported they would be there in 45 minutes, but actually came in 10 minutes. It made me feel as if my father, who was a Marine and who had passed a few years ago, was looking out for me.\\r\\n\\r\\n\n",
      "country    USA                                                                                                                                                                                                                                                                                                      \n",
      "Name: 86510, dtype: object\n",
      "text       On April 26th, my mom sent me a text message saying my papaw had called her and asked her if I would be interested in one of his cars. It wasn't a perfect car but it was a reliable van that he has had for over 15 years. I was thrilled from the moment I read the message. Of course, I wanted the van. I didn't care about the rust spots or the fact it needs a couple minor repairs. It was a reliable car that would be given to me for free!! I called him and told him I would love to have the van and expressed my appreciation. He though the van would be good for  me to have since we are adding a new baby this September. \n",
      "country    USA                                                                                                                                                                                                                                                                                                                                                                                                                                                                                                                                                                                                                                         \n",
      "Name: 87012, dtype: object\n",
      "text       On April 26th, my mom sent me a text message saying my papaw had called her and asked her if I would be interested in one of his cars. It wasn't a perfect car but it was a reliable van that he has had for over 15 years. I was thrilled from the moment I read the message. Of course, I wanted the van. I didn't care about the rust spots or the fact it needs a couple minor repairs. It was a reliable car that would be given to me for free!! I called him and told him I would love to have the van and expressed my appreciation. He though the van would be good for  me to have since we are adding a new baby this September. \n",
      "country    USA                                                                                                                                                                                                                                                                                                                                                                                                                                                                                                                                                                                                                                         \n",
      "Name: 87012, dtype: object\n",
      "text       On April 26th, my mom sent me a text message saying my papaw had called her and asked her if I would be interested in one of his cars. It wasn't a perfect car but it was a reliable van that he has had for over 15 years. I was thrilled from the moment I read the message. Of course, I wanted the van. I didn't care about the rust spots or the fact it needs a couple minor repairs. It was a reliable car that would be given to me for free!! I called him and told him I would love to have the van and expressed my appreciation. He though the van would be good for  me to have since we are adding a new baby this September. \n",
      "country    USA                                                                                                                                                                                                                                                                                                                                                                                                                                                                                                                                                                                                                                         \n",
      "Name: 87012, dtype: object\n",
      "text       I didn't have to drive four hours to get my mom from the airport because she missed her connecting flight home, she got a rental car instead. \n",
      "country    USA                                                                                                                                           \n",
      "Name: 87052, dtype: object\n",
      "text       Yesterday I took my mom shopping, and in the car we were laughing and joking about silly things and it made me happy to spend time with her. \n",
      "country    USA                                                                                                                                          \n",
      "Name: 88592, dtype: object\n",
      "text       I found $15 in my car that I didn't know I had. I was able to take my children to get some ice cream that we did not plan. It was a nice treat, and it was very enjoyable to see their faces light up. I felt like a good mom during an otherwise very hard week. \n",
      "country    USA                                                                                                                                                                                                                                                               \n",
      "Name: 89249, dtype: object\n",
      "text       My best friend is moving back to England in July. We were in the car one night at a drive-thru and she said \"my mom asked me the other day about when you were coming to visit\". It warmed my heart to know that she spoke to her mom about me, and she wanted me to come visit. So I took off days in December to go visit her.\n",
      "country    USA                                                                                                                                                                                                                                                                                                                             \n",
      "Name: 91869, dtype: object\n",
      "text       My dad fixed my car up\n",
      "country    USA                   \n",
      "Name: 92505, dtype: object\n",
      "text       I ended up getting my dream car. I always wanted a jeep wrangler and i was able to get the same one my dad had when I was a kid. Every day i feel closer to him. \n",
      "country    USA                                                                                                                                                              \n",
      "Name: 94754, dtype: object\n",
      "text       My father gifted new car for my promotion.it is for pleasant time in my life.i feel very happy about my life.i like cars so i feel very excited about my father's gift.it makes lot of happy moment in my life.my family members also feel very happy and proud  about my promotion.\n",
      "country    IND                                                                                                                                                                                                                                                                                 \n",
      "Name: 95144, dtype: object\n",
      "text       My father gifted new car for my promotion.it is for pleasant time in my life.i feel very happy about my life.i like cars so i feel very excited about my father's gift.it makes lot of happy moment in my life.my family members also feel very happy and proud  about my promotion.\n",
      "country    IND                                                                                                                                                                                                                                                                                 \n",
      "Name: 95144, dtype: object\n",
      "text       I was thrilled the day my mother signed over her car to me.  No more public transportation!\n",
      "country    USA                                                                                        \n",
      "Name: 96108, dtype: object\n",
      "text       The pas 24hours the thing made me happy is when I ride my Big bike. Why because every time I ride my bike I feel the freedom that car cant give me .\n",
      "country    USA                                                                                                                                                 \n",
      "Name: 97627, dtype: object\n",
      "text       Having a conversation in the car about what a rap song actually says with my mother. She mistook the 'bad and bougie' lyric for 'bad and bushy'. She exclaimed \"what are they Bigfoot?!\" And I cackled because of course she would say that because she's super into Bigfoot and and squashing and has all the Sasquatch accoutrements. And in that moment I was just so happy to have her there with me after not having seen her for about 5 years since I had gone to college and that now after having graduated I could spend so much more time with her. It was just a very small, simple and delightful moment. I also laughed so hard I cried. Now every time I hear that song we just agree that the lyrics are bad and bushy.\n",
      "country    USA                                                                                                                                                                                                                                                                                                                                                                                                                                                                                                                                                                                                                                                                                                                                    \n"
     ]
    },
    {
     "name": "stdout",
     "output_type": "stream",
     "text": [
      "Name: 98311, dtype: object\n"
     ]
    }
   ],
   "source": [
    "# Exploring one of the top words mentioned in relation to fathers: presented\n",
    "counter = 0\n",
    "for row in df_mother_father['text_cleaned']:\n",
    "    wordList = re.sub(\"[^\\w]\", \" \",  row).split()\n",
    "    for word in wordList:\n",
    "        if word == 'car':\n",
    "            print(df_mother_father.iloc[counter][['text', 'country']])\n",
    "    counter += 1\n",
    "\n",
    "# Dad giving car as gift."
   ]
  },
  {
   "cell_type": "code",
   "execution_count": null,
   "metadata": {},
   "outputs": [],
   "source": []
  }
 ],
 "metadata": {
  "kernelspec": {
   "display_name": "Python 3",
   "language": "python",
   "name": "python3"
  },
  "language_info": {
   "codemirror_mode": {
    "name": "ipython",
    "version": 3
   },
   "file_extension": ".py",
   "mimetype": "text/x-python",
   "name": "python",
   "nbconvert_exporter": "python",
   "pygments_lexer": "ipython3",
   "version": "3.6.8"
  },
  "toc": {
   "base_numbering": 1,
   "nav_menu": {},
   "number_sections": true,
   "sideBar": true,
   "skip_h1_title": false,
   "title_cell": "Table of Contents",
   "title_sidebar": "Contents",
   "toc_cell": false,
   "toc_position": {},
   "toc_section_display": true,
   "toc_window_display": true
  },
  "varInspector": {
   "cols": {
    "lenName": 16,
    "lenType": 16,
    "lenVar": 40
   },
   "kernels_config": {
    "python": {
     "delete_cmd_postfix": "",
     "delete_cmd_prefix": "del ",
     "library": "var_list.py",
     "varRefreshCmd": "print(var_dic_list())"
    },
    "r": {
     "delete_cmd_postfix": ") ",
     "delete_cmd_prefix": "rm(",
     "library": "var_list.r",
     "varRefreshCmd": "cat(var_dic_list()) "
    }
   },
   "types_to_exclude": [
    "module",
    "function",
    "builtin_function_or_method",
    "instance",
    "_Feature"
   ],
   "window_display": false
  }
 },
 "nbformat": 4,
 "nbformat_minor": 2
}
