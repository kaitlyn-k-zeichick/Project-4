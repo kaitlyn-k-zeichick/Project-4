{
 "cells": [
  {
   "cell_type": "markdown",
   "metadata": {},
   "source": [
    "# Import Data"
   ]
  },
  {
   "cell_type": "code",
   "execution_count": 2,
   "metadata": {
    "ExecuteTime": {
     "end_time": "2021-02-24T23:16:38.934397Z",
     "start_time": "2021-02-24T23:16:37.477104Z"
    }
   },
   "outputs": [],
   "source": [
    "import pandas as pd\n",
    "import numpy as np\n",
    "import matplotlib.pyplot as plt\n",
    "import seaborn as sns"
   ]
  },
  {
   "cell_type": "code",
   "execution_count": 3,
   "metadata": {
    "ExecuteTime": {
     "end_time": "2021-02-24T23:16:39.724027Z",
     "start_time": "2021-02-24T23:16:38.950964Z"
    },
    "scrolled": true
   },
   "outputs": [
    {
     "data": {
      "text/html": [
       "<div>\n",
       "<style scoped>\n",
       "    .dataframe tbody tr th:only-of-type {\n",
       "        vertical-align: middle;\n",
       "    }\n",
       "\n",
       "    .dataframe tbody tr th {\n",
       "        vertical-align: top;\n",
       "    }\n",
       "\n",
       "    .dataframe thead th {\n",
       "        text-align: right;\n",
       "    }\n",
       "</style>\n",
       "<table border=\"1\" class=\"dataframe\">\n",
       "  <thead>\n",
       "    <tr style=\"text-align: right;\">\n",
       "      <th></th>\n",
       "      <th>Unnamed: 0</th>\n",
       "      <th>Unnamed: 0.1</th>\n",
       "      <th>Unnamed: 0.1.1</th>\n",
       "      <th>wid</th>\n",
       "      <th>age</th>\n",
       "      <th>country</th>\n",
       "      <th>gender</th>\n",
       "      <th>marital</th>\n",
       "      <th>parenthood</th>\n",
       "      <th>reflection_period</th>\n",
       "      <th>...</th>\n",
       "      <th>text_cleaned</th>\n",
       "      <th>verbs</th>\n",
       "      <th>nouns</th>\n",
       "      <th>proto_agent</th>\n",
       "      <th>passive_agent</th>\n",
       "      <th>root_verb</th>\n",
       "      <th>direct_object</th>\n",
       "      <th>parenthood_cat</th>\n",
       "      <th>gender_cat</th>\n",
       "      <th>marital_cat</th>\n",
       "    </tr>\n",
       "  </thead>\n",
       "  <tbody>\n",
       "    <tr>\n",
       "      <th>0</th>\n",
       "      <td>0</td>\n",
       "      <td>0</td>\n",
       "      <td>0</td>\n",
       "      <td>1</td>\n",
       "      <td>37</td>\n",
       "      <td>USA</td>\n",
       "      <td>m</td>\n",
       "      <td>married</td>\n",
       "      <td>y</td>\n",
       "      <td>24h</td>\n",
       "      <td>...</td>\n",
       "      <td>['wife', 'celebrating', 'year', 'anniversary',...</td>\n",
       "      <td>[celebrating]</td>\n",
       "      <td>[wife, year, anniversary, today]</td>\n",
       "      <td>[wife]</td>\n",
       "      <td>[]</td>\n",
       "      <td>[celebrating]</td>\n",
       "      <td>[anniversary]</td>\n",
       "      <td>1</td>\n",
       "      <td>1</td>\n",
       "      <td>1</td>\n",
       "    </tr>\n",
       "    <tr>\n",
       "      <th>1</th>\n",
       "      <td>1</td>\n",
       "      <td>1</td>\n",
       "      <td>1</td>\n",
       "      <td>1</td>\n",
       "      <td>37</td>\n",
       "      <td>USA</td>\n",
       "      <td>m</td>\n",
       "      <td>married</td>\n",
       "      <td>y</td>\n",
       "      <td>24h</td>\n",
       "      <td>...</td>\n",
       "      <td>['mother', 'called', 'blue', 'tell', 'proud']</td>\n",
       "      <td>[called, tell]</td>\n",
       "      <td>[mother, blue]</td>\n",
       "      <td>[mother, she]</td>\n",
       "      <td>[]</td>\n",
       "      <td>[called]</td>\n",
       "      <td>[me]</td>\n",
       "      <td>1</td>\n",
       "      <td>1</td>\n",
       "      <td>1</td>\n",
       "    </tr>\n",
       "    <tr>\n",
       "      <th>2</th>\n",
       "      <td>2</td>\n",
       "      <td>2</td>\n",
       "      <td>2</td>\n",
       "      <td>1</td>\n",
       "      <td>37</td>\n",
       "      <td>USA</td>\n",
       "      <td>m</td>\n",
       "      <td>married</td>\n",
       "      <td>y</td>\n",
       "      <td>24h</td>\n",
       "      <td>...</td>\n",
       "      <td>['today', 'took', 'day', 'time', 'job', 'brunc...</td>\n",
       "      <td>[took, go, have]</td>\n",
       "      <td>[Today, day, part, time, job, brunch, date, wife]</td>\n",
       "      <td>[i]</td>\n",
       "      <td>[]</td>\n",
       "      <td>[took]</td>\n",
       "      <td>[day, date]</td>\n",
       "      <td>1</td>\n",
       "      <td>1</td>\n",
       "      <td>1</td>\n",
       "    </tr>\n",
       "    <tr>\n",
       "      <th>3</th>\n",
       "      <td>3</td>\n",
       "      <td>3</td>\n",
       "      <td>3</td>\n",
       "      <td>1</td>\n",
       "      <td>37</td>\n",
       "      <td>USA</td>\n",
       "      <td>m</td>\n",
       "      <td>married</td>\n",
       "      <td>y</td>\n",
       "      <td>24h</td>\n",
       "      <td>...</td>\n",
       "      <td>['just', 'got', 'bonus', 'mturk', 'task']</td>\n",
       "      <td>[got]</td>\n",
       "      <td>[bonus, mturk, task]</td>\n",
       "      <td>[I]</td>\n",
       "      <td>[]</td>\n",
       "      <td>[got]</td>\n",
       "      <td>[bonus]</td>\n",
       "      <td>1</td>\n",
       "      <td>1</td>\n",
       "      <td>1</td>\n",
       "    </tr>\n",
       "    <tr>\n",
       "      <th>4</th>\n",
       "      <td>4</td>\n",
       "      <td>4</td>\n",
       "      <td>4</td>\n",
       "      <td>1</td>\n",
       "      <td>37</td>\n",
       "      <td>USA</td>\n",
       "      <td>m</td>\n",
       "      <td>married</td>\n",
       "      <td>y</td>\n",
       "      <td>24h</td>\n",
       "      <td>...</td>\n",
       "      <td>['wife', 'cooked', 'surprise', 'dinner', 'work']</td>\n",
       "      <td>[cooked, take, work]</td>\n",
       "      <td>[wife, surprise, dinner]</td>\n",
       "      <td>[wife]</td>\n",
       "      <td>[]</td>\n",
       "      <td>[cooked]</td>\n",
       "      <td>[dinner]</td>\n",
       "      <td>1</td>\n",
       "      <td>1</td>\n",
       "      <td>1</td>\n",
       "    </tr>\n",
       "  </tbody>\n",
       "</table>\n",
       "<p>5 rows × 21 columns</p>\n",
       "</div>"
      ],
      "text/plain": [
       "   Unnamed: 0  Unnamed: 0.1  Unnamed: 0.1.1  wid  age country gender  marital  \\\n",
       "0           0             0               0    1   37     USA      m  married   \n",
       "1           1             1               1    1   37     USA      m  married   \n",
       "2           2             2               2    1   37     USA      m  married   \n",
       "3           3             3               3    1   37     USA      m  married   \n",
       "4           4             4               4    1   37     USA      m  married   \n",
       "\n",
       "  parenthood reflection_period  ...  \\\n",
       "0          y               24h  ...   \n",
       "1          y               24h  ...   \n",
       "2          y               24h  ...   \n",
       "3          y               24h  ...   \n",
       "4          y               24h  ...   \n",
       "\n",
       "                                        text_cleaned                 verbs  \\\n",
       "0  ['wife', 'celebrating', 'year', 'anniversary',...         [celebrating]   \n",
       "1      ['mother', 'called', 'blue', 'tell', 'proud']        [called, tell]   \n",
       "2  ['today', 'took', 'day', 'time', 'job', 'brunc...      [took, go, have]   \n",
       "3          ['just', 'got', 'bonus', 'mturk', 'task']                 [got]   \n",
       "4   ['wife', 'cooked', 'surprise', 'dinner', 'work']  [cooked, take, work]   \n",
       "\n",
       "                                               nouns    proto_agent  \\\n",
       "0                   [wife, year, anniversary, today]         [wife]   \n",
       "1                                     [mother, blue]  [mother, she]   \n",
       "2  [Today, day, part, time, job, brunch, date, wife]            [i]   \n",
       "3                               [bonus, mturk, task]            [I]   \n",
       "4                           [wife, surprise, dinner]         [wife]   \n",
       "\n",
       "  passive_agent      root_verb  direct_object parenthood_cat  gender_cat  \\\n",
       "0            []  [celebrating]  [anniversary]              1           1   \n",
       "1            []       [called]           [me]              1           1   \n",
       "2            []         [took]    [day, date]              1           1   \n",
       "3            []          [got]        [bonus]              1           1   \n",
       "4            []       [cooked]       [dinner]              1           1   \n",
       "\n",
       "   marital_cat  \n",
       "0            1  \n",
       "1            1  \n",
       "2            1  \n",
       "3            1  \n",
       "4            1  \n",
       "\n",
       "[5 rows x 21 columns]"
      ]
     },
     "execution_count": 3,
     "metadata": {},
     "output_type": "execute_result"
    }
   ],
   "source": [
    "df = pd.read_csv('cleaned_dataset.csv')\n",
    "df.head()"
   ]
  },
  {
   "cell_type": "markdown",
   "metadata": {},
   "source": [
    "# Feature Variables"
   ]
  },
  {
   "cell_type": "markdown",
   "metadata": {},
   "source": [
    "## Age"
   ]
  },
  {
   "cell_type": "code",
   "execution_count": 10,
   "metadata": {
    "ExecuteTime": {
     "end_time": "2021-02-18T21:32:48.929320Z",
     "start_time": "2021-02-18T21:32:48.878371Z"
    },
    "scrolled": true
   },
   "outputs": [
    {
     "name": "stdout",
     "output_type": "stream",
     "text": [
      "29.0    6176\n",
      "26.0    6145\n",
      "25.0    6019\n",
      "30.0    5791\n",
      "28.0    5751\n",
      "        ... \n",
      "81.0       3\n",
      "98.0       3\n",
      "95.0       3\n",
      "78.0       3\n",
      "84.0       3\n",
      "Name: age, Length: 69, dtype: int64\n",
      "Null values:  0\n"
     ]
    },
    {
     "data": {
      "text/plain": [
       "array([37., 29., 25., 32., 35., 34., 61., 27., 45., 30., 40., 31., 28.,\n",
       "       36., 44., 23., 26., 42., 41., 57., 24., 38., 43., 48., 53., 46.,\n",
       "       54., 65., 59., 22., 47., 39., 21., 33., 55., 69., 68., 20., 49.,\n",
       "       56., 62., 70., 83., 74., 51., 19., 52., 66., 58., 18., 60., 50.,\n",
       "       72., 63., 67., 64., 77., 98., 73., 79., 80., 84., 88., 71., 75.,\n",
       "       76., 95., 81., 78.])"
      ]
     },
     "execution_count": 10,
     "metadata": {},
     "output_type": "execute_result"
    }
   ],
   "source": [
    "print(df['age'].value_counts())\n",
    "print('Null values: ', df['age'].isnull().sum())\n",
    "df['age'].unique()"
   ]
  },
  {
   "cell_type": "code",
   "execution_count": 8,
   "metadata": {
    "ExecuteTime": {
     "end_time": "2021-02-18T20:00:20.920508Z",
     "start_time": "2021-02-18T20:00:20.595276Z"
    }
   },
   "outputs": [
    {
     "data": {
      "image/png": "[encoded data removed]",
      "text/plain": [
       "<Figure size 1080x432 with 1 Axes>"
      ]
     },
     "metadata": {},
     "output_type": "display_data"
    }
   ],
   "source": [
    "age18_25 = df.age[(df.age <= 25) & (df.age >= 18)]\n",
    "age26_35 = df.age[(df.age <= 35) & (df.age >= 26)]\n",
    "age36_45 = df.age[(df.age <= 45) & (df.age >= 36)]\n",
    "age46_55 = df.age[(df.age <= 55) & (df.age >= 46)]\n",
    "age55above = df.age[df.age >= 56]\n",
    "\n",
    "x = [\"18-25\",\"26-35\",\"36-45\",\"46-55\",\"55+\"]\n",
    "y = [len(age18_25.values),len(age26_35.values),len(age36_45.values),len(age46_55.values),len(age55above.values)]\n",
    "\n",
    "plt.figure(figsize=(15,6))\n",
    "sns.barplot(x=x, y=y, palette=\"rocket\")\n",
    "plt.title(\"Number of People by Age\")\n",
    "plt.xlabel(\"Ages\")\n",
    "plt.ylabel(\"Number of People\")\n",
    "plt.show()"
   ]
  },
  {
   "cell_type": "markdown",
   "metadata": {},
   "source": [
    "## Gender"
   ]
  },
  {
   "cell_type": "code",
   "execution_count": 29,
   "metadata": {
    "ExecuteTime": {
     "end_time": "2021-02-25T19:56:35.099649Z",
     "start_time": "2021-02-25T19:56:34.799979Z"
    },
    "scrolled": true
   },
   "outputs": [
    {
     "data": {
      "image/png": "[encoded data removed]",
      "text/plain": [
       "<Figure size 576x432 with 1 Axes>"
      ]
     },
     "metadata": {},
     "output_type": "display_data"
    }
   ],
   "source": [
    "male = df[df['gender'] == 'm']\n",
    "female = df[df['gender'] == 'f']\n",
    "other = df[df['gender'] == 'o']\n",
    "\n",
    "x = ['male', 'female', 'other']\n",
    "y = [len(male.values),len(female.values),len(other.values)]\n",
    "\n",
    "plt.figure(figsize=(8,6))\n",
    "sns.barplot(x=x, y=y, palette=\"rocket\")\n",
    "plt.title(\"Number of People by Gender\")\n",
    "plt.xlabel(\"Gender\")\n",
    "plt.ylabel(\"Number of People\")\n",
    "plt.show()"
   ]
  },
  {
   "cell_type": "markdown",
   "metadata": {},
   "source": [
    "## Countries"
   ]
  },
  {
   "cell_type": "code",
   "execution_count": 7,
   "metadata": {
    "ExecuteTime": {
     "end_time": "2021-02-24T23:17:00.893002Z",
     "start_time": "2021-02-24T23:17:00.867489Z"
    },
    "scrolled": true
   },
   "outputs": [
    {
     "name": "stdout",
     "output_type": "stream",
     "text": [
      "USA    78725\n",
      "IND    16630\n",
      "VEN      588\n",
      "CAN      549\n",
      "GBR      358\n",
      "       ...  \n",
      "CYP        3\n",
      "ECU        3\n",
      "NOR        3\n",
      "SUR        3\n",
      "ETH        3\n",
      "Name: country, Length: 100, dtype: int64\n",
      "Null values:  0\n"
     ]
    },
    {
     "data": {
      "text/plain": [
       "array(['USA', 'IND', 'VNM', 'THA', 'GBR', 'SRB', 'BGR', 'BRA', 'BGD',\n",
       "       'CAN', 'PRT', 'PHL', 'VEN', 'MKD', 'DOM', 'DNK', 'IDN', 'AUS',\n",
       "       'URY', 'JAM', 'EGY', 'DEU', 'KEN', 'MDA', 'IRL', 'NGA', 'ALB',\n",
       "       'MEX', 'TTO', 'KWT', 'RUS', 'LTU', 'PRI', 'SWE', 'PER', 'PAK',\n",
       "       'TUR', 'FRA', 'ARE', 'COL', 'GRC', 'ROU', 'ARM', 'MAC', 'SGP',\n",
       "       'UGA', 'POL', 'NIC', 'JPN', 'ESP', 'TWN', 'FIN', 'ITA', 'GHA',\n",
       "       'AUT', 'NPL', 'NZL', 'NLD', 'KOR', 'LKA', 'KNA', 'ZAF', 'BEL',\n",
       "       'ISL', 'DZA', 'AFG', 'GMB', 'ASM', 'MYS', 'CZE', 'MLT', 'SVN',\n",
       "       'UMI', 'ARG', 'SAU', 'EST', 'ECU', 'ZMB', 'CHL', 'MAR', 'ISR',\n",
       "       'LVA', 'KAZ', 'NOR', 'CRI', 'BRB', 'HRV', 'ETH', 'TCA', 'BHS',\n",
       "       'VIR', 'GTM', 'IRQ', 'HKG', 'MUS', 'TUN', 'SUR', 'SLV', 'CYP',\n",
       "       'UKR'], dtype=object)"
      ]
     },
     "execution_count": 7,
     "metadata": {},
     "output_type": "execute_result"
    }
   ],
   "source": [
    "print(df['country'].value_counts())\n",
    "print('Null values: ', df['country'].isnull().sum())\n",
    "df['country'].unique()"
   ]
  },
  {
   "cell_type": "code",
   "execution_count": 10,
   "metadata": {
    "ExecuteTime": {
     "end_time": "2021-02-25T00:10:59.367013Z",
     "start_time": "2021-02-25T00:10:57.740049Z"
    }
   },
   "outputs": [
    {
     "name": "stderr",
     "output_type": "stream",
     "text": [
      "/Users/kaitlynzeichick/anaconda3/lib/python3.6/site-packages/seaborn/_decorators.py:43: FutureWarning: Pass the following variables as keyword args: x, y. From version 0.12, the only valid positional argument will be `data`, and passing other arguments without an explicit keyword will result in an error or misinterpretation.\n",
      "  FutureWarning\n"
     ]
    },
    {
     "data": {
      "image/png": "[encoded data removed]",
      "text/plain": [
       "<Figure size 3600x432 with 1 Axes>"
      ]
     },
     "metadata": {},
     "output_type": "display_data"
    }
   ],
   "source": [
    "country_series = df['country'].value_counts()\n",
    "\n",
    "x = country_series.index\n",
    "y = country_series.values\n",
    "\n",
    "plt.figure(figsize=(50,6))\n",
    "sns.barplot(x, y, palette=\"rocket\")\n",
    "plt.title(\"Number of responses by country\")\n",
    "plt.xlabel(\"Country\")\n",
    "plt.ylabel(\"Number of People\")\n",
    "plt.show()"
   ]
  },
  {
   "cell_type": "markdown",
   "metadata": {
    "ExecuteTime": {
     "end_time": "2021-02-25T00:11:59.042875Z",
     "start_time": "2021-02-25T00:11:59.034535Z"
    }
   },
   "source": [
    "USA: United States\n",
    "\n",
    "IND: India\n",
    "\n",
    "VEN: Venezuela\n",
    "\n",
    "CAN: Canada\n",
    "\n",
    "GBR: United Kingdom\n",
    "\n",
    "PHL: Philippines\n",
    "\n",
    "MEX: Mexico\n",
    "\n",
    "VNM: Vietnam\n",
    "\n",
    "BRA: Brazil\n",
    "\n",
    "AUS: Australia\n",
    "\n",
    "MKD: North Macedonia\n",
    "\n",
    "SRB: Serbia\n",
    "\n",
    "IDN: Indonesia\n",
    "\n",
    "THA: Thailand\n",
    "\n",
    "DEU: Germany\n",
    "\n",
    "PRT: Portugal\n",
    "\n",
    "NGA: Nigeria\n",
    "...\n"
   ]
  },
  {
   "cell_type": "code",
   "execution_count": 14,
   "metadata": {
    "ExecuteTime": {
     "end_time": "2021-02-25T00:19:44.773855Z",
     "start_time": "2021-02-25T00:19:44.754715Z"
    }
   },
   "outputs": [],
   "source": [
    "df['country_bucket'] = [country for country in df['country']]"
   ]
  },
  {
   "cell_type": "code",
   "execution_count": 17,
   "metadata": {
    "ExecuteTime": {
     "end_time": "2021-02-25T00:25:40.753557Z",
     "start_time": "2021-02-25T00:25:40.698680Z"
    }
   },
   "outputs": [],
   "source": [
    "# Label each country as 'USA', 'IND' or 'Other'\n",
    "allowed_vars = ['USA', 'IND']\n",
    "df.loc[~df['country_bucket'].isin(allowed_vars), 'country_bucket'] = 'Other'"
   ]
  },
  {
   "cell_type": "code",
   "execution_count": 24,
   "metadata": {
    "ExecuteTime": {
     "end_time": "2021-02-25T00:26:51.981199Z",
     "start_time": "2021-02-25T00:26:51.954683Z"
    }
   },
   "outputs": [
    {
     "name": "stdout",
     "output_type": "stream",
     "text": [
      "USA      78725\n",
      "IND      16630\n",
      "Other     4517\n",
      "Name: country_bucket, dtype: int64\n"
     ]
    },
    {
     "data": {
      "text/plain": [
       "array(['USA', 'IND', 'Other'], dtype=object)"
      ]
     },
     "execution_count": 24,
     "metadata": {},
     "output_type": "execute_result"
    }
   ],
   "source": [
    "print(df['country_bucket'].value_counts())\n",
    "df['country_bucket'].unique()"
   ]
  },
  {
   "cell_type": "code",
   "execution_count": 34,
   "metadata": {
    "ExecuteTime": {
     "end_time": "2021-02-25T20:19:12.656207Z",
     "start_time": "2021-02-25T20:19:12.425167Z"
    }
   },
   "outputs": [
    {
     "name": "stderr",
     "output_type": "stream",
     "text": [
      "/Users/kaitlynzeichick/anaconda3/lib/python3.6/site-packages/seaborn/_decorators.py:43: FutureWarning: Pass the following variables as keyword args: x, y. From version 0.12, the only valid positional argument will be `data`, and passing other arguments without an explicit keyword will result in an error or misinterpretation.\n",
      "  FutureWarning\n"
     ]
    },
    {
     "data": {
      "image/png": "[encoded data removed]",
      "text/plain": [
       "<Figure size 720x432 with 1 Axes>"
      ]
     },
     "metadata": {},
     "output_type": "display_data"
    }
   ],
   "source": [
    "country_series = df['country_bucket'].value_counts()\n",
    "\n",
    "x = country_series.index\n",
    "y = country_series.values\n",
    "\n",
    "plt.figure(figsize=(10,6))\n",
    "sns.barplot(x, y, palette=\"rocket\")\n",
    "plt.title(\"Number of responses by country\")\n",
    "plt.xlabel(\"Country\")\n",
    "plt.ylabel(\"Number of People\")\n",
    "plt.show()"
   ]
  },
  {
   "cell_type": "markdown",
   "metadata": {},
   "source": [
    "# Combinations of Features"
   ]
  },
  {
   "cell_type": "markdown",
   "metadata": {},
   "source": [
    "## Marital"
   ]
  },
  {
   "cell_type": "code",
   "execution_count": 5,
   "metadata": {
    "ExecuteTime": {
     "end_time": "2021-02-22T22:39:14.444289Z",
     "start_time": "2021-02-22T22:39:14.417396Z"
    },
    "scrolled": true
   },
   "outputs": [
    {
     "name": "stdout",
     "output_type": "stream",
     "text": [
      "single       53839\n",
      "married      41149\n",
      "divorced      3770\n",
      "separated      646\n",
      "widowed        468\n",
      "Name: marital, dtype: int64\n",
      "Null values:  0\n"
     ]
    }
   ],
   "source": [
    "print(df['marital'].value_counts())\n",
    "print('Null values: ', df['marital'].isnull().sum())"
   ]
  },
  {
   "cell_type": "code",
   "execution_count": 31,
   "metadata": {
    "ExecuteTime": {
     "end_time": "2021-02-25T20:15:44.825885Z",
     "start_time": "2021-02-25T20:15:44.471770Z"
    }
   },
   "outputs": [
    {
     "data": {
      "image/png": "[encoded data removed]",
      "text/plain": [
       "<Figure size 720x432 with 1 Axes>"
      ]
     },
     "metadata": {},
     "output_type": "display_data"
    }
   ],
   "source": [
    "single = df[df['marital'] == 'single']\n",
    "married = df[df['marital'] == 'married']\n",
    "divorced = df[df['marital'] == 'divorced']\n",
    "separated = df[df['marital'] == 'separated']\n",
    "widowed = df[df['marital'] == 'widowed']\n",
    "\n",
    "x = ['single', 'married', 'divorced', 'separated', 'widowed']\n",
    "y = [len(single.values),len(married.values),len(divorced.values),len(separated.values),len(widowed.values)]\n",
    "\n",
    "plt.figure(figsize=(10,6))\n",
    "sns.barplot(x=x, y=y, palette=\"rocket\")\n",
    "plt.title(\"Number of People by Marital Status\")\n",
    "plt.xlabel(\"Marital Status\")\n",
    "plt.ylabel(\"Number of People\")\n",
    "plt.show()"
   ]
  },
  {
   "cell_type": "markdown",
   "metadata": {},
   "source": [
    "## Parenthood"
   ]
  },
  {
   "cell_type": "code",
   "execution_count": 8,
   "metadata": {
    "ExecuteTime": {
     "end_time": "2021-02-22T22:41:54.809273Z",
     "start_time": "2021-02-22T22:41:54.785877Z"
    },
    "scrolled": true
   },
   "outputs": [
    {
     "name": "stdout",
     "output_type": "stream",
     "text": [
      "n    60605\n",
      "y    39267\n",
      "Name: parenthood, dtype: int64\n",
      "Null values:  0\n"
     ]
    }
   ],
   "source": [
    "print(df['parenthood'].value_counts())\n",
    "print('Null values: ', df['parenthood'].isnull().sum())"
   ]
  },
  {
   "cell_type": "code",
   "execution_count": 32,
   "metadata": {
    "ExecuteTime": {
     "end_time": "2021-02-25T20:16:41.815126Z",
     "start_time": "2021-02-25T20:16:41.504492Z"
    }
   },
   "outputs": [
    {
     "data": {
      "image/png": "[encoded data removed]",
      "text/plain": [
       "<Figure size 720x432 with 1 Axes>"
      ]
     },
     "metadata": {},
     "output_type": "display_data"
    }
   ],
   "source": [
    "has_kids = df[df['parenthood'] == 'y']\n",
    "no_kids = df[df['parenthood'] == 'n']\n",
    "\n",
    "x = ['Had Kids', 'No Kids']\n",
    "y = [len(has_kids.values),len(no_kids.values)]\n",
    "\n",
    "plt.figure(figsize=(10,6))\n",
    "sns.barplot(x=x, y=y, palette=\"rocket\")\n",
    "plt.title(\"Number of People by Parenthood\")\n",
    "plt.xlabel(\"Parenthood\")\n",
    "plt.ylabel(\"Number of People\")\n",
    "plt.show()"
   ]
  },
  {
   "cell_type": "markdown",
   "metadata": {},
   "source": [
    "## Moms and Dads"
   ]
  },
  {
   "cell_type": "code",
   "execution_count": 33,
   "metadata": {
    "ExecuteTime": {
     "end_time": "2021-02-25T20:18:36.668668Z",
     "start_time": "2021-02-25T20:18:36.394735Z"
    }
   },
   "outputs": [
    {
     "data": {
      "image/png": "[encoded data removed]",
      "text/plain": [
       "<Figure size 720x432 with 1 Axes>"
      ]
     },
     "metadata": {},
     "output_type": "display_data"
    }
   ],
   "source": [
    "moms = df[(df['parenthood'] == 'y') & (df['gender'] == 'f')]\n",
    "dads = df[(df['parenthood'] == 'y') & (df['gender'] == 'm')]\n",
    "agender_parent = df[(df['parenthood'] == 'y') & (df['gender'] == 'o')]\n",
    "\n",
    "\n",
    "x = ['Moms', 'Dads', 'Other Gender Parent']\n",
    "y = [len(moms.values),len(dads.values),len(agender_parent.values)]\n",
    "\n",
    "plt.figure(figsize=(10,6))\n",
    "sns.barplot(x=x, y=y, palette=\"rocket\")\n",
    "plt.title(\"Types of Parents\")\n",
    "plt.xlabel(\"Parent Type\")\n",
    "plt.ylabel(\"Number of People\")\n",
    "plt.show()"
   ]
  },
  {
   "cell_type": "markdown",
   "metadata": {},
   "source": [
    "## Marital Status and Gender"
   ]
  },
  {
   "cell_type": "code",
   "execution_count": 17,
   "metadata": {
    "ExecuteTime": {
     "end_time": "2021-02-22T22:57:00.708543Z",
     "start_time": "2021-02-22T22:57:00.094684Z"
    }
   },
   "outputs": [
    {
     "data": {
      "image/png": "[encoded data removed]",
      "text/plain": [
       "<Figure size 1440x432 with 1 Axes>"
      ]
     },
     "metadata": {},
     "output_type": "display_data"
    }
   ],
   "source": [
    "single_f = df[(df['marital'] == 'single') & (df['gender'] == 'f')]\n",
    "single_m = df[(df['marital'] == 'single') & (df['gender'] == 'm')]\n",
    "single_o = df[(df['marital'] == 'single') & (df['gender'] == 'o')]\n",
    "\n",
    "married_f = df[(df['marital'] == 'married') & (df['gender'] == 'f')]\n",
    "married_m = df[(df['marital'] == 'married') & (df['gender'] == 'm')]\n",
    "married_o = df[(df['marital'] == 'married') & (df['gender'] == 'o')]\n",
    "\n",
    "widowed_f = df[(df['marital'] == 'widowed') & (df['gender'] == 'f')]\n",
    "widowed_m = df[(df['marital'] == 'widowed') & (df['gender'] == 'm')]\n",
    "widowed_o = df[(df['marital'] == 'widowed') & (df['gender'] == 'o')]\n",
    "\n",
    "divorced_f = df[(df['marital'] == 'divorced') & (df['gender'] == 'f')]\n",
    "divorced_m = df[(df['marital'] == 'divorced') & (df['gender'] == 'm')]\n",
    "divorced_o = df[(df['marital'] == 'divorced') & (df['gender'] == 'o')]\n",
    "\n",
    "separated_f = df[(df['marital'] == 'separated') & (df['gender'] == 'f')]\n",
    "separated_m = df[(df['marital'] == 'separated') & (df['gender'] == 'm')]\n",
    "separated_o = df[(df['marital'] == 'separated') & (df['gender'] == 'o')]\n",
    "\n",
    "\n",
    "x = ['single_f', 'single_m', 'single_o', 'married_f', 'married_m', 'married_o', 'widowed_f', 'widowed_m', 'widowed_o',\n",
    "    'divorced_f', 'divorced_m', 'divorced_o', 'separated_f', 'separated_m', 'separated_o']\n",
    "y = [len(single_f.values),len(single_m.values),len(single_o.values),len(married_f.values),len(married_m.values),\n",
    "    len(married_o.values),len(widowed_f.values),len(widowed_m.values),len(widowed_o.values),len(divorced_f.values),\n",
    "    len(divorced_m.values),len(divorced_o.values),len(separated_f.values),len(separated_m.values),len(separated_o.values)]\n",
    "\n",
    "plt.figure(figsize=(20,6))\n",
    "sns.barplot(x=x, y=y, palette=\"rocket\")\n",
    "plt.title(\"Marital Status and Gender\")\n",
    "plt.xlabel(\"Marital Status and Gender\")\n",
    "plt.ylabel(\"Number of People\")\n",
    "plt.show()"
   ]
  },
  {
   "cell_type": "markdown",
   "metadata": {},
   "source": [
    "## Age and Marital Status"
   ]
  },
  {
   "cell_type": "markdown",
   "metadata": {},
   "source": [
    "(With a focus on male/female, married/not-married)"
   ]
  },
  {
   "cell_type": "code",
   "execution_count": 21,
   "metadata": {
    "ExecuteTime": {
     "end_time": "2021-02-22T23:05:35.528855Z",
     "start_time": "2021-02-22T23:05:34.177041Z"
    }
   },
   "outputs": [
    {
     "data": {
      "image/png": "[encoded data removed]",
      "text/plain": [
       "<Figure size 1440x432 with 1 Axes>"
      ]
     },
     "metadata": {},
     "output_type": "display_data"
    }
   ],
   "source": [
    "age18_25_married = df[(df.age[(df.age <= 25) & (df.age >= 18)]) & (df['marital']=='married')]\n",
    "age26_35_married = df[(df.age[(df.age <= 35) & (df.age >= 26)]) & (df['marital']=='married')]\n",
    "age36_45_married = df[(df.age[(df.age <= 45) & (df.age >= 36)]) & (df['marital']=='married')]\n",
    "age46_55_married = df[(df.age[(df.age <= 55) & (df.age >= 46)]) & (df['marital']=='married')]\n",
    "age55above_married = df[(df.age[df.age >= 56]) & (df['marital']=='married')]\n",
    "\n",
    "age18_25_single = df[(df.age[(df.age <= 25) & (df.age >= 18)]) & (df['marital']=='single')]\n",
    "age26_35_single = df[(df.age[(df.age <= 35) & (df.age >= 26)]) & (df['marital']=='single')]\n",
    "age36_45_single = df[(df.age[(df.age <= 45) & (df.age >= 36)]) & (df['marital']=='single')]\n",
    "age46_55_single = df[(df.age[(df.age <= 55) & (df.age >= 46)]) & (df['marital']=='single')]\n",
    "age55above_single = df[(df.age[df.age >= 56]) & (df['marital']=='single')]\n",
    "\n",
    "x = ['age18_25_married', 'age18_25_single', 'age26_35_married', 'age26_35_single', 'age36_45_married', 'age36_45_single', \n",
    "    'age46_55_married', 'age46_55_single', 'age55above_married', 'age55above_single']\n",
    "y = [len(age18_25_married.values),len(age18_25_single.values),len(age26_35_married.values),\n",
    "     len(age26_35_single.values),len(age36_45_married.values),\n",
    "     len(age36_45_single.values),len(age46_55_married.values),len(age46_55_single.values),\n",
    "     len(age55above_married.values),len(age55above_single.values)]\n",
    "\n",
    "plt.figure(figsize=(20,6))\n",
    "sns.barplot(x=x, y=y, palette=\"rocket\")\n",
    "plt.title(\"Marital Status and Age\")\n",
    "plt.xlabel(\"Marital Status and Age\")\n",
    "plt.ylabel(\"Number of People\")\n",
    "plt.show()"
   ]
  },
  {
   "cell_type": "markdown",
   "metadata": {},
   "source": [
    "# Text-Related"
   ]
  },
  {
   "cell_type": "markdown",
   "metadata": {
    "ExecuteTime": {
     "end_time": "2021-02-22T22:38:17.224626Z",
     "start_time": "2021-02-22T22:38:17.221013Z"
    }
   },
   "source": [
    "## Words in Responses"
   ]
  },
  {
   "cell_type": "code",
   "execution_count": 24,
   "metadata": {
    "ExecuteTime": {
     "end_time": "2021-02-24T01:14:41.939268Z",
     "start_time": "2021-02-24T01:14:41.381957Z"
    },
    "scrolled": true
   },
   "outputs": [
    {
     "data": {
      "image/png": "[encoded data removed]",
      "text/plain": [
       "<Figure size 1080x360 with 1 Axes>"
      ]
     },
     "metadata": {},
     "output_type": "display_data"
    }
   ],
   "source": [
    "plt.figure(figsize=(15,5))\n",
    "doc_lens = [len(d) for d in df.text_cleaned]\n",
    "plt.hist(doc_lens, bins = 100)\n",
    "plt.title('Distribution of Question character length')\n",
    "plt.ylabel('Number of questions')\n",
    "plt.xlabel('Question character length')\n",
    "sns.despine();"
   ]
  },
  {
   "cell_type": "code",
   "execution_count": 31,
   "metadata": {
    "ExecuteTime": {
     "end_time": "2021-02-24T01:16:19.970005Z",
     "start_time": "2021-02-24T01:16:19.961668Z"
    }
   },
   "outputs": [
    {
     "data": {
      "text/plain": [
       "76.33281600448574"
      ]
     },
     "execution_count": 31,
     "metadata": {},
     "output_type": "execute_result"
    }
   ],
   "source": [
    "# Average number of words per response\n",
    "average = sum(doc_lens) / len(doc_lens)\n",
    "average"
   ]
  },
  {
   "cell_type": "markdown",
   "metadata": {},
   "source": [
    "## Responses per worker"
   ]
  },
  {
   "cell_type": "code",
   "execution_count": 8,
   "metadata": {
    "ExecuteTime": {
     "end_time": "2021-02-24T01:06:43.204490Z",
     "start_time": "2021-02-24T01:06:43.191646Z"
    }
   },
   "outputs": [],
   "source": [
    "# Number of responses per worker\n",
    "wid_df = df['wid'].value_counts()\n",
    "\n",
    "# ID numbers\n",
    "wid_indexes = wid_df.index\n",
    "\n",
    "# Number of responses per ID\n",
    "wid_values = wid_df.values"
   ]
  },
  {
   "cell_type": "code",
   "execution_count": 20,
   "metadata": {
    "ExecuteTime": {
     "end_time": "2021-02-24T01:11:02.930788Z",
     "start_time": "2021-02-24T01:10:45.326156Z"
    }
   },
   "outputs": [
    {
     "data": {
      "image/png": "[encoded data removed]",
      "text/plain": [
       "<Figure size 1080x360 with 1 Axes>"
      ]
     },
     "metadata": {},
     "output_type": "display_data"
    }
   ],
   "source": [
    "plt.figure(figsize=(15,5))\n",
    "x = wid_indexes\n",
    "y = wid_values\n",
    "plt.bar(x,y)\n",
    "plt.title('Number of times each respondent answered')\n",
    "plt.ylabel('Number of responses')\n",
    "plt.xlabel('ID')\n",
    "sns.despine();"
   ]
  },
  {
   "cell_type": "code",
   "execution_count": 34,
   "metadata": {
    "ExecuteTime": {
     "end_time": "2021-02-24T01:18:39.609721Z",
     "start_time": "2021-02-24T01:18:39.598380Z"
    }
   },
   "outputs": [
    {
     "data": {
      "text/plain": [
       "9.355690866510539"
      ]
     },
     "execution_count": 34,
     "metadata": {},
     "output_type": "execute_result"
    }
   ],
   "source": [
    "# Average number of responses per worker\n",
    "average = sum(wid_values) / len(wid_values)\n",
    "average"
   ]
  },
  {
   "cell_type": "markdown",
   "metadata": {},
   "source": [
    "## Exploring the Possibility of Removing High Words and High Responses"
   ]
  },
  {
   "cell_type": "code",
   "execution_count": 37,
   "metadata": {
    "ExecuteTime": {
     "end_time": "2021-02-24T01:22:44.314110Z",
     "start_time": "2021-02-24T01:22:44.270465Z"
    }
   },
   "outputs": [],
   "source": [
    "# Creating a new column that shows total words in response\n",
    "df['response_length'] = [len(d) for d in df.text_cleaned]"
   ]
  },
  {
   "cell_type": "code",
   "execution_count": 40,
   "metadata": {
    "ExecuteTime": {
     "end_time": "2021-02-24T01:23:20.724763Z",
     "start_time": "2021-02-24T01:23:20.695043Z"
    }
   },
   "outputs": [
    {
     "data": {
      "text/plain": [
       "(67837, 22)"
      ]
     },
     "execution_count": 40,
     "metadata": {},
     "output_type": "execute_result"
    }
   ],
   "source": [
    "# What the number of rows and columns would be if I excluded responses with over 76 words\n",
    "df[df['response_length'] < 76].shape"
   ]
  },
  {
   "cell_type": "code",
   "execution_count": 42,
   "metadata": {
    "ExecuteTime": {
     "end_time": "2021-02-24T01:30:06.966508Z",
     "start_time": "2021-02-24T01:30:06.964033Z"
    }
   },
   "outputs": [],
   "source": [
    "from collections import defaultdict"
   ]
  },
  {
   "cell_type": "code",
   "execution_count": 45,
   "metadata": {
    "ExecuteTime": {
     "end_time": "2021-02-24T01:31:03.155817Z",
     "start_time": "2021-02-24T01:31:03.136502Z"
    }
   },
   "outputs": [],
   "source": [
    "# Instantiate default dict\n",
    "dd = defaultdict(list)\n",
    "\n",
    "# Series of umber of responses per worker\n",
    "wid_df = df['wid'].value_counts()\n",
    "\n",
    "# Turning the series into a dictionary\n",
    "id_dict = wid_df.to_dict(dd)"
   ]
  },
  {
   "cell_type": "code",
   "execution_count": 46,
   "metadata": {
    "ExecuteTime": {
     "end_time": "2021-02-24T01:32:39.166877Z",
     "start_time": "2021-02-24T01:32:39.123775Z"
    }
   },
   "outputs": [],
   "source": [
    "# Creating a new column that shows the number of responses for that ID\n",
    "df['number_responses'] = [id_dict[the_id] for the_id in df.wid]"
   ]
  },
  {
   "cell_type": "code",
   "execution_count": 58,
   "metadata": {
    "ExecuteTime": {
     "end_time": "2021-02-24T01:39:13.710150Z",
     "start_time": "2021-02-24T01:39:13.681509Z"
    }
   },
   "outputs": [
    {
     "data": {
      "text/plain": [
       "(53930, 23)"
      ]
     },
     "execution_count": 58,
     "metadata": {},
     "output_type": "execute_result"
    }
   ],
   "source": [
    "# What the number of rows and columns would be if I excluded IDs with over 50 responses\n",
    "df[df['number_responses'] < 30].shape"
   ]
  },
  {
   "cell_type": "code",
   "execution_count": 57,
   "metadata": {
    "ExecuteTime": {
     "end_time": "2021-02-24T01:39:08.539773Z",
     "start_time": "2021-02-24T01:39:08.511707Z"
    }
   },
   "outputs": [
    {
     "data": {
      "text/plain": [
       "(34624, 23)"
      ]
     },
     "execution_count": 57,
     "metadata": {},
     "output_type": "execute_result"
    }
   ],
   "source": [
    "# If I excluded high number of responses and high number of words.\n",
    "df[(df['number_responses'] < 30) & (df['response_length'] < 76)].shape"
   ]
  }
 ],
 "metadata": {
  "kernelspec": {
   "display_name": "Python 3",
   "language": "python",
   "name": "python3"
  },
  "language_info": {
   "codemirror_mode": {
    "name": "ipython",
    "version": 3
   },
   "file_extension": ".py",
   "mimetype": "text/x-python",
   "name": "python",
   "nbconvert_exporter": "python",
   "pygments_lexer": "ipython3",
   "version": "3.6.8"
  },
  "toc": {
   "base_numbering": 1,
   "nav_menu": {},
   "number_sections": true,
   "sideBar": true,
   "skip_h1_title": false,
   "title_cell": "Table of Contents",
   "title_sidebar": "Contents",
   "toc_cell": false,
   "toc_position": {},
   "toc_section_display": true,
   "toc_window_display": true
  },
  "varInspector": {
   "cols": {
    "lenName": 16,
    "lenType": 16,
    "lenVar": 40
   },
   "kernels_config": {
    "python": {
     "delete_cmd_postfix": "",
     "delete_cmd_prefix": "del ",
     "library": "var_list.py",
     "varRefreshCmd": "print(var_dic_list())"
    },
    "r": {
     "delete_cmd_postfix": ") ",
     "delete_cmd_prefix": "rm(",
     "library": "var_list.r",
     "varRefreshCmd": "cat(var_dic_list()) "
    }
   },
   "types_to_exclude": [
    "module",
    "function",
    "builtin_function_or_method",
    "instance",
    "_Feature"
   ],
   "window_display": false
  }
 },
 "nbformat": 4,
 "nbformat_minor": 2
}
